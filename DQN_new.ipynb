{
 "cells": [
  {
   "cell_type": "code",
   "execution_count": 1,
   "metadata": {
    "collapsed": true
   },
   "outputs": [],
   "source": [
    "import numpy as np\n",
    "import pandas as pd\n",
    "import datetime as dt\n",
    "import random"
   ]
  },
  {
   "cell_type": "code",
   "execution_count": 2,
   "outputs": [],
   "source": [
    "from DQN_new import DQNlearning, Qlearning"
   ],
   "metadata": {
    "collapsed": false
   }
  },
  {
   "cell_type": "code",
   "execution_count": 3,
   "outputs": [],
   "source": [
    "mu = np.array([50, 200]) / 1e4\n",
    "sigma = np.array([300, 800]) / 1e4\n",
    "cov = np.diag(sigma ** 2)\n",
    "start = dt.datetime(2000, 1, 1)\n",
    "end = dt.datetime(2019, 12, 31)\n",
    "dates = pd.date_range(start, end, freq=\"M\")\n",
    "ret = np.random.multivariate_normal(mu / 12, cov / 12, size=len(dates))\n",
    "ret_df = pd.DataFrame(ret, index=dates)\n",
    "trans_cost = 10/1e4\n",
    "\n",
    "num_episodes = 1000\n",
    "max_steps_per_episode = 100"
   ],
   "metadata": {
    "collapsed": false
   }
  },
  {
   "cell_type": "code",
   "execution_count": 4,
   "outputs": [],
   "source": [
    "self = qlearner = Qlearning(mu, cov, trans_cost, gamma=0.9, epsilon=0.1, learning_rate=0.1)"
   ],
   "metadata": {
    "collapsed": false
   }
  },
  {
   "cell_type": "code",
   "execution_count": 5,
   "outputs": [],
   "source": [
    "self = dqn = DQNlearning(mu, cov, trans_cost, gamma=0.9, epsilon=0.1, learning_rate=0.001)"
   ],
   "metadata": {
    "collapsed": false
   }
  },
  {
   "cell_type": "code",
   "execution_count": null,
   "outputs": [],
   "source": [
    "12:15"
   ],
   "metadata": {
    "collapsed": false
   }
  },
  {
   "cell_type": "code",
   "execution_count": 6,
   "outputs": [
    {
     "name": "stdout",
     "output_type": "stream",
     "text": [
      "Epoch 0\n",
      "Epoch 1\n",
      "Epoch 2\n",
      "Epoch 3\n",
      "Epoch 4\n",
      "Epoch 5\n",
      "Epoch 6\n",
      "Epoch 7\n",
      "Epoch 8\n",
      "Epoch 9\n",
      "Epoch 10\n",
      "Epoch 11\n",
      "Epoch 12\n",
      "Epoch 13\n",
      "Epoch 14\n",
      "Epoch 15\n",
      "Epoch 16\n",
      "Epoch 17\n",
      "Epoch 18\n",
      "Epoch 19\n",
      "Epoch 20\n",
      "Epoch 21\n",
      "Epoch 22\n",
      "Epoch 23\n",
      "Epoch 24\n",
      "Epoch 25\n",
      "Epoch 26\n",
      "Epoch 27\n",
      "Epoch 28\n",
      "Epoch 29\n",
      "Epoch 30\n",
      "Epoch 31\n",
      "Epoch 32\n",
      "Epoch 33\n",
      "Epoch 34\n",
      "Epoch 35\n",
      "Epoch 36\n",
      "Epoch 37\n",
      "Epoch 38\n",
      "Epoch 39\n",
      "Epoch 40\n",
      "Epoch 41\n",
      "Epoch 42\n",
      "Epoch 43\n",
      "Epoch 44\n",
      "Epoch 45\n",
      "Epoch 46\n",
      "Epoch 47\n",
      "Epoch 48\n",
      "Epoch 49\n",
      "Epoch 50\n",
      "Epoch 51\n",
      "Epoch 52\n",
      "Epoch 53\n",
      "Epoch 54\n",
      "Epoch 55\n",
      "Epoch 56\n",
      "Epoch 57\n",
      "Epoch 58\n",
      "Epoch 59\n",
      "Epoch 60\n",
      "Epoch 61\n",
      "Epoch 62\n",
      "Epoch 63\n",
      "Epoch 64\n",
      "Epoch 65\n",
      "Epoch 66\n",
      "Epoch 67\n",
      "Epoch 68\n",
      "Epoch 69\n",
      "Epoch 70\n",
      "Epoch 71\n",
      "Epoch 72\n",
      "Epoch 73\n",
      "Epoch 74\n",
      "Epoch 75\n",
      "Epoch 76\n",
      "Epoch 77\n",
      "Epoch 78\n",
      "Epoch 79\n",
      "Epoch 80\n",
      "Epoch 81\n",
      "Epoch 82\n",
      "Epoch 83\n",
      "Epoch 84\n",
      "Epoch 85\n",
      "Epoch 86\n",
      "Epoch 87\n",
      "Epoch 88\n",
      "Epoch 89\n",
      "Epoch 90\n",
      "Epoch 91\n",
      "Epoch 92\n",
      "Epoch 93\n",
      "Epoch 94\n",
      "Epoch 95\n",
      "Epoch 96\n",
      "Epoch 97\n",
      "Epoch 98\n",
      "Epoch 99\n",
      "Epoch 100\n",
      "Epoch 101\n",
      "Epoch 102\n",
      "Epoch 103\n",
      "Epoch 104\n",
      "Epoch 105\n",
      "Epoch 106\n",
      "Epoch 107\n",
      "Epoch 108\n",
      "Epoch 109\n",
      "Epoch 110\n",
      "Epoch 111\n",
      "Epoch 112\n",
      "Epoch 113\n",
      "Epoch 114\n",
      "Epoch 115\n",
      "Epoch 116\n",
      "Epoch 117\n",
      "Epoch 118\n",
      "Epoch 119\n",
      "Epoch 120\n",
      "Epoch 121\n",
      "Epoch 122\n",
      "Epoch 123\n",
      "Epoch 124\n",
      "Epoch 125\n",
      "Epoch 126\n",
      "Epoch 127\n",
      "Epoch 128\n",
      "Epoch 129\n",
      "Epoch 130\n",
      "Epoch 131\n",
      "Epoch 132\n",
      "Epoch 133\n",
      "Epoch 134\n",
      "Epoch 135\n",
      "Epoch 136\n",
      "Epoch 137\n",
      "Epoch 138\n",
      "Epoch 139\n",
      "Epoch 140\n",
      "Epoch 141\n",
      "Epoch 142\n",
      "Epoch 143\n",
      "Epoch 144\n",
      "Epoch 145\n",
      "Epoch 146\n",
      "Epoch 147\n",
      "Epoch 148\n",
      "Epoch 149\n",
      "Epoch 150\n",
      "Epoch 151\n",
      "Epoch 152\n",
      "Epoch 153\n",
      "Epoch 154\n",
      "Epoch 155\n",
      "Epoch 156\n",
      "Epoch 157\n",
      "Epoch 158\n",
      "Epoch 159\n",
      "Epoch 160\n",
      "Epoch 161\n",
      "Epoch 162\n",
      "Epoch 163\n",
      "Epoch 164\n",
      "Epoch 165\n",
      "Epoch 166\n",
      "Epoch 167\n",
      "Epoch 168\n",
      "Epoch 169\n",
      "Epoch 170\n",
      "Epoch 171\n",
      "Epoch 172\n",
      "Epoch 173\n",
      "Epoch 174\n",
      "Epoch 175\n",
      "Epoch 176\n",
      "Epoch 177\n",
      "Epoch 178\n",
      "Epoch 179\n",
      "Epoch 180\n",
      "Epoch 181\n",
      "Epoch 182\n",
      "Epoch 183\n",
      "Epoch 184\n",
      "Epoch 185\n",
      "Epoch 186\n",
      "Epoch 187\n",
      "Epoch 188\n",
      "Epoch 189\n",
      "Epoch 190\n",
      "Epoch 191\n",
      "Epoch 192\n",
      "Epoch 193\n",
      "Epoch 194\n",
      "Epoch 195\n",
      "Epoch 196\n",
      "Epoch 197\n",
      "Epoch 198\n",
      "Epoch 199\n",
      "Epoch 200\n",
      "Epoch 201\n",
      "Epoch 202\n",
      "Epoch 203\n",
      "Epoch 204\n",
      "Epoch 205\n",
      "Epoch 206\n",
      "Epoch 207\n",
      "Epoch 208\n",
      "Epoch 209\n",
      "Epoch 210\n",
      "Epoch 211\n",
      "Epoch 212\n",
      "Epoch 213\n",
      "Epoch 214\n",
      "Epoch 215\n",
      "Epoch 216\n",
      "Epoch 217\n",
      "Epoch 218\n",
      "Epoch 219\n",
      "Epoch 220\n",
      "Epoch 221\n",
      "Epoch 222\n",
      "Epoch 223\n",
      "Epoch 224\n",
      "Epoch 225\n",
      "Epoch 226\n",
      "Epoch 227\n",
      "Epoch 228\n",
      "Epoch 229\n",
      "Epoch 230\n",
      "Epoch 231\n",
      "Epoch 232\n",
      "Epoch 233\n",
      "Epoch 234\n",
      "Epoch 235\n",
      "Epoch 236\n",
      "Epoch 237\n",
      "Epoch 238\n",
      "Epoch 239\n",
      "Epoch 240\n",
      "Epoch 241\n",
      "Epoch 242\n",
      "Epoch 243\n",
      "Epoch 244\n",
      "Epoch 245\n",
      "Epoch 246\n",
      "Epoch 247\n",
      "Epoch 248\n",
      "Epoch 249\n",
      "Epoch 250\n",
      "Epoch 251\n",
      "Epoch 252\n",
      "Epoch 253\n",
      "Epoch 254\n",
      "Epoch 255\n",
      "Epoch 256\n",
      "Epoch 257\n",
      "Epoch 258\n",
      "Epoch 259\n",
      "Epoch 260\n",
      "Epoch 261\n",
      "Epoch 262\n",
      "Epoch 263\n",
      "Epoch 264\n",
      "Epoch 265\n",
      "Epoch 266\n",
      "Epoch 267\n",
      "Epoch 268\n",
      "Epoch 269\n",
      "Epoch 270\n",
      "Epoch 271\n",
      "Epoch 272\n",
      "Epoch 273\n",
      "Epoch 274\n",
      "Epoch 275\n",
      "Epoch 276\n",
      "Epoch 277\n",
      "Epoch 278\n",
      "Epoch 279\n",
      "Epoch 280\n",
      "Epoch 281\n",
      "Epoch 282\n",
      "Epoch 283\n",
      "Epoch 284\n",
      "Epoch 285\n",
      "Epoch 286\n",
      "Epoch 287\n",
      "Epoch 288\n",
      "Epoch 289\n",
      "Epoch 290\n",
      "Epoch 291\n",
      "Epoch 292\n",
      "Epoch 293\n",
      "Epoch 294\n",
      "Epoch 295\n",
      "Epoch 296\n",
      "Epoch 297\n",
      "Epoch 298\n",
      "Epoch 299\n",
      "Epoch 300\n",
      "Epoch 301\n",
      "Epoch 302\n",
      "Epoch 303\n",
      "Epoch 304\n",
      "Epoch 305\n",
      "Epoch 306\n",
      "Epoch 307\n",
      "Epoch 308\n",
      "Epoch 309\n",
      "Epoch 310\n",
      "Epoch 311\n",
      "Epoch 312\n",
      "Epoch 313\n",
      "Epoch 314\n",
      "Epoch 315\n",
      "Epoch 316\n",
      "Epoch 317\n",
      "Epoch 318\n",
      "Epoch 319\n",
      "Epoch 320\n",
      "Epoch 321\n",
      "Epoch 322\n",
      "Epoch 323\n",
      "Epoch 324\n",
      "Epoch 325\n",
      "Epoch 326\n",
      "Epoch 327\n",
      "Epoch 328\n",
      "Epoch 329\n",
      "Epoch 330\n",
      "Epoch 331\n",
      "Epoch 332\n",
      "Epoch 333\n",
      "Epoch 334\n",
      "Epoch 335\n",
      "Epoch 336\n",
      "Epoch 337\n",
      "Epoch 338\n",
      "Epoch 339\n",
      "Epoch 340\n",
      "Epoch 341\n",
      "Epoch 342\n",
      "Epoch 343\n",
      "Epoch 344\n",
      "Epoch 345\n",
      "Epoch 346\n",
      "Epoch 347\n",
      "Epoch 348\n",
      "Epoch 349\n",
      "Epoch 350\n",
      "Epoch 351\n",
      "Epoch 352\n",
      "Epoch 353\n",
      "Epoch 354\n",
      "Epoch 355\n",
      "Epoch 356\n",
      "Epoch 357\n",
      "Epoch 358\n",
      "Epoch 359\n",
      "Epoch 360\n",
      "Epoch 361\n",
      "Epoch 362\n",
      "Epoch 363\n",
      "Epoch 364\n",
      "Epoch 365\n",
      "Epoch 366\n",
      "Epoch 367\n",
      "Epoch 368\n",
      "Epoch 369\n",
      "Epoch 370\n",
      "Epoch 371\n",
      "Epoch 372\n",
      "Epoch 373\n",
      "Epoch 374\n",
      "Epoch 375\n",
      "Epoch 376\n",
      "Epoch 377\n",
      "Epoch 378\n",
      "Epoch 379\n",
      "Epoch 380\n",
      "Epoch 381\n",
      "Epoch 382\n",
      "Epoch 383\n",
      "Epoch 384\n",
      "Epoch 385\n",
      "Epoch 386\n",
      "Epoch 387\n",
      "Epoch 388\n",
      "Epoch 389\n",
      "Epoch 390\n",
      "Epoch 391\n",
      "Epoch 392\n",
      "Epoch 393\n",
      "Epoch 394\n",
      "Epoch 395\n",
      "Epoch 396\n",
      "Epoch 397\n",
      "Epoch 398\n",
      "Epoch 399\n",
      "Epoch 400\n",
      "Epoch 401\n",
      "Epoch 402\n",
      "Epoch 403\n",
      "Epoch 404\n",
      "Epoch 405\n",
      "Epoch 406\n",
      "Epoch 407\n",
      "Epoch 408\n",
      "Epoch 409\n",
      "Epoch 410\n",
      "Epoch 411\n",
      "Epoch 412\n",
      "Epoch 413\n",
      "Epoch 414\n",
      "Epoch 415\n",
      "Epoch 416\n",
      "Epoch 417\n",
      "Epoch 418\n",
      "Epoch 419\n",
      "Epoch 420\n",
      "Epoch 421\n",
      "Epoch 422\n",
      "Epoch 423\n",
      "Epoch 424\n",
      "Epoch 425\n",
      "Epoch 426\n",
      "Epoch 427\n",
      "Epoch 428\n",
      "Epoch 429\n",
      "Epoch 430\n",
      "Epoch 431\n",
      "Epoch 432\n",
      "Epoch 433\n",
      "Epoch 434\n",
      "Epoch 435\n",
      "Epoch 436\n",
      "Epoch 437\n",
      "Epoch 438\n",
      "Epoch 439\n",
      "Epoch 440\n",
      "Epoch 441\n",
      "Epoch 442\n",
      "Epoch 443\n",
      "Epoch 444\n",
      "Epoch 445\n",
      "Epoch 446\n",
      "Epoch 447\n",
      "Epoch 448\n",
      "Epoch 449\n",
      "Epoch 450\n",
      "Epoch 451\n",
      "Epoch 452\n",
      "Epoch 453\n",
      "Epoch 454\n",
      "Epoch 455\n",
      "Epoch 456\n",
      "Epoch 457\n",
      "Epoch 458\n",
      "Epoch 459\n",
      "Epoch 460\n",
      "Epoch 461\n",
      "Epoch 462\n",
      "Epoch 463\n",
      "Epoch 464\n",
      "Epoch 465\n",
      "Epoch 466\n",
      "Epoch 467\n",
      "Epoch 468\n",
      "Epoch 469\n",
      "Epoch 470\n",
      "Epoch 471\n",
      "Epoch 472\n",
      "Epoch 473\n",
      "Epoch 474\n",
      "Epoch 475\n",
      "Epoch 476\n",
      "Epoch 477\n",
      "Epoch 478\n",
      "Epoch 479\n",
      "Epoch 480\n",
      "Epoch 481\n",
      "Epoch 482\n",
      "Epoch 483\n",
      "Epoch 484\n",
      "Epoch 485\n",
      "Epoch 486\n",
      "Epoch 487\n",
      "Epoch 488\n",
      "Epoch 489\n",
      "Epoch 490\n",
      "Epoch 491\n",
      "Epoch 492\n",
      "Epoch 493\n",
      "Epoch 494\n",
      "Epoch 495\n",
      "Epoch 496\n",
      "Epoch 497\n",
      "Epoch 498\n",
      "Epoch 499\n",
      "Epoch 500\n",
      "Epoch 501\n",
      "Epoch 502\n",
      "Epoch 503\n",
      "Epoch 504\n",
      "Epoch 505\n",
      "Epoch 506\n",
      "Epoch 507\n",
      "Epoch 508\n",
      "Epoch 509\n",
      "Epoch 510\n",
      "Epoch 511\n",
      "Epoch 512\n",
      "Epoch 513\n",
      "Epoch 514\n",
      "Epoch 515\n",
      "Epoch 516\n",
      "Epoch 517\n",
      "Epoch 518\n",
      "Epoch 519\n",
      "Epoch 520\n",
      "Epoch 521\n",
      "Epoch 522\n",
      "Epoch 523\n",
      "Epoch 524\n",
      "Epoch 525\n",
      "Epoch 526\n",
      "Epoch 527\n",
      "Epoch 528\n",
      "Epoch 529\n",
      "Epoch 530\n",
      "Epoch 531\n",
      "Epoch 532\n",
      "Epoch 533\n",
      "Epoch 534\n",
      "Epoch 535\n",
      "Epoch 536\n",
      "Epoch 537\n",
      "Epoch 538\n",
      "Epoch 539\n",
      "Epoch 540\n",
      "Epoch 541\n",
      "Epoch 542\n",
      "Epoch 543\n",
      "Epoch 544\n",
      "Epoch 545\n",
      "Epoch 546\n",
      "Epoch 547\n",
      "Epoch 548\n",
      "Epoch 549\n",
      "Epoch 550\n",
      "Epoch 551\n",
      "Epoch 552\n",
      "Epoch 553\n",
      "Epoch 554\n",
      "Epoch 555\n",
      "Epoch 556\n",
      "Epoch 557\n",
      "Epoch 558\n",
      "Epoch 559\n",
      "Epoch 560\n",
      "Epoch 561\n",
      "Epoch 562\n",
      "Epoch 563\n",
      "Epoch 564\n",
      "Epoch 565\n",
      "Epoch 566\n",
      "Epoch 567\n",
      "Epoch 568\n",
      "Epoch 569\n",
      "Epoch 570\n",
      "Epoch 571\n",
      "Epoch 572\n",
      "Epoch 573\n",
      "Epoch 574\n",
      "Epoch 575\n",
      "Epoch 576\n",
      "Epoch 577\n",
      "Epoch 578\n",
      "Epoch 579\n",
      "Epoch 580\n",
      "Epoch 581\n",
      "Epoch 582\n",
      "Epoch 583\n",
      "Epoch 584\n",
      "Epoch 585\n",
      "Epoch 586\n",
      "Epoch 587\n",
      "Epoch 588\n",
      "Epoch 589\n",
      "Epoch 590\n",
      "Epoch 591\n",
      "Epoch 592\n",
      "Epoch 593\n",
      "Epoch 594\n",
      "Epoch 595\n",
      "Epoch 596\n",
      "Epoch 597\n",
      "Epoch 598\n",
      "Epoch 599\n",
      "Epoch 600\n",
      "Epoch 601\n",
      "Epoch 602\n",
      "Epoch 603\n",
      "Epoch 604\n",
      "Epoch 605\n",
      "Epoch 606\n",
      "Epoch 607\n",
      "Epoch 608\n",
      "Epoch 609\n",
      "Epoch 610\n",
      "Epoch 611\n",
      "Epoch 612\n",
      "Epoch 613\n",
      "Epoch 614\n",
      "Epoch 615\n",
      "Epoch 616\n",
      "Epoch 617\n",
      "Epoch 618\n",
      "Epoch 619\n",
      "Epoch 620\n",
      "Epoch 621\n",
      "Epoch 622\n",
      "Epoch 623\n",
      "Epoch 624\n",
      "Epoch 625\n",
      "Epoch 626\n",
      "Epoch 627\n",
      "Epoch 628\n",
      "Epoch 629\n",
      "Epoch 630\n",
      "Epoch 631\n",
      "Epoch 632\n",
      "Epoch 633\n",
      "Epoch 634\n",
      "Epoch 635\n",
      "Epoch 636\n",
      "Epoch 637\n",
      "Epoch 638\n",
      "Epoch 639\n",
      "Epoch 640\n",
      "Epoch 641\n",
      "Epoch 642\n",
      "Epoch 643\n",
      "Epoch 644\n",
      "Epoch 645\n",
      "Epoch 646\n",
      "Epoch 647\n",
      "Epoch 648\n",
      "Epoch 649\n",
      "Epoch 650\n",
      "Epoch 651\n",
      "Epoch 652\n",
      "Epoch 653\n",
      "Epoch 654\n",
      "Epoch 655\n",
      "Epoch 656\n",
      "Epoch 657\n",
      "Epoch 658\n",
      "Epoch 659\n",
      "Epoch 660\n",
      "Epoch 661\n",
      "Epoch 662\n",
      "Epoch 663\n",
      "Epoch 664\n",
      "Epoch 665\n",
      "Epoch 666\n",
      "Epoch 667\n",
      "Epoch 668\n",
      "Epoch 669\n",
      "Epoch 670\n",
      "Epoch 671\n",
      "Epoch 672\n",
      "Epoch 673\n",
      "Epoch 674\n",
      "Epoch 675\n",
      "Epoch 676\n",
      "Epoch 677\n",
      "Epoch 678\n",
      "Epoch 679\n",
      "Epoch 680\n",
      "Epoch 681\n",
      "Epoch 682\n",
      "Epoch 683\n",
      "Epoch 684\n",
      "Epoch 685\n",
      "Epoch 686\n",
      "Epoch 687\n",
      "Epoch 688\n",
      "Epoch 689\n",
      "Epoch 690\n",
      "Epoch 691\n",
      "Epoch 692\n",
      "Epoch 693\n",
      "Epoch 694\n",
      "Epoch 695\n",
      "Epoch 696\n",
      "Epoch 697\n",
      "Epoch 698\n",
      "Epoch 699\n",
      "Epoch 700\n",
      "Epoch 701\n",
      "Epoch 702\n",
      "Epoch 703\n",
      "Epoch 704\n",
      "Epoch 705\n",
      "Epoch 706\n",
      "Epoch 707\n",
      "Epoch 708\n",
      "Epoch 709\n",
      "Epoch 710\n",
      "Epoch 711\n",
      "Epoch 712\n",
      "Epoch 713\n",
      "Epoch 714\n",
      "Epoch 715\n",
      "Epoch 716\n",
      "Epoch 717\n",
      "Epoch 718\n",
      "Epoch 719\n",
      "Epoch 720\n",
      "Epoch 721\n",
      "Epoch 722\n",
      "Epoch 723\n",
      "Epoch 724\n",
      "Epoch 725\n",
      "Epoch 726\n",
      "Epoch 727\n",
      "Epoch 728\n",
      "Epoch 729\n",
      "Epoch 730\n",
      "Epoch 731\n",
      "Epoch 732\n",
      "Epoch 733\n",
      "Epoch 734\n",
      "Epoch 735\n",
      "Epoch 736\n",
      "Epoch 737\n",
      "Epoch 738\n",
      "Epoch 739\n",
      "Epoch 740\n",
      "Epoch 741\n",
      "Epoch 742\n",
      "Epoch 743\n",
      "Epoch 744\n",
      "Epoch 745\n",
      "Epoch 746\n",
      "Epoch 747\n",
      "Epoch 748\n",
      "Epoch 749\n",
      "Epoch 750\n",
      "Epoch 751\n",
      "Epoch 752\n",
      "Epoch 753\n",
      "Epoch 754\n",
      "Epoch 755\n",
      "Epoch 756\n",
      "Epoch 757\n",
      "Epoch 758\n",
      "Epoch 759\n",
      "Epoch 760\n",
      "Epoch 761\n",
      "Epoch 762\n",
      "Epoch 763\n",
      "Epoch 764\n",
      "Epoch 765\n",
      "Epoch 766\n",
      "Epoch 767\n",
      "Epoch 768\n",
      "Epoch 769\n",
      "Epoch 770\n",
      "Epoch 771\n",
      "Epoch 772\n",
      "Epoch 773\n",
      "Epoch 774\n",
      "Epoch 775\n",
      "Epoch 776\n",
      "Epoch 777\n",
      "Epoch 778\n",
      "Epoch 779\n",
      "Epoch 780\n",
      "Epoch 781\n",
      "Epoch 782\n",
      "Epoch 783\n",
      "Epoch 784\n",
      "Epoch 785\n",
      "Epoch 786\n",
      "Epoch 787\n",
      "Epoch 788\n",
      "Epoch 789\n",
      "Epoch 790\n",
      "Epoch 791\n",
      "Epoch 792\n",
      "Epoch 793\n",
      "Epoch 794\n",
      "Epoch 795\n",
      "Epoch 796\n",
      "Epoch 797\n",
      "Epoch 798\n",
      "Epoch 799\n",
      "Epoch 800\n",
      "Epoch 801\n",
      "Epoch 802\n",
      "Epoch 803\n",
      "Epoch 804\n",
      "Epoch 805\n",
      "Epoch 806\n",
      "Epoch 807\n",
      "Epoch 808\n",
      "Epoch 809\n",
      "Epoch 810\n",
      "Epoch 811\n",
      "Epoch 812\n",
      "Epoch 813\n",
      "Epoch 814\n",
      "Epoch 815\n",
      "Epoch 816\n",
      "Epoch 817\n",
      "Epoch 818\n",
      "Epoch 819\n",
      "Epoch 820\n",
      "Epoch 821\n",
      "Epoch 822\n",
      "Epoch 823\n",
      "Epoch 824\n",
      "Epoch 825\n",
      "Epoch 826\n",
      "Epoch 827\n",
      "Epoch 828\n",
      "Epoch 829\n",
      "Epoch 830\n",
      "Epoch 831\n",
      "Epoch 832\n",
      "Epoch 833\n",
      "Epoch 834\n",
      "Epoch 835\n",
      "Epoch 836\n",
      "Epoch 837\n",
      "Epoch 838\n",
      "Epoch 839\n",
      "Epoch 840\n",
      "Epoch 841\n",
      "Epoch 842\n",
      "Epoch 843\n",
      "Epoch 844\n",
      "Epoch 845\n",
      "Epoch 846\n",
      "Epoch 847\n",
      "Epoch 848\n",
      "Epoch 849\n",
      "Epoch 850\n",
      "Epoch 851\n",
      "Epoch 852\n",
      "Epoch 853\n",
      "Epoch 854\n",
      "Epoch 855\n",
      "Epoch 856\n",
      "Epoch 857\n",
      "Epoch 858\n",
      "Epoch 859\n",
      "Epoch 860\n",
      "Epoch 861\n",
      "Epoch 862\n",
      "Epoch 863\n",
      "Epoch 864\n",
      "Epoch 865\n",
      "Epoch 866\n",
      "Epoch 867\n",
      "Epoch 868\n",
      "Epoch 869\n",
      "Epoch 870\n",
      "Epoch 871\n",
      "Epoch 872\n",
      "Epoch 873\n",
      "Epoch 874\n",
      "Epoch 875\n",
      "Epoch 876\n",
      "Epoch 877\n",
      "Epoch 878\n",
      "Epoch 879\n",
      "Epoch 880\n",
      "Epoch 881\n",
      "Epoch 882\n",
      "Epoch 883\n",
      "Epoch 884\n",
      "Epoch 885\n",
      "Epoch 886\n",
      "Epoch 887\n",
      "Epoch 888\n",
      "Epoch 889\n",
      "Epoch 890\n",
      "Epoch 891\n",
      "Epoch 892\n",
      "Epoch 893\n",
      "Epoch 894\n",
      "Epoch 895\n",
      "Epoch 896\n",
      "Epoch 897\n",
      "Epoch 898\n",
      "Epoch 899\n",
      "Epoch 900\n",
      "Epoch 901\n",
      "Epoch 902\n",
      "Epoch 903\n",
      "Epoch 904\n",
      "Epoch 905\n",
      "Epoch 906\n",
      "Epoch 907\n",
      "Epoch 908\n",
      "Epoch 909\n",
      "Epoch 910\n",
      "Epoch 911\n",
      "Epoch 912\n",
      "Epoch 913\n",
      "Epoch 914\n",
      "Epoch 915\n",
      "Epoch 916\n",
      "Epoch 917\n",
      "Epoch 918\n",
      "Epoch 919\n",
      "Epoch 920\n",
      "Epoch 921\n",
      "Epoch 922\n",
      "Epoch 923\n",
      "Epoch 924\n",
      "Epoch 925\n",
      "Epoch 926\n",
      "Epoch 927\n",
      "Epoch 928\n",
      "Epoch 929\n",
      "Epoch 930\n",
      "Epoch 931\n",
      "Epoch 932\n",
      "Epoch 933\n",
      "Epoch 934\n",
      "Epoch 935\n",
      "Epoch 936\n",
      "Epoch 937\n",
      "Epoch 938\n",
      "Epoch 939\n",
      "Epoch 940\n",
      "Epoch 941\n",
      "Epoch 942\n",
      "Epoch 943\n",
      "Epoch 944\n",
      "Epoch 945\n",
      "Epoch 946\n",
      "Epoch 947\n",
      "Epoch 948\n",
      "Epoch 949\n",
      "Epoch 950\n",
      "Epoch 951\n",
      "Epoch 952\n",
      "Epoch 953\n",
      "Epoch 954\n",
      "Epoch 955\n",
      "Epoch 956\n",
      "Epoch 957\n",
      "Epoch 958\n",
      "Epoch 959\n",
      "Epoch 960\n",
      "Epoch 961\n",
      "Epoch 962\n",
      "Epoch 963\n",
      "Epoch 964\n",
      "Epoch 965\n",
      "Epoch 966\n",
      "Epoch 967\n",
      "Epoch 968\n",
      "Epoch 969\n",
      "Epoch 970\n",
      "Epoch 971\n",
      "Epoch 972\n",
      "Epoch 973\n",
      "Epoch 974\n",
      "Epoch 975\n",
      "Epoch 976\n",
      "Epoch 977\n",
      "Epoch 978\n",
      "Epoch 979\n",
      "Epoch 980\n",
      "Epoch 981\n",
      "Epoch 982\n",
      "Epoch 983\n",
      "Epoch 984\n",
      "Epoch 985\n",
      "Epoch 986\n",
      "Epoch 987\n",
      "Epoch 988\n",
      "Epoch 989\n",
      "Epoch 990\n",
      "Epoch 991\n",
      "Epoch 992\n",
      "Epoch 993\n",
      "Epoch 994\n",
      "Epoch 995\n",
      "Epoch 996\n",
      "Epoch 997\n",
      "Epoch 998\n",
      "Epoch 999\n"
     ]
    },
    {
     "data": {
      "text/plain": "<IPython.core.display.Javascript object>",
      "application/javascript": "\n        if (window._pyforest_update_imports_cell) { window._pyforest_update_imports_cell('import torch'); }\n    "
     },
     "metadata": {},
     "output_type": "display_data"
    },
    {
     "data": {
      "text/plain": "<IPython.core.display.Javascript object>",
      "application/javascript": "\n        if (window._pyforest_update_imports_cell) { window._pyforest_update_imports_cell('import torch'); }\n    "
     },
     "metadata": {},
     "output_type": "display_data"
    },
    {
     "data": {
      "text/plain": "<IPython.core.display.Javascript object>",
      "application/javascript": "\n        if (window._pyforest_update_imports_cell) { window._pyforest_update_imports_cell('import torch'); }\n    "
     },
     "metadata": {},
     "output_type": "display_data"
    },
    {
     "data": {
      "text/plain": "<IPython.core.display.Javascript object>",
      "application/javascript": "\n        if (window._pyforest_update_imports_cell) { window._pyforest_update_imports_cell('import torch'); }\n    "
     },
     "metadata": {},
     "output_type": "display_data"
    },
    {
     "data": {
      "text/plain": "<IPython.core.display.Javascript object>",
      "application/javascript": "\n        if (window._pyforest_update_imports_cell) { window._pyforest_update_imports_cell('import torch'); }\n    "
     },
     "metadata": {},
     "output_type": "display_data"
    },
    {
     "data": {
      "text/plain": "<IPython.core.display.Javascript object>",
      "application/javascript": "\n        if (window._pyforest_update_imports_cell) { window._pyforest_update_imports_cell('import torch'); }\n    "
     },
     "metadata": {},
     "output_type": "display_data"
    },
    {
     "data": {
      "text/plain": "<IPython.core.display.Javascript object>",
      "application/javascript": "\n        if (window._pyforest_update_imports_cell) { window._pyforest_update_imports_cell('import torch'); }\n    "
     },
     "metadata": {},
     "output_type": "display_data"
    },
    {
     "data": {
      "text/plain": "<IPython.core.display.Javascript object>",
      "application/javascript": "\n        if (window._pyforest_update_imports_cell) { window._pyforest_update_imports_cell('import torch'); }\n    "
     },
     "metadata": {},
     "output_type": "display_data"
    },
    {
     "data": {
      "text/plain": "<IPython.core.display.Javascript object>",
      "application/javascript": "\n        if (window._pyforest_update_imports_cell) { window._pyforest_update_imports_cell('import torch'); }\n    "
     },
     "metadata": {},
     "output_type": "display_data"
    },
    {
     "data": {
      "text/plain": "<IPython.core.display.Javascript object>",
      "application/javascript": "\n        if (window._pyforest_update_imports_cell) { window._pyforest_update_imports_cell('import torch'); }\n    "
     },
     "metadata": {},
     "output_type": "display_data"
    },
    {
     "data": {
      "text/plain": "<IPython.core.display.Javascript object>",
      "application/javascript": "\n        if (window._pyforest_update_imports_cell) { window._pyforest_update_imports_cell('import torch'); }\n    "
     },
     "metadata": {},
     "output_type": "display_data"
    },
    {
     "data": {
      "text/plain": "<IPython.core.display.Javascript object>",
      "application/javascript": "\n        if (window._pyforest_update_imports_cell) { window._pyforest_update_imports_cell('import torch'); }\n    "
     },
     "metadata": {},
     "output_type": "display_data"
    },
    {
     "data": {
      "text/plain": "<IPython.core.display.Javascript object>",
      "application/javascript": "\n        if (window._pyforest_update_imports_cell) { window._pyforest_update_imports_cell('import torch'); }\n    "
     },
     "metadata": {},
     "output_type": "display_data"
    },
    {
     "data": {
      "text/plain": "<IPython.core.display.Javascript object>",
      "application/javascript": "\n        if (window._pyforest_update_imports_cell) { window._pyforest_update_imports_cell('import torch'); }\n    "
     },
     "metadata": {},
     "output_type": "display_data"
    },
    {
     "data": {
      "text/plain": "<IPython.core.display.Javascript object>",
      "application/javascript": "\n        if (window._pyforest_update_imports_cell) { window._pyforest_update_imports_cell('import torch'); }\n    "
     },
     "metadata": {},
     "output_type": "display_data"
    },
    {
     "data": {
      "text/plain": "<IPython.core.display.Javascript object>",
      "application/javascript": "\n        if (window._pyforest_update_imports_cell) { window._pyforest_update_imports_cell('import torch'); }\n    "
     },
     "metadata": {},
     "output_type": "display_data"
    },
    {
     "data": {
      "text/plain": "<IPython.core.display.Javascript object>",
      "application/javascript": "\n        if (window._pyforest_update_imports_cell) { window._pyforest_update_imports_cell('import torch'); }\n    "
     },
     "metadata": {},
     "output_type": "display_data"
    },
    {
     "data": {
      "text/plain": "<IPython.core.display.Javascript object>",
      "application/javascript": "\n        if (window._pyforest_update_imports_cell) { window._pyforest_update_imports_cell('import torch'); }\n    "
     },
     "metadata": {},
     "output_type": "display_data"
    },
    {
     "data": {
      "text/plain": "<IPython.core.display.Javascript object>",
      "application/javascript": "\n        if (window._pyforest_update_imports_cell) { window._pyforest_update_imports_cell('import torch'); }\n    "
     },
     "metadata": {},
     "output_type": "display_data"
    },
    {
     "data": {
      "text/plain": "<IPython.core.display.Javascript object>",
      "application/javascript": "\n        if (window._pyforest_update_imports_cell) { window._pyforest_update_imports_cell('import torch'); }\n    "
     },
     "metadata": {},
     "output_type": "display_data"
    },
    {
     "data": {
      "text/plain": "<IPython.core.display.Javascript object>",
      "application/javascript": "\n        if (window._pyforest_update_imports_cell) { window._pyforest_update_imports_cell('import torch'); }\n    "
     },
     "metadata": {},
     "output_type": "display_data"
    },
    {
     "data": {
      "text/plain": "<IPython.core.display.Javascript object>",
      "application/javascript": "\n        if (window._pyforest_update_imports_cell) { window._pyforest_update_imports_cell('import torch'); }\n    "
     },
     "metadata": {},
     "output_type": "display_data"
    },
    {
     "data": {
      "text/plain": "<IPython.core.display.Javascript object>",
      "application/javascript": "\n        if (window._pyforest_update_imports_cell) { window._pyforest_update_imports_cell('import torch'); }\n    "
     },
     "metadata": {},
     "output_type": "display_data"
    },
    {
     "data": {
      "text/plain": "<IPython.core.display.Javascript object>",
      "application/javascript": "\n        if (window._pyforest_update_imports_cell) { window._pyforest_update_imports_cell('import torch'); }\n    "
     },
     "metadata": {},
     "output_type": "display_data"
    },
    {
     "data": {
      "text/plain": "<IPython.core.display.Javascript object>",
      "application/javascript": "\n        if (window._pyforest_update_imports_cell) { window._pyforest_update_imports_cell('import torch'); }\n    "
     },
     "metadata": {},
     "output_type": "display_data"
    },
    {
     "data": {
      "text/plain": "<IPython.core.display.Javascript object>",
      "application/javascript": "\n        if (window._pyforest_update_imports_cell) { window._pyforest_update_imports_cell('import torch'); }\n    "
     },
     "metadata": {},
     "output_type": "display_data"
    },
    {
     "data": {
      "text/plain": "<IPython.core.display.Javascript object>",
      "application/javascript": "\n        if (window._pyforest_update_imports_cell) { window._pyforest_update_imports_cell('import torch'); }\n    "
     },
     "metadata": {},
     "output_type": "display_data"
    },
    {
     "data": {
      "text/plain": "<IPython.core.display.Javascript object>",
      "application/javascript": "\n        if (window._pyforest_update_imports_cell) { window._pyforest_update_imports_cell('import torch'); }\n    "
     },
     "metadata": {},
     "output_type": "display_data"
    },
    {
     "data": {
      "text/plain": "<IPython.core.display.Javascript object>",
      "application/javascript": "\n        if (window._pyforest_update_imports_cell) { window._pyforest_update_imports_cell('import torch'); }\n    "
     },
     "metadata": {},
     "output_type": "display_data"
    },
    {
     "data": {
      "text/plain": "<IPython.core.display.Javascript object>",
      "application/javascript": "\n        if (window._pyforest_update_imports_cell) { window._pyforest_update_imports_cell('import torch'); }\n    "
     },
     "metadata": {},
     "output_type": "display_data"
    },
    {
     "data": {
      "text/plain": "<IPython.core.display.Javascript object>",
      "application/javascript": "\n        if (window._pyforest_update_imports_cell) { window._pyforest_update_imports_cell('import torch'); }\n    "
     },
     "metadata": {},
     "output_type": "display_data"
    },
    {
     "data": {
      "text/plain": "<IPython.core.display.Javascript object>",
      "application/javascript": "\n        if (window._pyforest_update_imports_cell) { window._pyforest_update_imports_cell('import torch'); }\n    "
     },
     "metadata": {},
     "output_type": "display_data"
    },
    {
     "data": {
      "text/plain": "<IPython.core.display.Javascript object>",
      "application/javascript": "\n        if (window._pyforest_update_imports_cell) { window._pyforest_update_imports_cell('import torch'); }\n    "
     },
     "metadata": {},
     "output_type": "display_data"
    },
    {
     "data": {
      "text/plain": "<IPython.core.display.Javascript object>",
      "application/javascript": "\n        if (window._pyforest_update_imports_cell) { window._pyforest_update_imports_cell('import torch'); }\n    "
     },
     "metadata": {},
     "output_type": "display_data"
    },
    {
     "data": {
      "text/plain": "<IPython.core.display.Javascript object>",
      "application/javascript": "\n        if (window._pyforest_update_imports_cell) { window._pyforest_update_imports_cell('import torch'); }\n    "
     },
     "metadata": {},
     "output_type": "display_data"
    },
    {
     "data": {
      "text/plain": "<IPython.core.display.Javascript object>",
      "application/javascript": "\n        if (window._pyforest_update_imports_cell) { window._pyforest_update_imports_cell('import torch'); }\n    "
     },
     "metadata": {},
     "output_type": "display_data"
    },
    {
     "data": {
      "text/plain": "<IPython.core.display.Javascript object>",
      "application/javascript": "\n        if (window._pyforest_update_imports_cell) { window._pyforest_update_imports_cell('import torch'); }\n    "
     },
     "metadata": {},
     "output_type": "display_data"
    },
    {
     "data": {
      "text/plain": "<IPython.core.display.Javascript object>",
      "application/javascript": "\n        if (window._pyforest_update_imports_cell) { window._pyforest_update_imports_cell('import torch'); }\n    "
     },
     "metadata": {},
     "output_type": "display_data"
    },
    {
     "data": {
      "text/plain": "<IPython.core.display.Javascript object>",
      "application/javascript": "\n        if (window._pyforest_update_imports_cell) { window._pyforest_update_imports_cell('import torch'); }\n    "
     },
     "metadata": {},
     "output_type": "display_data"
    },
    {
     "data": {
      "text/plain": "<IPython.core.display.Javascript object>",
      "application/javascript": "\n        if (window._pyforest_update_imports_cell) { window._pyforest_update_imports_cell('import torch'); }\n    "
     },
     "metadata": {},
     "output_type": "display_data"
    },
    {
     "data": {
      "text/plain": "<IPython.core.display.Javascript object>",
      "application/javascript": "\n        if (window._pyforest_update_imports_cell) { window._pyforest_update_imports_cell('import torch'); }\n    "
     },
     "metadata": {},
     "output_type": "display_data"
    },
    {
     "data": {
      "text/plain": "<IPython.core.display.Javascript object>",
      "application/javascript": "\n        if (window._pyforest_update_imports_cell) { window._pyforest_update_imports_cell('import torch'); }\n    "
     },
     "metadata": {},
     "output_type": "display_data"
    },
    {
     "data": {
      "text/plain": "<IPython.core.display.Javascript object>",
      "application/javascript": "\n        if (window._pyforest_update_imports_cell) { window._pyforest_update_imports_cell('import torch'); }\n    "
     },
     "metadata": {},
     "output_type": "display_data"
    },
    {
     "data": {
      "text/plain": "<IPython.core.display.Javascript object>",
      "application/javascript": "\n        if (window._pyforest_update_imports_cell) { window._pyforest_update_imports_cell('import torch'); }\n    "
     },
     "metadata": {},
     "output_type": "display_data"
    },
    {
     "data": {
      "text/plain": "<IPython.core.display.Javascript object>",
      "application/javascript": "\n        if (window._pyforest_update_imports_cell) { window._pyforest_update_imports_cell('import torch'); }\n    "
     },
     "metadata": {},
     "output_type": "display_data"
    },
    {
     "data": {
      "text/plain": "<IPython.core.display.Javascript object>",
      "application/javascript": "\n        if (window._pyforest_update_imports_cell) { window._pyforest_update_imports_cell('import torch'); }\n    "
     },
     "metadata": {},
     "output_type": "display_data"
    },
    {
     "data": {
      "text/plain": "<IPython.core.display.Javascript object>",
      "application/javascript": "\n        if (window._pyforest_update_imports_cell) { window._pyforest_update_imports_cell('import torch'); }\n    "
     },
     "metadata": {},
     "output_type": "display_data"
    },
    {
     "data": {
      "text/plain": "<IPython.core.display.Javascript object>",
      "application/javascript": "\n        if (window._pyforest_update_imports_cell) { window._pyforest_update_imports_cell('import torch'); }\n    "
     },
     "metadata": {},
     "output_type": "display_data"
    },
    {
     "data": {
      "text/plain": "<IPython.core.display.Javascript object>",
      "application/javascript": "\n        if (window._pyforest_update_imports_cell) { window._pyforest_update_imports_cell('import torch'); }\n    "
     },
     "metadata": {},
     "output_type": "display_data"
    },
    {
     "data": {
      "text/plain": "<IPython.core.display.Javascript object>",
      "application/javascript": "\n        if (window._pyforest_update_imports_cell) { window._pyforest_update_imports_cell('import torch'); }\n    "
     },
     "metadata": {},
     "output_type": "display_data"
    },
    {
     "data": {
      "text/plain": "<IPython.core.display.Javascript object>",
      "application/javascript": "\n        if (window._pyforest_update_imports_cell) { window._pyforest_update_imports_cell('import torch'); }\n    "
     },
     "metadata": {},
     "output_type": "display_data"
    },
    {
     "data": {
      "text/plain": "<IPython.core.display.Javascript object>",
      "application/javascript": "\n        if (window._pyforest_update_imports_cell) { window._pyforest_update_imports_cell('import torch'); }\n    "
     },
     "metadata": {},
     "output_type": "display_data"
    },
    {
     "data": {
      "text/plain": "<IPython.core.display.Javascript object>",
      "application/javascript": "\n        if (window._pyforest_update_imports_cell) { window._pyforest_update_imports_cell('import torch'); }\n    "
     },
     "metadata": {},
     "output_type": "display_data"
    },
    {
     "data": {
      "text/plain": "<IPython.core.display.Javascript object>",
      "application/javascript": "\n        if (window._pyforest_update_imports_cell) { window._pyforest_update_imports_cell('import torch'); }\n    "
     },
     "metadata": {},
     "output_type": "display_data"
    },
    {
     "data": {
      "text/plain": "<IPython.core.display.Javascript object>",
      "application/javascript": "\n        if (window._pyforest_update_imports_cell) { window._pyforest_update_imports_cell('import torch'); }\n    "
     },
     "metadata": {},
     "output_type": "display_data"
    },
    {
     "data": {
      "text/plain": "<IPython.core.display.Javascript object>",
      "application/javascript": "\n        if (window._pyforest_update_imports_cell) { window._pyforest_update_imports_cell('import torch'); }\n    "
     },
     "metadata": {},
     "output_type": "display_data"
    },
    {
     "data": {
      "text/plain": "<IPython.core.display.Javascript object>",
      "application/javascript": "\n        if (window._pyforest_update_imports_cell) { window._pyforest_update_imports_cell('import torch'); }\n    "
     },
     "metadata": {},
     "output_type": "display_data"
    },
    {
     "data": {
      "text/plain": "<IPython.core.display.Javascript object>",
      "application/javascript": "\n        if (window._pyforest_update_imports_cell) { window._pyforest_update_imports_cell('import torch'); }\n    "
     },
     "metadata": {},
     "output_type": "display_data"
    },
    {
     "data": {
      "text/plain": "<IPython.core.display.Javascript object>",
      "application/javascript": "\n        if (window._pyforest_update_imports_cell) { window._pyforest_update_imports_cell('import torch'); }\n    "
     },
     "metadata": {},
     "output_type": "display_data"
    },
    {
     "data": {
      "text/plain": "<IPython.core.display.Javascript object>",
      "application/javascript": "\n        if (window._pyforest_update_imports_cell) { window._pyforest_update_imports_cell('import torch'); }\n    "
     },
     "metadata": {},
     "output_type": "display_data"
    },
    {
     "data": {
      "text/plain": "<IPython.core.display.Javascript object>",
      "application/javascript": "\n        if (window._pyforest_update_imports_cell) { window._pyforest_update_imports_cell('import torch'); }\n    "
     },
     "metadata": {},
     "output_type": "display_data"
    },
    {
     "data": {
      "text/plain": "<IPython.core.display.Javascript object>",
      "application/javascript": "\n        if (window._pyforest_update_imports_cell) { window._pyforest_update_imports_cell('import torch'); }\n    "
     },
     "metadata": {},
     "output_type": "display_data"
    },
    {
     "data": {
      "text/plain": "<IPython.core.display.Javascript object>",
      "application/javascript": "\n        if (window._pyforest_update_imports_cell) { window._pyforest_update_imports_cell('import torch'); }\n    "
     },
     "metadata": {},
     "output_type": "display_data"
    },
    {
     "data": {
      "text/plain": "<IPython.core.display.Javascript object>",
      "application/javascript": "\n        if (window._pyforest_update_imports_cell) { window._pyforest_update_imports_cell('import torch'); }\n    "
     },
     "metadata": {},
     "output_type": "display_data"
    },
    {
     "data": {
      "text/plain": "<IPython.core.display.Javascript object>",
      "application/javascript": "\n        if (window._pyforest_update_imports_cell) { window._pyforest_update_imports_cell('import torch'); }\n    "
     },
     "metadata": {},
     "output_type": "display_data"
    },
    {
     "data": {
      "text/plain": "<IPython.core.display.Javascript object>",
      "application/javascript": "\n        if (window._pyforest_update_imports_cell) { window._pyforest_update_imports_cell('import torch'); }\n    "
     },
     "metadata": {},
     "output_type": "display_data"
    },
    {
     "data": {
      "text/plain": "<IPython.core.display.Javascript object>",
      "application/javascript": "\n        if (window._pyforest_update_imports_cell) { window._pyforest_update_imports_cell('import torch'); }\n    "
     },
     "metadata": {},
     "output_type": "display_data"
    },
    {
     "data": {
      "text/plain": "<IPython.core.display.Javascript object>",
      "application/javascript": "\n        if (window._pyforest_update_imports_cell) { window._pyforest_update_imports_cell('import torch'); }\n    "
     },
     "metadata": {},
     "output_type": "display_data"
    },
    {
     "data": {
      "text/plain": "<IPython.core.display.Javascript object>",
      "application/javascript": "\n        if (window._pyforest_update_imports_cell) { window._pyforest_update_imports_cell('import torch'); }\n    "
     },
     "metadata": {},
     "output_type": "display_data"
    },
    {
     "data": {
      "text/plain": "<IPython.core.display.Javascript object>",
      "application/javascript": "\n        if (window._pyforest_update_imports_cell) { window._pyforest_update_imports_cell('import torch'); }\n    "
     },
     "metadata": {},
     "output_type": "display_data"
    },
    {
     "data": {
      "text/plain": "<IPython.core.display.Javascript object>",
      "application/javascript": "\n        if (window._pyforest_update_imports_cell) { window._pyforest_update_imports_cell('import torch'); }\n    "
     },
     "metadata": {},
     "output_type": "display_data"
    },
    {
     "data": {
      "text/plain": "<IPython.core.display.Javascript object>",
      "application/javascript": "\n        if (window._pyforest_update_imports_cell) { window._pyforest_update_imports_cell('import torch'); }\n    "
     },
     "metadata": {},
     "output_type": "display_data"
    },
    {
     "data": {
      "text/plain": "<IPython.core.display.Javascript object>",
      "application/javascript": "\n        if (window._pyforest_update_imports_cell) { window._pyforest_update_imports_cell('import torch'); }\n    "
     },
     "metadata": {},
     "output_type": "display_data"
    },
    {
     "data": {
      "text/plain": "<IPython.core.display.Javascript object>",
      "application/javascript": "\n        if (window._pyforest_update_imports_cell) { window._pyforest_update_imports_cell('import torch'); }\n    "
     },
     "metadata": {},
     "output_type": "display_data"
    },
    {
     "data": {
      "text/plain": "<IPython.core.display.Javascript object>",
      "application/javascript": "\n        if (window._pyforest_update_imports_cell) { window._pyforest_update_imports_cell('import torch'); }\n    "
     },
     "metadata": {},
     "output_type": "display_data"
    },
    {
     "data": {
      "text/plain": "<IPython.core.display.Javascript object>",
      "application/javascript": "\n        if (window._pyforest_update_imports_cell) { window._pyforest_update_imports_cell('import torch'); }\n    "
     },
     "metadata": {},
     "output_type": "display_data"
    },
    {
     "data": {
      "text/plain": "<IPython.core.display.Javascript object>",
      "application/javascript": "\n        if (window._pyforest_update_imports_cell) { window._pyforest_update_imports_cell('import torch'); }\n    "
     },
     "metadata": {},
     "output_type": "display_data"
    },
    {
     "data": {
      "text/plain": "<IPython.core.display.Javascript object>",
      "application/javascript": "\n        if (window._pyforest_update_imports_cell) { window._pyforest_update_imports_cell('import torch'); }\n    "
     },
     "metadata": {},
     "output_type": "display_data"
    },
    {
     "data": {
      "text/plain": "<IPython.core.display.Javascript object>",
      "application/javascript": "\n        if (window._pyforest_update_imports_cell) { window._pyforest_update_imports_cell('import torch'); }\n    "
     },
     "metadata": {},
     "output_type": "display_data"
    },
    {
     "data": {
      "text/plain": "<IPython.core.display.Javascript object>",
      "application/javascript": "\n        if (window._pyforest_update_imports_cell) { window._pyforest_update_imports_cell('import torch'); }\n    "
     },
     "metadata": {},
     "output_type": "display_data"
    },
    {
     "data": {
      "text/plain": "<IPython.core.display.Javascript object>",
      "application/javascript": "\n        if (window._pyforest_update_imports_cell) { window._pyforest_update_imports_cell('import torch'); }\n    "
     },
     "metadata": {},
     "output_type": "display_data"
    },
    {
     "data": {
      "text/plain": "<IPython.core.display.Javascript object>",
      "application/javascript": "\n        if (window._pyforest_update_imports_cell) { window._pyforest_update_imports_cell('import torch'); }\n    "
     },
     "metadata": {},
     "output_type": "display_data"
    },
    {
     "data": {
      "text/plain": "<IPython.core.display.Javascript object>",
      "application/javascript": "\n        if (window._pyforest_update_imports_cell) { window._pyforest_update_imports_cell('import torch'); }\n    "
     },
     "metadata": {},
     "output_type": "display_data"
    },
    {
     "data": {
      "text/plain": "<IPython.core.display.Javascript object>",
      "application/javascript": "\n        if (window._pyforest_update_imports_cell) { window._pyforest_update_imports_cell('import torch'); }\n    "
     },
     "metadata": {},
     "output_type": "display_data"
    },
    {
     "data": {
      "text/plain": "<IPython.core.display.Javascript object>",
      "application/javascript": "\n        if (window._pyforest_update_imports_cell) { window._pyforest_update_imports_cell('import torch'); }\n    "
     },
     "metadata": {},
     "output_type": "display_data"
    },
    {
     "data": {
      "text/plain": "<IPython.core.display.Javascript object>",
      "application/javascript": "\n        if (window._pyforest_update_imports_cell) { window._pyforest_update_imports_cell('import torch'); }\n    "
     },
     "metadata": {},
     "output_type": "display_data"
    },
    {
     "data": {
      "text/plain": "<IPython.core.display.Javascript object>",
      "application/javascript": "\n        if (window._pyforest_update_imports_cell) { window._pyforest_update_imports_cell('import torch'); }\n    "
     },
     "metadata": {},
     "output_type": "display_data"
    },
    {
     "data": {
      "text/plain": "<IPython.core.display.Javascript object>",
      "application/javascript": "\n        if (window._pyforest_update_imports_cell) { window._pyforest_update_imports_cell('import torch'); }\n    "
     },
     "metadata": {},
     "output_type": "display_data"
    },
    {
     "data": {
      "text/plain": "<IPython.core.display.Javascript object>",
      "application/javascript": "\n        if (window._pyforest_update_imports_cell) { window._pyforest_update_imports_cell('import torch'); }\n    "
     },
     "metadata": {},
     "output_type": "display_data"
    },
    {
     "data": {
      "text/plain": "<IPython.core.display.Javascript object>",
      "application/javascript": "\n        if (window._pyforest_update_imports_cell) { window._pyforest_update_imports_cell('import torch'); }\n    "
     },
     "metadata": {},
     "output_type": "display_data"
    },
    {
     "data": {
      "text/plain": "<IPython.core.display.Javascript object>",
      "application/javascript": "\n        if (window._pyforest_update_imports_cell) { window._pyforest_update_imports_cell('import torch'); }\n    "
     },
     "metadata": {},
     "output_type": "display_data"
    },
    {
     "data": {
      "text/plain": "<IPython.core.display.Javascript object>",
      "application/javascript": "\n        if (window._pyforest_update_imports_cell) { window._pyforest_update_imports_cell('import torch'); }\n    "
     },
     "metadata": {},
     "output_type": "display_data"
    },
    {
     "data": {
      "text/plain": "<IPython.core.display.Javascript object>",
      "application/javascript": "\n        if (window._pyforest_update_imports_cell) { window._pyforest_update_imports_cell('import torch'); }\n    "
     },
     "metadata": {},
     "output_type": "display_data"
    },
    {
     "data": {
      "text/plain": "<IPython.core.display.Javascript object>",
      "application/javascript": "\n        if (window._pyforest_update_imports_cell) { window._pyforest_update_imports_cell('import torch'); }\n    "
     },
     "metadata": {},
     "output_type": "display_data"
    },
    {
     "data": {
      "text/plain": "<IPython.core.display.Javascript object>",
      "application/javascript": "\n        if (window._pyforest_update_imports_cell) { window._pyforest_update_imports_cell('import torch'); }\n    "
     },
     "metadata": {},
     "output_type": "display_data"
    },
    {
     "data": {
      "text/plain": "<IPython.core.display.Javascript object>",
      "application/javascript": "\n        if (window._pyforest_update_imports_cell) { window._pyforest_update_imports_cell('import torch'); }\n    "
     },
     "metadata": {},
     "output_type": "display_data"
    },
    {
     "data": {
      "text/plain": "<IPython.core.display.Javascript object>",
      "application/javascript": "\n        if (window._pyforest_update_imports_cell) { window._pyforest_update_imports_cell('import torch'); }\n    "
     },
     "metadata": {},
     "output_type": "display_data"
    },
    {
     "data": {
      "text/plain": "<IPython.core.display.Javascript object>",
      "application/javascript": "\n        if (window._pyforest_update_imports_cell) { window._pyforest_update_imports_cell('import torch'); }\n    "
     },
     "metadata": {},
     "output_type": "display_data"
    },
    {
     "data": {
      "text/plain": "<IPython.core.display.Javascript object>",
      "application/javascript": "\n        if (window._pyforest_update_imports_cell) { window._pyforest_update_imports_cell('import torch'); }\n    "
     },
     "metadata": {},
     "output_type": "display_data"
    },
    {
     "data": {
      "text/plain": "<Figure size 432x288 with 1 Axes>",
      "image/png": "[encoded data removed]"
     },
     "metadata": {
      "needs_background": "light"
     },
     "output_type": "display_data"
    }
   ],
   "source": [
    "for i in range(num_episodes):\n",
    "    print(\"Epoch {}\".format(i))\n",
    "    current_state = random.randint(0, qlearner.num_states - 1)\n",
    "    for j in range(max_steps_per_episode):\n",
    "        current_state = dqn.network_training_once(current_state)\n",
    "\n",
    "for state_id in range(dqn.num_states):\n",
    "    dqn.value_table[state_id] = dqn.q_network(torch.FloatTensor(self.state_possible[state_id])).max().detach().numpy()\n",
    "\n",
    "from matplotlib import pyplot as plt\n",
    "plt.plot(dqn.value_table)\n",
    "plt.show()"
   ],
   "metadata": {
    "collapsed": false
   }
  },
  {
   "cell_type": "code",
   "execution_count": 15,
   "outputs": [
    {
     "data": {
      "text/plain": "array([ 7, 93])"
     },
     "execution_count": 15,
     "metadata": {},
     "output_type": "execute_result"
    }
   ],
   "source": [
    "self.state_possible[6]"
   ],
   "metadata": {
    "collapsed": false
   }
  },
  {
   "cell_type": "code",
   "execution_count": 17,
   "outputs": [
    {
     "data": {
      "text/plain": "[-0.012791766785085201,\n -0.011495075188577175,\n -0.010198383592069149,\n -0.008901691995561123,\n -0.007605000399053097,\n -0.006308312527835369,\n -0.005011620000004768,\n -0.0037149274721741676,\n -0.00241823960095644,\n -0.001121549867093563,\n 0.00017514172941446304,\n 0.0013987068086862564,\n 0.0014230962842702866,\n 0.0014718370512127876,\n 0.0017447909340262413,\n 0.0021753772161900997,\n 0.0029276576824486256,\n 0.0036799428053200245,\n 0.004432229325175285,\n 0.005184516776353121,\n 0.005936795379966497,\n 0.006689082831144333,\n 0.007441363763064146,\n 0.008193647488951683,\n 0.008945931680500507,\n 0.009688332676887512,\n 0.00969821959733963,\n 0.01045050285756588,\n 0.011202787980437279,\n 0.011955068446695805,\n 0.012707357294857502,\n 0.013459639623761177,\n 0.014211921021342278,\n 0.014964202418923378,\n 0.015716496855020523,\n 0.01642664335668087,\n 0.016468774527311325,\n 0.017221055924892426,\n 0.017973344773054123,\n 0.01895100064575672,\n 0.019962221384048462,\n 0.020973442122340202,\n 0.021984662860631943,\n 0.022995883598923683,\n 0.02400708943605423,\n 0.02501830831170082,\n 0.02602952904999256,\n 0.027125945314764977,\n 0.02830205298960209,\n 0.029478169977664948,\n 0.03065427765250206,\n 0.03183040767908096,\n 0.03300650790333748,\n 0.03418262302875519,\n 0.035358723253011703,\n 0.03653484582901001,\n 0.03771095350384712,\n 0.03888706490397453,\n 0.04006318002939224,\n 0.041239287704229355,\n 0.04241541028022766,\n 0.04359151050448418,\n 0.04476761817932129,\n 0.04520256817340851,\n 0.04594374820590019,\n 0.0471198670566082,\n 0.04829595983028412,\n 0.04947206750512123,\n 0.05064819008111954,\n 0.05182430520653725,\n 0.05300043150782585,\n 0.05417652055621147,\n 0.05535263940691948,\n 0.05652874708175659,\n 0.057704854756593704,\n 0.05888096243143082,\n 0.0597541406750679,\n 0.06005708500742912,\n 0.06123321130871773,\n 0.062409304082393646,\n 0.06358543038368225,\n 0.06476153433322906,\n 0.06593764573335648,\n 0.06711377948522568,\n 0.06828989833593369,\n 0.06946597993373871,\n 0.07064209133386612,\n 0.09099552780389786,\n 0.09315948188304901,\n 0.10863099247217178,\n 0.11964688450098038,\n 0.12070895731449127,\n 0.12096226215362549,\n 0.14613425731658936,\n 0.14854241907596588,\n 0.1654716432094574,\n 0.19916988909244537,\n 0.2356656938791275,\n 0.27589544653892517]"
     },
     "execution_count": 17,
     "metadata": {},
     "output_type": "execute_result"
    }
   ],
   "source": [
    "sorted(dqn.value_table)"
   ],
   "metadata": {
    "collapsed": false
   }
  },
  {
   "cell_type": "code",
   "execution_count": 18,
   "outputs": [
    {
     "data": {
      "text/plain": "array([ 9.68833268e-03,  5.97541407e-02,  1.08630992e-01,  1.20708957e-01,\n        1.99169889e-01,  1.65471643e-01,  2.75895447e-01,  1.46134257e-01,\n        1.19646885e-01,  9.31594819e-02,  7.06420913e-02,  6.94659799e-02,\n        6.82898983e-02,  6.71137795e-02,  6.59376457e-02,  6.47615343e-02,\n        6.35854304e-02,  6.24093041e-02,  6.12332113e-02,  6.00570850e-02,\n        5.88809624e-02,  5.77048548e-02,  5.65287471e-02,  5.53526394e-02,\n        5.41765206e-02,  5.30004315e-02,  5.18243052e-02,  5.06481901e-02,\n        4.94720675e-02,  4.82959598e-02,  4.71198671e-02,  4.59437482e-02,\n        4.47676182e-02,  4.35915105e-02,  4.24154103e-02,  4.12392877e-02,\n        4.00631800e-02,  3.88870649e-02,  3.77109535e-02,  3.65348458e-02,\n        3.53587233e-02,  3.41826230e-02,  3.30065079e-02,  3.18304077e-02,\n        3.06542777e-02,  2.94781700e-02,  2.83020530e-02,  2.71259453e-02,\n        2.60295290e-02,  2.50183083e-02,  2.40070894e-02,  2.29958836e-02,\n        2.19846629e-02,  2.09734421e-02,  1.99622214e-02,  1.89510006e-02,\n        1.79733448e-02,  1.72210559e-02,  1.64687745e-02,  1.57164969e-02,\n        1.49642024e-02,  1.42119210e-02,  1.34596396e-02,  1.27073573e-02,\n        1.19550684e-02,  1.12027880e-02,  1.04505029e-02,  9.69821960e-03,\n        8.94593168e-03,  8.19364749e-03,  7.44136376e-03,  6.68908283e-03,\n        5.93679538e-03,  5.18451678e-03,  4.43222933e-03,  3.67994281e-03,\n        2.92765768e-03,  2.17537722e-03,  1.42309628e-03,  1.39870681e-03,\n        1.74479093e-03,  1.47183705e-03,  1.75141729e-04, -1.12154987e-03,\n       -2.41823960e-03, -3.71492747e-03, -5.01162000e-03, -6.30831253e-03,\n       -7.60500040e-03, -8.90169200e-03, -1.01983836e-02, -1.14950752e-02,\n       -1.27917668e-02,  1.64266434e-02,  1.20962262e-01,  2.35665694e-01,\n        1.48542419e-01,  9.09955278e-02,  4.52025682e-02])"
     },
     "execution_count": 18,
     "metadata": {},
     "output_type": "execute_result"
    }
   ],
   "source": [
    "dqn.value_table"
   ],
   "metadata": {
    "collapsed": false
   }
  },
  {
   "cell_type": "code",
   "execution_count": 21,
   "outputs": [
    {
     "data": {
      "text/plain": "<IPython.core.display.Javascript object>",
      "application/javascript": "\n        if (window._pyforest_update_imports_cell) { window._pyforest_update_imports_cell('import torch'); }\n    "
     },
     "metadata": {},
     "output_type": "display_data"
    },
    {
     "data": {
      "text/plain": "tensor([96.,  4.])"
     },
     "execution_count": 21,
     "metadata": {},
     "output_type": "execute_result"
    }
   ],
   "source": [
    "torch.FloatTensor(self.state_possible[95])"
   ],
   "metadata": {
    "collapsed": false
   }
  },
  {
   "cell_type": "code",
   "execution_count": 45,
   "outputs": [
    {
     "data": {
      "text/plain": "<IPython.core.display.Javascript object>",
      "application/javascript": "\n        if (window._pyforest_update_imports_cell) { window._pyforest_update_imports_cell('import torch'); }\n    "
     },
     "metadata": {},
     "output_type": "display_data"
    },
    {
     "data": {
      "text/plain": "array(0.12913914, dtype=float32)"
     },
     "execution_count": 45,
     "metadata": {},
     "output_type": "execute_result"
    }
   ],
   "source": [
    "dqn.q_network(torch.FloatTensor(self.state_possible[state_id])).max().detach().numpy()"
   ],
   "metadata": {
    "collapsed": false
   }
  },
  {
   "cell_type": "code",
   "execution_count": 46,
   "outputs": [
    {
     "data": {
      "text/plain": "[(72, 14, 79, -0.009355999999999998),\n (22, 5, 20, -0.0020069649999999994),\n (70, 0, 63, -0.00713904),\n (46, 9, 48, -0.005130364999999998),\n (86, 14, 93, -0.011449139999999998),\n (29, 6, 28, -0.0028209650000000025),\n (1, 14, 8, -0.0009435650000000027),\n (46, 12, 51, -0.005558959999999999),\n (97, 0, 90, -0.010988564999999999),\n (7, 12, 12, -0.0012796849999999998),\n (51, 0, 44, -0.004749124999999999),\n (6, 0, 6, -1),\n (4, 14, 11, -0.001224560000000002),\n (7, 0, 0, -0.00022636499999999446),\n (8, 14, 15, -0.0016094399999999989),\n (1, 11, 5, -0.0006091399999999974),\n (60, 1, 54, -0.005954124999999998),\n (47, 1, 41, -0.004375859999999999),\n (2, 6, 1, -0.00019346000000000028),\n (2, 6, 1, -0.00019346000000000028),\n (28, 6, 27, -0.002714160000000001),\n (74, 7, 74, -0.008503124999999999),\n (32, 9, 34, -0.0034971249999999985),\n (19, 9, 21, -0.00210866),\n (58, 9, 60, -0.006644164999999999),\n (10, 10, 13, -0.0013355400000000003),\n (23, 5, 21, -0.00210866),\n (90, 5, 88, -0.010585164999999999),\n (96, 11, 96, -1),\n (2, 7, 2, -0.0002612849999999965),\n (98, 7, 98, -0.012091365),\n (12, 3, 8, -0.0008835649999999991)]"
     },
     "execution_count": 46,
     "metadata": {},
     "output_type": "execute_result"
    }
   ],
   "source": [
    "batch = random.sample(self.replay_buffer, self.batch_size)\n",
    "batch"
   ],
   "metadata": {
    "collapsed": false
   }
  },
  {
   "cell_type": "code",
   "execution_count": 52,
   "outputs": [],
   "source": [
    "states = np.zeros((self.batch_size, self.input_size))\n",
    "q_targets = np.zeros((self.batch_size, self.output_size))\n",
    "\n",
    "# states"
   ],
   "metadata": {
    "collapsed": false
   }
  },
  {
   "cell_type": "code",
   "execution_count": null,
   "outputs": [],
   "source": [],
   "metadata": {
    "collapsed": false
   }
  },
  {
   "cell_type": "code",
   "execution_count": null,
   "outputs": [],
   "source": [
    "for k in range(self.batch_size):\n",
    "    state_id_k, action_id_k, next_state_id_k, reward_k = batch[k]\n",
    "    state_wgt_k = self.state_possible[state_id_k]\n",
    "    q_values_k = self.q_network(torch.FloatTensor(state_wgt_k))\n",
    "    q_targets_this_state_all_action = q_values_k.clone().detach().numpy()\n",
    "    q_targets_this_state_all_action[action_id_k] = reward_k + self.gamma * np.max(self.q_network(torch.FloatTensor(state_wgt_k)).detach().numpy())\n",
    "    q_targets[k] = q_targets_this_state_all_action\n",
    "    states[k] = state_wgt_k"
   ],
   "metadata": {
    "collapsed": false
   }
  },
  {
   "cell_type": "code",
   "execution_count": 82,
   "outputs": [],
   "source": [
    "state_id_k, action_id_k, next_state_id_k, reward_k = batch[0]\n",
    "state_wgt_k = self.state_possible[state_id_k]"
   ],
   "metadata": {
    "collapsed": false
   }
  },
  {
   "cell_type": "code",
   "execution_count": 83,
   "outputs": [
    {
     "data": {
      "text/plain": "<IPython.core.display.Javascript object>",
      "application/javascript": "\n        if (window._pyforest_update_imports_cell) { window._pyforest_update_imports_cell('import torch'); }\n    "
     },
     "metadata": {},
     "output_type": "display_data"
    },
    {
     "data": {
      "text/plain": "<IPython.core.display.Javascript object>",
      "application/javascript": "\n        if (window._pyforest_update_imports_cell) { window._pyforest_update_imports_cell('import torch'); }\n    "
     },
     "metadata": {},
     "output_type": "display_data"
    }
   ],
   "source": [
    "q_values_k = self.q_network(torch.FloatTensor(state_wgt_k))\n",
    "q_targets_this_state_all_action = q_values_k.clone().detach().numpy()\n",
    "q_targets_this_state_all_action[action_id_k] = reward_k + self.gamma * np.max(self.q_network(torch.FloatTensor(state_wgt_k)).detach().numpy())"
   ],
   "metadata": {
    "collapsed": false
   }
  },
  {
   "cell_type": "code",
   "execution_count": 85,
   "outputs": [],
   "source": [
    "q_targets[0] = q_targets_this_state_all_action\n",
    "states[0] = state_wgt_k"
   ],
   "metadata": {
    "collapsed": false
   }
  },
  {
   "cell_type": "code",
   "execution_count": 64,
   "outputs": [
    {
     "data": {
      "text/plain": "<IPython.core.display.Javascript object>",
      "application/javascript": "\n        if (window._pyforest_update_imports_cell) { window._pyforest_update_imports_cell('import torch'); }\n    "
     },
     "metadata": {},
     "output_type": "display_data"
    },
    {
     "data": {
      "text/plain": "-0.06658120425915719"
     },
     "execution_count": 64,
     "metadata": {},
     "output_type": "execute_result"
    }
   ],
   "source": [
    "reward_k + self.gamma * np.max(self.q_network(torch.FloatTensor(state_wgt_k)).detach().numpy())"
   ],
   "metadata": {
    "collapsed": false
   }
  },
  {
   "cell_type": "code",
   "execution_count": 69,
   "outputs": [
    {
     "data": {
      "text/plain": "-0.06658120425915719"
     },
     "execution_count": 69,
     "metadata": {},
     "output_type": "execute_result"
    }
   ],
   "source": [
    "reward_k + self.gamma * q_targets_this_state_all_action.max()"
   ],
   "metadata": {
    "collapsed": false
   }
  },
  {
   "cell_type": "code",
   "execution_count": 73,
   "outputs": [
    {
     "data": {
      "text/plain": "<bound method Optimizer.zero_grad of Adam (\nParameter Group 0\n    amsgrad: False\n    betas: (0.9, 0.999)\n    capturable: False\n    differentiable: False\n    eps: 1e-08\n    foreach: None\n    fused: False\n    lr: 0.001\n    maximize: False\n    weight_decay: 0\n)>"
     },
     "execution_count": 73,
     "metadata": {},
     "output_type": "execute_result"
    }
   ],
   "source": [
    "self.optimizer.zero_grad"
   ],
   "metadata": {
    "collapsed": false
   }
  },
  {
   "cell_type": "code",
   "execution_count": 75,
   "outputs": [
    {
     "data": {
      "text/plain": "array([73, 27])"
     },
     "execution_count": 75,
     "metadata": {},
     "output_type": "execute_result"
    }
   ],
   "source": [
    "state_wgt_k"
   ],
   "metadata": {
    "collapsed": false
   }
  },
  {
   "cell_type": "code",
   "execution_count": 76,
   "outputs": [
    {
     "data": {
      "text/plain": "<IPython.core.display.Javascript object>",
      "application/javascript": "\n        if (window._pyforest_update_imports_cell) { window._pyforest_update_imports_cell('import torch'); }\n    "
     },
     "metadata": {},
     "output_type": "display_data"
    },
    {
     "data": {
      "text/plain": "tensor([-0.0652, -0.0693, -0.0636, -0.0669, -0.0651, -0.0645, -0.0678, -0.0673,\n        -0.0674, -0.0649, -0.0668, -0.0679, -0.0683, -0.0673, -0.0645],\n       grad_fn=<AddBackward0>)"
     },
     "execution_count": 76,
     "metadata": {},
     "output_type": "execute_result"
    }
   ],
   "source": [
    "self.q_network(torch.FloatTensor(state_wgt_k))"
   ],
   "metadata": {
    "collapsed": false
   }
  },
  {
   "cell_type": "code",
   "execution_count": 78,
   "outputs": [],
   "source": [
    "import torch.nn as nn"
   ],
   "metadata": {
    "collapsed": false
   }
  },
  {
   "cell_type": "code",
   "execution_count": 89,
   "outputs": [
    {
     "data": {
      "text/plain": "<IPython.core.display.Javascript object>",
      "application/javascript": "\n        if (window._pyforest_update_imports_cell) { window._pyforest_update_imports_cell('import torch'); }\n    "
     },
     "metadata": {},
     "output_type": "display_data"
    },
    {
     "data": {
      "text/plain": "<IPython.core.display.Javascript object>",
      "application/javascript": "\n        if (window._pyforest_update_imports_cell) { window._pyforest_update_imports_cell('import torch'); }\n    "
     },
     "metadata": {},
     "output_type": "display_data"
    },
    {
     "data": {
      "text/plain": "tensor(2.9866e-07, grad_fn=<MseLossBackward0>)"
     },
     "execution_count": 89,
     "metadata": {},
     "output_type": "execute_result"
    }
   ],
   "source": [
    "loss = nn.MSELoss()(self.q_network(torch.FloatTensor(state_wgt_k)), torch.FloatTensor(q_targets[0]))\n",
    "loss"
   ],
   "metadata": {
    "collapsed": false
   }
  },
  {
   "cell_type": "code",
   "execution_count": 86,
   "outputs": [
    {
     "data": {
      "text/plain": "<IPython.core.display.Javascript object>",
      "application/javascript": "\n        if (window._pyforest_update_imports_cell) { window._pyforest_update_imports_cell('import torch'); }\n    "
     },
     "metadata": {},
     "output_type": "display_data"
    },
    {
     "data": {
      "text/plain": "tensor([-0.0652, -0.0693, -0.0636, -0.0669, -0.0651, -0.0645, -0.0678, -0.0673,\n        -0.0674, -0.0649, -0.0668, -0.0679, -0.0683, -0.0673, -0.0645],\n       grad_fn=<AddBackward0>)"
     },
     "execution_count": 86,
     "metadata": {},
     "output_type": "execute_result"
    }
   ],
   "source": [
    "self.q_network(torch.FloatTensor(state_wgt_k))"
   ],
   "metadata": {
    "collapsed": false
   }
  },
  {
   "cell_type": "code",
   "execution_count": 87,
   "outputs": [
    {
     "data": {
      "text/plain": "<IPython.core.display.Javascript object>",
      "application/javascript": "\n        if (window._pyforest_update_imports_cell) { window._pyforest_update_imports_cell('import torch'); }\n    "
     },
     "metadata": {},
     "output_type": "display_data"
    },
    {
     "data": {
      "text/plain": "tensor([-0.0652, -0.0693, -0.0636, -0.0669, -0.0651, -0.0645, -0.0678, -0.0673,\n        -0.0674, -0.0649, -0.0668, -0.0679, -0.0683, -0.0673, -0.0666])"
     },
     "execution_count": 87,
     "metadata": {},
     "output_type": "execute_result"
    }
   ],
   "source": [
    "torch.FloatTensor(q_targets[0])"
   ],
   "metadata": {
    "collapsed": false
   }
  },
  {
   "cell_type": "code",
   "execution_count": 91,
   "outputs": [],
   "source": [
    "? loss.backward"
   ],
   "metadata": {
    "collapsed": false
   }
  },
  {
   "cell_type": "code",
   "execution_count": 95,
   "outputs": [],
   "source": [
    "? self.optimizer.step"
   ],
   "metadata": {
    "collapsed": false
   }
  },
  {
   "cell_type": "code",
   "execution_count": null,
   "outputs": [],
   "source": [],
   "metadata": {
    "collapsed": false
   }
  }
 ],
 "metadata": {
  "kernelspec": {
   "display_name": "Python 3",
   "language": "python",
   "name": "python3"
  },
  "language_info": {
   "codemirror_mode": {
    "name": "ipython",
    "version": 2
   },
   "file_extension": ".py",
   "mimetype": "text/x-python",
   "name": "python",
   "nbconvert_exporter": "python",
   "pygments_lexer": "ipython2",
   "version": "2.7.6"
  }
 },
 "nbformat": 4,
 "nbformat_minor": 0
}
