{
 "cells": [
  {
   "cell_type": "code",
   "execution_count": 1,
   "outputs": [],
   "source": [
    "a = '912827ZE 8/15/1990 912827ZN 11/15/1990 912810CT 1/12/1981 9128IOCU 4/2/1981 912810CW 7/2/1981 912810CX 10/7/1981 912810CZ 1/6/1982 91282774 S/15/1992 912827G5R/15/1992 912810DA 9/29/1982 912810DC 1/4/1983 912810DD 4/4/1983 912810DE 7/5/1983 912810DG 10/5/1983 912827N8 2/15/1994 912810DH 4/5/1984 912810DK 7/10/1984 912810DM 10/30/1984 91282758 2/15/1995 912810DQ4/2/1985 912810DR 7/2/1985 912827V8 11/15/1995 912810DU 1/15/1986 912827X8 5/15/1996 912827Y5 7/15/1996 91282726 10/15/1996 912827212/15/1997 9128272U 5/15/1997 9128273E 8/15/1997 9128273X 2/15/1998 9128274F S/15/1998 9128274V 11/16/1998 9128275G 5/17/1999 Maturity Date 8/15/2000 11/15/2000 2/15/2001 5/15/2001 8/15/2001 11/15/2001 2/15/2002 5/15/2002 8/15/2002 11/15/2002 2/15/2003 5/15/2003 8/15/2003 11/15/2003 2/15/2004 5/15/2004 8/15/2004 11/15/2004 2/15/2005 5/15/2005 8/15/2005 11/15/2005 2/15/2006 5/15/2006 8/15/2006 11/15/2006 2/15/2007 5/15/2007 8/15/2007 11/15/2007 5/15/2008 11/15/2008 5/15/2009 Name NOTE NOTE BOND BOND BOND BOND BOND NOTE NOTE BOND BOND BOND BOND BOND NOTE BOND BOND BOND NOTE BOND BOND NOTE BOND NOTE NOTE NOTE NOTE NOTE NOTE NOTE NOTE NOTE NOTE Coupon 8.750% 8.500% 11.750% 13.125% 13.375% 15.750% 14.250% 7.500% 6.375% 11.625% 10.750% 10.750% 11.125% 11.875% 5.875% 12.375% 13.750% 11.625% 7.500% 12.000% 10.750% 5.875% 9.375% 6.875% 7.000% 6.500 6.250% 6,625% 6.125% 5.500% 5.625% 4.750% 5.500% Bid Ask 100.5742 100.6055 100.8906 100.9219 103.8047 103.8359 105.9805 106.0117 107.6406 107.6719 112.3945 112.4258 111.9297 111.9609 101.2031 101.2444 99,0469 99.0781 110.6680 110.6992 109.5117 109.5430 110.3281 110.3594 112.1523 112.1836 115.3086 115.3398 97.1172 97.1484 118.8984 118.9297 124.9375 124.9688 118.2969 118.3281 102.8633 102.8945 121.6133 121.6445 117,0664 117.0977 95.9844 96.0156 112.0352 112.0664 100.6055 100.6367 101.2031 101.2344 98.750098.7813 97.4883 97.5195 99.5625 99.5938 96.7578 96.7891 93.1328 93.1641 93.7852 93.8164 87.9766 88.0078 92.824292.8555 '.split()"
   ],
   "metadata": {
    "collapsed": false
   }
  },
  {
   "cell_type": "code",
   "execution_count": 3,
   "outputs": [],
   "source": [
    "import pandas as pd\n",
    "import numpy as np"
   ],
   "metadata": {
    "collapsed": false
   }
  },
  {
   "cell_type": "code",
   "execution_count": 2,
   "metadata": {
    "collapsed": false
   },
   "outputs": [],
   "source": [
    "%matplotlib inline"
   ]
  },
  {
   "cell_type": "markdown",
   "metadata": {},
   "source": [
    "\n",
    "# Reinforcement Learning (DQN) Tutorial\n",
    "**Author**: [Adam Paszke](https://github.com/apaszke)\n",
    "            [Mark Towers](https://github.com/pseudo-rnd-thoughts)\n",
    "\n",
    "\n",
    "This tutorial shows how to use PyTorch to train a Deep Q Learning (DQN) agent\n",
    "on the CartPole-v1 task from [Gymnasium](https://www.gymnasium.farama.org)_.\n",
    "\n",
    "**Task**\n",
    "\n",
    "The agent has to decide between two actions - moving the cart left or\n",
    "right - so that the pole attached to it stays upright. You can find more\n",
    "information about the environment and other more challenging environments at\n",
    "[Gymnasium's website](https://gymnasium.farama.org/environments/classic_control/cart_pole/)_.\n",
    "\n",
    ".. figure:: /_static/img/cartpole.gif\n",
    "   :alt: cartpole\n",
    "\n",
    "   cartpole\n",
    "\n",
    "As the agent observes the current state of the environment and chooses\n",
    "an action, the environment *transitions* to a new state, and also\n",
    "returns a reward that indicates the consequences of the action. In this\n",
    "task, rewards are +1 for every incremental timestep and the environment\n",
    "terminates if the pole falls over too far or the cart moves more than 2.4\n",
    "units away from center. This means better performing scenarios will run\n",
    "for longer duration, accumulating larger return.\n",
    "\n",
    "The CartPole task is designed so that the inputs to the agent are 4 real\n",
    "values representing the environment state (position, velocity, etc.).\n",
    "We take these 4 inputs without any scaling and pass them through a \n",
    "small fully-connected network with 2 outputs, one for each action. \n",
    "The network is trained to predict the expected value for each action, \n",
    "given the input state. The action with the highest expected value is \n",
    "then chosen.\n",
    "\n",
    "\n",
    "**Packages**\n",
    "\n",
    "\n",
    "First, let's import needed packages. Firstly, we need\n",
    "[gymnasium](https://gymnasium.farama.org/)_ for the environment,\n",
    "installed by using `pip`. This is a fork of the original OpenAI\n",
    "Gym project and maintained by the same team since Gym v0.19.\n",
    "If you are running this in Google colab, run:\n"
   ]
  },
  {
   "cell_type": "code",
   "execution_count": 3,
   "metadata": {
    "collapsed": false
   },
   "outputs": [
    {
     "name": "stdout",
     "output_type": "stream",
     "text": [
      "Collecting gymnasium[classic_control]\n",
      "  Downloading gymnasium-0.27.1-py3-none-any.whl (883 kB)\n",
      "Requirement already satisfied: importlib-metadata>=4.8.0 in /Users/Roy/miniforge3/envs/tf_m1/lib/python3.9/site-packages (from gymnasium[classic_control]) (4.10.0)\n",
      "Collecting gymnasium-notices>=0.0.1\n",
      "  Downloading gymnasium_notices-0.0.1-py3-none-any.whl (2.8 kB)\n",
      "Collecting jax-jumpy>=0.2.0\n",
      "  Downloading jax_jumpy-0.2.0-py3-none-any.whl (11 kB)\n",
      "Requirement already satisfied: cloudpickle>=1.2.0 in /Users/Roy/miniforge3/envs/tf_m1/lib/python3.9/site-packages (from gymnasium[classic_control]) (2.0.0)\n",
      "Requirement already satisfied: numpy>=1.21.0 in /Users/Roy/miniforge3/envs/tf_m1/lib/python3.9/site-packages (from gymnasium[classic_control]) (1.23.4)\n",
      "Requirement already satisfied: typing-extensions>=4.3.0 in /Users/Roy/miniforge3/envs/tf_m1/lib/python3.9/site-packages (from gymnasium[classic_control]) (4.4.0)\n",
      "Collecting pygame==2.1.3.dev8\n",
      "  Downloading pygame-2.1.3.dev8-cp39-cp39-macosx_11_0_arm64.whl (12.0 MB)\n",
      "Requirement already satisfied: zipp>=0.5 in /Users/Roy/miniforge3/envs/tf_m1/lib/python3.9/site-packages (from importlib-metadata>=4.8.0->gymnasium[classic_control]) (3.6.0)\n",
      "Installing collected packages: jax-jumpy, gymnasium-notices, pygame, gymnasium\n",
      "Successfully installed gymnasium-0.27.1 gymnasium-notices-0.0.1 jax-jumpy-0.2.0 pygame-2.1.3.dev8\n"
     ]
    }
   ],
   "source": [
    "%%bash\n",
    "pip3 install gymnasium[classic_control]"
   ]
  },
  {
   "cell_type": "markdown",
   "metadata": {},
   "source": [
    "We'll also use the following from PyTorch:\n",
    "\n",
    "-  neural networks (``torch.nn``)\n",
    "-  optimization (``torch.optim``)\n",
    "-  automatic differentiation (``torch.autograd``)\n"
   ]
  },
  {
   "cell_type": "code",
   "execution_count": 4,
   "metadata": {
    "collapsed": false
   },
   "outputs": [],
   "source": [
    "import gymnasium as gym\n",
    "import math\n",
    "import random\n",
    "import matplotlib\n",
    "import matplotlib.pyplot as plt\n",
    "from collections import namedtuple, deque\n",
    "from itertools import count\n",
    "\n",
    "import torch\n",
    "import torch.nn as nn\n",
    "import torch.optim as optim\n",
    "import torch.nn.functional as F\n",
    "\n",
    "env = gym.make(\"CartPole-v1\")\n",
    "\n",
    "# set up matplotlib\n",
    "is_ipython = 'inline' in matplotlib.get_backend()\n",
    "if is_ipython:\n",
    "    from IPython import display\n",
    "\n",
    "plt.ion()\n",
    "\n",
    "# if gpu is to be used\n",
    "device = torch.device(\"cuda\" if torch.cuda.is_available() else \"cpu\")"
   ]
  },
  {
   "cell_type": "markdown",
   "metadata": {},
   "source": [
    "## Replay Memory\n",
    "\n",
    "We'll be using experience replay memory for training our DQN. It stores\n",
    "the transitions that the agent observes, allowing us to reuse this data\n",
    "later. By sampling from it randomly, the transitions that build up a\n",
    "batch are decorrelated. It has been shown that this greatly stabilizes\n",
    "and improves the DQN training procedure.\n",
    "\n",
    "For this, we're going to need two classses:\n",
    "\n",
    "-  ``Transition`` - a named tuple representing a single transition in\n",
    "   our environment. It essentially maps (state, action) pairs\n",
    "   to their (next_state, reward) result, with the state being the\n",
    "   screen difference image as described later on.\n",
    "-  ``ReplayMemory`` - a cyclic buffer of bounded size that holds the\n",
    "   transitions observed recently. It also implements a ``.sample()``\n",
    "   method for selecting a random batch of transitions for training.\n",
    "\n",
    "\n"
   ]
  },
  {
   "cell_type": "code",
   "execution_count": 5,
   "metadata": {
    "collapsed": false
   },
   "outputs": [],
   "source": [
    "Transition = namedtuple('Transition',\n",
    "                        ('state', 'action', 'next_state', 'reward'))\n",
    "\n",
    "\n",
    "class ReplayMemory(object):\n",
    "\n",
    "    def __init__(self, capacity):\n",
    "        self.memory = deque([], maxlen=capacity)\n",
    "\n",
    "    def push(self, *args):\n",
    "        \"\"\"Save a transition\"\"\"\n",
    "        self.memory.append(Transition(*args))\n",
    "\n",
    "    def sample(self, batch_size):\n",
    "        return random.sample(self.memory, batch_size)\n",
    "\n",
    "    def __len__(self):\n",
    "        return len(self.memory)"
   ]
  },
  {
   "cell_type": "markdown",
   "metadata": {},
   "source": [
    "Now, let's define our model. But first, let's quickly recap what a DQN is.\n",
    "\n",
    "## DQN algorithm\n",
    "\n",
    "Our environment is deterministic, so all equations presented here are\n",
    "also formulated deterministically for the sake of simplicity. In the\n",
    "reinforcement learning literature, they would also contain expectations\n",
    "over stochastic transitions in the environment.\n",
    "\n",
    "Our aim will be to train a policy that tries to maximize the discounted,\n",
    "cumulative reward\n",
    "$R_{t_0} = \\sum_{t=t_0}^{\\infty} \\gamma^{t - t_0} r_t$, where\n",
    "$R_{t_0}$ is also known as the *return*. The discount,\n",
    "$\\gamma$, should be a constant between $0$ and $1$\n",
    "that ensures the sum converges. A lower $\\gamma$ makes \n",
    "rewards from the uncertain far future less important for our agent \n",
    "than the ones in the near future that it can be fairly confident \n",
    "about. It also encourages agents to collect reward closer in time \n",
    "than equivalent rewards that are temporally far away in the future.\n",
    "\n",
    "The main idea behind Q-learning is that if we had a function\n",
    "$Q^*: State \\times Action \\rightarrow \\mathbb{R}$, that could tell\n",
    "us what our return would be, if we were to take an action in a given\n",
    "state, then we could easily construct a policy that maximizes our\n",
    "rewards:\n",
    "\n",
    "\\begin{align}\\pi^*(s) = \\arg\\!\\max_a \\ Q^*(s, a)\\end{align}\n",
    "\n",
    "However, we don't know everything about the world, so we don't have\n",
    "access to $Q^*$. But, since neural networks are universal function\n",
    "approximators, we can simply create one and train it to resemble\n",
    "$Q^*$.\n",
    "\n",
    "For our training update rule, we'll use a fact that every $Q$\n",
    "function for some policy obeys the Bellman equation:\n",
    "\n",
    "\\begin{align}Q^{\\pi}(s, a) = r + \\gamma Q^{\\pi}(s', \\pi(s'))\\end{align}\n",
    "\n",
    "The difference between the two sides of the equality is known as the\n",
    "temporal difference error, $\\delta$:\n",
    "\n",
    "\\begin{align}\\delta = Q(s, a) - (r + \\gamma \\max_a' Q(s', a))\\end{align}\n",
    "\n",
    "To minimise this error, we will use the [Huber\n",
    "loss](https://en.wikipedia.org/wiki/Huber_loss)_. The Huber loss acts\n",
    "like the mean squared error when the error is small, but like the mean\n",
    "absolute error when the error is large - this makes it more robust to\n",
    "outliers when the estimates of $Q$ are very noisy. We calculate\n",
    "this over a batch of transitions, $B$, sampled from the replay\n",
    "memory:\n",
    "\n",
    "\\begin{align}\\mathcal{L} = \\frac{1}{|B|}\\sum_{(s, a, s', r) \\ \\in \\ B} \\mathcal{L}(\\delta)\\end{align}\n",
    "\n",
    "\\begin{align}\\text{where} \\quad \\mathcal{L}(\\delta) = \\begin{cases}\n",
    "     \\frac{1}{2}{\\delta^2}  & \\text{for } |\\delta| \\le 1, \\\\\n",
    "     |\\delta| - \\frac{1}{2} & \\text{otherwise.}\n",
    "   \\end{cases}\\end{align}\n",
    "\n",
    "### Q-network\n",
    "\n",
    "Our model will be a convolutional neural network that takes in the\n",
    "difference between the current and previous screen patches. It has two\n",
    "outputs, representing $Q(s, \\mathrm{left})$ and\n",
    "$Q(s, \\mathrm{right})$ (where $s$ is the input to the\n",
    "network). In effect, the network is trying to predict the *expected return* of\n",
    "taking each action given the current input.\n",
    "\n",
    "\n"
   ]
  },
  {
   "cell_type": "code",
   "execution_count": 6,
   "metadata": {
    "collapsed": false
   },
   "outputs": [],
   "source": [
    "class DQN(nn.Module):\n",
    "\n",
    "    def __init__(self, n_observations, n_actions):\n",
    "        super(DQN, self).__init__()\n",
    "        self.layer1 = nn.Linear(n_observations, 128)\n",
    "        self.layer2 = nn.Linear(128, 128)\n",
    "        self.layer3 = nn.Linear(128, n_actions)\n",
    "\n",
    "    # Called with either one element to determine next action, or a batch\n",
    "    # during optimization. Returns tensor([[left0exp,right0exp]...]).\n",
    "    def forward(self, x):\n",
    "        x = F.relu(self.layer1(x))\n",
    "        x = F.relu(self.layer2(x))\n",
    "        return self.layer3(x)"
   ]
  },
  {
   "cell_type": "markdown",
   "metadata": {},
   "source": [
    "## Training\n",
    "\n",
    "### Hyperparameters and utilities\n",
    "This cell instantiates our model and its optimizer, and defines some\n",
    "utilities:\n",
    "\n",
    "-  ``select_action`` - will select an action accordingly to an epsilon\n",
    "   greedy policy. Simply put, we'll sometimes use our model for choosing\n",
    "   the action, and sometimes we'll just sample one uniformly. The\n",
    "   probability of choosing a random action will start at ``EPS_START``\n",
    "   and will decay exponentially towards ``EPS_END``. ``EPS_DECAY``\n",
    "   controls the rate of the decay.\n",
    "-  ``plot_durations`` - a helper for plotting the durations of episodes,\n",
    "   along with an average over the last 100 episodes (the measure used in\n",
    "   the official evaluations). The plot will be underneath the cell\n",
    "   containing the main training loop, and will update after every\n",
    "   episode.\n",
    "\n",
    "\n"
   ]
  },
  {
   "cell_type": "code",
   "execution_count": 36,
   "outputs": [],
   "source": [
    "state, info = env.reset()\n",
    "state = torch.tensor(state, dtype=torch.float32, device=device).unsqueeze(0)"
   ],
   "metadata": {
    "collapsed": false
   }
  },
  {
   "cell_type": "code",
   "execution_count": 37,
   "outputs": [
    {
     "data": {
      "text/plain": "tensor([[ 0.0068,  0.0095,  0.0458, -0.0052]])"
     },
     "execution_count": 37,
     "metadata": {},
     "output_type": "execute_result"
    }
   ],
   "source": [
    "state"
   ],
   "metadata": {
    "collapsed": false
   }
  },
  {
   "cell_type": "code",
   "execution_count": 7,
   "metadata": {
    "collapsed": false
   },
   "outputs": [],
   "source": [
    "# BATCH_SIZE is the number of transitions sampled from the replay buffer\n",
    "# GAMMA is the discount factor as mentioned in the previous section\n",
    "# EPS_START is the starting value of epsilon\n",
    "# EPS_END is the final value of epsilon\n",
    "# EPS_DECAY controls the rate of exponential decay of epsilon, higher means a slower decay\n",
    "# TAU is the update rate of the target network\n",
    "# LR is the learning rate of the AdamW optimizer\n",
    "BATCH_SIZE = 128\n",
    "GAMMA = 0.99\n",
    "EPS_START = 0.9\n",
    "EPS_END = 0.05\n",
    "EPS_DECAY = 1000\n",
    "TAU = 0.005\n",
    "LR = 1e-4\n",
    "\n",
    "# Get number of actions from gym action space\n",
    "n_actions = env.action_space.n\n",
    "# Get the number of state observations\n",
    "state, info = env.reset()\n",
    "n_observations = len(state)\n",
    "\n",
    "policy_net = DQN(n_observations, n_actions).to(device)\n",
    "target_net = DQN(n_observations, n_actions).to(device)\n",
    "target_net.load_state_dict(policy_net.state_dict())\n",
    "\n",
    "optimizer = optim.AdamW(policy_net.parameters(), lr=LR, amsgrad=True)\n",
    "memory = ReplayMemory(10000)\n",
    "\n",
    "\n",
    "steps_done = 0\n",
    "\n",
    "\n",
    "def select_action(state):\n",
    "    \"\"\"\n",
    "    Either sample randomly and pick largest Q value or randomly sample from Memory\n",
    "    :param state:\n",
    "    :return:\n",
    "    \"\"\"\n",
    "    global steps_done\n",
    "    sample = random.random()\n",
    "    eps_threshold = EPS_END + (EPS_START - EPS_END) * \\\n",
    "        math.exp(-1. * steps_done / EPS_DECAY)\n",
    "    steps_done += 1\n",
    "    if sample > eps_threshold:\n",
    "        with torch.no_grad():\n",
    "            # t.max(1) will return the largest column value of each row.\n",
    "            # second column on max result is index of where max element was\n",
    "            # found, so we pick action with the larger expected reward.\n",
    "            return policy_net(state).max(1)[1].view(1, 1)\n",
    "    else:\n",
    "        return torch.tensor([[env.action_space.sample()]], device=device, dtype=torch.long)\n",
    "\n",
    "\n",
    "episode_durations = []\n",
    "\n",
    "\n",
    "def plot_durations(show_result=False):\n",
    "    plt.figure(1)\n",
    "    durations_t = torch.tensor(episode_durations, dtype=torch.float)\n",
    "    if show_result:\n",
    "        plt.title('Result')\n",
    "    else:\n",
    "        plt.clf()\n",
    "        plt.title('Training...')\n",
    "    plt.xlabel('Episode')\n",
    "    plt.ylabel('Duration')\n",
    "    plt.plot(durations_t.numpy())\n",
    "    # Take 100 episode averages and plot them too\n",
    "    if len(durations_t) >= 100:\n",
    "        means = durations_t.unfold(0, 100, 1).mean(1).view(-1)\n",
    "        means = torch.cat((torch.zeros(99), means))\n",
    "        plt.plot(means.numpy())\n",
    "\n",
    "    plt.pause(0.001)  # pause a bit so that plots are updated\n",
    "    if is_ipython:\n",
    "        if not show_result:\n",
    "            display.display(plt.gcf())\n",
    "            display.clear_output(wait=True)\n",
    "        else:\n",
    "            display.display(plt.gcf())"
   ]
  },
  {
   "cell_type": "markdown",
   "metadata": {},
   "source": [
    "### Training loop\n",
    "\n",
    "Finally, the code for training our model.\n",
    "\n",
    "Here, you can find an ``optimize_model`` function that performs a\n",
    "single step of the optimization. It first samples a batch, concatenates\n",
    "all the tensors into a single one, computes $Q(s_t, a_t)$ and\n",
    "$V(s_{t+1}) = \\max_a Q(s_{t+1}, a)$, and combines them into our\n",
    "loss. By definition we set $V(s) = 0$ if $s$ is a terminal\n",
    "state. We also use a target network to compute $V(s_{t+1})$ for\n",
    "added stability. The target network is updated at every step with a \n",
    "[soft update](https://arxiv.org/pdf/1509.02971.pdf)_ controlled by \n",
    "the hyperparameter ``TAU``, which was previously defined.\n",
    "\n",
    "\n"
   ]
  },
  {
   "cell_type": "code",
   "execution_count": 49,
   "outputs": [],
   "source": [
    "transitions = memory.sample(BATCH_SIZE)\n",
    "batch = Transition(*zip(*transitions))"
   ],
   "metadata": {
    "collapsed": false
   }
  },
  {
   "cell_type": "code",
   "execution_count": 53,
   "outputs": [],
   "source": [
    "non_final_mask = torch.tensor(tuple(map(lambda s: s is not None,\n",
    "                                        batch.next_state)), device=device, dtype=torch.bool)\n",
    "non_final_next_states = torch.cat([s for s in batch.next_state\n",
    "                                   if s is not None])"
   ],
   "metadata": {
    "collapsed": false
   }
  },
  {
   "cell_type": "code",
   "execution_count": 59,
   "outputs": [],
   "source": [
    "state_batch = torch.cat(batch.state)\n",
    "action_batch = torch.cat(batch.action)\n",
    "reward_batch = torch.cat(batch.reward)"
   ],
   "metadata": {
    "collapsed": false
   }
  },
  {
   "cell_type": "code",
   "execution_count": 65,
   "outputs": [
    {
     "data": {
      "text/plain": "tensor([[ 9.6752e-02,  6.9763e-01,  7.7375e-02, -1.0069e-01],\n        [ 5.8388e-02,  6.0005e-01, -1.7390e-01, -1.0935e+00],\n        [-2.9330e-02,  1.8613e-01,  1.9142e-02, -3.3220e-01],\n        [ 2.9000e-02,  6.4171e-03,  8.6685e-03,  1.6247e-02],\n        [-3.8668e-02, -5.7402e-01,  1.2948e-01,  1.0549e+00],\n        [ 3.0812e-02,  5.8126e-01, -9.3078e-02, -9.3814e-01],\n        [ 1.3673e-01,  8.0528e-01, -2.0705e-01, -1.5805e+00],\n        [-4.7404e-02, -1.1496e+00,  1.6698e-01,  1.9457e+00],\n        [-1.9922e-03, -5.6061e-01,  8.9500e-02,  9.7011e-01],\n        [-7.0118e-02, -7.4966e-01,  1.4041e-01,  1.3260e+00],\n        [ 7.2843e-02,  9.8777e-01, -1.0154e-01, -1.5755e+00],\n        [ 5.0208e-02,  7.7937e-01, -1.9061e-01, -1.5302e+00],\n        [-6.9369e-02,  7.3321e-01,  1.2251e-01, -6.6800e-01],\n        [ 2.5352e-02,  6.1645e-03,  1.5227e-02,  2.1819e-02],\n        [ 4.6407e-02,  1.1913e+00, -8.3700e-02, -1.7910e+00],\n        [ 2.9708e-02, -2.1924e-01, -4.8004e-02,  2.4999e-01],\n        [-1.0994e-01, -7.5009e-01,  1.5798e-01,  1.3803e+00],\n        [ 1.2323e-02,  3.5430e-02, -2.8844e-02,  2.7894e-02],\n        [ 3.4855e-02, -3.9817e-02,  1.2777e-02,  5.0129e-02],\n        [ 3.2987e-02,  1.6901e-01,  4.2051e-02, -5.7111e-02],\n        [ 6.2656e-02,  2.0817e-01, -1.2283e-01, -4.2110e-01],\n        [-4.7611e-03,  5.9281e-01, -1.8868e-02, -8.7993e-01],\n        [ 5.4256e-03,  8.1919e-01, -6.3985e-02, -1.1721e+00],\n        [ 3.1798e-02,  2.3746e-01, -9.4253e-03, -3.0131e-01],\n        [ 1.0210e-02,  4.3908e-01, -7.4032e-03, -6.1592e-01],\n        [ 9.0333e-02,  8.3335e-01, -1.2502e-01, -1.2983e+00],\n        [-8.8622e-02, -1.0132e+00,  1.8220e-01,  1.6612e+00],\n        [ 5.1659e-02,  4.0039e-01, -4.7493e-02, -6.4366e-01],\n        [-8.4385e-02,  3.3754e-01,  1.4398e-01, -1.8193e-01],\n        [-3.8227e-02,  3.6170e-02, -2.7108e-02,  3.4191e-02],\n        [-2.0460e-03, -3.0768e-02,  4.8413e-02,  2.3479e-02],\n        [-1.4646e-02,  1.8254e-01, -5.8230e-02, -3.7615e-01],\n        [-8.1717e-02, -5.7799e-02,  1.4317e-01,  3.6087e-01],\n        [-7.4339e-02, -1.0101e+00,  1.1415e-01,  1.5049e+00],\n        [ 4.3435e-02,  5.4052e-01, -7.8148e-02, -9.2301e-01],\n        [ 8.9451e-03, -1.9577e-01,  2.7986e-02,  2.8844e-01],\n        [-2.1888e-02,  6.0492e-01,  1.6761e-02, -8.8805e-01],\n        [ 2.1399e-02, -1.5558e-01, -3.5484e-02,  2.2998e-01],\n        [ 7.9764e-02,  6.3118e-01, -1.7486e-01, -1.0490e+00],\n        [-1.3204e-02, -7.5682e-01,  1.0890e-01,  1.2895e+00],\n        [ 2.5323e-02, -4.1364e-01, -4.3004e-02,  5.2716e-01],\n        [-2.9136e-02,  1.8040e-01, -3.0666e-02, -3.2848e-01],\n        [ 1.2586e-02, -3.2707e-03, -9.7355e-03,  2.5004e-02],\n        [ 3.7580e-02,  2.3846e-01, -2.4285e-02, -3.5864e-01],\n        [ 3.7086e-02,  4.0020e-01, -4.4483e-02, -6.4342e-01],\n        [-2.5844e-02, -1.1436e+00,  9.2173e-02,  1.7888e+00],\n        [ 8.6944e-02,  7.9818e-01, -1.6786e-01, -1.4155e+00],\n        [-3.6294e-02, -4.3600e-02, -1.6778e-02, -1.9519e-02],\n        [ 5.1002e-03, -1.3047e-03,  7.1491e-03, -3.0260e-02],\n        [-2.8341e-02, -9.5314e-01,  1.3469e-01,  1.6142e+00],\n        [ 1.2130e-01,  1.0325e+00, -1.6963e-01, -1.6209e+00],\n        [ 3.6368e-02, -2.6684e-02,  4.0909e-02,  2.4854e-01],\n        [-1.5601e-02,  4.2786e-01, -3.5455e-02, -5.6143e-01],\n        [ 2.1246e-02, -4.2185e-01,  9.3046e-02,  9.4571e-01],\n        [ 2.7053e-02,  2.4544e-01, -3.3949e-02, -2.8626e-01],\n        [ 3.1546e-02, -4.2949e-01, -1.9553e-02,  5.3364e-01],\n        [ 1.0304e-01,  1.3857e+00, -1.3515e-01, -2.1171e+00],\n        [ 7.7850e-02,  9.5965e-01, -1.3566e-01, -1.5450e+00],\n        [ 3.1571e-01,  1.2777e+00, -2.5318e-02, -8.6073e-01],\n        [-7.9746e-04, -4.6770e-02, -9.1094e-04, -2.2282e-04],\n        [ 7.7901e-03, -6.1940e-01, -7.8981e-03,  8.7203e-01],\n        [ 1.2156e-01,  4.0160e-01, -1.5972e-01, -8.1622e-01],\n        [ 2.7564e-03,  9.7622e-01, -3.6360e-02, -1.4844e+00],\n        [ 1.1521e-01,  1.3521e+00, -2.0941e-01, -2.2643e+00],\n        [ 4.3223e-02, -1.5097e-01, -3.2932e-02,  2.0888e-01],\n        [-3.0578e-02,  1.8785e-01,  1.0695e-03, -2.7960e-01],\n        [ 1.0298e-02, -3.8457e-01,  4.0213e-03,  5.5074e-01],\n        [-7.8298e-02, -6.2229e-01,  1.1556e-01,  9.4093e-01],\n        [ 9.3967e-03, -2.1984e-02, -3.4729e-02,  6.7054e-03],\n        [ 4.6751e-02,  6.3788e-01, -5.8239e-02, -9.2115e-01],\n        [-1.9942e-02,  1.9103e-01,  5.8894e-03, -2.8456e-01],\n        [-9.8871e-02, -5.5344e-01,  1.3703e-01,  1.0479e+00],\n        [ 4.5716e-02,  1.3676e+00, -1.0181e-01, -2.1007e+00],\n        [ 1.3032e-02,  2.3095e-01, -2.8286e-02, -2.7375e-01],\n        [ 7.2464e-04,  7.0681e-01,  1.2057e-01, -3.0503e-01],\n        [ 3.1736e-02,  1.9412e-01, -3.7623e-02, -3.1799e-01],\n        [ 1.3609e-01,  1.3743e+00, -1.4025e-01, -2.0930e+00],\n        [-1.2991e-02, -1.5305e-01,  8.0910e-03,  2.5472e-01],\n        [ 4.8618e-03,  7.7138e-01, -3.6808e-02, -1.2080e+00],\n        [ 9.9172e-03,  1.7398e-02,  4.1741e-02,  3.5987e-02],\n        [ 2.9351e-02,  4.3229e-01, -4.9723e-02, -7.0418e-01],\n        [ 5.7987e-02,  9.7387e-01, -1.3701e-01, -1.5841e+00],\n        [ 4.2715e-02,  5.9541e-01, -9.0470e-02, -9.4042e-01],\n        [ 1.4704e-01,  1.0224e+00, -1.4767e-01, -1.5519e+00],\n        [-3.9371e-02, -6.0782e-01,  4.2933e-02,  7.9896e-01],\n        [ 6.8978e-02,  9.3283e-01, -1.2139e-01, -1.5605e+00],\n        [-1.7170e-02,  3.7432e-02, -1.0653e-02,  3.9987e-02],\n        [-2.4618e-02, -2.1075e-01, -3.5682e-02,  2.7727e-01],\n        [-2.7482e-02,  3.7837e-02, -3.7121e-02, -2.6084e-03],\n        [ 4.5090e-02,  5.9591e-01, -5.7351e-02, -9.4977e-01],\n        [-4.7696e-03, -1.5832e-01,  2.7312e-02,  3.0550e-01],\n        [ 5.2224e-02,  6.2955e-01, -1.5485e-01, -1.0314e+00],\n        [ 6.7037e-02,  1.0201e+00, -1.1053e-01, -1.6419e+00],\n        [-8.3421e-02, -5.3875e-02,  1.3717e-01,  2.7327e-01],\n        [ 3.9834e-02,  2.8391e-02, -1.2847e-02,  7.5719e-04],\n        [ 4.2143e-02, -3.6250e-01,  1.5132e-02,  6.0828e-01],\n        [ 3.0204e-02, -2.4825e-02, -4.7457e-02, -2.7345e-02],\n        [ 1.7224e-02, -3.1430e-02, -9.6988e-03, -3.4502e-02],\n        [ 4.8876e-03, -8.0279e-01, -1.6341e-02,  1.0883e+00],\n        [ 1.4786e-01,  8.1845e-01, -1.1017e-01, -1.2643e+00],\n        [ 3.7908e-02,  4.4215e-01, -4.5952e-02, -6.1436e-01],\n        [-9.0286e-03, -1.9857e-01, -1.0605e-02,  2.8657e-01],\n        [-6.8893e-03, -9.4773e-01,  6.2630e-02,  1.4772e+00],\n        [ 2.2956e-02, -2.3409e-01, -8.8800e-03,  2.3486e-01],\n        [-1.2470e-02,  1.9101e-01, -5.0520e-03, -2.8418e-01],\n        [-1.3372e-02, -1.8812e-01, -2.5759e-02,  2.9565e-01],\n        [ 3.1962e-02,  5.0817e-02, -3.9674e-02, -4.4726e-03],\n        [ 9.0798e-03,  2.1105e-01,  6.4293e-02, -1.7968e-01],\n        [-5.4704e-02,  9.2644e-01,  1.0915e-01, -9.1974e-01],\n        [ 3.7039e-02, -3.9951e-02, -2.3803e-02, -3.6283e-02],\n        [-2.4295e-02, -1.6159e-02, -3.5603e-02, -3.9669e-03],\n        [-8.0172e-02,  5.4016e-01,  1.3089e-01, -4.1928e-01],\n        [ 1.8274e-02, -3.8847e-02, -4.1827e-03, -6.0607e-02],\n        [ 2.7904e-02,  1.9315e-01, -3.1420e-02, -2.9637e-01],\n        [ 5.7071e-02,  1.0902e+00,  1.0059e-01, -7.4169e-01],\n        [ 7.9249e-02,  1.1896e+00, -9.9245e-02, -1.7953e+00],\n        [ 1.3860e-02,  5.8571e-01, -5.3868e-02, -9.6870e-01],\n        [ 1.0397e-01,  6.3332e-01, -1.7108e-01, -1.1409e+00],\n        [-4.5700e-02, -6.1794e-01,  7.3033e-02,  8.7059e-01],\n        [ 3.9576e-02,  3.9943e-01, -2.8283e-02, -6.2206e-01],\n        [ 1.1789e-01,  2.0730e-01, -3.9685e-02, -9.6495e-02],\n        [-1.6052e-02, -3.4829e-01,  1.3185e-02,  5.4994e-01],\n        [ 1.6474e-02, -5.5881e-01,  5.7845e-02,  9.2834e-01],\n        [ 2.4414e-02,  5.8426e-01, -2.6013e-02, -9.1276e-01],\n        [ 7.0390e-02,  7.9699e-01, -1.9578e-01, -1.4354e+00],\n        [ 3.1111e-02,  7.6067e-01, -7.0637e-02, -1.2140e+00],\n        [-1.9572e-02, -3.5252e-01, -3.2672e-03,  6.1885e-01],\n        [ 9.8567e-02,  1.1736e+00, -1.4355e-01, -1.8926e+00]])"
     },
     "execution_count": 65,
     "metadata": {},
     "output_type": "execute_result"
    }
   ],
   "source": [
    "state_batch"
   ],
   "metadata": {
    "collapsed": false
   }
  },
  {
   "cell_type": "code",
   "execution_count": 66,
   "outputs": [
    {
     "data": {
      "text/plain": "tensor([3.3617, 2.7436, 3.0435, 3.2364, 4.2178, 2.9475, 4.9375, 4.1430, 4.4390,\n        2.8567, 3.3525, 3.2436, 2.6558, 3.4540, 4.4928, 2.9901, 2.9662, 3.1814,\n        3.0060, 3.0915, 3.1468, 3.0585, 3.1642, 2.7243, 3.0937, 3.1836, 3.0117,\n        3.2635, 3.0363, 3.1626, 4.5737, 2.9302, 3.0448, 3.0599, 3.0144, 2.7906,\n        4.3994, 3.7422, 3.0341, 2.9772, 3.0060, 3.1021, 4.8045, 2.5900, 2.9710,\n        2.9658, 4.6592, 2.7612, 3.4444, 3.1747, 3.5675, 3.0450, 3.1793, 2.6127,\n        2.6176, 3.3339, 2.9604, 3.5086, 2.8994, 2.8022, 2.9978, 3.0490, 3.2030,\n        3.6206, 2.9661, 3.0186, 3.0575, 4.2200, 2.6873, 3.0621, 3.2345, 3.0340,\n        2.5177, 3.4718, 3.1100, 3.2663, 3.0844, 2.6148, 3.0257, 2.8147, 4.0245,\n        2.6041, 3.2659, 3.0445, 2.9983, 2.9576, 3.5205, 2.8405, 2.8167, 3.1144,\n        3.2142, 3.8104, 3.1899, 3.1974, 3.7392, 2.7076, 3.1453, 3.0469, 4.5532,\n        3.0040, 3.0541, 3.0533, 2.9780, 3.0416, 3.2552, 3.1866, 3.2288, 3.2739,\n        3.1777, 3.0316, 3.3611, 2.6199, 3.0313, 2.9231, 4.0779, 2.9522, 3.0198,\n        3.7767, 3.5602, 3.0222, 3.0702, 3.2656, 2.6506],\n       grad_fn=<MaxBackward0>)"
     },
     "execution_count": 66,
     "metadata": {},
     "output_type": "execute_result"
    }
   ],
   "source": [
    "target_net(non_final_next_states).max(1)[0]"
   ],
   "metadata": {
    "collapsed": false
   }
  },
  {
   "cell_type": "code",
   "execution_count": 75,
   "outputs": [],
   "source": [
    "?optimizer.zero_grad"
   ],
   "metadata": {
    "collapsed": false
   }
  },
  {
   "cell_type": "code",
   "execution_count": 8,
   "metadata": {
    "collapsed": false
   },
   "outputs": [],
   "source": [
    "def optimize_model():\n",
    "    if len(memory) < BATCH_SIZE:\n",
    "        return\n",
    "    transitions = memory.sample(BATCH_SIZE)\n",
    "    # Transpose the batch (see https://stackoverflow.com/a/19343/3343043 for\n",
    "    # detailed explanation). This converts batch-array of Transitions\n",
    "    # to Transition of batch-arrays.\n",
    "    batch = Transition(*zip(*transitions))\n",
    "\n",
    "    # Compute a mask of non-final states and concatenate the batch elements\n",
    "    # (a final state would've been the one after which simulation ended)\n",
    "    non_final_mask = torch.tensor(tuple(map(lambda s: s is not None,\n",
    "                                          batch.next_state)), device=device, dtype=torch.bool)\n",
    "    non_final_next_states = torch.cat([s for s in batch.next_state\n",
    "                                                if s is not None])\n",
    "    state_batch = torch.cat(batch.state)\n",
    "    action_batch = torch.cat(batch.action)\n",
    "    reward_batch = torch.cat(batch.reward)\n",
    "\n",
    "    # Compute Q(s_t, a) - the model computes Q(s_t), then we select the\n",
    "    # columns of actions taken. These are the actions which would've been taken\n",
    "    # for each batch state according to policy_net\n",
    "    state_action_values = policy_net(state_batch).gather(1, action_batch)\n",
    "\n",
    "    # Compute V(s_{t+1}) for all next states.\n",
    "    # Expected values of actions for non_final_next_states are computed based\n",
    "    # on the \"older\" target_net; selecting their best reward with max(1)[0].\n",
    "    # This is merged based on the mask, such that we'll have either the expected\n",
    "    # state value or 0 in case the state was final.\n",
    "    next_state_values = torch.zeros(BATCH_SIZE, device=device)\n",
    "    with torch.no_grad():\n",
    "        next_state_values[non_final_mask] = target_net(non_final_next_states).max(1)[0]\n",
    "    # Compute the expected Q values\n",
    "    expected_state_action_values = (next_state_values * GAMMA) + reward_batch\n",
    "\n",
    "    # Compute Huber loss\n",
    "    criterion = nn.SmoothL1Loss()\n",
    "    loss = criterion(state_action_values, expected_state_action_values.unsqueeze(1))\n",
    "\n",
    "    # Optimize the model\n",
    "    optimizer.zero_grad()\n",
    "    loss.backward()\n",
    "    # In-place gradient clipping\n",
    "    torch.nn.utils.clip_grad_value_(policy_net.parameters(), 100)\n",
    "    optimizer.step()"
   ]
  },
  {
   "cell_type": "code",
   "execution_count": 77,
   "outputs": [],
   "source": [
    "optimizer.step?"
   ],
   "metadata": {
    "collapsed": false
   }
  },
  {
   "cell_type": "markdown",
   "metadata": {},
   "source": [
    "Below, you can find the main training loop. At the beginning we reset\n",
    "the environment and obtain the initial ``state`` Tensor. Then, we sample\n",
    "an action, execute it, observe the next state and the reward (always\n",
    "1), and optimize our model once. When the episode ends (our model\n",
    "fails), we restart the loop.\n",
    "\n",
    "Below, `num_episodes` is set to 600 if a GPU is available, otherwise 50 \n",
    "episodes are scheduled so training does not take too long. However, 50 \n",
    "episodes is insufficient for to observe good performance on cartpole.\n",
    "You should see the model constantly achieve 500 steps within 600 training \n",
    "episodes. Training RL agents can be a noisy process, so restarting training\n",
    "can produce better results if convergence is not observed.\n",
    "\n",
    "\n"
   ]
  },
  {
   "cell_type": "code",
   "execution_count": 9,
   "metadata": {
    "collapsed": false
   },
   "outputs": [
    {
     "name": "stdout",
     "output_type": "stream",
     "text": [
      "Complete\n"
     ]
    },
    {
     "data": {
      "text/plain": "<Figure size 432x288 with 1 Axes>",
      "image/png": "[encoded data removed]"
     },
     "metadata": {
      "needs_background": "light"
     },
     "output_type": "display_data"
    },
    {
     "data": {
      "text/plain": "<Figure size 432x288 with 0 Axes>"
     },
     "metadata": {},
     "output_type": "display_data"
    },
    {
     "data": {
      "text/plain": "<Figure size 432x288 with 0 Axes>"
     },
     "metadata": {},
     "output_type": "display_data"
    }
   ],
   "source": [
    "if torch.cuda.is_available():\n",
    "    num_episodes = 600\n",
    "else:\n",
    "    num_episodes = 50\n",
    "\n",
    "for i_episode in range(num_episodes):\n",
    "    # Initialize the environment and get it's state\n",
    "    state, info = env.reset()\n",
    "    state = torch.tensor(state, dtype=torch.float32, device=device).unsqueeze(0)\n",
    "    for t in count():\n",
    "        action = select_action(state)\n",
    "        observation, reward, terminated, truncated, _ = env.step(action.item())\n",
    "        reward = torch.tensor([reward], device=device)\n",
    "        done = terminated or truncated\n",
    "\n",
    "        if terminated:\n",
    "            next_state = None\n",
    "        else:\n",
    "            next_state = torch.tensor(observation, dtype=torch.float32, device=device).unsqueeze(0)\n",
    "\n",
    "        # Store the transition in memory\n",
    "        memory.push(state, action, next_state, reward)\n",
    "\n",
    "        # Move to the next state\n",
    "        state = next_state\n",
    "\n",
    "        # Perform one step of the optimization (on the policy network)\n",
    "        optimize_model()\n",
    "\n",
    "        # Soft update of the target network's weights\n",
    "        # θ′ ← τ θ + (1 −τ )θ′\n",
    "        target_net_state_dict = target_net.state_dict()\n",
    "        policy_net_state_dict = policy_net.state_dict()\n",
    "        for key in policy_net_state_dict:\n",
    "            target_net_state_dict[key] = policy_net_state_dict[key]*TAU + target_net_state_dict[key]*(1-TAU)\n",
    "        target_net.load_state_dict(target_net_state_dict)\n",
    "\n",
    "        if done:\n",
    "            episode_durations.append(t + 1)\n",
    "            plot_durations()\n",
    "            break\n",
    "\n",
    "print('Complete')\n",
    "plot_durations(show_result=True)\n",
    "plt.ioff()\n",
    "plt.show()"
   ]
  },
  {
   "cell_type": "markdown",
   "metadata": {},
   "source": [
    "Here is the diagram that illustrates the overall resulting data flow.\n",
    "\n",
    ".. figure:: /_static/img/reinforcement_learning_diagram.jpg\n",
    "\n",
    "Actions are chosen either randomly or based on a policy, getting the next\n",
    "step sample from the gym environment. We record the results in the\n",
    "replay memory and also run optimization step on every iteration.\n",
    "Optimization picks a random batch from the replay memory to do training of the\n",
    "new policy. The \"older\" target_net is also used in optimization to compute the\n",
    "expected Q values. A soft update of its weights are performed at every step.\n",
    "\n",
    "\n"
   ]
  },
  {
   "cell_type": "code",
   "execution_count": null,
   "outputs": [],
   "source": [],
   "metadata": {
    "collapsed": false
   }
  }
 ],
 "metadata": {
  "kernelspec": {
   "display_name": "Python 3",
   "language": "python",
   "name": "python3"
  },
  "language_info": {
   "codemirror_mode": {
    "name": "ipython",
    "version": 3
   },
   "file_extension": ".py",
   "mimetype": "text/x-python",
   "name": "python",
   "nbconvert_exporter": "python",
   "pygments_lexer": "ipython3",
   "version": "3.10.8"
  }
 },
 "nbformat": 4,
 "nbformat_minor": 0
}
