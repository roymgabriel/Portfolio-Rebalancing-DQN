{
 "cells": [
  {
   "cell_type": "code",
   "execution_count": 25,
   "outputs": [],
   "source": [
    "import pandas as pd\n",
    "import matplotlib.pyplot as plt\n",
    "from utils import *\n",
    "import plotly.graph_objs as go\n",
    "import plotly.express as px\n"
   ],
   "metadata": {
    "collapsed": false,
    "ExecuteTime": {
     "end_time": "2023-12-06T15:51:05.123370Z",
     "start_time": "2023-12-06T15:51:05.050643Z"
    }
   }
  },
  {
   "cell_type": "code",
   "execution_count": 2,
   "outputs": [],
   "source": [
    "n_asset = 2"
   ],
   "metadata": {
    "collapsed": false,
    "ExecuteTime": {
     "end_time": "2023-12-06T15:45:54.594403Z",
     "start_time": "2023-12-06T15:45:54.587639Z"
    }
   }
  },
  {
   "cell_type": "code",
   "execution_count": 3,
   "outputs": [],
   "source": [
    "mu = np.linspace(50, 200, n_asset) / 1e4\n",
    "sigma = np.linspace(300, 800, n_asset) / 1e4\n",
    "cov = np.diag(sigma ** 2)"
   ],
   "metadata": {
    "collapsed": false,
    "ExecuteTime": {
     "end_time": "2023-12-06T15:45:55.181785Z",
     "start_time": "2023-12-06T15:45:55.177171Z"
    }
   }
  },
  {
   "cell_type": "code",
   "execution_count": 4,
   "outputs": [],
   "source": [
    "# tc_list = [0, 0.0005, 0.001, 0.002, 0.005, 0.01, 0.05]\n",
    "tc_list = [0, 0.0001, 0.0002, 0.0003,\n",
    "           0.0004, 0.0005, 0.0006, 0.0007, 0.0008, 0.0009, 0.001]\n",
    "# tc_list = [0.0008]"
   ],
   "metadata": {
    "collapsed": false,
    "ExecuteTime": {
     "end_time": "2023-12-06T15:45:55.596129Z",
     "start_time": "2023-12-06T15:45:55.592803Z"
    }
   }
  },
  {
   "cell_type": "code",
   "execution_count": 5,
   "outputs": [],
   "source": [
    "df_list = []\n",
    "for tc in tc_list:\n",
    "    tmp_df = pd.read_csv(f\"results/models/dp_tc_{tc}_assets_2\", index_col=0, dtype=np.float32)\n",
    "    df_list.append(tmp_df)"
   ],
   "metadata": {
    "collapsed": false,
    "ExecuteTime": {
     "end_time": "2023-12-06T15:45:55.907736Z",
     "start_time": "2023-12-06T15:45:55.891463Z"
    }
   }
  },
  {
   "cell_type": "code",
   "execution_count": 6,
   "outputs": [],
   "source": [
    "# df_0 = pd.read_csv(\"results/models/dp_tc_0_assets_2\", index_col=0, dtype=np.float32)\n",
    "# df_01 = pd.read_csv(\"results/models/dp_tc_0.001_assets_2\", index_col=0, dtype=np.float32)\n",
    "# df_02 = pd.read_csv(\"results/models/dp_tc_0.002_assets_2\", index_col=0, dtype=np.float32)\n",
    "# df_05 = pd.read_csv(\"results/models/dp_tc_0.0005_assets_2\", index_col=0, dtype=np.float32)\n",
    "# df_5 = pd.read_csv(\"results/models/dp_tc_0.005_assets_2\", index_col=0, dtype=np.float32)\n",
    "# df_10 = pd.read_csv(\"results/models/dp_tc_0.01_assets_2\", index_col=0, dtype=np.float32)\n",
    "# df_50 = pd.read_csv(\"results/models/dp_tc_0.05_assets_2\", index_col=0, dtype=np.float32)"
   ],
   "metadata": {
    "collapsed": false,
    "ExecuteTime": {
     "end_time": "2023-12-06T15:45:56.225038Z",
     "start_time": "2023-12-06T15:45:56.219389Z"
    }
   }
  },
  {
   "cell_type": "code",
   "execution_count": 7,
   "outputs": [],
   "source": [
    "# df_list = [df_0, df_05, df_01, df_02, df_5, df_10, df_50]"
   ],
   "metadata": {
    "collapsed": false,
    "ExecuteTime": {
     "end_time": "2023-12-06T15:45:56.538590Z",
     "start_time": "2023-12-06T15:45:56.531938Z"
    }
   }
  },
  {
   "cell_type": "code",
   "execution_count": 8,
   "outputs": [],
   "source": [
    "state_possible = pd.to_numeric(tmp_df.index.values)\n",
    "action_possible = pd.to_numeric(tmp_df.columns.values)"
   ],
   "metadata": {
    "collapsed": false,
    "ExecuteTime": {
     "end_time": "2023-12-06T15:45:56.888759Z",
     "start_time": "2023-12-06T15:45:56.884621Z"
    }
   }
  },
  {
   "cell_type": "code",
   "execution_count": 9,
   "outputs": [],
   "source": [
    "# List of n_asset values\n",
    "n_assets_list = [2]\n",
    "\n",
    "# List of transaction cost values\n",
    "# tc_list = [0, 0.0005, 0.001, 0.002, 0.005, 0.01, 0.05]\n"
   ],
   "metadata": {
    "collapsed": false,
    "ExecuteTime": {
     "end_time": "2023-12-06T15:45:57.342100Z",
     "start_time": "2023-12-06T15:45:57.338296Z"
    }
   }
  },
  {
   "cell_type": "code",
   "execution_count": 10,
   "outputs": [],
   "source": [
    "action_df = pd.DataFrame(index=state_possible)\n",
    "action_bm_df = pd.DataFrame(index=state_possible)\n",
    "for tc, bell in zip(tc_list, df_list):\n",
    "    # visualize q table\n",
    "    # action = np.array([action_possible[i] for i in np.argmax(bell, axis=1)])\n",
    "    action = pd.to_numeric(bell.idxmax(axis=1)).values\n",
    "    action_df[f\"TC: {tc * 1e4:.0f} bps\"] = action\n",
    "    # action_bm = []\n",
    "    # for i in state_possible:\n",
    "    #     a = state_possible[np.argmax([net_sharpe(np.array([j, 1 - j]), mu, cov, np.array([i, 1 - i]), tc) for j in state_possible])] - i\n",
    "    #     action_bm.append(a)\n",
    "    # action_bm = np.array(action_bm)\n",
    "    # action_bm_df[f\"TC: {tc * 1e4:.0f} bps BM\"] = action_bm\n",
    "    # if tc == 0.0009:\n",
    "    #     a = bell.copy(deep=True)\n",
    "    #     b = action"
   ],
   "metadata": {
    "collapsed": false,
    "ExecuteTime": {
     "end_time": "2023-12-06T15:45:57.730026Z",
     "start_time": "2023-12-06T15:45:57.725608Z"
    }
   }
  },
  {
   "cell_type": "code",
   "execution_count": 10,
   "outputs": [],
   "source": [],
   "metadata": {
    "collapsed": false,
    "ExecuteTime": {
     "end_time": "2023-12-06T15:45:58.165014Z",
     "start_time": "2023-12-06T15:45:58.160831Z"
    }
   }
  },
  {
   "cell_type": "code",
   "execution_count": 10,
   "outputs": [],
   "source": [],
   "metadata": {
    "collapsed": false,
    "ExecuteTime": {
     "end_time": "2023-12-06T15:45:58.493468Z",
     "start_time": "2023-12-06T15:45:58.488739Z"
    }
   }
  },
  {
   "cell_type": "code",
   "execution_count": 11,
   "outputs": [
    {
     "data": {
      "text/plain": "      TC: 0 bps  TC: 1 bps  TC: 2 bps  TC: 3 bps  TC: 4 bps  TC: 5 bps  \\\n0.01          1          1          1          1          1          1   \n0.02          1          1          1          1          1          1   \n0.03          1          1          1          1          1          1   \n0.04          1          1          1          1          1          1   \n0.05          1          1          1          1          1          1   \n...         ...        ...        ...        ...        ...        ...   \n0.95          1          1          1          1          1          1   \n0.96          1          1          1          1          1          1   \n0.97          1          1          1          1          1          1   \n0.98          1          1          1          1          1          1   \n0.99          1          1          1          1          1          1   \n\n      TC: 6 bps  TC: 7 bps  TC: 8 bps  TC: 9 bps  TC: 10 bps  \n0.01          0          0          0          0           0  \n0.02          0          0          0          0           0  \n0.03          0          0          0          0           0  \n0.04          0          0          0          0           0  \n0.05          0          0          0          0           0  \n...         ...        ...        ...        ...         ...  \n0.95          1          1          1          1           1  \n0.96          1          1          1          1           1  \n0.97          1          1          1          1           1  \n0.98          1          1          1          1           1  \n0.99          1          1          1          1           1  \n\n[99 rows x 11 columns]",
      "text/html": "<div>\n<style scoped>\n    .dataframe tbody tr th:only-of-type {\n        vertical-align: middle;\n    }\n\n    .dataframe tbody tr th {\n        vertical-align: top;\n    }\n\n    .dataframe thead th {\n        text-align: right;\n    }\n</style>\n<table border=\"1\" class=\"dataframe\">\n  <thead>\n    <tr style=\"text-align: right;\">\n      <th></th>\n      <th>TC: 0 bps</th>\n      <th>TC: 1 bps</th>\n      <th>TC: 2 bps</th>\n      <th>TC: 3 bps</th>\n      <th>TC: 4 bps</th>\n      <th>TC: 5 bps</th>\n      <th>TC: 6 bps</th>\n      <th>TC: 7 bps</th>\n      <th>TC: 8 bps</th>\n      <th>TC: 9 bps</th>\n      <th>TC: 10 bps</th>\n    </tr>\n  </thead>\n  <tbody>\n    <tr>\n      <th>0.01</th>\n      <td>1</td>\n      <td>1</td>\n      <td>1</td>\n      <td>1</td>\n      <td>1</td>\n      <td>1</td>\n      <td>0</td>\n      <td>0</td>\n      <td>0</td>\n      <td>0</td>\n      <td>0</td>\n    </tr>\n    <tr>\n      <th>0.02</th>\n      <td>1</td>\n      <td>1</td>\n      <td>1</td>\n      <td>1</td>\n      <td>1</td>\n      <td>1</td>\n      <td>0</td>\n      <td>0</td>\n      <td>0</td>\n      <td>0</td>\n      <td>0</td>\n    </tr>\n    <tr>\n      <th>0.03</th>\n      <td>1</td>\n      <td>1</td>\n      <td>1</td>\n      <td>1</td>\n      <td>1</td>\n      <td>1</td>\n      <td>0</td>\n      <td>0</td>\n      <td>0</td>\n      <td>0</td>\n      <td>0</td>\n    </tr>\n    <tr>\n      <th>0.04</th>\n      <td>1</td>\n      <td>1</td>\n      <td>1</td>\n      <td>1</td>\n      <td>1</td>\n      <td>1</td>\n      <td>0</td>\n      <td>0</td>\n      <td>0</td>\n      <td>0</td>\n      <td>0</td>\n    </tr>\n    <tr>\n      <th>0.05</th>\n      <td>1</td>\n      <td>1</td>\n      <td>1</td>\n      <td>1</td>\n      <td>1</td>\n      <td>1</td>\n      <td>0</td>\n      <td>0</td>\n      <td>0</td>\n      <td>0</td>\n      <td>0</td>\n    </tr>\n    <tr>\n      <th>...</th>\n      <td>...</td>\n      <td>...</td>\n      <td>...</td>\n      <td>...</td>\n      <td>...</td>\n      <td>...</td>\n      <td>...</td>\n      <td>...</td>\n      <td>...</td>\n      <td>...</td>\n      <td>...</td>\n    </tr>\n    <tr>\n      <th>0.95</th>\n      <td>1</td>\n      <td>1</td>\n      <td>1</td>\n      <td>1</td>\n      <td>1</td>\n      <td>1</td>\n      <td>1</td>\n      <td>1</td>\n      <td>1</td>\n      <td>1</td>\n      <td>1</td>\n    </tr>\n    <tr>\n      <th>0.96</th>\n      <td>1</td>\n      <td>1</td>\n      <td>1</td>\n      <td>1</td>\n      <td>1</td>\n      <td>1</td>\n      <td>1</td>\n      <td>1</td>\n      <td>1</td>\n      <td>1</td>\n      <td>1</td>\n    </tr>\n    <tr>\n      <th>0.97</th>\n      <td>1</td>\n      <td>1</td>\n      <td>1</td>\n      <td>1</td>\n      <td>1</td>\n      <td>1</td>\n      <td>1</td>\n      <td>1</td>\n      <td>1</td>\n      <td>1</td>\n      <td>1</td>\n    </tr>\n    <tr>\n      <th>0.98</th>\n      <td>1</td>\n      <td>1</td>\n      <td>1</td>\n      <td>1</td>\n      <td>1</td>\n      <td>1</td>\n      <td>1</td>\n      <td>1</td>\n      <td>1</td>\n      <td>1</td>\n      <td>1</td>\n    </tr>\n    <tr>\n      <th>0.99</th>\n      <td>1</td>\n      <td>1</td>\n      <td>1</td>\n      <td>1</td>\n      <td>1</td>\n      <td>1</td>\n      <td>1</td>\n      <td>1</td>\n      <td>1</td>\n      <td>1</td>\n      <td>1</td>\n    </tr>\n  </tbody>\n</table>\n<p>99 rows × 11 columns</p>\n</div>"
     },
     "execution_count": 11,
     "metadata": {},
     "output_type": "execute_result"
    }
   ],
   "source": [
    "action_df"
   ],
   "metadata": {
    "collapsed": false,
    "ExecuteTime": {
     "end_time": "2023-12-06T15:45:58.746933Z",
     "start_time": "2023-12-06T15:45:58.741645Z"
    }
   }
  },
  {
   "cell_type": "code",
   "execution_count": 12,
   "outputs": [
    {
     "data": {
      "text/plain": "array([0.64, 0.36])"
     },
     "execution_count": 12,
     "metadata": {},
     "output_type": "execute_result"
    }
   ],
   "source": [
    "optimal_weight = find_optimal_wgt(mu, cov).round(2)\n",
    "optimal_weight"
   ],
   "metadata": {
    "collapsed": false,
    "ExecuteTime": {
     "end_time": "2023-12-06T15:45:59.295251Z",
     "start_time": "2023-12-06T15:45:59.284866Z"
    }
   }
  },
  {
   "cell_type": "code",
   "execution_count": 13,
   "outputs": [
    {
     "data": {
      "text/plain": "<Figure size 2000x1000 with 1 Axes>",
      "image/png": "[encoded data removed]"
     },
     "metadata": {},
     "output_type": "display_data"
    }
   ],
   "source": [
    "fig, ax = plt.subplots(1, 1, figsize=(20, 10))\n",
    "action_df.plot(ax=ax, color=['#1f77b4', '#ff7f0e', '#2ca02c', '#d62728'])\n",
    "# action_bm_df.plot(ax=ax, color=['#1f77b4', '#ff7f0e', '#2ca02c', '#d62728'], linestyle=\"dashed\")\n",
    "ax.set_xlabel(\"Weight on First Asset\")\n",
    "ax.set_ylabel(\"Suggested Delta Weight on Asset 1\")\n",
    "ax.axvline(optimal_weight[0], color=\"red\", linestyle=\"dotted\")\n",
    "ax.axhline(0, color=\"red\", linestyle=\"dotted\")\n",
    "ax.legend()\n",
    "plt.tight_layout()\n",
    "plt.show()\n",
    "plt.close()\n"
   ],
   "metadata": {
    "collapsed": false,
    "ExecuteTime": {
     "end_time": "2023-12-06T15:46:00.072029Z",
     "start_time": "2023-12-06T15:45:59.645634Z"
    }
   }
  },
  {
   "cell_type": "code",
   "execution_count": 14,
   "outputs": [
    {
     "data": {
      "text/plain": "      TC: 0 bps  TC: 1 bps  TC: 2 bps  TC: 3 bps  TC: 4 bps  TC: 5 bps  \\\n0.01          1          1          1          1          1          1   \n0.02          1          1          1          1          1          1   \n0.03          1          1          1          1          1          1   \n0.04          1          1          1          1          1          1   \n0.05          1          1          1          1          1          1   \n...         ...        ...        ...        ...        ...        ...   \n0.95          1          1          1          1          1          1   \n0.96          1          1          1          1          1          1   \n0.97          1          1          1          1          1          1   \n0.98          1          1          1          1          1          1   \n0.99          1          1          1          1          1          1   \n\n      TC: 6 bps  TC: 7 bps  TC: 8 bps  TC: 9 bps  TC: 10 bps  \n0.01          0          0          0          0           0  \n0.02          0          0          0          0           0  \n0.03          0          0          0          0           0  \n0.04          0          0          0          0           0  \n0.05          0          0          0          0           0  \n...         ...        ...        ...        ...         ...  \n0.95          1          1          1          1           1  \n0.96          1          1          1          1           1  \n0.97          1          1          1          1           1  \n0.98          1          1          1          1           1  \n0.99          1          1          1          1           1  \n\n[99 rows x 11 columns]",
      "text/html": "<div>\n<style scoped>\n    .dataframe tbody tr th:only-of-type {\n        vertical-align: middle;\n    }\n\n    .dataframe tbody tr th {\n        vertical-align: top;\n    }\n\n    .dataframe thead th {\n        text-align: right;\n    }\n</style>\n<table border=\"1\" class=\"dataframe\">\n  <thead>\n    <tr style=\"text-align: right;\">\n      <th></th>\n      <th>TC: 0 bps</th>\n      <th>TC: 1 bps</th>\n      <th>TC: 2 bps</th>\n      <th>TC: 3 bps</th>\n      <th>TC: 4 bps</th>\n      <th>TC: 5 bps</th>\n      <th>TC: 6 bps</th>\n      <th>TC: 7 bps</th>\n      <th>TC: 8 bps</th>\n      <th>TC: 9 bps</th>\n      <th>TC: 10 bps</th>\n    </tr>\n  </thead>\n  <tbody>\n    <tr>\n      <th>0.01</th>\n      <td>1</td>\n      <td>1</td>\n      <td>1</td>\n      <td>1</td>\n      <td>1</td>\n      <td>1</td>\n      <td>0</td>\n      <td>0</td>\n      <td>0</td>\n      <td>0</td>\n      <td>0</td>\n    </tr>\n    <tr>\n      <th>0.02</th>\n      <td>1</td>\n      <td>1</td>\n      <td>1</td>\n      <td>1</td>\n      <td>1</td>\n      <td>1</td>\n      <td>0</td>\n      <td>0</td>\n      <td>0</td>\n      <td>0</td>\n      <td>0</td>\n    </tr>\n    <tr>\n      <th>0.03</th>\n      <td>1</td>\n      <td>1</td>\n      <td>1</td>\n      <td>1</td>\n      <td>1</td>\n      <td>1</td>\n      <td>0</td>\n      <td>0</td>\n      <td>0</td>\n      <td>0</td>\n      <td>0</td>\n    </tr>\n    <tr>\n      <th>0.04</th>\n      <td>1</td>\n      <td>1</td>\n      <td>1</td>\n      <td>1</td>\n      <td>1</td>\n      <td>1</td>\n      <td>0</td>\n      <td>0</td>\n      <td>0</td>\n      <td>0</td>\n      <td>0</td>\n    </tr>\n    <tr>\n      <th>0.05</th>\n      <td>1</td>\n      <td>1</td>\n      <td>1</td>\n      <td>1</td>\n      <td>1</td>\n      <td>1</td>\n      <td>0</td>\n      <td>0</td>\n      <td>0</td>\n      <td>0</td>\n      <td>0</td>\n    </tr>\n    <tr>\n      <th>...</th>\n      <td>...</td>\n      <td>...</td>\n      <td>...</td>\n      <td>...</td>\n      <td>...</td>\n      <td>...</td>\n      <td>...</td>\n      <td>...</td>\n      <td>...</td>\n      <td>...</td>\n      <td>...</td>\n    </tr>\n    <tr>\n      <th>0.95</th>\n      <td>1</td>\n      <td>1</td>\n      <td>1</td>\n      <td>1</td>\n      <td>1</td>\n      <td>1</td>\n      <td>1</td>\n      <td>1</td>\n      <td>1</td>\n      <td>1</td>\n      <td>1</td>\n    </tr>\n    <tr>\n      <th>0.96</th>\n      <td>1</td>\n      <td>1</td>\n      <td>1</td>\n      <td>1</td>\n      <td>1</td>\n      <td>1</td>\n      <td>1</td>\n      <td>1</td>\n      <td>1</td>\n      <td>1</td>\n      <td>1</td>\n    </tr>\n    <tr>\n      <th>0.97</th>\n      <td>1</td>\n      <td>1</td>\n      <td>1</td>\n      <td>1</td>\n      <td>1</td>\n      <td>1</td>\n      <td>1</td>\n      <td>1</td>\n      <td>1</td>\n      <td>1</td>\n      <td>1</td>\n    </tr>\n    <tr>\n      <th>0.98</th>\n      <td>1</td>\n      <td>1</td>\n      <td>1</td>\n      <td>1</td>\n      <td>1</td>\n      <td>1</td>\n      <td>1</td>\n      <td>1</td>\n      <td>1</td>\n      <td>1</td>\n      <td>1</td>\n    </tr>\n    <tr>\n      <th>0.99</th>\n      <td>1</td>\n      <td>1</td>\n      <td>1</td>\n      <td>1</td>\n      <td>1</td>\n      <td>1</td>\n      <td>1</td>\n      <td>1</td>\n      <td>1</td>\n      <td>1</td>\n      <td>1</td>\n    </tr>\n  </tbody>\n</table>\n<p>99 rows × 11 columns</p>\n</div>"
     },
     "execution_count": 14,
     "metadata": {},
     "output_type": "execute_result"
    }
   ],
   "source": [
    "action_df"
   ],
   "metadata": {
    "collapsed": false,
    "ExecuteTime": {
     "end_time": "2023-12-06T15:46:00.454835Z",
     "start_time": "2023-12-06T15:46:00.056328Z"
    }
   }
  },
  {
   "cell_type": "code",
   "execution_count": 15,
   "outputs": [
    {
     "data": {
      "text/plain": "<Axes: >"
     },
     "execution_count": 15,
     "metadata": {},
     "output_type": "execute_result"
    },
    {
     "data": {
      "text/plain": "<Figure size 640x480 with 2 Axes>",
      "image/png": "[encoded data removed]"
     },
     "metadata": {},
     "output_type": "display_data"
    }
   ],
   "source": [
    "import seaborn as sns\n",
    "sns.heatmap(action_df)"
   ],
   "metadata": {
    "collapsed": false,
    "ExecuteTime": {
     "end_time": "2023-12-06T15:46:00.783599Z",
     "start_time": "2023-12-06T15:46:00.524741Z"
    }
   }
  },
  {
   "cell_type": "code",
   "execution_count": 20,
   "outputs": [
    {
     "data": {
      "application/vnd.plotly.v1+json": {
       "data": [
        {
         "name": "DP Binary Bellman",
         "x": [
          "TC: 0 bps",
          "TC: 1 bps",
          "TC: 2 bps",
          "TC: 3 bps",
          "TC: 4 bps",
          "TC: 5 bps",
          "TC: 6 bps",
          "TC: 7 bps",
          "TC: 8 bps",
          "TC: 9 bps",
          "TC: 10 bps"
         ],
         "y": [
          0.009999999776482582,
          0.019999999552965164,
          0.029999999329447746,
          0.03999999910593033,
          0.05000000074505806,
          0.05999999865889549,
          0.07000000029802322,
          0.07999999821186066,
          0.09000000357627869,
          0.10000000149011612,
          0.10999999940395355,
          0.11999999731779099,
          0.12999999523162842,
          0.14000000059604645,
          0.15000000596046448,
          0.1599999964237213,
          0.17000000178813934,
          0.18000000715255737,
          0.1899999976158142,
          0.20000000298023224,
          0.20999999344348907,
          0.2199999988079071,
          0.23000000417232513,
          0.23999999463558197,
          0.25,
          0.25999999046325684,
          0.27000001072883606,
          0.2800000011920929,
          0.28999999165534973,
          0.30000001192092896,
          0.3100000023841858,
          0.3199999928474426,
          0.33000001311302185,
          0.3400000035762787,
          0.3499999940395355,
          0.36000001430511475,
          0.3700000047683716,
          0.3799999952316284,
          0.38999998569488525,
          0.4000000059604645,
          0.4099999964237213,
          0.41999998688697815,
          0.4300000071525574,
          0.4399999976158142,
          0.44999998807907104,
          0.46000000834465027,
          0.4699999988079071,
          0.47999998927116394,
          0.49000000953674316,
          0.5,
          0.5099999904632568,
          0.5199999809265137,
          0.5299999713897705,
          0.5400000214576721,
          0.550000011920929,
          0.5600000023841858,
          0.5699999928474426,
          0.5799999833106995,
          0.5899999737739563,
          0.6000000238418579,
          0.6100000143051147,
          0.6200000047683716,
          0.6299999952316284,
          0.6399999856948853,
          0.6499999761581421,
          0.6600000262260437,
          0.6700000166893005,
          0.6800000071525574,
          0.6899999976158142,
          0.699999988079071,
          0.7099999785423279,
          0.7200000286102295,
          0.7300000190734863,
          0.7400000095367432,
          0.75,
          0.7599999904632568,
          0.7699999809265137,
          0.7799999713897705,
          0.7900000214576721,
          0.800000011920929,
          0.8100000023841858,
          0.8199999928474426,
          0.8299999833106995,
          0.8399999737739563,
          0.8500000238418579,
          0.8600000143051147,
          0.8700000047683716,
          0.8799999952316284,
          0.8899999856948853,
          0.8999999761581421,
          0.9100000262260437,
          0.9200000166893005,
          0.9300000071525574,
          0.9399999976158142,
          0.949999988079071,
          0.9599999785423279,
          0.9700000286102295,
          0.9800000190734863,
          0.9900000095367432
         ],
         "z": [
          [
           1,
           1,
           1,
           1,
           1,
           1,
           0,
           0,
           0,
           0,
           0
          ],
          [
           1,
           1,
           1,
           1,
           1,
           1,
           0,
           0,
           0,
           0,
           0
          ],
          [
           1,
           1,
           1,
           1,
           1,
           1,
           0,
           0,
           0,
           0,
           0
          ],
          [
           1,
           1,
           1,
           1,
           1,
           1,
           0,
           0,
           0,
           0,
           0
          ],
          [
           1,
           1,
           1,
           1,
           1,
           1,
           0,
           0,
           0,
           0,
           0
          ],
          [
           1,
           1,
           1,
           1,
           1,
           1,
           0,
           0,
           0,
           0,
           0
          ],
          [
           1,
           1,
           1,
           1,
           1,
           1,
           0,
           0,
           0,
           0,
           0
          ],
          [
           1,
           1,
           1,
           1,
           1,
           1,
           0,
           0,
           0,
           0,
           0
          ],
          [
           1,
           1,
           1,
           1,
           1,
           1,
           0,
           0,
           0,
           0,
           0
          ],
          [
           1,
           1,
           1,
           1,
           1,
           1,
           0,
           0,
           0,
           0,
           0
          ],
          [
           1,
           1,
           1,
           1,
           1,
           1,
           0,
           0,
           0,
           0,
           0
          ],
          [
           1,
           1,
           1,
           1,
           1,
           1,
           0,
           0,
           0,
           0,
           0
          ],
          [
           1,
           1,
           1,
           1,
           1,
           1,
           0,
           0,
           0,
           0,
           0
          ],
          [
           1,
           1,
           1,
           1,
           1,
           1,
           0,
           0,
           0,
           0,
           0
          ],
          [
           1,
           1,
           1,
           1,
           1,
           1,
           0,
           0,
           0,
           0,
           0
          ],
          [
           1,
           1,
           1,
           1,
           1,
           1,
           0,
           0,
           0,
           0,
           0
          ],
          [
           1,
           1,
           1,
           1,
           1,
           1,
           0,
           0,
           0,
           0,
           0
          ],
          [
           1,
           1,
           1,
           1,
           1,
           1,
           0,
           0,
           0,
           0,
           0
          ],
          [
           1,
           1,
           1,
           1,
           1,
           1,
           0,
           0,
           0,
           0,
           0
          ],
          [
           1,
           1,
           1,
           1,
           1,
           1,
           0,
           0,
           0,
           0,
           0
          ],
          [
           1,
           1,
           1,
           1,
           1,
           1,
           0,
           0,
           0,
           0,
           0
          ],
          [
           1,
           1,
           1,
           1,
           1,
           1,
           0,
           0,
           0,
           0,
           0
          ],
          [
           1,
           1,
           1,
           1,
           1,
           1,
           0,
           0,
           0,
           0,
           0
          ],
          [
           1,
           1,
           1,
           1,
           1,
           1,
           0,
           0,
           0,
           0,
           0
          ],
          [
           1,
           1,
           1,
           1,
           1,
           1,
           0,
           0,
           0,
           0,
           0
          ],
          [
           1,
           1,
           1,
           1,
           1,
           1,
           0,
           0,
           0,
           0,
           0
          ],
          [
           1,
           1,
           1,
           1,
           1,
           1,
           0,
           0,
           0,
           0,
           0
          ],
          [
           1,
           1,
           1,
           1,
           1,
           1,
           0,
           0,
           0,
           0,
           0
          ],
          [
           1,
           1,
           1,
           1,
           1,
           1,
           0,
           0,
           0,
           0,
           0
          ],
          [
           1,
           1,
           1,
           1,
           1,
           1,
           0,
           0,
           0,
           0,
           0
          ],
          [
           1,
           1,
           1,
           1,
           1,
           1,
           0,
           0,
           0,
           0,
           0
          ],
          [
           1,
           1,
           1,
           1,
           1,
           1,
           0,
           0,
           0,
           0,
           0
          ],
          [
           1,
           1,
           1,
           1,
           1,
           1,
           0,
           0,
           0,
           0,
           0
          ],
          [
           1,
           1,
           1,
           1,
           1,
           1,
           0,
           0,
           0,
           0,
           0
          ],
          [
           1,
           1,
           1,
           1,
           1,
           1,
           0,
           0,
           0,
           0,
           0
          ],
          [
           1,
           1,
           1,
           1,
           1,
           1,
           0,
           0,
           0,
           0,
           0
          ],
          [
           1,
           1,
           1,
           1,
           1,
           1,
           0,
           0,
           0,
           0,
           0
          ],
          [
           1,
           1,
           1,
           1,
           1,
           1,
           0,
           0,
           0,
           0,
           0
          ],
          [
           1,
           1,
           1,
           1,
           1,
           1,
           0,
           0,
           0,
           0,
           0
          ],
          [
           1,
           1,
           1,
           1,
           1,
           0,
           0,
           0,
           0,
           0,
           0
          ],
          [
           1,
           1,
           1,
           1,
           1,
           0,
           0,
           0,
           0,
           0,
           0
          ],
          [
           1,
           1,
           1,
           1,
           1,
           0,
           0,
           0,
           0,
           0,
           0
          ],
          [
           1,
           1,
           1,
           1,
           1,
           0,
           0,
           0,
           0,
           0,
           0
          ],
          [
           1,
           1,
           1,
           1,
           1,
           0,
           0,
           0,
           0,
           0,
           0
          ],
          [
           1,
           1,
           1,
           1,
           1,
           0,
           0,
           0,
           0,
           0,
           0
          ],
          [
           1,
           1,
           1,
           1,
           1,
           0,
           0,
           0,
           0,
           0,
           0
          ],
          [
           1,
           1,
           1,
           1,
           1,
           0,
           0,
           0,
           0,
           0,
           0
          ],
          [
           1,
           1,
           1,
           1,
           1,
           0,
           0,
           0,
           0,
           0,
           0
          ],
          [
           1,
           1,
           1,
           1,
           1,
           0,
           0,
           0,
           0,
           0,
           0
          ],
          [
           1,
           1,
           1,
           1,
           0,
           0,
           0,
           0,
           0,
           0,
           0
          ],
          [
           1,
           1,
           1,
           1,
           0,
           0,
           0,
           0,
           0,
           0,
           0
          ],
          [
           1,
           1,
           1,
           1,
           0,
           0,
           0,
           0,
           0,
           0,
           0
          ],
          [
           1,
           1,
           1,
           1,
           0,
           0,
           0,
           0,
           0,
           0,
           0
          ],
          [
           1,
           1,
           1,
           1,
           0,
           0,
           0,
           0,
           0,
           0,
           0
          ],
          [
           1,
           1,
           1,
           0,
           0,
           0,
           0,
           0,
           0,
           0,
           0
          ],
          [
           1,
           1,
           1,
           0,
           0,
           0,
           0,
           0,
           0,
           0,
           0
          ],
          [
           1,
           1,
           1,
           0,
           0,
           0,
           0,
           0,
           0,
           0,
           0
          ],
          [
           1,
           1,
           1,
           0,
           0,
           0,
           0,
           0,
           0,
           0,
           0
          ],
          [
           1,
           1,
           0,
           0,
           0,
           0,
           0,
           0,
           0,
           0,
           0
          ],
          [
           1,
           1,
           0,
           0,
           0,
           0,
           0,
           0,
           0,
           0,
           0
          ],
          [
           1,
           1,
           0,
           0,
           0,
           0,
           0,
           0,
           0,
           0,
           0
          ],
          [
           1,
           0,
           0,
           0,
           0,
           0,
           0,
           0,
           0,
           0,
           0
          ],
          [
           1,
           0,
           0,
           0,
           0,
           0,
           0,
           0,
           0,
           0,
           0
          ],
          [
           0,
           0,
           0,
           0,
           0,
           0,
           0,
           0,
           0,
           0,
           0
          ],
          [
           1,
           0,
           0,
           0,
           0,
           0,
           0,
           0,
           0,
           0,
           0
          ],
          [
           1,
           0,
           0,
           0,
           0,
           0,
           0,
           0,
           0,
           0,
           0
          ],
          [
           1,
           1,
           0,
           0,
           0,
           0,
           0,
           0,
           0,
           0,
           0
          ],
          [
           1,
           1,
           0,
           0,
           0,
           0,
           0,
           0,
           0,
           0,
           0
          ],
          [
           1,
           1,
           1,
           0,
           0,
           0,
           0,
           0,
           0,
           0,
           0
          ],
          [
           1,
           1,
           1,
           0,
           0,
           0,
           0,
           0,
           0,
           0,
           0
          ],
          [
           1,
           1,
           1,
           1,
           0,
           0,
           0,
           0,
           0,
           0,
           0
          ],
          [
           1,
           1,
           1,
           1,
           1,
           0,
           0,
           0,
           0,
           0,
           0
          ],
          [
           1,
           1,
           1,
           1,
           1,
           0,
           0,
           0,
           0,
           0,
           0
          ],
          [
           1,
           1,
           1,
           1,
           1,
           1,
           0,
           0,
           0,
           0,
           0
          ],
          [
           1,
           1,
           1,
           1,
           1,
           1,
           1,
           0,
           0,
           0,
           0
          ],
          [
           1,
           1,
           1,
           1,
           1,
           1,
           1,
           0,
           0,
           0,
           0
          ],
          [
           1,
           1,
           1,
           1,
           1,
           1,
           1,
           1,
           0,
           0,
           0
          ],
          [
           1,
           1,
           1,
           1,
           1,
           1,
           1,
           1,
           1,
           0,
           0
          ],
          [
           1,
           1,
           1,
           1,
           1,
           1,
           1,
           1,
           1,
           1,
           0
          ],
          [
           1,
           1,
           1,
           1,
           1,
           1,
           1,
           1,
           1,
           1,
           0
          ],
          [
           1,
           1,
           1,
           1,
           1,
           1,
           1,
           1,
           1,
           1,
           1
          ],
          [
           1,
           1,
           1,
           1,
           1,
           1,
           1,
           1,
           1,
           1,
           1
          ],
          [
           1,
           1,
           1,
           1,
           1,
           1,
           1,
           1,
           1,
           1,
           1
          ],
          [
           1,
           1,
           1,
           1,
           1,
           1,
           1,
           1,
           1,
           1,
           1
          ],
          [
           1,
           1,
           1,
           1,
           1,
           1,
           1,
           1,
           1,
           1,
           1
          ],
          [
           1,
           1,
           1,
           1,
           1,
           1,
           1,
           1,
           1,
           1,
           1
          ],
          [
           1,
           1,
           1,
           1,
           1,
           1,
           1,
           1,
           1,
           1,
           1
          ],
          [
           1,
           1,
           1,
           1,
           1,
           1,
           1,
           1,
           1,
           1,
           1
          ],
          [
           1,
           1,
           1,
           1,
           1,
           1,
           1,
           1,
           1,
           1,
           1
          ],
          [
           1,
           1,
           1,
           1,
           1,
           1,
           1,
           1,
           1,
           1,
           1
          ],
          [
           1,
           1,
           1,
           1,
           1,
           1,
           1,
           1,
           1,
           1,
           1
          ],
          [
           1,
           1,
           1,
           1,
           1,
           1,
           1,
           1,
           1,
           1,
           1
          ],
          [
           1,
           1,
           1,
           1,
           1,
           1,
           1,
           1,
           1,
           1,
           1
          ],
          [
           1,
           1,
           1,
           1,
           1,
           1,
           1,
           1,
           1,
           1,
           1
          ],
          [
           1,
           1,
           1,
           1,
           1,
           1,
           1,
           1,
           1,
           1,
           1
          ],
          [
           1,
           1,
           1,
           1,
           1,
           1,
           1,
           1,
           1,
           1,
           1
          ],
          [
           1,
           1,
           1,
           1,
           1,
           1,
           1,
           1,
           1,
           1,
           1
          ],
          [
           1,
           1,
           1,
           1,
           1,
           1,
           1,
           1,
           1,
           1,
           1
          ],
          [
           1,
           1,
           1,
           1,
           1,
           1,
           1,
           1,
           1,
           1,
           1
          ]
         ],
         "type": "heatmap"
        }
       ],
       "layout": {
        "shapes": [
         {
          "line": {
           "color": "red",
           "width": 0.5
          },
          "type": "line",
          "x0": "TC: 0 bps",
          "x1": "TC: 10 bps",
          "y0": 0.64,
          "y1": 0.64
         }
        ],
        "title": {
         "text": "DP Binary Bellman Output"
        },
        "xaxis": {
         "showgrid": true,
         "title": {
          "text": "Transaction Cost (bps)"
         }
        },
        "yaxis": {
         "showgrid": true,
         "title": {
          "text": "Weight on First Asset"
         }
        },
        "template": {
         "data": {
          "histogram2dcontour": [
           {
            "type": "histogram2dcontour",
            "colorbar": {
             "outlinewidth": 0,
             "ticks": ""
            },
            "colorscale": [
             [
              0.0,
              "#0d0887"
             ],
             [
              0.1111111111111111,
              "#46039f"
             ],
             [
              0.2222222222222222,
              "#7201a8"
             ],
             [
              0.3333333333333333,
              "#9c179e"
             ],
             [
              0.4444444444444444,
              "#bd3786"
             ],
             [
              0.5555555555555556,
              "#d8576b"
             ],
             [
              0.6666666666666666,
              "#ed7953"
             ],
             [
              0.7777777777777778,
              "#fb9f3a"
             ],
             [
              0.8888888888888888,
              "#fdca26"
             ],
             [
              1.0,
              "#f0f921"
             ]
            ]
           }
          ],
          "choropleth": [
           {
            "type": "choropleth",
            "colorbar": {
             "outlinewidth": 0,
             "ticks": ""
            }
           }
          ],
          "histogram2d": [
           {
            "type": "histogram2d",
            "colorbar": {
             "outlinewidth": 0,
             "ticks": ""
            },
            "colorscale": [
             [
              0.0,
              "#0d0887"
             ],
             [
              0.1111111111111111,
              "#46039f"
             ],
             [
              0.2222222222222222,
              "#7201a8"
             ],
             [
              0.3333333333333333,
              "#9c179e"
             ],
             [
              0.4444444444444444,
              "#bd3786"
             ],
             [
              0.5555555555555556,
              "#d8576b"
             ],
             [
              0.6666666666666666,
              "#ed7953"
             ],
             [
              0.7777777777777778,
              "#fb9f3a"
             ],
             [
              0.8888888888888888,
              "#fdca26"
             ],
             [
              1.0,
              "#f0f921"
             ]
            ]
           }
          ],
          "heatmap": [
           {
            "type": "heatmap",
            "colorbar": {
             "outlinewidth": 0,
             "ticks": ""
            },
            "colorscale": [
             [
              0.0,
              "#0d0887"
             ],
             [
              0.1111111111111111,
              "#46039f"
             ],
             [
              0.2222222222222222,
              "#7201a8"
             ],
             [
              0.3333333333333333,
              "#9c179e"
             ],
             [
              0.4444444444444444,
              "#bd3786"
             ],
             [
              0.5555555555555556,
              "#d8576b"
             ],
             [
              0.6666666666666666,
              "#ed7953"
             ],
             [
              0.7777777777777778,
              "#fb9f3a"
             ],
             [
              0.8888888888888888,
              "#fdca26"
             ],
             [
              1.0,
              "#f0f921"
             ]
            ]
           }
          ],
          "heatmapgl": [
           {
            "type": "heatmapgl",
            "colorbar": {
             "outlinewidth": 0,
             "ticks": ""
            },
            "colorscale": [
             [
              0.0,
              "#0d0887"
             ],
             [
              0.1111111111111111,
              "#46039f"
             ],
             [
              0.2222222222222222,
              "#7201a8"
             ],
             [
              0.3333333333333333,
              "#9c179e"
             ],
             [
              0.4444444444444444,
              "#bd3786"
             ],
             [
              0.5555555555555556,
              "#d8576b"
             ],
             [
              0.6666666666666666,
              "#ed7953"
             ],
             [
              0.7777777777777778,
              "#fb9f3a"
             ],
             [
              0.8888888888888888,
              "#fdca26"
             ],
             [
              1.0,
              "#f0f921"
             ]
            ]
           }
          ],
          "contourcarpet": [
           {
            "type": "contourcarpet",
            "colorbar": {
             "outlinewidth": 0,
             "ticks": ""
            }
           }
          ],
          "contour": [
           {
            "type": "contour",
            "colorbar": {
             "outlinewidth": 0,
             "ticks": ""
            },
            "colorscale": [
             [
              0.0,
              "#0d0887"
             ],
             [
              0.1111111111111111,
              "#46039f"
             ],
             [
              0.2222222222222222,
              "#7201a8"
             ],
             [
              0.3333333333333333,
              "#9c179e"
             ],
             [
              0.4444444444444444,
              "#bd3786"
             ],
             [
              0.5555555555555556,
              "#d8576b"
             ],
             [
              0.6666666666666666,
              "#ed7953"
             ],
             [
              0.7777777777777778,
              "#fb9f3a"
             ],
             [
              0.8888888888888888,
              "#fdca26"
             ],
             [
              1.0,
              "#f0f921"
             ]
            ]
           }
          ],
          "surface": [
           {
            "type": "surface",
            "colorbar": {
             "outlinewidth": 0,
             "ticks": ""
            },
            "colorscale": [
             [
              0.0,
              "#0d0887"
             ],
             [
              0.1111111111111111,
              "#46039f"
             ],
             [
              0.2222222222222222,
              "#7201a8"
             ],
             [
              0.3333333333333333,
              "#9c179e"
             ],
             [
              0.4444444444444444,
              "#bd3786"
             ],
             [
              0.5555555555555556,
              "#d8576b"
             ],
             [
              0.6666666666666666,
              "#ed7953"
             ],
             [
              0.7777777777777778,
              "#fb9f3a"
             ],
             [
              0.8888888888888888,
              "#fdca26"
             ],
             [
              1.0,
              "#f0f921"
             ]
            ]
           }
          ],
          "mesh3d": [
           {
            "type": "mesh3d",
            "colorbar": {
             "outlinewidth": 0,
             "ticks": ""
            }
           }
          ],
          "scatter": [
           {
            "marker": {
             "line": {
              "color": "#283442"
             }
            },
            "type": "scatter"
           }
          ],
          "parcoords": [
           {
            "type": "parcoords",
            "line": {
             "colorbar": {
              "outlinewidth": 0,
              "ticks": ""
             }
            }
           }
          ],
          "scatterpolargl": [
           {
            "type": "scatterpolargl",
            "marker": {
             "colorbar": {
              "outlinewidth": 0,
              "ticks": ""
             }
            }
           }
          ],
          "bar": [
           {
            "error_x": {
             "color": "#f2f5fa"
            },
            "error_y": {
             "color": "#f2f5fa"
            },
            "marker": {
             "line": {
              "color": "rgb(17,17,17)",
              "width": 0.5
             },
             "pattern": {
              "fillmode": "overlay",
              "size": 10,
              "solidity": 0.2
             }
            },
            "type": "bar"
           }
          ],
          "scattergeo": [
           {
            "type": "scattergeo",
            "marker": {
             "colorbar": {
              "outlinewidth": 0,
              "ticks": ""
             }
            }
           }
          ],
          "scatterpolar": [
           {
            "type": "scatterpolar",
            "marker": {
             "colorbar": {
              "outlinewidth": 0,
              "ticks": ""
             }
            }
           }
          ],
          "histogram": [
           {
            "marker": {
             "pattern": {
              "fillmode": "overlay",
              "size": 10,
              "solidity": 0.2
             }
            },
            "type": "histogram"
           }
          ],
          "scattergl": [
           {
            "marker": {
             "line": {
              "color": "#283442"
             }
            },
            "type": "scattergl"
           }
          ],
          "scatter3d": [
           {
            "type": "scatter3d",
            "line": {
             "colorbar": {
              "outlinewidth": 0,
              "ticks": ""
             }
            },
            "marker": {
             "colorbar": {
              "outlinewidth": 0,
              "ticks": ""
             }
            }
           }
          ],
          "scattermapbox": [
           {
            "type": "scattermapbox",
            "marker": {
             "colorbar": {
              "outlinewidth": 0,
              "ticks": ""
             }
            }
           }
          ],
          "scatterternary": [
           {
            "type": "scatterternary",
            "marker": {
             "colorbar": {
              "outlinewidth": 0,
              "ticks": ""
             }
            }
           }
          ],
          "scattercarpet": [
           {
            "type": "scattercarpet",
            "marker": {
             "colorbar": {
              "outlinewidth": 0,
              "ticks": ""
             }
            }
           }
          ],
          "carpet": [
           {
            "aaxis": {
             "endlinecolor": "#A2B1C6",
             "gridcolor": "#506784",
             "linecolor": "#506784",
             "minorgridcolor": "#506784",
             "startlinecolor": "#A2B1C6"
            },
            "baxis": {
             "endlinecolor": "#A2B1C6",
             "gridcolor": "#506784",
             "linecolor": "#506784",
             "minorgridcolor": "#506784",
             "startlinecolor": "#A2B1C6"
            },
            "type": "carpet"
           }
          ],
          "table": [
           {
            "cells": {
             "fill": {
              "color": "#506784"
             },
             "line": {
              "color": "rgb(17,17,17)"
             }
            },
            "header": {
             "fill": {
              "color": "#2a3f5f"
             },
             "line": {
              "color": "rgb(17,17,17)"
             }
            },
            "type": "table"
           }
          ],
          "barpolar": [
           {
            "marker": {
             "line": {
              "color": "rgb(17,17,17)",
              "width": 0.5
             },
             "pattern": {
              "fillmode": "overlay",
              "size": 10,
              "solidity": 0.2
             }
            },
            "type": "barpolar"
           }
          ],
          "pie": [
           {
            "automargin": true,
            "type": "pie"
           }
          ]
         },
         "layout": {
          "autotypenumbers": "strict",
          "colorway": [
           "#636efa",
           "#EF553B",
           "#00cc96",
           "#ab63fa",
           "#FFA15A",
           "#19d3f3",
           "#FF6692",
           "#B6E880",
           "#FF97FF",
           "#FECB52"
          ],
          "font": {
           "color": "#f2f5fa"
          },
          "hovermode": "closest",
          "hoverlabel": {
           "align": "left"
          },
          "paper_bgcolor": "rgb(17,17,17)",
          "plot_bgcolor": "rgb(17,17,17)",
          "polar": {
           "bgcolor": "rgb(17,17,17)",
           "angularaxis": {
            "gridcolor": "#506784",
            "linecolor": "#506784",
            "ticks": ""
           },
           "radialaxis": {
            "gridcolor": "#506784",
            "linecolor": "#506784",
            "ticks": ""
           }
          },
          "ternary": {
           "bgcolor": "rgb(17,17,17)",
           "aaxis": {
            "gridcolor": "#506784",
            "linecolor": "#506784",
            "ticks": ""
           },
           "baxis": {
            "gridcolor": "#506784",
            "linecolor": "#506784",
            "ticks": ""
           },
           "caxis": {
            "gridcolor": "#506784",
            "linecolor": "#506784",
            "ticks": ""
           }
          },
          "coloraxis": {
           "colorbar": {
            "outlinewidth": 0,
            "ticks": ""
           }
          },
          "colorscale": {
           "sequential": [
            [
             0.0,
             "#0d0887"
            ],
            [
             0.1111111111111111,
             "#46039f"
            ],
            [
             0.2222222222222222,
             "#7201a8"
            ],
            [
             0.3333333333333333,
             "#9c179e"
            ],
            [
             0.4444444444444444,
             "#bd3786"
            ],
            [
             0.5555555555555556,
             "#d8576b"
            ],
            [
             0.6666666666666666,
             "#ed7953"
            ],
            [
             0.7777777777777778,
             "#fb9f3a"
            ],
            [
             0.8888888888888888,
             "#fdca26"
            ],
            [
             1.0,
             "#f0f921"
            ]
           ],
           "sequentialminus": [
            [
             0.0,
             "#0d0887"
            ],
            [
             0.1111111111111111,
             "#46039f"
            ],
            [
             0.2222222222222222,
             "#7201a8"
            ],
            [
             0.3333333333333333,
             "#9c179e"
            ],
            [
             0.4444444444444444,
             "#bd3786"
            ],
            [
             0.5555555555555556,
             "#d8576b"
            ],
            [
             0.6666666666666666,
             "#ed7953"
            ],
            [
             0.7777777777777778,
             "#fb9f3a"
            ],
            [
             0.8888888888888888,
             "#fdca26"
            ],
            [
             1.0,
             "#f0f921"
            ]
           ],
           "diverging": [
            [
             0,
             "#8e0152"
            ],
            [
             0.1,
             "#c51b7d"
            ],
            [
             0.2,
             "#de77ae"
            ],
            [
             0.3,
             "#f1b6da"
            ],
            [
             0.4,
             "#fde0ef"
            ],
            [
             0.5,
             "#f7f7f7"
            ],
            [
             0.6,
             "#e6f5d0"
            ],
            [
             0.7,
             "#b8e186"
            ],
            [
             0.8,
             "#7fbc41"
            ],
            [
             0.9,
             "#4d9221"
            ],
            [
             1,
             "#276419"
            ]
           ]
          },
          "xaxis": {
           "gridcolor": "#283442",
           "linecolor": "#506784",
           "ticks": "",
           "title": {
            "standoff": 15
           },
           "zerolinecolor": "#283442",
           "automargin": true,
           "zerolinewidth": 2
          },
          "yaxis": {
           "gridcolor": "#283442",
           "linecolor": "#506784",
           "ticks": "",
           "title": {
            "standoff": 15
           },
           "zerolinecolor": "#283442",
           "automargin": true,
           "zerolinewidth": 2
          },
          "scene": {
           "xaxis": {
            "backgroundcolor": "rgb(17,17,17)",
            "gridcolor": "#506784",
            "linecolor": "#506784",
            "showbackground": true,
            "ticks": "",
            "zerolinecolor": "#C8D4E3",
            "gridwidth": 2
           },
           "yaxis": {
            "backgroundcolor": "rgb(17,17,17)",
            "gridcolor": "#506784",
            "linecolor": "#506784",
            "showbackground": true,
            "ticks": "",
            "zerolinecolor": "#C8D4E3",
            "gridwidth": 2
           },
           "zaxis": {
            "backgroundcolor": "rgb(17,17,17)",
            "gridcolor": "#506784",
            "linecolor": "#506784",
            "showbackground": true,
            "ticks": "",
            "zerolinecolor": "#C8D4E3",
            "gridwidth": 2
           }
          },
          "shapedefaults": {
           "line": {
            "color": "#f2f5fa"
           }
          },
          "annotationdefaults": {
           "arrowcolor": "#f2f5fa",
           "arrowhead": 0,
           "arrowwidth": 1
          },
          "geo": {
           "bgcolor": "rgb(17,17,17)",
           "landcolor": "rgb(17,17,17)",
           "subunitcolor": "#506784",
           "showland": true,
           "showlakes": true,
           "lakecolor": "rgb(17,17,17)"
          },
          "title": {
           "x": 0.05
          },
          "updatemenudefaults": {
           "bgcolor": "#506784",
           "borderwidth": 0
          },
          "sliderdefaults": {
           "bgcolor": "#C8D4E3",
           "borderwidth": 1,
           "bordercolor": "rgb(17,17,17)",
           "tickwidth": 0
          },
          "mapbox": {
           "style": "dark"
          }
         }
        }
       },
       "config": {
        "plotlyServerURL": "https://plot.ly"
       }
      },
      "text/html": "<div>                            <div id=\"f7b0d9d3-61cf-4c7f-a9f2-fe9e93d5b12e\" class=\"plotly-graph-div\" style=\"height:525px; width:100%;\"></div>            <script type=\"text/javascript\">                require([\"plotly\"], function(Plotly) {                    window.PLOTLYENV=window.PLOTLYENV || {};                                    if (document.getElementById(\"f7b0d9d3-61cf-4c7f-a9f2-fe9e93d5b12e\")) {                    Plotly.newPlot(                        \"f7b0d9d3-61cf-4c7f-a9f2-fe9e93d5b12e\",                        [{\"name\":\"DP Binary Bellman\",\"x\":[\"TC: 0 bps\",\"TC: 1 bps\",\"TC: 2 bps\",\"TC: 3 bps\",\"TC: 4 bps\",\"TC: 5 bps\",\"TC: 6 bps\",\"TC: 7 bps\",\"TC: 8 bps\",\"TC: 9 bps\",\"TC: 10 bps\"],\"y\":[0.009999999776482582,0.019999999552965164,0.029999999329447746,0.03999999910593033,0.05000000074505806,0.05999999865889549,0.07000000029802322,0.07999999821186066,0.09000000357627869,0.10000000149011612,0.10999999940395355,0.11999999731779099,0.12999999523162842,0.14000000059604645,0.15000000596046448,0.1599999964237213,0.17000000178813934,0.18000000715255737,0.1899999976158142,0.20000000298023224,0.20999999344348907,0.2199999988079071,0.23000000417232513,0.23999999463558197,0.25,0.25999999046325684,0.27000001072883606,0.2800000011920929,0.28999999165534973,0.30000001192092896,0.3100000023841858,0.3199999928474426,0.33000001311302185,0.3400000035762787,0.3499999940395355,0.36000001430511475,0.3700000047683716,0.3799999952316284,0.38999998569488525,0.4000000059604645,0.4099999964237213,0.41999998688697815,0.4300000071525574,0.4399999976158142,0.44999998807907104,0.46000000834465027,0.4699999988079071,0.47999998927116394,0.49000000953674316,0.5,0.5099999904632568,0.5199999809265137,0.5299999713897705,0.5400000214576721,0.550000011920929,0.5600000023841858,0.5699999928474426,0.5799999833106995,0.5899999737739563,0.6000000238418579,0.6100000143051147,0.6200000047683716,0.6299999952316284,0.6399999856948853,0.6499999761581421,0.6600000262260437,0.6700000166893005,0.6800000071525574,0.6899999976158142,0.699999988079071,0.7099999785423279,0.7200000286102295,0.7300000190734863,0.7400000095367432,0.75,0.7599999904632568,0.7699999809265137,0.7799999713897705,0.7900000214576721,0.800000011920929,0.8100000023841858,0.8199999928474426,0.8299999833106995,0.8399999737739563,0.8500000238418579,0.8600000143051147,0.8700000047683716,0.8799999952316284,0.8899999856948853,0.8999999761581421,0.9100000262260437,0.9200000166893005,0.9300000071525574,0.9399999976158142,0.949999988079071,0.9599999785423279,0.9700000286102295,0.9800000190734863,0.9900000095367432],\"z\":[[1,1,1,1,1,1,0,0,0,0,0],[1,1,1,1,1,1,0,0,0,0,0],[1,1,1,1,1,1,0,0,0,0,0],[1,1,1,1,1,1,0,0,0,0,0],[1,1,1,1,1,1,0,0,0,0,0],[1,1,1,1,1,1,0,0,0,0,0],[1,1,1,1,1,1,0,0,0,0,0],[1,1,1,1,1,1,0,0,0,0,0],[1,1,1,1,1,1,0,0,0,0,0],[1,1,1,1,1,1,0,0,0,0,0],[1,1,1,1,1,1,0,0,0,0,0],[1,1,1,1,1,1,0,0,0,0,0],[1,1,1,1,1,1,0,0,0,0,0],[1,1,1,1,1,1,0,0,0,0,0],[1,1,1,1,1,1,0,0,0,0,0],[1,1,1,1,1,1,0,0,0,0,0],[1,1,1,1,1,1,0,0,0,0,0],[1,1,1,1,1,1,0,0,0,0,0],[1,1,1,1,1,1,0,0,0,0,0],[1,1,1,1,1,1,0,0,0,0,0],[1,1,1,1,1,1,0,0,0,0,0],[1,1,1,1,1,1,0,0,0,0,0],[1,1,1,1,1,1,0,0,0,0,0],[1,1,1,1,1,1,0,0,0,0,0],[1,1,1,1,1,1,0,0,0,0,0],[1,1,1,1,1,1,0,0,0,0,0],[1,1,1,1,1,1,0,0,0,0,0],[1,1,1,1,1,1,0,0,0,0,0],[1,1,1,1,1,1,0,0,0,0,0],[1,1,1,1,1,1,0,0,0,0,0],[1,1,1,1,1,1,0,0,0,0,0],[1,1,1,1,1,1,0,0,0,0,0],[1,1,1,1,1,1,0,0,0,0,0],[1,1,1,1,1,1,0,0,0,0,0],[1,1,1,1,1,1,0,0,0,0,0],[1,1,1,1,1,1,0,0,0,0,0],[1,1,1,1,1,1,0,0,0,0,0],[1,1,1,1,1,1,0,0,0,0,0],[1,1,1,1,1,1,0,0,0,0,0],[1,1,1,1,1,0,0,0,0,0,0],[1,1,1,1,1,0,0,0,0,0,0],[1,1,1,1,1,0,0,0,0,0,0],[1,1,1,1,1,0,0,0,0,0,0],[1,1,1,1,1,0,0,0,0,0,0],[1,1,1,1,1,0,0,0,0,0,0],[1,1,1,1,1,0,0,0,0,0,0],[1,1,1,1,1,0,0,0,0,0,0],[1,1,1,1,1,0,0,0,0,0,0],[1,1,1,1,1,0,0,0,0,0,0],[1,1,1,1,0,0,0,0,0,0,0],[1,1,1,1,0,0,0,0,0,0,0],[1,1,1,1,0,0,0,0,0,0,0],[1,1,1,1,0,0,0,0,0,0,0],[1,1,1,1,0,0,0,0,0,0,0],[1,1,1,0,0,0,0,0,0,0,0],[1,1,1,0,0,0,0,0,0,0,0],[1,1,1,0,0,0,0,0,0,0,0],[1,1,1,0,0,0,0,0,0,0,0],[1,1,0,0,0,0,0,0,0,0,0],[1,1,0,0,0,0,0,0,0,0,0],[1,1,0,0,0,0,0,0,0,0,0],[1,0,0,0,0,0,0,0,0,0,0],[1,0,0,0,0,0,0,0,0,0,0],[0,0,0,0,0,0,0,0,0,0,0],[1,0,0,0,0,0,0,0,0,0,0],[1,0,0,0,0,0,0,0,0,0,0],[1,1,0,0,0,0,0,0,0,0,0],[1,1,0,0,0,0,0,0,0,0,0],[1,1,1,0,0,0,0,0,0,0,0],[1,1,1,0,0,0,0,0,0,0,0],[1,1,1,1,0,0,0,0,0,0,0],[1,1,1,1,1,0,0,0,0,0,0],[1,1,1,1,1,0,0,0,0,0,0],[1,1,1,1,1,1,0,0,0,0,0],[1,1,1,1,1,1,1,0,0,0,0],[1,1,1,1,1,1,1,0,0,0,0],[1,1,1,1,1,1,1,1,0,0,0],[1,1,1,1,1,1,1,1,1,0,0],[1,1,1,1,1,1,1,1,1,1,0],[1,1,1,1,1,1,1,1,1,1,0],[1,1,1,1,1,1,1,1,1,1,1],[1,1,1,1,1,1,1,1,1,1,1],[1,1,1,1,1,1,1,1,1,1,1],[1,1,1,1,1,1,1,1,1,1,1],[1,1,1,1,1,1,1,1,1,1,1],[1,1,1,1,1,1,1,1,1,1,1],[1,1,1,1,1,1,1,1,1,1,1],[1,1,1,1,1,1,1,1,1,1,1],[1,1,1,1,1,1,1,1,1,1,1],[1,1,1,1,1,1,1,1,1,1,1],[1,1,1,1,1,1,1,1,1,1,1],[1,1,1,1,1,1,1,1,1,1,1],[1,1,1,1,1,1,1,1,1,1,1],[1,1,1,1,1,1,1,1,1,1,1],[1,1,1,1,1,1,1,1,1,1,1],[1,1,1,1,1,1,1,1,1,1,1],[1,1,1,1,1,1,1,1,1,1,1],[1,1,1,1,1,1,1,1,1,1,1],[1,1,1,1,1,1,1,1,1,1,1]],\"type\":\"heatmap\"}],                        {\"shapes\":[{\"line\":{\"color\":\"red\",\"width\":0.5},\"type\":\"line\",\"x0\":\"TC: 0 bps\",\"x1\":\"TC: 10 bps\",\"y0\":0.64,\"y1\":0.64}],\"title\":{\"text\":\"DP Binary Bellman Output\"},\"xaxis\":{\"showgrid\":true,\"title\":{\"text\":\"Transaction Cost (bps)\"}},\"yaxis\":{\"showgrid\":true,\"title\":{\"text\":\"Weight on First Asset\"}},\"template\":{\"data\":{\"histogram2dcontour\":[{\"type\":\"histogram2dcontour\",\"colorbar\":{\"outlinewidth\":0,\"ticks\":\"\"},\"colorscale\":[[0.0,\"#0d0887\"],[0.1111111111111111,\"#46039f\"],[0.2222222222222222,\"#7201a8\"],[0.3333333333333333,\"#9c179e\"],[0.4444444444444444,\"#bd3786\"],[0.5555555555555556,\"#d8576b\"],[0.6666666666666666,\"#ed7953\"],[0.7777777777777778,\"#fb9f3a\"],[0.8888888888888888,\"#fdca26\"],[1.0,\"#f0f921\"]]}],\"choropleth\":[{\"type\":\"choropleth\",\"colorbar\":{\"outlinewidth\":0,\"ticks\":\"\"}}],\"histogram2d\":[{\"type\":\"histogram2d\",\"colorbar\":{\"outlinewidth\":0,\"ticks\":\"\"},\"colorscale\":[[0.0,\"#0d0887\"],[0.1111111111111111,\"#46039f\"],[0.2222222222222222,\"#7201a8\"],[0.3333333333333333,\"#9c179e\"],[0.4444444444444444,\"#bd3786\"],[0.5555555555555556,\"#d8576b\"],[0.6666666666666666,\"#ed7953\"],[0.7777777777777778,\"#fb9f3a\"],[0.8888888888888888,\"#fdca26\"],[1.0,\"#f0f921\"]]}],\"heatmap\":[{\"type\":\"heatmap\",\"colorbar\":{\"outlinewidth\":0,\"ticks\":\"\"},\"colorscale\":[[0.0,\"#0d0887\"],[0.1111111111111111,\"#46039f\"],[0.2222222222222222,\"#7201a8\"],[0.3333333333333333,\"#9c179e\"],[0.4444444444444444,\"#bd3786\"],[0.5555555555555556,\"#d8576b\"],[0.6666666666666666,\"#ed7953\"],[0.7777777777777778,\"#fb9f3a\"],[0.8888888888888888,\"#fdca26\"],[1.0,\"#f0f921\"]]}],\"heatmapgl\":[{\"type\":\"heatmapgl\",\"colorbar\":{\"outlinewidth\":0,\"ticks\":\"\"},\"colorscale\":[[0.0,\"#0d0887\"],[0.1111111111111111,\"#46039f\"],[0.2222222222222222,\"#7201a8\"],[0.3333333333333333,\"#9c179e\"],[0.4444444444444444,\"#bd3786\"],[0.5555555555555556,\"#d8576b\"],[0.6666666666666666,\"#ed7953\"],[0.7777777777777778,\"#fb9f3a\"],[0.8888888888888888,\"#fdca26\"],[1.0,\"#f0f921\"]]}],\"contourcarpet\":[{\"type\":\"contourcarpet\",\"colorbar\":{\"outlinewidth\":0,\"ticks\":\"\"}}],\"contour\":[{\"type\":\"contour\",\"colorbar\":{\"outlinewidth\":0,\"ticks\":\"\"},\"colorscale\":[[0.0,\"#0d0887\"],[0.1111111111111111,\"#46039f\"],[0.2222222222222222,\"#7201a8\"],[0.3333333333333333,\"#9c179e\"],[0.4444444444444444,\"#bd3786\"],[0.5555555555555556,\"#d8576b\"],[0.6666666666666666,\"#ed7953\"],[0.7777777777777778,\"#fb9f3a\"],[0.8888888888888888,\"#fdca26\"],[1.0,\"#f0f921\"]]}],\"surface\":[{\"type\":\"surface\",\"colorbar\":{\"outlinewidth\":0,\"ticks\":\"\"},\"colorscale\":[[0.0,\"#0d0887\"],[0.1111111111111111,\"#46039f\"],[0.2222222222222222,\"#7201a8\"],[0.3333333333333333,\"#9c179e\"],[0.4444444444444444,\"#bd3786\"],[0.5555555555555556,\"#d8576b\"],[0.6666666666666666,\"#ed7953\"],[0.7777777777777778,\"#fb9f3a\"],[0.8888888888888888,\"#fdca26\"],[1.0,\"#f0f921\"]]}],\"mesh3d\":[{\"type\":\"mesh3d\",\"colorbar\":{\"outlinewidth\":0,\"ticks\":\"\"}}],\"scatter\":[{\"marker\":{\"line\":{\"color\":\"#283442\"}},\"type\":\"scatter\"}],\"parcoords\":[{\"type\":\"parcoords\",\"line\":{\"colorbar\":{\"outlinewidth\":0,\"ticks\":\"\"}}}],\"scatterpolargl\":[{\"type\":\"scatterpolargl\",\"marker\":{\"colorbar\":{\"outlinewidth\":0,\"ticks\":\"\"}}}],\"bar\":[{\"error_x\":{\"color\":\"#f2f5fa\"},\"error_y\":{\"color\":\"#f2f5fa\"},\"marker\":{\"line\":{\"color\":\"rgb(17,17,17)\",\"width\":0.5},\"pattern\":{\"fillmode\":\"overlay\",\"size\":10,\"solidity\":0.2}},\"type\":\"bar\"}],\"scattergeo\":[{\"type\":\"scattergeo\",\"marker\":{\"colorbar\":{\"outlinewidth\":0,\"ticks\":\"\"}}}],\"scatterpolar\":[{\"type\":\"scatterpolar\",\"marker\":{\"colorbar\":{\"outlinewidth\":0,\"ticks\":\"\"}}}],\"histogram\":[{\"marker\":{\"pattern\":{\"fillmode\":\"overlay\",\"size\":10,\"solidity\":0.2}},\"type\":\"histogram\"}],\"scattergl\":[{\"marker\":{\"line\":{\"color\":\"#283442\"}},\"type\":\"scattergl\"}],\"scatter3d\":[{\"type\":\"scatter3d\",\"line\":{\"colorbar\":{\"outlinewidth\":0,\"ticks\":\"\"}},\"marker\":{\"colorbar\":{\"outlinewidth\":0,\"ticks\":\"\"}}}],\"scattermapbox\":[{\"type\":\"scattermapbox\",\"marker\":{\"colorbar\":{\"outlinewidth\":0,\"ticks\":\"\"}}}],\"scatterternary\":[{\"type\":\"scatterternary\",\"marker\":{\"colorbar\":{\"outlinewidth\":0,\"ticks\":\"\"}}}],\"scattercarpet\":[{\"type\":\"scattercarpet\",\"marker\":{\"colorbar\":{\"outlinewidth\":0,\"ticks\":\"\"}}}],\"carpet\":[{\"aaxis\":{\"endlinecolor\":\"#A2B1C6\",\"gridcolor\":\"#506784\",\"linecolor\":\"#506784\",\"minorgridcolor\":\"#506784\",\"startlinecolor\":\"#A2B1C6\"},\"baxis\":{\"endlinecolor\":\"#A2B1C6\",\"gridcolor\":\"#506784\",\"linecolor\":\"#506784\",\"minorgridcolor\":\"#506784\",\"startlinecolor\":\"#A2B1C6\"},\"type\":\"carpet\"}],\"table\":[{\"cells\":{\"fill\":{\"color\":\"#506784\"},\"line\":{\"color\":\"rgb(17,17,17)\"}},\"header\":{\"fill\":{\"color\":\"#2a3f5f\"},\"line\":{\"color\":\"rgb(17,17,17)\"}},\"type\":\"table\"}],\"barpolar\":[{\"marker\":{\"line\":{\"color\":\"rgb(17,17,17)\",\"width\":0.5},\"pattern\":{\"fillmode\":\"overlay\",\"size\":10,\"solidity\":0.2}},\"type\":\"barpolar\"}],\"pie\":[{\"automargin\":true,\"type\":\"pie\"}]},\"layout\":{\"autotypenumbers\":\"strict\",\"colorway\":[\"#636efa\",\"#EF553B\",\"#00cc96\",\"#ab63fa\",\"#FFA15A\",\"#19d3f3\",\"#FF6692\",\"#B6E880\",\"#FF97FF\",\"#FECB52\"],\"font\":{\"color\":\"#f2f5fa\"},\"hovermode\":\"closest\",\"hoverlabel\":{\"align\":\"left\"},\"paper_bgcolor\":\"rgb(17,17,17)\",\"plot_bgcolor\":\"rgb(17,17,17)\",\"polar\":{\"bgcolor\":\"rgb(17,17,17)\",\"angularaxis\":{\"gridcolor\":\"#506784\",\"linecolor\":\"#506784\",\"ticks\":\"\"},\"radialaxis\":{\"gridcolor\":\"#506784\",\"linecolor\":\"#506784\",\"ticks\":\"\"}},\"ternary\":{\"bgcolor\":\"rgb(17,17,17)\",\"aaxis\":{\"gridcolor\":\"#506784\",\"linecolor\":\"#506784\",\"ticks\":\"\"},\"baxis\":{\"gridcolor\":\"#506784\",\"linecolor\":\"#506784\",\"ticks\":\"\"},\"caxis\":{\"gridcolor\":\"#506784\",\"linecolor\":\"#506784\",\"ticks\":\"\"}},\"coloraxis\":{\"colorbar\":{\"outlinewidth\":0,\"ticks\":\"\"}},\"colorscale\":{\"sequential\":[[0.0,\"#0d0887\"],[0.1111111111111111,\"#46039f\"],[0.2222222222222222,\"#7201a8\"],[0.3333333333333333,\"#9c179e\"],[0.4444444444444444,\"#bd3786\"],[0.5555555555555556,\"#d8576b\"],[0.6666666666666666,\"#ed7953\"],[0.7777777777777778,\"#fb9f3a\"],[0.8888888888888888,\"#fdca26\"],[1.0,\"#f0f921\"]],\"sequentialminus\":[[0.0,\"#0d0887\"],[0.1111111111111111,\"#46039f\"],[0.2222222222222222,\"#7201a8\"],[0.3333333333333333,\"#9c179e\"],[0.4444444444444444,\"#bd3786\"],[0.5555555555555556,\"#d8576b\"],[0.6666666666666666,\"#ed7953\"],[0.7777777777777778,\"#fb9f3a\"],[0.8888888888888888,\"#fdca26\"],[1.0,\"#f0f921\"]],\"diverging\":[[0,\"#8e0152\"],[0.1,\"#c51b7d\"],[0.2,\"#de77ae\"],[0.3,\"#f1b6da\"],[0.4,\"#fde0ef\"],[0.5,\"#f7f7f7\"],[0.6,\"#e6f5d0\"],[0.7,\"#b8e186\"],[0.8,\"#7fbc41\"],[0.9,\"#4d9221\"],[1,\"#276419\"]]},\"xaxis\":{\"gridcolor\":\"#283442\",\"linecolor\":\"#506784\",\"ticks\":\"\",\"title\":{\"standoff\":15},\"zerolinecolor\":\"#283442\",\"automargin\":true,\"zerolinewidth\":2},\"yaxis\":{\"gridcolor\":\"#283442\",\"linecolor\":\"#506784\",\"ticks\":\"\",\"title\":{\"standoff\":15},\"zerolinecolor\":\"#283442\",\"automargin\":true,\"zerolinewidth\":2},\"scene\":{\"xaxis\":{\"backgroundcolor\":\"rgb(17,17,17)\",\"gridcolor\":\"#506784\",\"linecolor\":\"#506784\",\"showbackground\":true,\"ticks\":\"\",\"zerolinecolor\":\"#C8D4E3\",\"gridwidth\":2},\"yaxis\":{\"backgroundcolor\":\"rgb(17,17,17)\",\"gridcolor\":\"#506784\",\"linecolor\":\"#506784\",\"showbackground\":true,\"ticks\":\"\",\"zerolinecolor\":\"#C8D4E3\",\"gridwidth\":2},\"zaxis\":{\"backgroundcolor\":\"rgb(17,17,17)\",\"gridcolor\":\"#506784\",\"linecolor\":\"#506784\",\"showbackground\":true,\"ticks\":\"\",\"zerolinecolor\":\"#C8D4E3\",\"gridwidth\":2}},\"shapedefaults\":{\"line\":{\"color\":\"#f2f5fa\"}},\"annotationdefaults\":{\"arrowcolor\":\"#f2f5fa\",\"arrowhead\":0,\"arrowwidth\":1},\"geo\":{\"bgcolor\":\"rgb(17,17,17)\",\"landcolor\":\"rgb(17,17,17)\",\"subunitcolor\":\"#506784\",\"showland\":true,\"showlakes\":true,\"lakecolor\":\"rgb(17,17,17)\"},\"title\":{\"x\":0.05},\"updatemenudefaults\":{\"bgcolor\":\"#506784\",\"borderwidth\":0},\"sliderdefaults\":{\"bgcolor\":\"#C8D4E3\",\"borderwidth\":1,\"bordercolor\":\"rgb(17,17,17)\",\"tickwidth\":0},\"mapbox\":{\"style\":\"dark\"}}}},                        {\"responsive\": true}                    ).then(function(){\n                            \nvar gd = document.getElementById('f7b0d9d3-61cf-4c7f-a9f2-fe9e93d5b12e');\nvar x = new MutationObserver(function (mutations, observer) {{\n        var display = window.getComputedStyle(gd).display;\n        if (!display || display === 'none') {{\n            console.log([gd, 'removed!']);\n            Plotly.purge(gd);\n            observer.disconnect();\n        }}\n}});\n\n// Listen for the removal of the full notebook cells\nvar notebookContainer = gd.closest('#notebook-container');\nif (notebookContainer) {{\n    x.observe(notebookContainer, {childList: true});\n}}\n\n// Listen for the clearing of the current output cell\nvar outputEl = gd.closest('.output');\nif (outputEl) {{\n    x.observe(outputEl, {childList: true});\n}}\n\n                        })                };                });            </script>        </div>"
     },
     "metadata": {},
     "output_type": "display_data"
    }
   ],
   "source": [
    "# Create a heatmap trace for DP Bellman\n",
    "trace_dp = go.Heatmap(z=action_df, x=action_df.columns, y=action_df.index, name=\"DP Binary Bellman\")\n",
    "\n",
    "# Create the layout with 'overlay' parameter set to \"overlay\"\n",
    "layout = go.Layout(\n",
    "    title=\"DP Binary Bellman Output\",\n",
    "    xaxis=dict(title=\"Transaction Cost (bps)\",\n",
    "               showgrid=True),\n",
    "    yaxis=dict(title=\"Weight on First Asset\",\n",
    "               showgrid=True),\n",
    "    # barmode=\"overlay\"  # Set the barmode to overlay\n",
    ")\n",
    "\n",
    "# Add horizontal line at y=0.50\n",
    "layout.shapes = [\n",
    "    dict(\n",
    "        type=\"line\",\n",
    "        x0=action_df.columns[0],  # Adjust x0 to the starting point of your data\n",
    "        x1=action_df.columns[-1],  # Adjust x1 to the ending point of your data\n",
    "        y0=optimal_weight[0],\n",
    "        y1=optimal_weight[0],\n",
    "        line=dict(color=\"red\", width=0.5),  # You can customize the color and width of the line\n",
    "    )\n",
    "]\n",
    "\n",
    "# Create the figure\n",
    "fig = go.Figure(data=[trace_dp], layout=layout)\n",
    "fig.show()"
   ],
   "metadata": {
    "collapsed": false,
    "ExecuteTime": {
     "end_time": "2023-12-06T15:46:19.522362Z",
     "start_time": "2023-12-06T15:46:19.518278Z"
    }
   }
  },
  {
   "cell_type": "code",
   "execution_count": 22,
   "outputs": [
    {
     "data": {
      "text/plain": "Index(['TC: 0 bps', 'TC: 1 bps', 'TC: 2 bps', 'TC: 3 bps', 'TC: 4 bps',\n       'TC: 5 bps', 'TC: 6 bps', 'TC: 7 bps', 'TC: 8 bps', 'TC: 9 bps',\n       'TC: 10 bps'],\n      dtype='object')"
     },
     "execution_count": 22,
     "metadata": {},
     "output_type": "execute_result"
    }
   ],
   "source": [
    "action_df.columns"
   ],
   "metadata": {
    "collapsed": false,
    "ExecuteTime": {
     "end_time": "2023-12-06T15:49:37.768315Z",
     "start_time": "2023-12-06T15:49:37.764081Z"
    }
   }
  },
  {
   "cell_type": "code",
   "execution_count": 24,
   "outputs": [],
   "source": [
    "bm_noreb = {}\n",
    "for col in action_df.columns:\n",
    "    bm_index = action_df[action_df[col] == 0].index.values\n",
    "    bm_noreb[col] = bm_index"
   ],
   "metadata": {
    "collapsed": false,
    "ExecuteTime": {
     "end_time": "2023-12-06T15:50:45.195600Z",
     "start_time": "2023-12-06T15:50:45.191378Z"
    }
   }
  },
  {
   "cell_type": "code",
   "execution_count": 26,
   "outputs": [
    {
     "data": {
      "application/vnd.plotly.v1+json": {
       "data": [
        {
         "alignmentgroup": "True",
         "hovertemplate": "variable=%{x}<br>value=%{y}<extra></extra>",
         "legendgroup": "",
         "marker": {
          "color": "#636efa"
         },
         "name": "",
         "notched": false,
         "offsetgroup": "",
         "orientation": "v",
         "showlegend": false,
         "x": [
          "TC: 0 bps",
          "TC: 0 bps",
          "TC: 0 bps",
          "TC: 0 bps",
          "TC: 0 bps",
          "TC: 0 bps",
          "TC: 0 bps",
          "TC: 0 bps",
          "TC: 0 bps",
          "TC: 0 bps",
          "TC: 0 bps",
          "TC: 0 bps",
          "TC: 0 bps",
          "TC: 0 bps",
          "TC: 0 bps",
          "TC: 0 bps",
          "TC: 0 bps",
          "TC: 0 bps",
          "TC: 0 bps",
          "TC: 0 bps",
          "TC: 0 bps",
          "TC: 0 bps",
          "TC: 0 bps",
          "TC: 0 bps",
          "TC: 0 bps",
          "TC: 0 bps",
          "TC: 0 bps",
          "TC: 0 bps",
          "TC: 0 bps",
          "TC: 0 bps",
          "TC: 0 bps",
          "TC: 0 bps",
          "TC: 0 bps",
          "TC: 0 bps",
          "TC: 0 bps",
          "TC: 0 bps",
          "TC: 0 bps",
          "TC: 0 bps",
          "TC: 0 bps",
          "TC: 0 bps",
          "TC: 0 bps",
          "TC: 0 bps",
          "TC: 0 bps",
          "TC: 0 bps",
          "TC: 0 bps",
          "TC: 0 bps",
          "TC: 0 bps",
          "TC: 0 bps",
          "TC: 0 bps",
          "TC: 0 bps",
          "TC: 0 bps",
          "TC: 0 bps",
          "TC: 0 bps",
          "TC: 0 bps",
          "TC: 0 bps",
          "TC: 0 bps",
          "TC: 0 bps",
          "TC: 0 bps",
          "TC: 0 bps",
          "TC: 0 bps",
          "TC: 0 bps",
          "TC: 0 bps",
          "TC: 0 bps",
          "TC: 0 bps",
          "TC: 0 bps",
          "TC: 0 bps",
          "TC: 0 bps",
          "TC: 0 bps",
          "TC: 0 bps",
          "TC: 0 bps",
          "TC: 0 bps",
          "TC: 0 bps",
          "TC: 0 bps",
          "TC: 0 bps",
          "TC: 0 bps",
          "TC: 0 bps",
          "TC: 0 bps",
          "TC: 0 bps",
          "TC: 0 bps",
          "TC: 0 bps",
          "TC: 1 bps",
          "TC: 1 bps",
          "TC: 1 bps",
          "TC: 1 bps",
          "TC: 1 bps",
          "TC: 1 bps",
          "TC: 1 bps",
          "TC: 1 bps",
          "TC: 1 bps",
          "TC: 1 bps",
          "TC: 1 bps",
          "TC: 1 bps",
          "TC: 1 bps",
          "TC: 1 bps",
          "TC: 1 bps",
          "TC: 1 bps",
          "TC: 1 bps",
          "TC: 1 bps",
          "TC: 1 bps",
          "TC: 1 bps",
          "TC: 1 bps",
          "TC: 1 bps",
          "TC: 1 bps",
          "TC: 1 bps",
          "TC: 1 bps",
          "TC: 1 bps",
          "TC: 1 bps",
          "TC: 1 bps",
          "TC: 1 bps",
          "TC: 1 bps",
          "TC: 1 bps",
          "TC: 1 bps",
          "TC: 1 bps",
          "TC: 1 bps",
          "TC: 1 bps",
          "TC: 1 bps",
          "TC: 1 bps",
          "TC: 1 bps",
          "TC: 1 bps",
          "TC: 1 bps",
          "TC: 1 bps",
          "TC: 1 bps",
          "TC: 1 bps",
          "TC: 1 bps",
          "TC: 1 bps",
          "TC: 1 bps",
          "TC: 1 bps",
          "TC: 1 bps",
          "TC: 1 bps",
          "TC: 1 bps",
          "TC: 1 bps",
          "TC: 1 bps",
          "TC: 1 bps",
          "TC: 1 bps",
          "TC: 1 bps",
          "TC: 1 bps",
          "TC: 1 bps",
          "TC: 1 bps",
          "TC: 1 bps",
          "TC: 1 bps",
          "TC: 1 bps",
          "TC: 1 bps",
          "TC: 1 bps",
          "TC: 1 bps",
          "TC: 1 bps",
          "TC: 1 bps",
          "TC: 1 bps",
          "TC: 1 bps",
          "TC: 1 bps",
          "TC: 1 bps",
          "TC: 1 bps",
          "TC: 1 bps",
          "TC: 1 bps",
          "TC: 1 bps",
          "TC: 1 bps",
          "TC: 1 bps",
          "TC: 1 bps",
          "TC: 1 bps",
          "TC: 1 bps",
          "TC: 1 bps",
          "TC: 2 bps",
          "TC: 2 bps",
          "TC: 2 bps",
          "TC: 2 bps",
          "TC: 2 bps",
          "TC: 2 bps",
          "TC: 2 bps",
          "TC: 2 bps",
          "TC: 2 bps",
          "TC: 2 bps",
          "TC: 2 bps",
          "TC: 2 bps",
          "TC: 2 bps",
          "TC: 2 bps",
          "TC: 2 bps",
          "TC: 2 bps",
          "TC: 2 bps",
          "TC: 2 bps",
          "TC: 2 bps",
          "TC: 2 bps",
          "TC: 2 bps",
          "TC: 2 bps",
          "TC: 2 bps",
          "TC: 2 bps",
          "TC: 2 bps",
          "TC: 2 bps",
          "TC: 2 bps",
          "TC: 2 bps",
          "TC: 2 bps",
          "TC: 2 bps",
          "TC: 2 bps",
          "TC: 2 bps",
          "TC: 2 bps",
          "TC: 2 bps",
          "TC: 2 bps",
          "TC: 2 bps",
          "TC: 2 bps",
          "TC: 2 bps",
          "TC: 2 bps",
          "TC: 2 bps",
          "TC: 2 bps",
          "TC: 2 bps",
          "TC: 2 bps",
          "TC: 2 bps",
          "TC: 2 bps",
          "TC: 2 bps",
          "TC: 2 bps",
          "TC: 2 bps",
          "TC: 2 bps",
          "TC: 2 bps",
          "TC: 2 bps",
          "TC: 2 bps",
          "TC: 2 bps",
          "TC: 2 bps",
          "TC: 2 bps",
          "TC: 2 bps",
          "TC: 2 bps",
          "TC: 2 bps",
          "TC: 2 bps",
          "TC: 2 bps",
          "TC: 2 bps",
          "TC: 2 bps",
          "TC: 2 bps",
          "TC: 2 bps",
          "TC: 2 bps",
          "TC: 2 bps",
          "TC: 2 bps",
          "TC: 2 bps",
          "TC: 2 bps",
          "TC: 2 bps",
          "TC: 2 bps",
          "TC: 2 bps",
          "TC: 2 bps",
          "TC: 2 bps",
          "TC: 2 bps",
          "TC: 2 bps",
          "TC: 2 bps",
          "TC: 2 bps",
          "TC: 2 bps",
          "TC: 2 bps",
          "TC: 3 bps",
          "TC: 3 bps",
          "TC: 3 bps",
          "TC: 3 bps",
          "TC: 3 bps",
          "TC: 3 bps",
          "TC: 3 bps",
          "TC: 3 bps",
          "TC: 3 bps",
          "TC: 3 bps",
          "TC: 3 bps",
          "TC: 3 bps",
          "TC: 3 bps",
          "TC: 3 bps",
          "TC: 3 bps",
          "TC: 3 bps",
          "TC: 3 bps",
          "TC: 3 bps",
          "TC: 3 bps",
          "TC: 3 bps",
          "TC: 3 bps",
          "TC: 3 bps",
          "TC: 3 bps",
          "TC: 3 bps",
          "TC: 3 bps",
          "TC: 3 bps",
          "TC: 3 bps",
          "TC: 3 bps",
          "TC: 3 bps",
          "TC: 3 bps",
          "TC: 3 bps",
          "TC: 3 bps",
          "TC: 3 bps",
          "TC: 3 bps",
          "TC: 3 bps",
          "TC: 3 bps",
          "TC: 3 bps",
          "TC: 3 bps",
          "TC: 3 bps",
          "TC: 3 bps",
          "TC: 3 bps",
          "TC: 3 bps",
          "TC: 3 bps",
          "TC: 3 bps",
          "TC: 3 bps",
          "TC: 3 bps",
          "TC: 3 bps",
          "TC: 3 bps",
          "TC: 3 bps",
          "TC: 3 bps",
          "TC: 3 bps",
          "TC: 3 bps",
          "TC: 3 bps",
          "TC: 3 bps",
          "TC: 3 bps",
          "TC: 3 bps",
          "TC: 3 bps",
          "TC: 3 bps",
          "TC: 3 bps",
          "TC: 3 bps",
          "TC: 3 bps",
          "TC: 3 bps",
          "TC: 3 bps",
          "TC: 3 bps",
          "TC: 3 bps",
          "TC: 3 bps",
          "TC: 3 bps",
          "TC: 3 bps",
          "TC: 3 bps",
          "TC: 3 bps",
          "TC: 3 bps",
          "TC: 3 bps",
          "TC: 3 bps",
          "TC: 3 bps",
          "TC: 3 bps",
          "TC: 3 bps",
          "TC: 3 bps",
          "TC: 3 bps",
          "TC: 3 bps",
          "TC: 3 bps",
          "TC: 4 bps",
          "TC: 4 bps",
          "TC: 4 bps",
          "TC: 4 bps",
          "TC: 4 bps",
          "TC: 4 bps",
          "TC: 4 bps",
          "TC: 4 bps",
          "TC: 4 bps",
          "TC: 4 bps",
          "TC: 4 bps",
          "TC: 4 bps",
          "TC: 4 bps",
          "TC: 4 bps",
          "TC: 4 bps",
          "TC: 4 bps",
          "TC: 4 bps",
          "TC: 4 bps",
          "TC: 4 bps",
          "TC: 4 bps",
          "TC: 4 bps",
          "TC: 4 bps",
          "TC: 4 bps",
          "TC: 4 bps",
          "TC: 4 bps",
          "TC: 4 bps",
          "TC: 4 bps",
          "TC: 4 bps",
          "TC: 4 bps",
          "TC: 4 bps",
          "TC: 4 bps",
          "TC: 4 bps",
          "TC: 4 bps",
          "TC: 4 bps",
          "TC: 4 bps",
          "TC: 4 bps",
          "TC: 4 bps",
          "TC: 4 bps",
          "TC: 4 bps",
          "TC: 4 bps",
          "TC: 4 bps",
          "TC: 4 bps",
          "TC: 4 bps",
          "TC: 4 bps",
          "TC: 4 bps",
          "TC: 4 bps",
          "TC: 4 bps",
          "TC: 4 bps",
          "TC: 4 bps",
          "TC: 4 bps",
          "TC: 4 bps",
          "TC: 4 bps",
          "TC: 4 bps",
          "TC: 4 bps",
          "TC: 4 bps",
          "TC: 4 bps",
          "TC: 4 bps",
          "TC: 4 bps",
          "TC: 4 bps",
          "TC: 4 bps",
          "TC: 4 bps",
          "TC: 4 bps",
          "TC: 4 bps",
          "TC: 4 bps",
          "TC: 4 bps",
          "TC: 4 bps",
          "TC: 4 bps",
          "TC: 4 bps",
          "TC: 4 bps",
          "TC: 4 bps",
          "TC: 4 bps",
          "TC: 4 bps",
          "TC: 4 bps",
          "TC: 4 bps",
          "TC: 4 bps",
          "TC: 4 bps",
          "TC: 4 bps",
          "TC: 4 bps",
          "TC: 4 bps",
          "TC: 4 bps",
          "TC: 5 bps",
          "TC: 5 bps",
          "TC: 5 bps",
          "TC: 5 bps",
          "TC: 5 bps",
          "TC: 5 bps",
          "TC: 5 bps",
          "TC: 5 bps",
          "TC: 5 bps",
          "TC: 5 bps",
          "TC: 5 bps",
          "TC: 5 bps",
          "TC: 5 bps",
          "TC: 5 bps",
          "TC: 5 bps",
          "TC: 5 bps",
          "TC: 5 bps",
          "TC: 5 bps",
          "TC: 5 bps",
          "TC: 5 bps",
          "TC: 5 bps",
          "TC: 5 bps",
          "TC: 5 bps",
          "TC: 5 bps",
          "TC: 5 bps",
          "TC: 5 bps",
          "TC: 5 bps",
          "TC: 5 bps",
          "TC: 5 bps",
          "TC: 5 bps",
          "TC: 5 bps",
          "TC: 5 bps",
          "TC: 5 bps",
          "TC: 5 bps",
          "TC: 5 bps",
          "TC: 5 bps",
          "TC: 5 bps",
          "TC: 5 bps",
          "TC: 5 bps",
          "TC: 5 bps",
          "TC: 5 bps",
          "TC: 5 bps",
          "TC: 5 bps",
          "TC: 5 bps",
          "TC: 5 bps",
          "TC: 5 bps",
          "TC: 5 bps",
          "TC: 5 bps",
          "TC: 5 bps",
          "TC: 5 bps",
          "TC: 5 bps",
          "TC: 5 bps",
          "TC: 5 bps",
          "TC: 5 bps",
          "TC: 5 bps",
          "TC: 5 bps",
          "TC: 5 bps",
          "TC: 5 bps",
          "TC: 5 bps",
          "TC: 5 bps",
          "TC: 5 bps",
          "TC: 5 bps",
          "TC: 5 bps",
          "TC: 5 bps",
          "TC: 5 bps",
          "TC: 5 bps",
          "TC: 5 bps",
          "TC: 5 bps",
          "TC: 5 bps",
          "TC: 5 bps",
          "TC: 5 bps",
          "TC: 5 bps",
          "TC: 5 bps",
          "TC: 5 bps",
          "TC: 5 bps",
          "TC: 5 bps",
          "TC: 5 bps",
          "TC: 5 bps",
          "TC: 5 bps",
          "TC: 5 bps",
          "TC: 6 bps",
          "TC: 6 bps",
          "TC: 6 bps",
          "TC: 6 bps",
          "TC: 6 bps",
          "TC: 6 bps",
          "TC: 6 bps",
          "TC: 6 bps",
          "TC: 6 bps",
          "TC: 6 bps",
          "TC: 6 bps",
          "TC: 6 bps",
          "TC: 6 bps",
          "TC: 6 bps",
          "TC: 6 bps",
          "TC: 6 bps",
          "TC: 6 bps",
          "TC: 6 bps",
          "TC: 6 bps",
          "TC: 6 bps",
          "TC: 6 bps",
          "TC: 6 bps",
          "TC: 6 bps",
          "TC: 6 bps",
          "TC: 6 bps",
          "TC: 6 bps",
          "TC: 6 bps",
          "TC: 6 bps",
          "TC: 6 bps",
          "TC: 6 bps",
          "TC: 6 bps",
          "TC: 6 bps",
          "TC: 6 bps",
          "TC: 6 bps",
          "TC: 6 bps",
          "TC: 6 bps",
          "TC: 6 bps",
          "TC: 6 bps",
          "TC: 6 bps",
          "TC: 6 bps",
          "TC: 6 bps",
          "TC: 6 bps",
          "TC: 6 bps",
          "TC: 6 bps",
          "TC: 6 bps",
          "TC: 6 bps",
          "TC: 6 bps",
          "TC: 6 bps",
          "TC: 6 bps",
          "TC: 6 bps",
          "TC: 6 bps",
          "TC: 6 bps",
          "TC: 6 bps",
          "TC: 6 bps",
          "TC: 6 bps",
          "TC: 6 bps",
          "TC: 6 bps",
          "TC: 6 bps",
          "TC: 6 bps",
          "TC: 6 bps",
          "TC: 6 bps",
          "TC: 6 bps",
          "TC: 6 bps",
          "TC: 6 bps",
          "TC: 6 bps",
          "TC: 6 bps",
          "TC: 6 bps",
          "TC: 6 bps",
          "TC: 6 bps",
          "TC: 6 bps",
          "TC: 6 bps",
          "TC: 6 bps",
          "TC: 6 bps",
          "TC: 6 bps",
          "TC: 6 bps",
          "TC: 6 bps",
          "TC: 6 bps",
          "TC: 6 bps",
          "TC: 6 bps",
          "TC: 6 bps",
          "TC: 7 bps",
          "TC: 7 bps",
          "TC: 7 bps",
          "TC: 7 bps",
          "TC: 7 bps",
          "TC: 7 bps",
          "TC: 7 bps",
          "TC: 7 bps",
          "TC: 7 bps",
          "TC: 7 bps",
          "TC: 7 bps",
          "TC: 7 bps",
          "TC: 7 bps",
          "TC: 7 bps",
          "TC: 7 bps",
          "TC: 7 bps",
          "TC: 7 bps",
          "TC: 7 bps",
          "TC: 7 bps",
          "TC: 7 bps",
          "TC: 7 bps",
          "TC: 7 bps",
          "TC: 7 bps",
          "TC: 7 bps",
          "TC: 7 bps",
          "TC: 7 bps",
          "TC: 7 bps",
          "TC: 7 bps",
          "TC: 7 bps",
          "TC: 7 bps",
          "TC: 7 bps",
          "TC: 7 bps",
          "TC: 7 bps",
          "TC: 7 bps",
          "TC: 7 bps",
          "TC: 7 bps",
          "TC: 7 bps",
          "TC: 7 bps",
          "TC: 7 bps",
          "TC: 7 bps",
          "TC: 7 bps",
          "TC: 7 bps",
          "TC: 7 bps",
          "TC: 7 bps",
          "TC: 7 bps",
          "TC: 7 bps",
          "TC: 7 bps",
          "TC: 7 bps",
          "TC: 7 bps",
          "TC: 7 bps",
          "TC: 7 bps",
          "TC: 7 bps",
          "TC: 7 bps",
          "TC: 7 bps",
          "TC: 7 bps",
          "TC: 7 bps",
          "TC: 7 bps",
          "TC: 7 bps",
          "TC: 7 bps",
          "TC: 7 bps",
          "TC: 7 bps",
          "TC: 7 bps",
          "TC: 7 bps",
          "TC: 7 bps",
          "TC: 7 bps",
          "TC: 7 bps",
          "TC: 7 bps",
          "TC: 7 bps",
          "TC: 7 bps",
          "TC: 7 bps",
          "TC: 7 bps",
          "TC: 7 bps",
          "TC: 7 bps",
          "TC: 7 bps",
          "TC: 7 bps",
          "TC: 7 bps",
          "TC: 7 bps",
          "TC: 7 bps",
          "TC: 7 bps",
          "TC: 7 bps",
          "TC: 8 bps",
          "TC: 8 bps",
          "TC: 8 bps",
          "TC: 8 bps",
          "TC: 8 bps",
          "TC: 8 bps",
          "TC: 8 bps",
          "TC: 8 bps",
          "TC: 8 bps",
          "TC: 8 bps",
          "TC: 8 bps",
          "TC: 8 bps",
          "TC: 8 bps",
          "TC: 8 bps",
          "TC: 8 bps",
          "TC: 8 bps",
          "TC: 8 bps",
          "TC: 8 bps",
          "TC: 8 bps",
          "TC: 8 bps",
          "TC: 8 bps",
          "TC: 8 bps",
          "TC: 8 bps",
          "TC: 8 bps",
          "TC: 8 bps",
          "TC: 8 bps",
          "TC: 8 bps",
          "TC: 8 bps",
          "TC: 8 bps",
          "TC: 8 bps",
          "TC: 8 bps",
          "TC: 8 bps",
          "TC: 8 bps",
          "TC: 8 bps",
          "TC: 8 bps",
          "TC: 8 bps",
          "TC: 8 bps",
          "TC: 8 bps",
          "TC: 8 bps",
          "TC: 8 bps",
          "TC: 8 bps",
          "TC: 8 bps",
          "TC: 8 bps",
          "TC: 8 bps",
          "TC: 8 bps",
          "TC: 8 bps",
          "TC: 8 bps",
          "TC: 8 bps",
          "TC: 8 bps",
          "TC: 8 bps",
          "TC: 8 bps",
          "TC: 8 bps",
          "TC: 8 bps",
          "TC: 8 bps",
          "TC: 8 bps",
          "TC: 8 bps",
          "TC: 8 bps",
          "TC: 8 bps",
          "TC: 8 bps",
          "TC: 8 bps",
          "TC: 8 bps",
          "TC: 8 bps",
          "TC: 8 bps",
          "TC: 8 bps",
          "TC: 8 bps",
          "TC: 8 bps",
          "TC: 8 bps",
          "TC: 8 bps",
          "TC: 8 bps",
          "TC: 8 bps",
          "TC: 8 bps",
          "TC: 8 bps",
          "TC: 8 bps",
          "TC: 8 bps",
          "TC: 8 bps",
          "TC: 8 bps",
          "TC: 8 bps",
          "TC: 8 bps",
          "TC: 8 bps",
          "TC: 8 bps",
          "TC: 9 bps",
          "TC: 9 bps",
          "TC: 9 bps",
          "TC: 9 bps",
          "TC: 9 bps",
          "TC: 9 bps",
          "TC: 9 bps",
          "TC: 9 bps",
          "TC: 9 bps",
          "TC: 9 bps",
          "TC: 9 bps",
          "TC: 9 bps",
          "TC: 9 bps",
          "TC: 9 bps",
          "TC: 9 bps",
          "TC: 9 bps",
          "TC: 9 bps",
          "TC: 9 bps",
          "TC: 9 bps",
          "TC: 9 bps",
          "TC: 9 bps",
          "TC: 9 bps",
          "TC: 9 bps",
          "TC: 9 bps",
          "TC: 9 bps",
          "TC: 9 bps",
          "TC: 9 bps",
          "TC: 9 bps",
          "TC: 9 bps",
          "TC: 9 bps",
          "TC: 9 bps",
          "TC: 9 bps",
          "TC: 9 bps",
          "TC: 9 bps",
          "TC: 9 bps",
          "TC: 9 bps",
          "TC: 9 bps",
          "TC: 9 bps",
          "TC: 9 bps",
          "TC: 9 bps",
          "TC: 9 bps",
          "TC: 9 bps",
          "TC: 9 bps",
          "TC: 9 bps",
          "TC: 9 bps",
          "TC: 9 bps",
          "TC: 9 bps",
          "TC: 9 bps",
          "TC: 9 bps",
          "TC: 9 bps",
          "TC: 9 bps",
          "TC: 9 bps",
          "TC: 9 bps",
          "TC: 9 bps",
          "TC: 9 bps",
          "TC: 9 bps",
          "TC: 9 bps",
          "TC: 9 bps",
          "TC: 9 bps",
          "TC: 9 bps",
          "TC: 9 bps",
          "TC: 9 bps",
          "TC: 9 bps",
          "TC: 9 bps",
          "TC: 9 bps",
          "TC: 9 bps",
          "TC: 9 bps",
          "TC: 9 bps",
          "TC: 9 bps",
          "TC: 9 bps",
          "TC: 9 bps",
          "TC: 9 bps",
          "TC: 9 bps",
          "TC: 9 bps",
          "TC: 9 bps",
          "TC: 9 bps",
          "TC: 9 bps",
          "TC: 9 bps",
          "TC: 9 bps",
          "TC: 9 bps",
          "TC: 10 bps",
          "TC: 10 bps",
          "TC: 10 bps",
          "TC: 10 bps",
          "TC: 10 bps",
          "TC: 10 bps",
          "TC: 10 bps",
          "TC: 10 bps",
          "TC: 10 bps",
          "TC: 10 bps",
          "TC: 10 bps",
          "TC: 10 bps",
          "TC: 10 bps",
          "TC: 10 bps",
          "TC: 10 bps",
          "TC: 10 bps",
          "TC: 10 bps",
          "TC: 10 bps",
          "TC: 10 bps",
          "TC: 10 bps",
          "TC: 10 bps",
          "TC: 10 bps",
          "TC: 10 bps",
          "TC: 10 bps",
          "TC: 10 bps",
          "TC: 10 bps",
          "TC: 10 bps",
          "TC: 10 bps",
          "TC: 10 bps",
          "TC: 10 bps",
          "TC: 10 bps",
          "TC: 10 bps",
          "TC: 10 bps",
          "TC: 10 bps",
          "TC: 10 bps",
          "TC: 10 bps",
          "TC: 10 bps",
          "TC: 10 bps",
          "TC: 10 bps",
          "TC: 10 bps",
          "TC: 10 bps",
          "TC: 10 bps",
          "TC: 10 bps",
          "TC: 10 bps",
          "TC: 10 bps",
          "TC: 10 bps",
          "TC: 10 bps",
          "TC: 10 bps",
          "TC: 10 bps",
          "TC: 10 bps",
          "TC: 10 bps",
          "TC: 10 bps",
          "TC: 10 bps",
          "TC: 10 bps",
          "TC: 10 bps",
          "TC: 10 bps",
          "TC: 10 bps",
          "TC: 10 bps",
          "TC: 10 bps",
          "TC: 10 bps",
          "TC: 10 bps",
          "TC: 10 bps",
          "TC: 10 bps",
          "TC: 10 bps",
          "TC: 10 bps",
          "TC: 10 bps",
          "TC: 10 bps",
          "TC: 10 bps",
          "TC: 10 bps",
          "TC: 10 bps",
          "TC: 10 bps",
          "TC: 10 bps",
          "TC: 10 bps",
          "TC: 10 bps",
          "TC: 10 bps",
          "TC: 10 bps",
          "TC: 10 bps",
          "TC: 10 bps",
          "TC: 10 bps",
          "TC: 10 bps"
         ],
         "x0": " ",
         "xaxis": "x",
         "y": [
          0.6399999856948853,
          null,
          null,
          null,
          null,
          null,
          null,
          null,
          null,
          null,
          null,
          null,
          null,
          null,
          null,
          null,
          null,
          null,
          null,
          null,
          null,
          null,
          null,
          null,
          null,
          null,
          null,
          null,
          null,
          null,
          null,
          null,
          null,
          null,
          null,
          null,
          null,
          null,
          null,
          null,
          null,
          null,
          null,
          null,
          null,
          null,
          null,
          null,
          null,
          null,
          null,
          null,
          null,
          null,
          null,
          null,
          null,
          null,
          null,
          null,
          null,
          null,
          null,
          null,
          null,
          null,
          null,
          null,
          null,
          null,
          null,
          null,
          null,
          null,
          null,
          null,
          null,
          null,
          null,
          null,
          0.6200000047683716,
          0.6299999952316284,
          0.6399999856948853,
          0.6499999761581421,
          0.6600000262260437,
          null,
          null,
          null,
          null,
          null,
          null,
          null,
          null,
          null,
          null,
          null,
          null,
          null,
          null,
          null,
          null,
          null,
          null,
          null,
          null,
          null,
          null,
          null,
          null,
          null,
          null,
          null,
          null,
          null,
          null,
          null,
          null,
          null,
          null,
          null,
          null,
          null,
          null,
          null,
          null,
          null,
          null,
          null,
          null,
          null,
          null,
          null,
          null,
          null,
          null,
          null,
          null,
          null,
          null,
          null,
          null,
          null,
          null,
          null,
          null,
          null,
          null,
          null,
          null,
          null,
          null,
          null,
          null,
          null,
          null,
          null,
          null,
          null,
          null,
          null,
          0.5899999737739563,
          0.6000000238418579,
          0.6100000143051147,
          0.6200000047683716,
          0.6299999952316284,
          0.6399999856948853,
          0.6499999761581421,
          0.6600000262260437,
          0.6700000166893005,
          0.6800000071525574,
          null,
          null,
          null,
          null,
          null,
          null,
          null,
          null,
          null,
          null,
          null,
          null,
          null,
          null,
          null,
          null,
          null,
          null,
          null,
          null,
          null,
          null,
          null,
          null,
          null,
          null,
          null,
          null,
          null,
          null,
          null,
          null,
          null,
          null,
          null,
          null,
          null,
          null,
          null,
          null,
          null,
          null,
          null,
          null,
          null,
          null,
          null,
          null,
          null,
          null,
          null,
          null,
          null,
          null,
          null,
          null,
          null,
          null,
          null,
          null,
          null,
          null,
          null,
          null,
          null,
          null,
          null,
          null,
          null,
          null,
          0.550000011920929,
          0.5600000023841858,
          0.5699999928474426,
          0.5799999833106995,
          0.5899999737739563,
          0.6000000238418579,
          0.6100000143051147,
          0.6200000047683716,
          0.6299999952316284,
          0.6399999856948853,
          0.6499999761581421,
          0.6600000262260437,
          0.6700000166893005,
          0.6800000071525574,
          0.6899999976158142,
          0.699999988079071,
          null,
          null,
          null,
          null,
          null,
          null,
          null,
          null,
          null,
          null,
          null,
          null,
          null,
          null,
          null,
          null,
          null,
          null,
          null,
          null,
          null,
          null,
          null,
          null,
          null,
          null,
          null,
          null,
          null,
          null,
          null,
          null,
          null,
          null,
          null,
          null,
          null,
          null,
          null,
          null,
          null,
          null,
          null,
          null,
          null,
          null,
          null,
          null,
          null,
          null,
          null,
          null,
          null,
          null,
          null,
          null,
          null,
          null,
          null,
          null,
          null,
          null,
          null,
          null,
          0.5,
          0.5099999904632568,
          0.5199999809265137,
          0.5299999713897705,
          0.5400000214576721,
          0.550000011920929,
          0.5600000023841858,
          0.5699999928474426,
          0.5799999833106995,
          0.5899999737739563,
          0.6000000238418579,
          0.6100000143051147,
          0.6200000047683716,
          0.6299999952316284,
          0.6399999856948853,
          0.6499999761581421,
          0.6600000262260437,
          0.6700000166893005,
          0.6800000071525574,
          0.6899999976158142,
          0.699999988079071,
          0.7099999785423279,
          null,
          null,
          null,
          null,
          null,
          null,
          null,
          null,
          null,
          null,
          null,
          null,
          null,
          null,
          null,
          null,
          null,
          null,
          null,
          null,
          null,
          null,
          null,
          null,
          null,
          null,
          null,
          null,
          null,
          null,
          null,
          null,
          null,
          null,
          null,
          null,
          null,
          null,
          null,
          null,
          null,
          null,
          null,
          null,
          null,
          null,
          null,
          null,
          null,
          null,
          null,
          null,
          null,
          null,
          null,
          null,
          null,
          null,
          0.4000000059604645,
          0.4099999964237213,
          0.41999998688697815,
          0.4300000071525574,
          0.4399999976158142,
          0.44999998807907104,
          0.46000000834465027,
          0.4699999988079071,
          0.47999998927116394,
          0.49000000953674316,
          0.5,
          0.5099999904632568,
          0.5199999809265137,
          0.5299999713897705,
          0.5400000214576721,
          0.550000011920929,
          0.5600000023841858,
          0.5699999928474426,
          0.5799999833106995,
          0.5899999737739563,
          0.6000000238418579,
          0.6100000143051147,
          0.6200000047683716,
          0.6299999952316284,
          0.6399999856948853,
          0.6499999761581421,
          0.6600000262260437,
          0.6700000166893005,
          0.6800000071525574,
          0.6899999976158142,
          0.699999988079071,
          0.7099999785423279,
          0.7200000286102295,
          0.7300000190734863,
          null,
          null,
          null,
          null,
          null,
          null,
          null,
          null,
          null,
          null,
          null,
          null,
          null,
          null,
          null,
          null,
          null,
          null,
          null,
          null,
          null,
          null,
          null,
          null,
          null,
          null,
          null,
          null,
          null,
          null,
          null,
          null,
          null,
          null,
          null,
          null,
          null,
          null,
          null,
          null,
          null,
          null,
          null,
          null,
          null,
          null,
          0.009999999776482582,
          0.019999999552965164,
          0.029999999329447746,
          0.03999999910593033,
          0.05000000074505806,
          0.05999999865889549,
          0.07000000029802322,
          0.07999999821186066,
          0.09000000357627869,
          0.10000000149011612,
          0.10999999940395355,
          0.11999999731779099,
          0.12999999523162842,
          0.14000000059604645,
          0.15000000596046448,
          0.1599999964237213,
          0.17000000178813934,
          0.18000000715255737,
          0.1899999976158142,
          0.20000000298023224,
          0.20999999344348907,
          0.2199999988079071,
          0.23000000417232513,
          0.23999999463558197,
          0.25,
          0.25999999046325684,
          0.27000001072883606,
          0.2800000011920929,
          0.28999999165534973,
          0.30000001192092896,
          0.3100000023841858,
          0.3199999928474426,
          0.33000001311302185,
          0.3400000035762787,
          0.3499999940395355,
          0.36000001430511475,
          0.3700000047683716,
          0.3799999952316284,
          0.38999998569488525,
          0.4000000059604645,
          0.4099999964237213,
          0.41999998688697815,
          0.4300000071525574,
          0.4399999976158142,
          0.44999998807907104,
          0.46000000834465027,
          0.4699999988079071,
          0.47999998927116394,
          0.49000000953674316,
          0.5,
          0.5099999904632568,
          0.5199999809265137,
          0.5299999713897705,
          0.5400000214576721,
          0.550000011920929,
          0.5600000023841858,
          0.5699999928474426,
          0.5799999833106995,
          0.5899999737739563,
          0.6000000238418579,
          0.6100000143051147,
          0.6200000047683716,
          0.6299999952316284,
          0.6399999856948853,
          0.6499999761581421,
          0.6600000262260437,
          0.6700000166893005,
          0.6800000071525574,
          0.6899999976158142,
          0.699999988079071,
          0.7099999785423279,
          0.7200000286102295,
          0.7300000190734863,
          0.7400000095367432,
          null,
          null,
          null,
          null,
          null,
          null,
          0.009999999776482582,
          0.019999999552965164,
          0.029999999329447746,
          0.03999999910593033,
          0.05000000074505806,
          0.05999999865889549,
          0.07000000029802322,
          0.07999999821186066,
          0.09000000357627869,
          0.10000000149011612,
          0.10999999940395355,
          0.11999999731779099,
          0.12999999523162842,
          0.14000000059604645,
          0.15000000596046448,
          0.1599999964237213,
          0.17000000178813934,
          0.18000000715255737,
          0.1899999976158142,
          0.20000000298023224,
          0.20999999344348907,
          0.2199999988079071,
          0.23000000417232513,
          0.23999999463558197,
          0.25,
          0.25999999046325684,
          0.27000001072883606,
          0.2800000011920929,
          0.28999999165534973,
          0.30000001192092896,
          0.3100000023841858,
          0.3199999928474426,
          0.33000001311302185,
          0.3400000035762787,
          0.3499999940395355,
          0.36000001430511475,
          0.3700000047683716,
          0.3799999952316284,
          0.38999998569488525,
          0.4000000059604645,
          0.4099999964237213,
          0.41999998688697815,
          0.4300000071525574,
          0.4399999976158142,
          0.44999998807907104,
          0.46000000834465027,
          0.4699999988079071,
          0.47999998927116394,
          0.49000000953674316,
          0.5,
          0.5099999904632568,
          0.5199999809265137,
          0.5299999713897705,
          0.5400000214576721,
          0.550000011920929,
          0.5600000023841858,
          0.5699999928474426,
          0.5799999833106995,
          0.5899999737739563,
          0.6000000238418579,
          0.6100000143051147,
          0.6200000047683716,
          0.6299999952316284,
          0.6399999856948853,
          0.6499999761581421,
          0.6600000262260437,
          0.6700000166893005,
          0.6800000071525574,
          0.6899999976158142,
          0.699999988079071,
          0.7099999785423279,
          0.7200000286102295,
          0.7300000190734863,
          0.7400000095367432,
          0.75,
          0.7599999904632568,
          null,
          null,
          null,
          null,
          0.009999999776482582,
          0.019999999552965164,
          0.029999999329447746,
          0.03999999910593033,
          0.05000000074505806,
          0.05999999865889549,
          0.07000000029802322,
          0.07999999821186066,
          0.09000000357627869,
          0.10000000149011612,
          0.10999999940395355,
          0.11999999731779099,
          0.12999999523162842,
          0.14000000059604645,
          0.15000000596046448,
          0.1599999964237213,
          0.17000000178813934,
          0.18000000715255737,
          0.1899999976158142,
          0.20000000298023224,
          0.20999999344348907,
          0.2199999988079071,
          0.23000000417232513,
          0.23999999463558197,
          0.25,
          0.25999999046325684,
          0.27000001072883606,
          0.2800000011920929,
          0.28999999165534973,
          0.30000001192092896,
          0.3100000023841858,
          0.3199999928474426,
          0.33000001311302185,
          0.3400000035762787,
          0.3499999940395355,
          0.36000001430511475,
          0.3700000047683716,
          0.3799999952316284,
          0.38999998569488525,
          0.4000000059604645,
          0.4099999964237213,
          0.41999998688697815,
          0.4300000071525574,
          0.4399999976158142,
          0.44999998807907104,
          0.46000000834465027,
          0.4699999988079071,
          0.47999998927116394,
          0.49000000953674316,
          0.5,
          0.5099999904632568,
          0.5199999809265137,
          0.5299999713897705,
          0.5400000214576721,
          0.550000011920929,
          0.5600000023841858,
          0.5699999928474426,
          0.5799999833106995,
          0.5899999737739563,
          0.6000000238418579,
          0.6100000143051147,
          0.6200000047683716,
          0.6299999952316284,
          0.6399999856948853,
          0.6499999761581421,
          0.6600000262260437,
          0.6700000166893005,
          0.6800000071525574,
          0.6899999976158142,
          0.699999988079071,
          0.7099999785423279,
          0.7200000286102295,
          0.7300000190734863,
          0.7400000095367432,
          0.75,
          0.7599999904632568,
          0.7699999809265137,
          null,
          null,
          null,
          0.009999999776482582,
          0.019999999552965164,
          0.029999999329447746,
          0.03999999910593033,
          0.05000000074505806,
          0.05999999865889549,
          0.07000000029802322,
          0.07999999821186066,
          0.09000000357627869,
          0.10000000149011612,
          0.10999999940395355,
          0.11999999731779099,
          0.12999999523162842,
          0.14000000059604645,
          0.15000000596046448,
          0.1599999964237213,
          0.17000000178813934,
          0.18000000715255737,
          0.1899999976158142,
          0.20000000298023224,
          0.20999999344348907,
          0.2199999988079071,
          0.23000000417232513,
          0.23999999463558197,
          0.25,
          0.25999999046325684,
          0.27000001072883606,
          0.2800000011920929,
          0.28999999165534973,
          0.30000001192092896,
          0.3100000023841858,
          0.3199999928474426,
          0.33000001311302185,
          0.3400000035762787,
          0.3499999940395355,
          0.36000001430511475,
          0.3700000047683716,
          0.3799999952316284,
          0.38999998569488525,
          0.4000000059604645,
          0.4099999964237213,
          0.41999998688697815,
          0.4300000071525574,
          0.4399999976158142,
          0.44999998807907104,
          0.46000000834465027,
          0.4699999988079071,
          0.47999998927116394,
          0.49000000953674316,
          0.5,
          0.5099999904632568,
          0.5199999809265137,
          0.5299999713897705,
          0.5400000214576721,
          0.550000011920929,
          0.5600000023841858,
          0.5699999928474426,
          0.5799999833106995,
          0.5899999737739563,
          0.6000000238418579,
          0.6100000143051147,
          0.6200000047683716,
          0.6299999952316284,
          0.6399999856948853,
          0.6499999761581421,
          0.6600000262260437,
          0.6700000166893005,
          0.6800000071525574,
          0.6899999976158142,
          0.699999988079071,
          0.7099999785423279,
          0.7200000286102295,
          0.7300000190734863,
          0.7400000095367432,
          0.75,
          0.7599999904632568,
          0.7699999809265137,
          0.7799999713897705,
          null,
          null,
          0.009999999776482582,
          0.019999999552965164,
          0.029999999329447746,
          0.03999999910593033,
          0.05000000074505806,
          0.05999999865889549,
          0.07000000029802322,
          0.07999999821186066,
          0.09000000357627869,
          0.10000000149011612,
          0.10999999940395355,
          0.11999999731779099,
          0.12999999523162842,
          0.14000000059604645,
          0.15000000596046448,
          0.1599999964237213,
          0.17000000178813934,
          0.18000000715255737,
          0.1899999976158142,
          0.20000000298023224,
          0.20999999344348907,
          0.2199999988079071,
          0.23000000417232513,
          0.23999999463558197,
          0.25,
          0.25999999046325684,
          0.27000001072883606,
          0.2800000011920929,
          0.28999999165534973,
          0.30000001192092896,
          0.3100000023841858,
          0.3199999928474426,
          0.33000001311302185,
          0.3400000035762787,
          0.3499999940395355,
          0.36000001430511475,
          0.3700000047683716,
          0.3799999952316284,
          0.38999998569488525,
          0.4000000059604645,
          0.4099999964237213,
          0.41999998688697815,
          0.4300000071525574,
          0.4399999976158142,
          0.44999998807907104,
          0.46000000834465027,
          0.4699999988079071,
          0.47999998927116394,
          0.49000000953674316,
          0.5,
          0.5099999904632568,
          0.5199999809265137,
          0.5299999713897705,
          0.5400000214576721,
          0.550000011920929,
          0.5600000023841858,
          0.5699999928474426,
          0.5799999833106995,
          0.5899999737739563,
          0.6000000238418579,
          0.6100000143051147,
          0.6200000047683716,
          0.6299999952316284,
          0.6399999856948853,
          0.6499999761581421,
          0.6600000262260437,
          0.6700000166893005,
          0.6800000071525574,
          0.6899999976158142,
          0.699999988079071,
          0.7099999785423279,
          0.7200000286102295,
          0.7300000190734863,
          0.7400000095367432,
          0.75,
          0.7599999904632568,
          0.7699999809265137,
          0.7799999713897705,
          0.7900000214576721,
          0.800000011920929
         ],
         "y0": " ",
         "yaxis": "y",
         "type": "box"
        }
       ],
       "layout": {
        "template": {
         "data": {
          "histogram2dcontour": [
           {
            "type": "histogram2dcontour",
            "colorbar": {
             "outlinewidth": 0,
             "ticks": ""
            },
            "colorscale": [
             [
              0.0,
              "#0d0887"
             ],
             [
              0.1111111111111111,
              "#46039f"
             ],
             [
              0.2222222222222222,
              "#7201a8"
             ],
             [
              0.3333333333333333,
              "#9c179e"
             ],
             [
              0.4444444444444444,
              "#bd3786"
             ],
             [
              0.5555555555555556,
              "#d8576b"
             ],
             [
              0.6666666666666666,
              "#ed7953"
             ],
             [
              0.7777777777777778,
              "#fb9f3a"
             ],
             [
              0.8888888888888888,
              "#fdca26"
             ],
             [
              1.0,
              "#f0f921"
             ]
            ]
           }
          ],
          "choropleth": [
           {
            "type": "choropleth",
            "colorbar": {
             "outlinewidth": 0,
             "ticks": ""
            }
           }
          ],
          "histogram2d": [
           {
            "type": "histogram2d",
            "colorbar": {
             "outlinewidth": 0,
             "ticks": ""
            },
            "colorscale": [
             [
              0.0,
              "#0d0887"
             ],
             [
              0.1111111111111111,
              "#46039f"
             ],
             [
              0.2222222222222222,
              "#7201a8"
             ],
             [
              0.3333333333333333,
              "#9c179e"
             ],
             [
              0.4444444444444444,
              "#bd3786"
             ],
             [
              0.5555555555555556,
              "#d8576b"
             ],
             [
              0.6666666666666666,
              "#ed7953"
             ],
             [
              0.7777777777777778,
              "#fb9f3a"
             ],
             [
              0.8888888888888888,
              "#fdca26"
             ],
             [
              1.0,
              "#f0f921"
             ]
            ]
           }
          ],
          "heatmap": [
           {
            "type": "heatmap",
            "colorbar": {
             "outlinewidth": 0,
             "ticks": ""
            },
            "colorscale": [
             [
              0.0,
              "#0d0887"
             ],
             [
              0.1111111111111111,
              "#46039f"
             ],
             [
              0.2222222222222222,
              "#7201a8"
             ],
             [
              0.3333333333333333,
              "#9c179e"
             ],
             [
              0.4444444444444444,
              "#bd3786"
             ],
             [
              0.5555555555555556,
              "#d8576b"
             ],
             [
              0.6666666666666666,
              "#ed7953"
             ],
             [
              0.7777777777777778,
              "#fb9f3a"
             ],
             [
              0.8888888888888888,
              "#fdca26"
             ],
             [
              1.0,
              "#f0f921"
             ]
            ]
           }
          ],
          "heatmapgl": [
           {
            "type": "heatmapgl",
            "colorbar": {
             "outlinewidth": 0,
             "ticks": ""
            },
            "colorscale": [
             [
              0.0,
              "#0d0887"
             ],
             [
              0.1111111111111111,
              "#46039f"
             ],
             [
              0.2222222222222222,
              "#7201a8"
             ],
             [
              0.3333333333333333,
              "#9c179e"
             ],
             [
              0.4444444444444444,
              "#bd3786"
             ],
             [
              0.5555555555555556,
              "#d8576b"
             ],
             [
              0.6666666666666666,
              "#ed7953"
             ],
             [
              0.7777777777777778,
              "#fb9f3a"
             ],
             [
              0.8888888888888888,
              "#fdca26"
             ],
             [
              1.0,
              "#f0f921"
             ]
            ]
           }
          ],
          "contourcarpet": [
           {
            "type": "contourcarpet",
            "colorbar": {
             "outlinewidth": 0,
             "ticks": ""
            }
           }
          ],
          "contour": [
           {
            "type": "contour",
            "colorbar": {
             "outlinewidth": 0,
             "ticks": ""
            },
            "colorscale": [
             [
              0.0,
              "#0d0887"
             ],
             [
              0.1111111111111111,
              "#46039f"
             ],
             [
              0.2222222222222222,
              "#7201a8"
             ],
             [
              0.3333333333333333,
              "#9c179e"
             ],
             [
              0.4444444444444444,
              "#bd3786"
             ],
             [
              0.5555555555555556,
              "#d8576b"
             ],
             [
              0.6666666666666666,
              "#ed7953"
             ],
             [
              0.7777777777777778,
              "#fb9f3a"
             ],
             [
              0.8888888888888888,
              "#fdca26"
             ],
             [
              1.0,
              "#f0f921"
             ]
            ]
           }
          ],
          "surface": [
           {
            "type": "surface",
            "colorbar": {
             "outlinewidth": 0,
             "ticks": ""
            },
            "colorscale": [
             [
              0.0,
              "#0d0887"
             ],
             [
              0.1111111111111111,
              "#46039f"
             ],
             [
              0.2222222222222222,
              "#7201a8"
             ],
             [
              0.3333333333333333,
              "#9c179e"
             ],
             [
              0.4444444444444444,
              "#bd3786"
             ],
             [
              0.5555555555555556,
              "#d8576b"
             ],
             [
              0.6666666666666666,
              "#ed7953"
             ],
             [
              0.7777777777777778,
              "#fb9f3a"
             ],
             [
              0.8888888888888888,
              "#fdca26"
             ],
             [
              1.0,
              "#f0f921"
             ]
            ]
           }
          ],
          "mesh3d": [
           {
            "type": "mesh3d",
            "colorbar": {
             "outlinewidth": 0,
             "ticks": ""
            }
           }
          ],
          "scatter": [
           {
            "marker": {
             "line": {
              "color": "#283442"
             }
            },
            "type": "scatter"
           }
          ],
          "parcoords": [
           {
            "type": "parcoords",
            "line": {
             "colorbar": {
              "outlinewidth": 0,
              "ticks": ""
             }
            }
           }
          ],
          "scatterpolargl": [
           {
            "type": "scatterpolargl",
            "marker": {
             "colorbar": {
              "outlinewidth": 0,
              "ticks": ""
             }
            }
           }
          ],
          "bar": [
           {
            "error_x": {
             "color": "#f2f5fa"
            },
            "error_y": {
             "color": "#f2f5fa"
            },
            "marker": {
             "line": {
              "color": "rgb(17,17,17)",
              "width": 0.5
             },
             "pattern": {
              "fillmode": "overlay",
              "size": 10,
              "solidity": 0.2
             }
            },
            "type": "bar"
           }
          ],
          "scattergeo": [
           {
            "type": "scattergeo",
            "marker": {
             "colorbar": {
              "outlinewidth": 0,
              "ticks": ""
             }
            }
           }
          ],
          "scatterpolar": [
           {
            "type": "scatterpolar",
            "marker": {
             "colorbar": {
              "outlinewidth": 0,
              "ticks": ""
             }
            }
           }
          ],
          "histogram": [
           {
            "marker": {
             "pattern": {
              "fillmode": "overlay",
              "size": 10,
              "solidity": 0.2
             }
            },
            "type": "histogram"
           }
          ],
          "scattergl": [
           {
            "marker": {
             "line": {
              "color": "#283442"
             }
            },
            "type": "scattergl"
           }
          ],
          "scatter3d": [
           {
            "type": "scatter3d",
            "line": {
             "colorbar": {
              "outlinewidth": 0,
              "ticks": ""
             }
            },
            "marker": {
             "colorbar": {
              "outlinewidth": 0,
              "ticks": ""
             }
            }
           }
          ],
          "scattermapbox": [
           {
            "type": "scattermapbox",
            "marker": {
             "colorbar": {
              "outlinewidth": 0,
              "ticks": ""
             }
            }
           }
          ],
          "scatterternary": [
           {
            "type": "scatterternary",
            "marker": {
             "colorbar": {
              "outlinewidth": 0,
              "ticks": ""
             }
            }
           }
          ],
          "scattercarpet": [
           {
            "type": "scattercarpet",
            "marker": {
             "colorbar": {
              "outlinewidth": 0,
              "ticks": ""
             }
            }
           }
          ],
          "carpet": [
           {
            "aaxis": {
             "endlinecolor": "#A2B1C6",
             "gridcolor": "#506784",
             "linecolor": "#506784",
             "minorgridcolor": "#506784",
             "startlinecolor": "#A2B1C6"
            },
            "baxis": {
             "endlinecolor": "#A2B1C6",
             "gridcolor": "#506784",
             "linecolor": "#506784",
             "minorgridcolor": "#506784",
             "startlinecolor": "#A2B1C6"
            },
            "type": "carpet"
           }
          ],
          "table": [
           {
            "cells": {
             "fill": {
              "color": "#506784"
             },
             "line": {
              "color": "rgb(17,17,17)"
             }
            },
            "header": {
             "fill": {
              "color": "#2a3f5f"
             },
             "line": {
              "color": "rgb(17,17,17)"
             }
            },
            "type": "table"
           }
          ],
          "barpolar": [
           {
            "marker": {
             "line": {
              "color": "rgb(17,17,17)",
              "width": 0.5
             },
             "pattern": {
              "fillmode": "overlay",
              "size": 10,
              "solidity": 0.2
             }
            },
            "type": "barpolar"
           }
          ],
          "pie": [
           {
            "automargin": true,
            "type": "pie"
           }
          ]
         },
         "layout": {
          "autotypenumbers": "strict",
          "colorway": [
           "#636efa",
           "#EF553B",
           "#00cc96",
           "#ab63fa",
           "#FFA15A",
           "#19d3f3",
           "#FF6692",
           "#B6E880",
           "#FF97FF",
           "#FECB52"
          ],
          "font": {
           "color": "#f2f5fa"
          },
          "hovermode": "closest",
          "hoverlabel": {
           "align": "left"
          },
          "paper_bgcolor": "rgb(17,17,17)",
          "plot_bgcolor": "rgb(17,17,17)",
          "polar": {
           "bgcolor": "rgb(17,17,17)",
           "angularaxis": {
            "gridcolor": "#506784",
            "linecolor": "#506784",
            "ticks": ""
           },
           "radialaxis": {
            "gridcolor": "#506784",
            "linecolor": "#506784",
            "ticks": ""
           }
          },
          "ternary": {
           "bgcolor": "rgb(17,17,17)",
           "aaxis": {
            "gridcolor": "#506784",
            "linecolor": "#506784",
            "ticks": ""
           },
           "baxis": {
            "gridcolor": "#506784",
            "linecolor": "#506784",
            "ticks": ""
           },
           "caxis": {
            "gridcolor": "#506784",
            "linecolor": "#506784",
            "ticks": ""
           }
          },
          "coloraxis": {
           "colorbar": {
            "outlinewidth": 0,
            "ticks": ""
           }
          },
          "colorscale": {
           "sequential": [
            [
             0.0,
             "#0d0887"
            ],
            [
             0.1111111111111111,
             "#46039f"
            ],
            [
             0.2222222222222222,
             "#7201a8"
            ],
            [
             0.3333333333333333,
             "#9c179e"
            ],
            [
             0.4444444444444444,
             "#bd3786"
            ],
            [
             0.5555555555555556,
             "#d8576b"
            ],
            [
             0.6666666666666666,
             "#ed7953"
            ],
            [
             0.7777777777777778,
             "#fb9f3a"
            ],
            [
             0.8888888888888888,
             "#fdca26"
            ],
            [
             1.0,
             "#f0f921"
            ]
           ],
           "sequentialminus": [
            [
             0.0,
             "#0d0887"
            ],
            [
             0.1111111111111111,
             "#46039f"
            ],
            [
             0.2222222222222222,
             "#7201a8"
            ],
            [
             0.3333333333333333,
             "#9c179e"
            ],
            [
             0.4444444444444444,
             "#bd3786"
            ],
            [
             0.5555555555555556,
             "#d8576b"
            ],
            [
             0.6666666666666666,
             "#ed7953"
            ],
            [
             0.7777777777777778,
             "#fb9f3a"
            ],
            [
             0.8888888888888888,
             "#fdca26"
            ],
            [
             1.0,
             "#f0f921"
            ]
           ],
           "diverging": [
            [
             0,
             "#8e0152"
            ],
            [
             0.1,
             "#c51b7d"
            ],
            [
             0.2,
             "#de77ae"
            ],
            [
             0.3,
             "#f1b6da"
            ],
            [
             0.4,
             "#fde0ef"
            ],
            [
             0.5,
             "#f7f7f7"
            ],
            [
             0.6,
             "#e6f5d0"
            ],
            [
             0.7,
             "#b8e186"
            ],
            [
             0.8,
             "#7fbc41"
            ],
            [
             0.9,
             "#4d9221"
            ],
            [
             1,
             "#276419"
            ]
           ]
          },
          "xaxis": {
           "gridcolor": "#283442",
           "linecolor": "#506784",
           "ticks": "",
           "title": {
            "standoff": 15
           },
           "zerolinecolor": "#283442",
           "automargin": true,
           "zerolinewidth": 2
          },
          "yaxis": {
           "gridcolor": "#283442",
           "linecolor": "#506784",
           "ticks": "",
           "title": {
            "standoff": 15
           },
           "zerolinecolor": "#283442",
           "automargin": true,
           "zerolinewidth": 2
          },
          "scene": {
           "xaxis": {
            "backgroundcolor": "rgb(17,17,17)",
            "gridcolor": "#506784",
            "linecolor": "#506784",
            "showbackground": true,
            "ticks": "",
            "zerolinecolor": "#C8D4E3",
            "gridwidth": 2
           },
           "yaxis": {
            "backgroundcolor": "rgb(17,17,17)",
            "gridcolor": "#506784",
            "linecolor": "#506784",
            "showbackground": true,
            "ticks": "",
            "zerolinecolor": "#C8D4E3",
            "gridwidth": 2
           },
           "zaxis": {
            "backgroundcolor": "rgb(17,17,17)",
            "gridcolor": "#506784",
            "linecolor": "#506784",
            "showbackground": true,
            "ticks": "",
            "zerolinecolor": "#C8D4E3",
            "gridwidth": 2
           }
          },
          "shapedefaults": {
           "line": {
            "color": "#f2f5fa"
           }
          },
          "annotationdefaults": {
           "arrowcolor": "#f2f5fa",
           "arrowhead": 0,
           "arrowwidth": 1
          },
          "geo": {
           "bgcolor": "rgb(17,17,17)",
           "landcolor": "rgb(17,17,17)",
           "subunitcolor": "#506784",
           "showland": true,
           "showlakes": true,
           "lakecolor": "rgb(17,17,17)"
          },
          "title": {
           "x": 0.05
          },
          "updatemenudefaults": {
           "bgcolor": "#506784",
           "borderwidth": 0
          },
          "sliderdefaults": {
           "bgcolor": "#C8D4E3",
           "borderwidth": 1,
           "bordercolor": "rgb(17,17,17)",
           "tickwidth": 0
          },
          "mapbox": {
           "style": "dark"
          }
         }
        },
        "xaxis": {
         "anchor": "y",
         "domain": [
          0.0,
          1.0
         ],
         "title": {
          "text": "variable"
         }
        },
        "yaxis": {
         "anchor": "x",
         "domain": [
          0.0,
          1.0
         ],
         "title": {
          "text": "value"
         }
        },
        "legend": {
         "tracegroupgap": 0
        },
        "title": {
         "text": "Box Plot of Data"
        },
        "boxmode": "group"
       },
       "config": {
        "plotlyServerURL": "https://plot.ly"
       }
      },
      "text/html": "<div>                            <div id=\"281a54e6-6a5e-45ce-ab9a-1f02a1168feb\" class=\"plotly-graph-div\" style=\"height:525px; width:100%;\"></div>            <script type=\"text/javascript\">                require([\"plotly\"], function(Plotly) {                    window.PLOTLYENV=window.PLOTLYENV || {};                                    if (document.getElementById(\"281a54e6-6a5e-45ce-ab9a-1f02a1168feb\")) {                    Plotly.newPlot(                        \"281a54e6-6a5e-45ce-ab9a-1f02a1168feb\",                        [{\"alignmentgroup\":\"True\",\"hovertemplate\":\"variable=%{x}\\u003cbr\\u003evalue=%{y}\\u003cextra\\u003e\\u003c\\u002fextra\\u003e\",\"legendgroup\":\"\",\"marker\":{\"color\":\"#636efa\"},\"name\":\"\",\"notched\":false,\"offsetgroup\":\"\",\"orientation\":\"v\",\"showlegend\":false,\"x\":[\"TC: 0 bps\",\"TC: 0 bps\",\"TC: 0 bps\",\"TC: 0 bps\",\"TC: 0 bps\",\"TC: 0 bps\",\"TC: 0 bps\",\"TC: 0 bps\",\"TC: 0 bps\",\"TC: 0 bps\",\"TC: 0 bps\",\"TC: 0 bps\",\"TC: 0 bps\",\"TC: 0 bps\",\"TC: 0 bps\",\"TC: 0 bps\",\"TC: 0 bps\",\"TC: 0 bps\",\"TC: 0 bps\",\"TC: 0 bps\",\"TC: 0 bps\",\"TC: 0 bps\",\"TC: 0 bps\",\"TC: 0 bps\",\"TC: 0 bps\",\"TC: 0 bps\",\"TC: 0 bps\",\"TC: 0 bps\",\"TC: 0 bps\",\"TC: 0 bps\",\"TC: 0 bps\",\"TC: 0 bps\",\"TC: 0 bps\",\"TC: 0 bps\",\"TC: 0 bps\",\"TC: 0 bps\",\"TC: 0 bps\",\"TC: 0 bps\",\"TC: 0 bps\",\"TC: 0 bps\",\"TC: 0 bps\",\"TC: 0 bps\",\"TC: 0 bps\",\"TC: 0 bps\",\"TC: 0 bps\",\"TC: 0 bps\",\"TC: 0 bps\",\"TC: 0 bps\",\"TC: 0 bps\",\"TC: 0 bps\",\"TC: 0 bps\",\"TC: 0 bps\",\"TC: 0 bps\",\"TC: 0 bps\",\"TC: 0 bps\",\"TC: 0 bps\",\"TC: 0 bps\",\"TC: 0 bps\",\"TC: 0 bps\",\"TC: 0 bps\",\"TC: 0 bps\",\"TC: 0 bps\",\"TC: 0 bps\",\"TC: 0 bps\",\"TC: 0 bps\",\"TC: 0 bps\",\"TC: 0 bps\",\"TC: 0 bps\",\"TC: 0 bps\",\"TC: 0 bps\",\"TC: 0 bps\",\"TC: 0 bps\",\"TC: 0 bps\",\"TC: 0 bps\",\"TC: 0 bps\",\"TC: 0 bps\",\"TC: 0 bps\",\"TC: 0 bps\",\"TC: 0 bps\",\"TC: 0 bps\",\"TC: 1 bps\",\"TC: 1 bps\",\"TC: 1 bps\",\"TC: 1 bps\",\"TC: 1 bps\",\"TC: 1 bps\",\"TC: 1 bps\",\"TC: 1 bps\",\"TC: 1 bps\",\"TC: 1 bps\",\"TC: 1 bps\",\"TC: 1 bps\",\"TC: 1 bps\",\"TC: 1 bps\",\"TC: 1 bps\",\"TC: 1 bps\",\"TC: 1 bps\",\"TC: 1 bps\",\"TC: 1 bps\",\"TC: 1 bps\",\"TC: 1 bps\",\"TC: 1 bps\",\"TC: 1 bps\",\"TC: 1 bps\",\"TC: 1 bps\",\"TC: 1 bps\",\"TC: 1 bps\",\"TC: 1 bps\",\"TC: 1 bps\",\"TC: 1 bps\",\"TC: 1 bps\",\"TC: 1 bps\",\"TC: 1 bps\",\"TC: 1 bps\",\"TC: 1 bps\",\"TC: 1 bps\",\"TC: 1 bps\",\"TC: 1 bps\",\"TC: 1 bps\",\"TC: 1 bps\",\"TC: 1 bps\",\"TC: 1 bps\",\"TC: 1 bps\",\"TC: 1 bps\",\"TC: 1 bps\",\"TC: 1 bps\",\"TC: 1 bps\",\"TC: 1 bps\",\"TC: 1 bps\",\"TC: 1 bps\",\"TC: 1 bps\",\"TC: 1 bps\",\"TC: 1 bps\",\"TC: 1 bps\",\"TC: 1 bps\",\"TC: 1 bps\",\"TC: 1 bps\",\"TC: 1 bps\",\"TC: 1 bps\",\"TC: 1 bps\",\"TC: 1 bps\",\"TC: 1 bps\",\"TC: 1 bps\",\"TC: 1 bps\",\"TC: 1 bps\",\"TC: 1 bps\",\"TC: 1 bps\",\"TC: 1 bps\",\"TC: 1 bps\",\"TC: 1 bps\",\"TC: 1 bps\",\"TC: 1 bps\",\"TC: 1 bps\",\"TC: 1 bps\",\"TC: 1 bps\",\"TC: 1 bps\",\"TC: 1 bps\",\"TC: 1 bps\",\"TC: 1 bps\",\"TC: 1 bps\",\"TC: 2 bps\",\"TC: 2 bps\",\"TC: 2 bps\",\"TC: 2 bps\",\"TC: 2 bps\",\"TC: 2 bps\",\"TC: 2 bps\",\"TC: 2 bps\",\"TC: 2 bps\",\"TC: 2 bps\",\"TC: 2 bps\",\"TC: 2 bps\",\"TC: 2 bps\",\"TC: 2 bps\",\"TC: 2 bps\",\"TC: 2 bps\",\"TC: 2 bps\",\"TC: 2 bps\",\"TC: 2 bps\",\"TC: 2 bps\",\"TC: 2 bps\",\"TC: 2 bps\",\"TC: 2 bps\",\"TC: 2 bps\",\"TC: 2 bps\",\"TC: 2 bps\",\"TC: 2 bps\",\"TC: 2 bps\",\"TC: 2 bps\",\"TC: 2 bps\",\"TC: 2 bps\",\"TC: 2 bps\",\"TC: 2 bps\",\"TC: 2 bps\",\"TC: 2 bps\",\"TC: 2 bps\",\"TC: 2 bps\",\"TC: 2 bps\",\"TC: 2 bps\",\"TC: 2 bps\",\"TC: 2 bps\",\"TC: 2 bps\",\"TC: 2 bps\",\"TC: 2 bps\",\"TC: 2 bps\",\"TC: 2 bps\",\"TC: 2 bps\",\"TC: 2 bps\",\"TC: 2 bps\",\"TC: 2 bps\",\"TC: 2 bps\",\"TC: 2 bps\",\"TC: 2 bps\",\"TC: 2 bps\",\"TC: 2 bps\",\"TC: 2 bps\",\"TC: 2 bps\",\"TC: 2 bps\",\"TC: 2 bps\",\"TC: 2 bps\",\"TC: 2 bps\",\"TC: 2 bps\",\"TC: 2 bps\",\"TC: 2 bps\",\"TC: 2 bps\",\"TC: 2 bps\",\"TC: 2 bps\",\"TC: 2 bps\",\"TC: 2 bps\",\"TC: 2 bps\",\"TC: 2 bps\",\"TC: 2 bps\",\"TC: 2 bps\",\"TC: 2 bps\",\"TC: 2 bps\",\"TC: 2 bps\",\"TC: 2 bps\",\"TC: 2 bps\",\"TC: 2 bps\",\"TC: 2 bps\",\"TC: 3 bps\",\"TC: 3 bps\",\"TC: 3 bps\",\"TC: 3 bps\",\"TC: 3 bps\",\"TC: 3 bps\",\"TC: 3 bps\",\"TC: 3 bps\",\"TC: 3 bps\",\"TC: 3 bps\",\"TC: 3 bps\",\"TC: 3 bps\",\"TC: 3 bps\",\"TC: 3 bps\",\"TC: 3 bps\",\"TC: 3 bps\",\"TC: 3 bps\",\"TC: 3 bps\",\"TC: 3 bps\",\"TC: 3 bps\",\"TC: 3 bps\",\"TC: 3 bps\",\"TC: 3 bps\",\"TC: 3 bps\",\"TC: 3 bps\",\"TC: 3 bps\",\"TC: 3 bps\",\"TC: 3 bps\",\"TC: 3 bps\",\"TC: 3 bps\",\"TC: 3 bps\",\"TC: 3 bps\",\"TC: 3 bps\",\"TC: 3 bps\",\"TC: 3 bps\",\"TC: 3 bps\",\"TC: 3 bps\",\"TC: 3 bps\",\"TC: 3 bps\",\"TC: 3 bps\",\"TC: 3 bps\",\"TC: 3 bps\",\"TC: 3 bps\",\"TC: 3 bps\",\"TC: 3 bps\",\"TC: 3 bps\",\"TC: 3 bps\",\"TC: 3 bps\",\"TC: 3 bps\",\"TC: 3 bps\",\"TC: 3 bps\",\"TC: 3 bps\",\"TC: 3 bps\",\"TC: 3 bps\",\"TC: 3 bps\",\"TC: 3 bps\",\"TC: 3 bps\",\"TC: 3 bps\",\"TC: 3 bps\",\"TC: 3 bps\",\"TC: 3 bps\",\"TC: 3 bps\",\"TC: 3 bps\",\"TC: 3 bps\",\"TC: 3 bps\",\"TC: 3 bps\",\"TC: 3 bps\",\"TC: 3 bps\",\"TC: 3 bps\",\"TC: 3 bps\",\"TC: 3 bps\",\"TC: 3 bps\",\"TC: 3 bps\",\"TC: 3 bps\",\"TC: 3 bps\",\"TC: 3 bps\",\"TC: 3 bps\",\"TC: 3 bps\",\"TC: 3 bps\",\"TC: 3 bps\",\"TC: 4 bps\",\"TC: 4 bps\",\"TC: 4 bps\",\"TC: 4 bps\",\"TC: 4 bps\",\"TC: 4 bps\",\"TC: 4 bps\",\"TC: 4 bps\",\"TC: 4 bps\",\"TC: 4 bps\",\"TC: 4 bps\",\"TC: 4 bps\",\"TC: 4 bps\",\"TC: 4 bps\",\"TC: 4 bps\",\"TC: 4 bps\",\"TC: 4 bps\",\"TC: 4 bps\",\"TC: 4 bps\",\"TC: 4 bps\",\"TC: 4 bps\",\"TC: 4 bps\",\"TC: 4 bps\",\"TC: 4 bps\",\"TC: 4 bps\",\"TC: 4 bps\",\"TC: 4 bps\",\"TC: 4 bps\",\"TC: 4 bps\",\"TC: 4 bps\",\"TC: 4 bps\",\"TC: 4 bps\",\"TC: 4 bps\",\"TC: 4 bps\",\"TC: 4 bps\",\"TC: 4 bps\",\"TC: 4 bps\",\"TC: 4 bps\",\"TC: 4 bps\",\"TC: 4 bps\",\"TC: 4 bps\",\"TC: 4 bps\",\"TC: 4 bps\",\"TC: 4 bps\",\"TC: 4 bps\",\"TC: 4 bps\",\"TC: 4 bps\",\"TC: 4 bps\",\"TC: 4 bps\",\"TC: 4 bps\",\"TC: 4 bps\",\"TC: 4 bps\",\"TC: 4 bps\",\"TC: 4 bps\",\"TC: 4 bps\",\"TC: 4 bps\",\"TC: 4 bps\",\"TC: 4 bps\",\"TC: 4 bps\",\"TC: 4 bps\",\"TC: 4 bps\",\"TC: 4 bps\",\"TC: 4 bps\",\"TC: 4 bps\",\"TC: 4 bps\",\"TC: 4 bps\",\"TC: 4 bps\",\"TC: 4 bps\",\"TC: 4 bps\",\"TC: 4 bps\",\"TC: 4 bps\",\"TC: 4 bps\",\"TC: 4 bps\",\"TC: 4 bps\",\"TC: 4 bps\",\"TC: 4 bps\",\"TC: 4 bps\",\"TC: 4 bps\",\"TC: 4 bps\",\"TC: 4 bps\",\"TC: 5 bps\",\"TC: 5 bps\",\"TC: 5 bps\",\"TC: 5 bps\",\"TC: 5 bps\",\"TC: 5 bps\",\"TC: 5 bps\",\"TC: 5 bps\",\"TC: 5 bps\",\"TC: 5 bps\",\"TC: 5 bps\",\"TC: 5 bps\",\"TC: 5 bps\",\"TC: 5 bps\",\"TC: 5 bps\",\"TC: 5 bps\",\"TC: 5 bps\",\"TC: 5 bps\",\"TC: 5 bps\",\"TC: 5 bps\",\"TC: 5 bps\",\"TC: 5 bps\",\"TC: 5 bps\",\"TC: 5 bps\",\"TC: 5 bps\",\"TC: 5 bps\",\"TC: 5 bps\",\"TC: 5 bps\",\"TC: 5 bps\",\"TC: 5 bps\",\"TC: 5 bps\",\"TC: 5 bps\",\"TC: 5 bps\",\"TC: 5 bps\",\"TC: 5 bps\",\"TC: 5 bps\",\"TC: 5 bps\",\"TC: 5 bps\",\"TC: 5 bps\",\"TC: 5 bps\",\"TC: 5 bps\",\"TC: 5 bps\",\"TC: 5 bps\",\"TC: 5 bps\",\"TC: 5 bps\",\"TC: 5 bps\",\"TC: 5 bps\",\"TC: 5 bps\",\"TC: 5 bps\",\"TC: 5 bps\",\"TC: 5 bps\",\"TC: 5 bps\",\"TC: 5 bps\",\"TC: 5 bps\",\"TC: 5 bps\",\"TC: 5 bps\",\"TC: 5 bps\",\"TC: 5 bps\",\"TC: 5 bps\",\"TC: 5 bps\",\"TC: 5 bps\",\"TC: 5 bps\",\"TC: 5 bps\",\"TC: 5 bps\",\"TC: 5 bps\",\"TC: 5 bps\",\"TC: 5 bps\",\"TC: 5 bps\",\"TC: 5 bps\",\"TC: 5 bps\",\"TC: 5 bps\",\"TC: 5 bps\",\"TC: 5 bps\",\"TC: 5 bps\",\"TC: 5 bps\",\"TC: 5 bps\",\"TC: 5 bps\",\"TC: 5 bps\",\"TC: 5 bps\",\"TC: 5 bps\",\"TC: 6 bps\",\"TC: 6 bps\",\"TC: 6 bps\",\"TC: 6 bps\",\"TC: 6 bps\",\"TC: 6 bps\",\"TC: 6 bps\",\"TC: 6 bps\",\"TC: 6 bps\",\"TC: 6 bps\",\"TC: 6 bps\",\"TC: 6 bps\",\"TC: 6 bps\",\"TC: 6 bps\",\"TC: 6 bps\",\"TC: 6 bps\",\"TC: 6 bps\",\"TC: 6 bps\",\"TC: 6 bps\",\"TC: 6 bps\",\"TC: 6 bps\",\"TC: 6 bps\",\"TC: 6 bps\",\"TC: 6 bps\",\"TC: 6 bps\",\"TC: 6 bps\",\"TC: 6 bps\",\"TC: 6 bps\",\"TC: 6 bps\",\"TC: 6 bps\",\"TC: 6 bps\",\"TC: 6 bps\",\"TC: 6 bps\",\"TC: 6 bps\",\"TC: 6 bps\",\"TC: 6 bps\",\"TC: 6 bps\",\"TC: 6 bps\",\"TC: 6 bps\",\"TC: 6 bps\",\"TC: 6 bps\",\"TC: 6 bps\",\"TC: 6 bps\",\"TC: 6 bps\",\"TC: 6 bps\",\"TC: 6 bps\",\"TC: 6 bps\",\"TC: 6 bps\",\"TC: 6 bps\",\"TC: 6 bps\",\"TC: 6 bps\",\"TC: 6 bps\",\"TC: 6 bps\",\"TC: 6 bps\",\"TC: 6 bps\",\"TC: 6 bps\",\"TC: 6 bps\",\"TC: 6 bps\",\"TC: 6 bps\",\"TC: 6 bps\",\"TC: 6 bps\",\"TC: 6 bps\",\"TC: 6 bps\",\"TC: 6 bps\",\"TC: 6 bps\",\"TC: 6 bps\",\"TC: 6 bps\",\"TC: 6 bps\",\"TC: 6 bps\",\"TC: 6 bps\",\"TC: 6 bps\",\"TC: 6 bps\",\"TC: 6 bps\",\"TC: 6 bps\",\"TC: 6 bps\",\"TC: 6 bps\",\"TC: 6 bps\",\"TC: 6 bps\",\"TC: 6 bps\",\"TC: 6 bps\",\"TC: 7 bps\",\"TC: 7 bps\",\"TC: 7 bps\",\"TC: 7 bps\",\"TC: 7 bps\",\"TC: 7 bps\",\"TC: 7 bps\",\"TC: 7 bps\",\"TC: 7 bps\",\"TC: 7 bps\",\"TC: 7 bps\",\"TC: 7 bps\",\"TC: 7 bps\",\"TC: 7 bps\",\"TC: 7 bps\",\"TC: 7 bps\",\"TC: 7 bps\",\"TC: 7 bps\",\"TC: 7 bps\",\"TC: 7 bps\",\"TC: 7 bps\",\"TC: 7 bps\",\"TC: 7 bps\",\"TC: 7 bps\",\"TC: 7 bps\",\"TC: 7 bps\",\"TC: 7 bps\",\"TC: 7 bps\",\"TC: 7 bps\",\"TC: 7 bps\",\"TC: 7 bps\",\"TC: 7 bps\",\"TC: 7 bps\",\"TC: 7 bps\",\"TC: 7 bps\",\"TC: 7 bps\",\"TC: 7 bps\",\"TC: 7 bps\",\"TC: 7 bps\",\"TC: 7 bps\",\"TC: 7 bps\",\"TC: 7 bps\",\"TC: 7 bps\",\"TC: 7 bps\",\"TC: 7 bps\",\"TC: 7 bps\",\"TC: 7 bps\",\"TC: 7 bps\",\"TC: 7 bps\",\"TC: 7 bps\",\"TC: 7 bps\",\"TC: 7 bps\",\"TC: 7 bps\",\"TC: 7 bps\",\"TC: 7 bps\",\"TC: 7 bps\",\"TC: 7 bps\",\"TC: 7 bps\",\"TC: 7 bps\",\"TC: 7 bps\",\"TC: 7 bps\",\"TC: 7 bps\",\"TC: 7 bps\",\"TC: 7 bps\",\"TC: 7 bps\",\"TC: 7 bps\",\"TC: 7 bps\",\"TC: 7 bps\",\"TC: 7 bps\",\"TC: 7 bps\",\"TC: 7 bps\",\"TC: 7 bps\",\"TC: 7 bps\",\"TC: 7 bps\",\"TC: 7 bps\",\"TC: 7 bps\",\"TC: 7 bps\",\"TC: 7 bps\",\"TC: 7 bps\",\"TC: 7 bps\",\"TC: 8 bps\",\"TC: 8 bps\",\"TC: 8 bps\",\"TC: 8 bps\",\"TC: 8 bps\",\"TC: 8 bps\",\"TC: 8 bps\",\"TC: 8 bps\",\"TC: 8 bps\",\"TC: 8 bps\",\"TC: 8 bps\",\"TC: 8 bps\",\"TC: 8 bps\",\"TC: 8 bps\",\"TC: 8 bps\",\"TC: 8 bps\",\"TC: 8 bps\",\"TC: 8 bps\",\"TC: 8 bps\",\"TC: 8 bps\",\"TC: 8 bps\",\"TC: 8 bps\",\"TC: 8 bps\",\"TC: 8 bps\",\"TC: 8 bps\",\"TC: 8 bps\",\"TC: 8 bps\",\"TC: 8 bps\",\"TC: 8 bps\",\"TC: 8 bps\",\"TC: 8 bps\",\"TC: 8 bps\",\"TC: 8 bps\",\"TC: 8 bps\",\"TC: 8 bps\",\"TC: 8 bps\",\"TC: 8 bps\",\"TC: 8 bps\",\"TC: 8 bps\",\"TC: 8 bps\",\"TC: 8 bps\",\"TC: 8 bps\",\"TC: 8 bps\",\"TC: 8 bps\",\"TC: 8 bps\",\"TC: 8 bps\",\"TC: 8 bps\",\"TC: 8 bps\",\"TC: 8 bps\",\"TC: 8 bps\",\"TC: 8 bps\",\"TC: 8 bps\",\"TC: 8 bps\",\"TC: 8 bps\",\"TC: 8 bps\",\"TC: 8 bps\",\"TC: 8 bps\",\"TC: 8 bps\",\"TC: 8 bps\",\"TC: 8 bps\",\"TC: 8 bps\",\"TC: 8 bps\",\"TC: 8 bps\",\"TC: 8 bps\",\"TC: 8 bps\",\"TC: 8 bps\",\"TC: 8 bps\",\"TC: 8 bps\",\"TC: 8 bps\",\"TC: 8 bps\",\"TC: 8 bps\",\"TC: 8 bps\",\"TC: 8 bps\",\"TC: 8 bps\",\"TC: 8 bps\",\"TC: 8 bps\",\"TC: 8 bps\",\"TC: 8 bps\",\"TC: 8 bps\",\"TC: 8 bps\",\"TC: 9 bps\",\"TC: 9 bps\",\"TC: 9 bps\",\"TC: 9 bps\",\"TC: 9 bps\",\"TC: 9 bps\",\"TC: 9 bps\",\"TC: 9 bps\",\"TC: 9 bps\",\"TC: 9 bps\",\"TC: 9 bps\",\"TC: 9 bps\",\"TC: 9 bps\",\"TC: 9 bps\",\"TC: 9 bps\",\"TC: 9 bps\",\"TC: 9 bps\",\"TC: 9 bps\",\"TC: 9 bps\",\"TC: 9 bps\",\"TC: 9 bps\",\"TC: 9 bps\",\"TC: 9 bps\",\"TC: 9 bps\",\"TC: 9 bps\",\"TC: 9 bps\",\"TC: 9 bps\",\"TC: 9 bps\",\"TC: 9 bps\",\"TC: 9 bps\",\"TC: 9 bps\",\"TC: 9 bps\",\"TC: 9 bps\",\"TC: 9 bps\",\"TC: 9 bps\",\"TC: 9 bps\",\"TC: 9 bps\",\"TC: 9 bps\",\"TC: 9 bps\",\"TC: 9 bps\",\"TC: 9 bps\",\"TC: 9 bps\",\"TC: 9 bps\",\"TC: 9 bps\",\"TC: 9 bps\",\"TC: 9 bps\",\"TC: 9 bps\",\"TC: 9 bps\",\"TC: 9 bps\",\"TC: 9 bps\",\"TC: 9 bps\",\"TC: 9 bps\",\"TC: 9 bps\",\"TC: 9 bps\",\"TC: 9 bps\",\"TC: 9 bps\",\"TC: 9 bps\",\"TC: 9 bps\",\"TC: 9 bps\",\"TC: 9 bps\",\"TC: 9 bps\",\"TC: 9 bps\",\"TC: 9 bps\",\"TC: 9 bps\",\"TC: 9 bps\",\"TC: 9 bps\",\"TC: 9 bps\",\"TC: 9 bps\",\"TC: 9 bps\",\"TC: 9 bps\",\"TC: 9 bps\",\"TC: 9 bps\",\"TC: 9 bps\",\"TC: 9 bps\",\"TC: 9 bps\",\"TC: 9 bps\",\"TC: 9 bps\",\"TC: 9 bps\",\"TC: 9 bps\",\"TC: 9 bps\",\"TC: 10 bps\",\"TC: 10 bps\",\"TC: 10 bps\",\"TC: 10 bps\",\"TC: 10 bps\",\"TC: 10 bps\",\"TC: 10 bps\",\"TC: 10 bps\",\"TC: 10 bps\",\"TC: 10 bps\",\"TC: 10 bps\",\"TC: 10 bps\",\"TC: 10 bps\",\"TC: 10 bps\",\"TC: 10 bps\",\"TC: 10 bps\",\"TC: 10 bps\",\"TC: 10 bps\",\"TC: 10 bps\",\"TC: 10 bps\",\"TC: 10 bps\",\"TC: 10 bps\",\"TC: 10 bps\",\"TC: 10 bps\",\"TC: 10 bps\",\"TC: 10 bps\",\"TC: 10 bps\",\"TC: 10 bps\",\"TC: 10 bps\",\"TC: 10 bps\",\"TC: 10 bps\",\"TC: 10 bps\",\"TC: 10 bps\",\"TC: 10 bps\",\"TC: 10 bps\",\"TC: 10 bps\",\"TC: 10 bps\",\"TC: 10 bps\",\"TC: 10 bps\",\"TC: 10 bps\",\"TC: 10 bps\",\"TC: 10 bps\",\"TC: 10 bps\",\"TC: 10 bps\",\"TC: 10 bps\",\"TC: 10 bps\",\"TC: 10 bps\",\"TC: 10 bps\",\"TC: 10 bps\",\"TC: 10 bps\",\"TC: 10 bps\",\"TC: 10 bps\",\"TC: 10 bps\",\"TC: 10 bps\",\"TC: 10 bps\",\"TC: 10 bps\",\"TC: 10 bps\",\"TC: 10 bps\",\"TC: 10 bps\",\"TC: 10 bps\",\"TC: 10 bps\",\"TC: 10 bps\",\"TC: 10 bps\",\"TC: 10 bps\",\"TC: 10 bps\",\"TC: 10 bps\",\"TC: 10 bps\",\"TC: 10 bps\",\"TC: 10 bps\",\"TC: 10 bps\",\"TC: 10 bps\",\"TC: 10 bps\",\"TC: 10 bps\",\"TC: 10 bps\",\"TC: 10 bps\",\"TC: 10 bps\",\"TC: 10 bps\",\"TC: 10 bps\",\"TC: 10 bps\",\"TC: 10 bps\"],\"x0\":\" \",\"xaxis\":\"x\",\"y\":[0.6399999856948853,null,null,null,null,null,null,null,null,null,null,null,null,null,null,null,null,null,null,null,null,null,null,null,null,null,null,null,null,null,null,null,null,null,null,null,null,null,null,null,null,null,null,null,null,null,null,null,null,null,null,null,null,null,null,null,null,null,null,null,null,null,null,null,null,null,null,null,null,null,null,null,null,null,null,null,null,null,null,null,0.6200000047683716,0.6299999952316284,0.6399999856948853,0.6499999761581421,0.6600000262260437,null,null,null,null,null,null,null,null,null,null,null,null,null,null,null,null,null,null,null,null,null,null,null,null,null,null,null,null,null,null,null,null,null,null,null,null,null,null,null,null,null,null,null,null,null,null,null,null,null,null,null,null,null,null,null,null,null,null,null,null,null,null,null,null,null,null,null,null,null,null,null,null,null,null,null,0.5899999737739563,0.6000000238418579,0.6100000143051147,0.6200000047683716,0.6299999952316284,0.6399999856948853,0.6499999761581421,0.6600000262260437,0.6700000166893005,0.6800000071525574,null,null,null,null,null,null,null,null,null,null,null,null,null,null,null,null,null,null,null,null,null,null,null,null,null,null,null,null,null,null,null,null,null,null,null,null,null,null,null,null,null,null,null,null,null,null,null,null,null,null,null,null,null,null,null,null,null,null,null,null,null,null,null,null,null,null,null,null,null,null,0.550000011920929,0.5600000023841858,0.5699999928474426,0.5799999833106995,0.5899999737739563,0.6000000238418579,0.6100000143051147,0.6200000047683716,0.6299999952316284,0.6399999856948853,0.6499999761581421,0.6600000262260437,0.6700000166893005,0.6800000071525574,0.6899999976158142,0.699999988079071,null,null,null,null,null,null,null,null,null,null,null,null,null,null,null,null,null,null,null,null,null,null,null,null,null,null,null,null,null,null,null,null,null,null,null,null,null,null,null,null,null,null,null,null,null,null,null,null,null,null,null,null,null,null,null,null,null,null,null,null,null,null,null,null,0.5,0.5099999904632568,0.5199999809265137,0.5299999713897705,0.5400000214576721,0.550000011920929,0.5600000023841858,0.5699999928474426,0.5799999833106995,0.5899999737739563,0.6000000238418579,0.6100000143051147,0.6200000047683716,0.6299999952316284,0.6399999856948853,0.6499999761581421,0.6600000262260437,0.6700000166893005,0.6800000071525574,0.6899999976158142,0.699999988079071,0.7099999785423279,null,null,null,null,null,null,null,null,null,null,null,null,null,null,null,null,null,null,null,null,null,null,null,null,null,null,null,null,null,null,null,null,null,null,null,null,null,null,null,null,null,null,null,null,null,null,null,null,null,null,null,null,null,null,null,null,null,null,0.4000000059604645,0.4099999964237213,0.41999998688697815,0.4300000071525574,0.4399999976158142,0.44999998807907104,0.46000000834465027,0.4699999988079071,0.47999998927116394,0.49000000953674316,0.5,0.5099999904632568,0.5199999809265137,0.5299999713897705,0.5400000214576721,0.550000011920929,0.5600000023841858,0.5699999928474426,0.5799999833106995,0.5899999737739563,0.6000000238418579,0.6100000143051147,0.6200000047683716,0.6299999952316284,0.6399999856948853,0.6499999761581421,0.6600000262260437,0.6700000166893005,0.6800000071525574,0.6899999976158142,0.699999988079071,0.7099999785423279,0.7200000286102295,0.7300000190734863,null,null,null,null,null,null,null,null,null,null,null,null,null,null,null,null,null,null,null,null,null,null,null,null,null,null,null,null,null,null,null,null,null,null,null,null,null,null,null,null,null,null,null,null,null,null,0.009999999776482582,0.019999999552965164,0.029999999329447746,0.03999999910593033,0.05000000074505806,0.05999999865889549,0.07000000029802322,0.07999999821186066,0.09000000357627869,0.10000000149011612,0.10999999940395355,0.11999999731779099,0.12999999523162842,0.14000000059604645,0.15000000596046448,0.1599999964237213,0.17000000178813934,0.18000000715255737,0.1899999976158142,0.20000000298023224,0.20999999344348907,0.2199999988079071,0.23000000417232513,0.23999999463558197,0.25,0.25999999046325684,0.27000001072883606,0.2800000011920929,0.28999999165534973,0.30000001192092896,0.3100000023841858,0.3199999928474426,0.33000001311302185,0.3400000035762787,0.3499999940395355,0.36000001430511475,0.3700000047683716,0.3799999952316284,0.38999998569488525,0.4000000059604645,0.4099999964237213,0.41999998688697815,0.4300000071525574,0.4399999976158142,0.44999998807907104,0.46000000834465027,0.4699999988079071,0.47999998927116394,0.49000000953674316,0.5,0.5099999904632568,0.5199999809265137,0.5299999713897705,0.5400000214576721,0.550000011920929,0.5600000023841858,0.5699999928474426,0.5799999833106995,0.5899999737739563,0.6000000238418579,0.6100000143051147,0.6200000047683716,0.6299999952316284,0.6399999856948853,0.6499999761581421,0.6600000262260437,0.6700000166893005,0.6800000071525574,0.6899999976158142,0.699999988079071,0.7099999785423279,0.7200000286102295,0.7300000190734863,0.7400000095367432,null,null,null,null,null,null,0.009999999776482582,0.019999999552965164,0.029999999329447746,0.03999999910593033,0.05000000074505806,0.05999999865889549,0.07000000029802322,0.07999999821186066,0.09000000357627869,0.10000000149011612,0.10999999940395355,0.11999999731779099,0.12999999523162842,0.14000000059604645,0.15000000596046448,0.1599999964237213,0.17000000178813934,0.18000000715255737,0.1899999976158142,0.20000000298023224,0.20999999344348907,0.2199999988079071,0.23000000417232513,0.23999999463558197,0.25,0.25999999046325684,0.27000001072883606,0.2800000011920929,0.28999999165534973,0.30000001192092896,0.3100000023841858,0.3199999928474426,0.33000001311302185,0.3400000035762787,0.3499999940395355,0.36000001430511475,0.3700000047683716,0.3799999952316284,0.38999998569488525,0.4000000059604645,0.4099999964237213,0.41999998688697815,0.4300000071525574,0.4399999976158142,0.44999998807907104,0.46000000834465027,0.4699999988079071,0.47999998927116394,0.49000000953674316,0.5,0.5099999904632568,0.5199999809265137,0.5299999713897705,0.5400000214576721,0.550000011920929,0.5600000023841858,0.5699999928474426,0.5799999833106995,0.5899999737739563,0.6000000238418579,0.6100000143051147,0.6200000047683716,0.6299999952316284,0.6399999856948853,0.6499999761581421,0.6600000262260437,0.6700000166893005,0.6800000071525574,0.6899999976158142,0.699999988079071,0.7099999785423279,0.7200000286102295,0.7300000190734863,0.7400000095367432,0.75,0.7599999904632568,null,null,null,null,0.009999999776482582,0.019999999552965164,0.029999999329447746,0.03999999910593033,0.05000000074505806,0.05999999865889549,0.07000000029802322,0.07999999821186066,0.09000000357627869,0.10000000149011612,0.10999999940395355,0.11999999731779099,0.12999999523162842,0.14000000059604645,0.15000000596046448,0.1599999964237213,0.17000000178813934,0.18000000715255737,0.1899999976158142,0.20000000298023224,0.20999999344348907,0.2199999988079071,0.23000000417232513,0.23999999463558197,0.25,0.25999999046325684,0.27000001072883606,0.2800000011920929,0.28999999165534973,0.30000001192092896,0.3100000023841858,0.3199999928474426,0.33000001311302185,0.3400000035762787,0.3499999940395355,0.36000001430511475,0.3700000047683716,0.3799999952316284,0.38999998569488525,0.4000000059604645,0.4099999964237213,0.41999998688697815,0.4300000071525574,0.4399999976158142,0.44999998807907104,0.46000000834465027,0.4699999988079071,0.47999998927116394,0.49000000953674316,0.5,0.5099999904632568,0.5199999809265137,0.5299999713897705,0.5400000214576721,0.550000011920929,0.5600000023841858,0.5699999928474426,0.5799999833106995,0.5899999737739563,0.6000000238418579,0.6100000143051147,0.6200000047683716,0.6299999952316284,0.6399999856948853,0.6499999761581421,0.6600000262260437,0.6700000166893005,0.6800000071525574,0.6899999976158142,0.699999988079071,0.7099999785423279,0.7200000286102295,0.7300000190734863,0.7400000095367432,0.75,0.7599999904632568,0.7699999809265137,null,null,null,0.009999999776482582,0.019999999552965164,0.029999999329447746,0.03999999910593033,0.05000000074505806,0.05999999865889549,0.07000000029802322,0.07999999821186066,0.09000000357627869,0.10000000149011612,0.10999999940395355,0.11999999731779099,0.12999999523162842,0.14000000059604645,0.15000000596046448,0.1599999964237213,0.17000000178813934,0.18000000715255737,0.1899999976158142,0.20000000298023224,0.20999999344348907,0.2199999988079071,0.23000000417232513,0.23999999463558197,0.25,0.25999999046325684,0.27000001072883606,0.2800000011920929,0.28999999165534973,0.30000001192092896,0.3100000023841858,0.3199999928474426,0.33000001311302185,0.3400000035762787,0.3499999940395355,0.36000001430511475,0.3700000047683716,0.3799999952316284,0.38999998569488525,0.4000000059604645,0.4099999964237213,0.41999998688697815,0.4300000071525574,0.4399999976158142,0.44999998807907104,0.46000000834465027,0.4699999988079071,0.47999998927116394,0.49000000953674316,0.5,0.5099999904632568,0.5199999809265137,0.5299999713897705,0.5400000214576721,0.550000011920929,0.5600000023841858,0.5699999928474426,0.5799999833106995,0.5899999737739563,0.6000000238418579,0.6100000143051147,0.6200000047683716,0.6299999952316284,0.6399999856948853,0.6499999761581421,0.6600000262260437,0.6700000166893005,0.6800000071525574,0.6899999976158142,0.699999988079071,0.7099999785423279,0.7200000286102295,0.7300000190734863,0.7400000095367432,0.75,0.7599999904632568,0.7699999809265137,0.7799999713897705,null,null,0.009999999776482582,0.019999999552965164,0.029999999329447746,0.03999999910593033,0.05000000074505806,0.05999999865889549,0.07000000029802322,0.07999999821186066,0.09000000357627869,0.10000000149011612,0.10999999940395355,0.11999999731779099,0.12999999523162842,0.14000000059604645,0.15000000596046448,0.1599999964237213,0.17000000178813934,0.18000000715255737,0.1899999976158142,0.20000000298023224,0.20999999344348907,0.2199999988079071,0.23000000417232513,0.23999999463558197,0.25,0.25999999046325684,0.27000001072883606,0.2800000011920929,0.28999999165534973,0.30000001192092896,0.3100000023841858,0.3199999928474426,0.33000001311302185,0.3400000035762787,0.3499999940395355,0.36000001430511475,0.3700000047683716,0.3799999952316284,0.38999998569488525,0.4000000059604645,0.4099999964237213,0.41999998688697815,0.4300000071525574,0.4399999976158142,0.44999998807907104,0.46000000834465027,0.4699999988079071,0.47999998927116394,0.49000000953674316,0.5,0.5099999904632568,0.5199999809265137,0.5299999713897705,0.5400000214576721,0.550000011920929,0.5600000023841858,0.5699999928474426,0.5799999833106995,0.5899999737739563,0.6000000238418579,0.6100000143051147,0.6200000047683716,0.6299999952316284,0.6399999856948853,0.6499999761581421,0.6600000262260437,0.6700000166893005,0.6800000071525574,0.6899999976158142,0.699999988079071,0.7099999785423279,0.7200000286102295,0.7300000190734863,0.7400000095367432,0.75,0.7599999904632568,0.7699999809265137,0.7799999713897705,0.7900000214576721,0.800000011920929],\"y0\":\" \",\"yaxis\":\"y\",\"type\":\"box\"}],                        {\"template\":{\"data\":{\"histogram2dcontour\":[{\"type\":\"histogram2dcontour\",\"colorbar\":{\"outlinewidth\":0,\"ticks\":\"\"},\"colorscale\":[[0.0,\"#0d0887\"],[0.1111111111111111,\"#46039f\"],[0.2222222222222222,\"#7201a8\"],[0.3333333333333333,\"#9c179e\"],[0.4444444444444444,\"#bd3786\"],[0.5555555555555556,\"#d8576b\"],[0.6666666666666666,\"#ed7953\"],[0.7777777777777778,\"#fb9f3a\"],[0.8888888888888888,\"#fdca26\"],[1.0,\"#f0f921\"]]}],\"choropleth\":[{\"type\":\"choropleth\",\"colorbar\":{\"outlinewidth\":0,\"ticks\":\"\"}}],\"histogram2d\":[{\"type\":\"histogram2d\",\"colorbar\":{\"outlinewidth\":0,\"ticks\":\"\"},\"colorscale\":[[0.0,\"#0d0887\"],[0.1111111111111111,\"#46039f\"],[0.2222222222222222,\"#7201a8\"],[0.3333333333333333,\"#9c179e\"],[0.4444444444444444,\"#bd3786\"],[0.5555555555555556,\"#d8576b\"],[0.6666666666666666,\"#ed7953\"],[0.7777777777777778,\"#fb9f3a\"],[0.8888888888888888,\"#fdca26\"],[1.0,\"#f0f921\"]]}],\"heatmap\":[{\"type\":\"heatmap\",\"colorbar\":{\"outlinewidth\":0,\"ticks\":\"\"},\"colorscale\":[[0.0,\"#0d0887\"],[0.1111111111111111,\"#46039f\"],[0.2222222222222222,\"#7201a8\"],[0.3333333333333333,\"#9c179e\"],[0.4444444444444444,\"#bd3786\"],[0.5555555555555556,\"#d8576b\"],[0.6666666666666666,\"#ed7953\"],[0.7777777777777778,\"#fb9f3a\"],[0.8888888888888888,\"#fdca26\"],[1.0,\"#f0f921\"]]}],\"heatmapgl\":[{\"type\":\"heatmapgl\",\"colorbar\":{\"outlinewidth\":0,\"ticks\":\"\"},\"colorscale\":[[0.0,\"#0d0887\"],[0.1111111111111111,\"#46039f\"],[0.2222222222222222,\"#7201a8\"],[0.3333333333333333,\"#9c179e\"],[0.4444444444444444,\"#bd3786\"],[0.5555555555555556,\"#d8576b\"],[0.6666666666666666,\"#ed7953\"],[0.7777777777777778,\"#fb9f3a\"],[0.8888888888888888,\"#fdca26\"],[1.0,\"#f0f921\"]]}],\"contourcarpet\":[{\"type\":\"contourcarpet\",\"colorbar\":{\"outlinewidth\":0,\"ticks\":\"\"}}],\"contour\":[{\"type\":\"contour\",\"colorbar\":{\"outlinewidth\":0,\"ticks\":\"\"},\"colorscale\":[[0.0,\"#0d0887\"],[0.1111111111111111,\"#46039f\"],[0.2222222222222222,\"#7201a8\"],[0.3333333333333333,\"#9c179e\"],[0.4444444444444444,\"#bd3786\"],[0.5555555555555556,\"#d8576b\"],[0.6666666666666666,\"#ed7953\"],[0.7777777777777778,\"#fb9f3a\"],[0.8888888888888888,\"#fdca26\"],[1.0,\"#f0f921\"]]}],\"surface\":[{\"type\":\"surface\",\"colorbar\":{\"outlinewidth\":0,\"ticks\":\"\"},\"colorscale\":[[0.0,\"#0d0887\"],[0.1111111111111111,\"#46039f\"],[0.2222222222222222,\"#7201a8\"],[0.3333333333333333,\"#9c179e\"],[0.4444444444444444,\"#bd3786\"],[0.5555555555555556,\"#d8576b\"],[0.6666666666666666,\"#ed7953\"],[0.7777777777777778,\"#fb9f3a\"],[0.8888888888888888,\"#fdca26\"],[1.0,\"#f0f921\"]]}],\"mesh3d\":[{\"type\":\"mesh3d\",\"colorbar\":{\"outlinewidth\":0,\"ticks\":\"\"}}],\"scatter\":[{\"marker\":{\"line\":{\"color\":\"#283442\"}},\"type\":\"scatter\"}],\"parcoords\":[{\"type\":\"parcoords\",\"line\":{\"colorbar\":{\"outlinewidth\":0,\"ticks\":\"\"}}}],\"scatterpolargl\":[{\"type\":\"scatterpolargl\",\"marker\":{\"colorbar\":{\"outlinewidth\":0,\"ticks\":\"\"}}}],\"bar\":[{\"error_x\":{\"color\":\"#f2f5fa\"},\"error_y\":{\"color\":\"#f2f5fa\"},\"marker\":{\"line\":{\"color\":\"rgb(17,17,17)\",\"width\":0.5},\"pattern\":{\"fillmode\":\"overlay\",\"size\":10,\"solidity\":0.2}},\"type\":\"bar\"}],\"scattergeo\":[{\"type\":\"scattergeo\",\"marker\":{\"colorbar\":{\"outlinewidth\":0,\"ticks\":\"\"}}}],\"scatterpolar\":[{\"type\":\"scatterpolar\",\"marker\":{\"colorbar\":{\"outlinewidth\":0,\"ticks\":\"\"}}}],\"histogram\":[{\"marker\":{\"pattern\":{\"fillmode\":\"overlay\",\"size\":10,\"solidity\":0.2}},\"type\":\"histogram\"}],\"scattergl\":[{\"marker\":{\"line\":{\"color\":\"#283442\"}},\"type\":\"scattergl\"}],\"scatter3d\":[{\"type\":\"scatter3d\",\"line\":{\"colorbar\":{\"outlinewidth\":0,\"ticks\":\"\"}},\"marker\":{\"colorbar\":{\"outlinewidth\":0,\"ticks\":\"\"}}}],\"scattermapbox\":[{\"type\":\"scattermapbox\",\"marker\":{\"colorbar\":{\"outlinewidth\":0,\"ticks\":\"\"}}}],\"scatterternary\":[{\"type\":\"scatterternary\",\"marker\":{\"colorbar\":{\"outlinewidth\":0,\"ticks\":\"\"}}}],\"scattercarpet\":[{\"type\":\"scattercarpet\",\"marker\":{\"colorbar\":{\"outlinewidth\":0,\"ticks\":\"\"}}}],\"carpet\":[{\"aaxis\":{\"endlinecolor\":\"#A2B1C6\",\"gridcolor\":\"#506784\",\"linecolor\":\"#506784\",\"minorgridcolor\":\"#506784\",\"startlinecolor\":\"#A2B1C6\"},\"baxis\":{\"endlinecolor\":\"#A2B1C6\",\"gridcolor\":\"#506784\",\"linecolor\":\"#506784\",\"minorgridcolor\":\"#506784\",\"startlinecolor\":\"#A2B1C6\"},\"type\":\"carpet\"}],\"table\":[{\"cells\":{\"fill\":{\"color\":\"#506784\"},\"line\":{\"color\":\"rgb(17,17,17)\"}},\"header\":{\"fill\":{\"color\":\"#2a3f5f\"},\"line\":{\"color\":\"rgb(17,17,17)\"}},\"type\":\"table\"}],\"barpolar\":[{\"marker\":{\"line\":{\"color\":\"rgb(17,17,17)\",\"width\":0.5},\"pattern\":{\"fillmode\":\"overlay\",\"size\":10,\"solidity\":0.2}},\"type\":\"barpolar\"}],\"pie\":[{\"automargin\":true,\"type\":\"pie\"}]},\"layout\":{\"autotypenumbers\":\"strict\",\"colorway\":[\"#636efa\",\"#EF553B\",\"#00cc96\",\"#ab63fa\",\"#FFA15A\",\"#19d3f3\",\"#FF6692\",\"#B6E880\",\"#FF97FF\",\"#FECB52\"],\"font\":{\"color\":\"#f2f5fa\"},\"hovermode\":\"closest\",\"hoverlabel\":{\"align\":\"left\"},\"paper_bgcolor\":\"rgb(17,17,17)\",\"plot_bgcolor\":\"rgb(17,17,17)\",\"polar\":{\"bgcolor\":\"rgb(17,17,17)\",\"angularaxis\":{\"gridcolor\":\"#506784\",\"linecolor\":\"#506784\",\"ticks\":\"\"},\"radialaxis\":{\"gridcolor\":\"#506784\",\"linecolor\":\"#506784\",\"ticks\":\"\"}},\"ternary\":{\"bgcolor\":\"rgb(17,17,17)\",\"aaxis\":{\"gridcolor\":\"#506784\",\"linecolor\":\"#506784\",\"ticks\":\"\"},\"baxis\":{\"gridcolor\":\"#506784\",\"linecolor\":\"#506784\",\"ticks\":\"\"},\"caxis\":{\"gridcolor\":\"#506784\",\"linecolor\":\"#506784\",\"ticks\":\"\"}},\"coloraxis\":{\"colorbar\":{\"outlinewidth\":0,\"ticks\":\"\"}},\"colorscale\":{\"sequential\":[[0.0,\"#0d0887\"],[0.1111111111111111,\"#46039f\"],[0.2222222222222222,\"#7201a8\"],[0.3333333333333333,\"#9c179e\"],[0.4444444444444444,\"#bd3786\"],[0.5555555555555556,\"#d8576b\"],[0.6666666666666666,\"#ed7953\"],[0.7777777777777778,\"#fb9f3a\"],[0.8888888888888888,\"#fdca26\"],[1.0,\"#f0f921\"]],\"sequentialminus\":[[0.0,\"#0d0887\"],[0.1111111111111111,\"#46039f\"],[0.2222222222222222,\"#7201a8\"],[0.3333333333333333,\"#9c179e\"],[0.4444444444444444,\"#bd3786\"],[0.5555555555555556,\"#d8576b\"],[0.6666666666666666,\"#ed7953\"],[0.7777777777777778,\"#fb9f3a\"],[0.8888888888888888,\"#fdca26\"],[1.0,\"#f0f921\"]],\"diverging\":[[0,\"#8e0152\"],[0.1,\"#c51b7d\"],[0.2,\"#de77ae\"],[0.3,\"#f1b6da\"],[0.4,\"#fde0ef\"],[0.5,\"#f7f7f7\"],[0.6,\"#e6f5d0\"],[0.7,\"#b8e186\"],[0.8,\"#7fbc41\"],[0.9,\"#4d9221\"],[1,\"#276419\"]]},\"xaxis\":{\"gridcolor\":\"#283442\",\"linecolor\":\"#506784\",\"ticks\":\"\",\"title\":{\"standoff\":15},\"zerolinecolor\":\"#283442\",\"automargin\":true,\"zerolinewidth\":2},\"yaxis\":{\"gridcolor\":\"#283442\",\"linecolor\":\"#506784\",\"ticks\":\"\",\"title\":{\"standoff\":15},\"zerolinecolor\":\"#283442\",\"automargin\":true,\"zerolinewidth\":2},\"scene\":{\"xaxis\":{\"backgroundcolor\":\"rgb(17,17,17)\",\"gridcolor\":\"#506784\",\"linecolor\":\"#506784\",\"showbackground\":true,\"ticks\":\"\",\"zerolinecolor\":\"#C8D4E3\",\"gridwidth\":2},\"yaxis\":{\"backgroundcolor\":\"rgb(17,17,17)\",\"gridcolor\":\"#506784\",\"linecolor\":\"#506784\",\"showbackground\":true,\"ticks\":\"\",\"zerolinecolor\":\"#C8D4E3\",\"gridwidth\":2},\"zaxis\":{\"backgroundcolor\":\"rgb(17,17,17)\",\"gridcolor\":\"#506784\",\"linecolor\":\"#506784\",\"showbackground\":true,\"ticks\":\"\",\"zerolinecolor\":\"#C8D4E3\",\"gridwidth\":2}},\"shapedefaults\":{\"line\":{\"color\":\"#f2f5fa\"}},\"annotationdefaults\":{\"arrowcolor\":\"#f2f5fa\",\"arrowhead\":0,\"arrowwidth\":1},\"geo\":{\"bgcolor\":\"rgb(17,17,17)\",\"landcolor\":\"rgb(17,17,17)\",\"subunitcolor\":\"#506784\",\"showland\":true,\"showlakes\":true,\"lakecolor\":\"rgb(17,17,17)\"},\"title\":{\"x\":0.05},\"updatemenudefaults\":{\"bgcolor\":\"#506784\",\"borderwidth\":0},\"sliderdefaults\":{\"bgcolor\":\"#C8D4E3\",\"borderwidth\":1,\"bordercolor\":\"rgb(17,17,17)\",\"tickwidth\":0},\"mapbox\":{\"style\":\"dark\"}}},\"xaxis\":{\"anchor\":\"y\",\"domain\":[0.0,1.0],\"title\":{\"text\":\"variable\"}},\"yaxis\":{\"anchor\":\"x\",\"domain\":[0.0,1.0],\"title\":{\"text\":\"value\"}},\"legend\":{\"tracegroupgap\":0},\"title\":{\"text\":\"Box Plot of Data\"},\"boxmode\":\"group\"},                        {\"responsive\": true}                    ).then(function(){\n                            \nvar gd = document.getElementById('281a54e6-6a5e-45ce-ab9a-1f02a1168feb');\nvar x = new MutationObserver(function (mutations, observer) {{\n        var display = window.getComputedStyle(gd).display;\n        if (!display || display === 'none') {{\n            console.log([gd, 'removed!']);\n            Plotly.purge(gd);\n            observer.disconnect();\n        }}\n}});\n\n// Listen for the removal of the full notebook cells\nvar notebookContainer = gd.closest('#notebook-container');\nif (notebookContainer) {{\n    x.observe(notebookContainer, {childList: true});\n}}\n\n// Listen for the clearing of the current output cell\nvar outputEl = gd.closest('.output');\nif (outputEl) {{\n    x.observe(outputEl, {childList: true});\n}}\n\n                        })                };                });            </script>        </div>"
     },
     "metadata": {},
     "output_type": "display_data"
    }
   ],
   "source": [
    "# Create a DataFrame from the dictionary, excluding keys with empty values\n",
    "df = pd.DataFrame.from_dict(bm_noreb, orient='index').T\n",
    "\n",
    "# Create a box plot using Plotly\n",
    "fig = px.box(df, title=\"Box Plot of Data\")\n",
    "\n",
    "# Show the plot\n",
    "fig.show()"
   ],
   "metadata": {
    "collapsed": false,
    "ExecuteTime": {
     "end_time": "2023-12-06T15:51:08.900894Z",
     "start_time": "2023-12-06T15:51:08.830054Z"
    }
   }
  },
  {
   "cell_type": "code",
   "execution_count": 18,
   "outputs": [
    {
     "data": {
      "text/plain": "-0.3004626062886657"
     },
     "execution_count": 18,
     "metadata": {},
     "output_type": "execute_result"
    }
   ],
   "source": [
    "obj_func(x = optimal_weight, mu=mu, cov=cov)"
   ],
   "metadata": {
    "collapsed": false,
    "ExecuteTime": {
     "end_time": "2023-12-06T15:46:03.656273Z",
     "start_time": "2023-12-06T15:46:03.654207Z"
    }
   }
  },
  {
   "cell_type": "code",
   "execution_count": 19,
   "outputs": [
    {
     "data": {
      "text/plain": "'/Users/Roy/Desktop/College/GeorgiaTech/Research/Portfolio-Rebalancing-DQN/DP_Binary_split'"
     },
     "execution_count": 19,
     "metadata": {},
     "output_type": "execute_result"
    }
   ],
   "source": [
    "import os\n",
    "os.getcwd()"
   ],
   "metadata": {
    "collapsed": false,
    "ExecuteTime": {
     "end_time": "2023-12-06T15:46:03.660022Z",
     "start_time": "2023-12-06T15:46:03.657599Z"
    }
   }
  },
  {
   "cell_type": "code",
   "execution_count": null,
   "outputs": [],
   "source": [],
   "metadata": {
    "collapsed": false,
    "is_executing": true
   }
  }
 ],
 "metadata": {
  "kernelspec": {
   "display_name": "Python 3",
   "language": "python",
   "name": "python3"
  },
  "language_info": {
   "codemirror_mode": {
    "name": "ipython",
    "version": 2
   },
   "file_extension": ".py",
   "mimetype": "text/x-python",
   "name": "python",
   "nbconvert_exporter": "python",
   "pygments_lexer": "ipython2",
   "version": "2.7.6"
  }
 },
 "nbformat": 4,
 "nbformat_minor": 0
}
