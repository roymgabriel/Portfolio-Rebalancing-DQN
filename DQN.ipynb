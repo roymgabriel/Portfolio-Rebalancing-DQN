{
 "cells": [
  {
   "cell_type": "markdown",
   "source": [
    "# DQN"
   ],
   "metadata": {
    "collapsed": false
   },
   "execution_count": 1
  },
  {
   "cell_type": "markdown",
   "source": [
    "# Import the Libraries"
   ],
   "metadata": {
    "collapsed": false
   }
  },
  {
   "cell_type": "code",
   "execution_count": 1,
   "outputs": [],
   "source": [
    "# var = # np.dot(weights.T, np.dot(covs, weights))\n",
    "# P_ret = np.sum(rets * weights)"
   ],
   "metadata": {
    "collapsed": false
   }
  },
  {
   "cell_type": "code",
   "execution_count": 1,
   "outputs": [],
   "source": [
    "import gymnasium as gym\n",
    "import math\n",
    "import random\n",
    "import matplotlib\n",
    "import matplotlib.pyplot as plt\n",
    "from collections import namedtuple, deque\n",
    "from itertools import count\n",
    "\n",
    "import pandas as pd\n",
    "import numpy as np\n",
    "\n",
    "import torch\n",
    "import torch.nn as nn\n",
    "import torch.optim as optim\n",
    "import torch.nn.functional as F\n",
    "\n",
    "from PortfolioRebalancerEnv import PortfolioRebalancerEnv"
   ],
   "metadata": {
    "collapsed": false
   }
  },
  {
   "cell_type": "markdown",
   "source": [
    "# Create Replay Memory Class"
   ],
   "metadata": {
    "collapsed": false
   }
  },
  {
   "cell_type": "code",
   "execution_count": 2,
   "outputs": [],
   "source": [
    "Transition = namedtuple('Transition',\n",
    "                        ('state', 'action', 'next_state', 'reward'))\n",
    "\n",
    "\n",
    "class ReplayMemory(object):\n",
    "\n",
    "    def __init__(self, capacity):\n",
    "        self.memory = deque([], maxlen=capacity)\n",
    "\n",
    "    def push(self, *args):\n",
    "        \"\"\"Save a transition\"\"\"\n",
    "        self.memory.append(Transition(*args))\n",
    "\n",
    "    def sample(self, batch_size):\n",
    "        return random.sample(self.memory, batch_size)\n",
    "\n",
    "    def __len__(self):\n",
    "        return len(self.memory)"
   ],
   "metadata": {
    "collapsed": false
   }
  },
  {
   "cell_type": "markdown",
   "source": [
    "# Create Q-Network"
   ],
   "metadata": {
    "collapsed": false
   }
  },
  {
   "cell_type": "code",
   "execution_count": 3,
   "outputs": [],
   "source": [
    "class DQN(nn.Module):\n",
    "\n",
    "    def __init__(self, n_observations, n_actions):\n",
    "        super(DQN, self).__init__()\n",
    "        self.layer1 = nn.Linear(n_observations, 32)\n",
    "        self.layer2 = nn.Linear(32, 32)\n",
    "        self.layer3 = nn.Linear(32, n_actions)\n",
    "\n",
    "    # Called with either one element to determine next action, or a batch\n",
    "    # during optimization. Returns tensor([[left0exp,right0exp]...]).\n",
    "    def forward(self, x):\n",
    "        x = F.relu(self.layer1(x))\n",
    "        x = F.relu(self.layer2(x))\n",
    "        return self.layer3(x)"
   ],
   "metadata": {
    "collapsed": false
   }
  },
  {
   "cell_type": "markdown",
   "source": [
    "# Get Data"
   ],
   "metadata": {
    "collapsed": false
   }
  },
  {
   "cell_type": "code",
   "execution_count": 5,
   "outputs": [
    {
     "data": {
      "text/plain": "         Close_A   Close_B\nDate                      \n3/1/13 -0.009699  0.011927\n4/1/13  0.005072 -0.004811\n7/1/13 -0.004350 -0.000445\n8/1/13 -0.005592 -0.000840\n9/1/13  0.005097  0.008598",
      "text/html": "<div>\n<style scoped>\n    .dataframe tbody tr th:only-of-type {\n        vertical-align: middle;\n    }\n\n    .dataframe tbody tr th {\n        vertical-align: top;\n    }\n\n    .dataframe thead th {\n        text-align: right;\n    }\n</style>\n<table border=\"1\" class=\"dataframe\">\n  <thead>\n    <tr style=\"text-align: right;\">\n      <th></th>\n      <th>Close_A</th>\n      <th>Close_B</th>\n    </tr>\n    <tr>\n      <th>Date</th>\n      <th></th>\n      <th></th>\n    </tr>\n  </thead>\n  <tbody>\n    <tr>\n      <th>3/1/13</th>\n      <td>-0.009699</td>\n      <td>0.011927</td>\n    </tr>\n    <tr>\n      <th>4/1/13</th>\n      <td>0.005072</td>\n      <td>-0.004811</td>\n    </tr>\n    <tr>\n      <th>7/1/13</th>\n      <td>-0.004350</td>\n      <td>-0.000445</td>\n    </tr>\n    <tr>\n      <th>8/1/13</th>\n      <td>-0.005592</td>\n      <td>-0.000840</td>\n    </tr>\n    <tr>\n      <th>9/1/13</th>\n      <td>0.005097</td>\n      <td>0.008598</td>\n    </tr>\n  </tbody>\n</table>\n</div>"
     },
     "execution_count": 5,
     "metadata": {},
     "output_type": "execute_result"
    }
   ],
   "source": [
    "df = pd.read_csv(\"data/Data.csv\", index_col=0)\n",
    "df = df.apply(pd.to_numeric)\n",
    "returns_df = df.pct_change()[1:]\n",
    "returns_df.head()"
   ],
   "metadata": {
    "collapsed": false
   }
  },
  {
   "cell_type": "markdown",
   "source": [
    "# Calculate mean variance optimal portfolio"
   ],
   "metadata": {
    "collapsed": false
   }
  },
  {
   "cell_type": "code",
   "execution_count": 9,
   "outputs": [],
   "source": [
    "def get_min_var_portfolio(ret_df,\n",
    "                          wA,\n",
    "                          detail):\n",
    "    # Straight from : https://github.com/costantinontario/Optimal-Rebalancing-Strategy-using-Dynamic-Programming/blob/master/DP_Project.py\n",
    "    # with a few changes\n",
    "\n",
    "    #Calculate Covariance Matrix\n",
    "    Covariance_Matrix = ret_df.cov()\n",
    "\n",
    "    # Create DataFrame\n",
    "    index = np.arange(1 / detail)\n",
    "    columns = ['WeightA', 'Variance']\n",
    "    A = pd.DataFrame(columns=columns, index = index)\n",
    "\n",
    "    # Optimal_WeightA = 0\n",
    "\n",
    "    # Create for loop to calculate the Efficient Frontier Utility and identify its minimum along with respective weight where this occurs\n",
    "    for i in range(0, int(1 / detail)):\n",
    "        A['WeightA'][i] = wA\n",
    "        weights = np.array([wA, 1-wA])\n",
    "        A['Variance'][i] = np.dot(weights.T, np.dot(Covariance_Matrix, weights))\n",
    "\n",
    "        # Calculate minimum Efficient Frontier Function value along with respective weight\n",
    "        try:\n",
    "            # Check if next point Variance is lower than previous one (if it is keep the weight at which this occurs)\n",
    "            if A['Variance'][i] < A['Variance'][i-1]:\n",
    "                Optimal_WeightA = A['WeightA'][i]\n",
    "        except:\n",
    "            pass\n",
    "\n",
    "        # Increase weight by increment previously specified\n",
    "        wA = wA + detail\n",
    "\n",
    "    # Print the calculated Optimal Portfolio Weight\n",
    "    print('Optimal Portfolio Weight According to Efficient Frontier Using Mean-Variance Optimization: ' + str(Optimal_WeightA))\n",
    "    return Optimal_WeightA, A\n"
   ],
   "metadata": {
    "collapsed": false
   }
  },
  {
   "cell_type": "code",
   "execution_count": 10,
   "outputs": [],
   "source": [
    "# Allocate Initial weight factor and precision\n",
    "wA=0.0\n",
    "\n",
    "# Define detail of weight increments\n",
    "detail = 0.0005"
   ],
   "metadata": {
    "collapsed": false
   }
  },
  {
   "cell_type": "code",
   "execution_count": 12,
   "outputs": [
    {
     "name": "stdout",
     "output_type": "stream",
     "text": [
      "Optimal Portfolio Weight According to Efficient Frontier Using Mean-Variance Optimization: 0.6144999999999877\n"
     ]
    }
   ],
   "source": [
    "Optimal_WeightA, A = get_min_var_portfolio(ret_df=returns_df,\n",
    "                      wA=wA,\n",
    "                      detail=detail)"
   ],
   "metadata": {
    "collapsed": false
   }
  },
  {
   "cell_type": "code",
   "execution_count": 13,
   "outputs": [
    {
     "data": {
      "text/plain": "<AxesSubplot:>"
     },
     "execution_count": 13,
     "metadata": {},
     "output_type": "execute_result"
    },
    {
     "data": {
      "text/plain": "<Figure size 432x288 with 1 Axes>",
      "image/png": "[encoded data removed]"
     },
     "metadata": {},
     "output_type": "display_data"
    }
   ],
   "source": [
    "A['Variance'].plot()"
   ],
   "metadata": {
    "collapsed": false
   }
  },
  {
   "cell_type": "markdown",
   "source": [
    "# TODO: Calculate Mean up to each time point for now we will use a constant\n",
    "# TODO: Do the same for portfolio variance"
   ],
   "metadata": {
    "collapsed": false
   }
  },
  {
   "cell_type": "code",
   "execution_count": 7,
   "outputs": [],
   "source": [
    "def get_portfolio_stats(panel_data):\n",
    "    \"\"\"\n",
    "    Calculate mean and variance of portfolio at each time step? Might change later\n",
    "\n",
    "    :param panel_data:\n",
    "    :return:\n",
    "    \"\"\"\n",
    "    # # Calculate Value of Investments in Asset A & B\n",
    "    # investment_A = CData['InvestmentA'][i-1]*(CData['Returns_A'][i]+1)\n",
    "    # CData['InvestmentB'][i] = CData['InvestmentB'][i-1]*(CData['Returns_B'][i]+1)\n",
    "    # # Calculate the New Weight of Asset A (this changes because of the change in price of the assets over time)\n",
    "    # CData['WeightA'][i] = CData['InvestmentA'][i] / (CData['InvestmentA'][i]+CData['InvestmentB'][i])\n",
    "    # # Calculate the Total Return of the Portfolio in the period\n",
    "    # CData['Total_Returns'][i] = (CData['InvestmentA'][i]+CData['InvestmentB'][i])/(CData['InvestmentA'][i-1]+CData['InvestmentB'][i-1])-1\n",
    "    pass"
   ],
   "metadata": {
    "collapsed": false
   }
  },
  {
   "cell_type": "markdown",
   "source": [
    "# Create GYM Environment"
   ],
   "metadata": {
    "collapsed": false
   }
  },
  {
   "cell_type": "code",
   "execution_count": 8,
   "outputs": [
    {
     "data": {
      "text/plain": "Close_A    0.000520\nClose_B   -0.000436\ndtype: float64"
     },
     "execution_count": 8,
     "metadata": {},
     "output_type": "execute_result"
    }
   ],
   "source": [
    "returns_df.mean()"
   ],
   "metadata": {
    "collapsed": false
   }
  },
  {
   "cell_type": "code",
   "execution_count": 9,
   "outputs": [],
   "source": [
    "mu = 0.8\n",
    "sigma_optimal = 0.5\n",
    "sigma_current = 0.8\n",
    "w_optimal = np.array([Optimal_WeightA, 1-Optimal_WeightA])\n",
    "initial_amount_invested = 1000000000\n",
    "transaction_costs = np.array([60, 40])\n",
    "n_assets = 2\n",
    "action_range_min = -0.07\n",
    "action_range_max = 0.07\n",
    "num_actions: int = 15\n",
    "w_min = 0.2\n",
    "w_max= 0.8"
   ],
   "metadata": {
    "collapsed": false
   }
  },
  {
   "cell_type": "code",
   "execution_count": 10,
   "outputs": [],
   "source": [
    "env = PortfolioRebalancerEnv(\n",
    "    mu=mu,\n",
    "    sigma_optimal=sigma_optimal,\n",
    "    sigma_current=sigma_current,\n",
    "    w_optimal=w_optimal,\n",
    "    initial_amount_invested=initial_amount_invested,\n",
    "    transaction_costs=transaction_costs,\n",
    "    n_assets=n_assets,\n",
    "    action_range_min=action_range_min,\n",
    "    action_range_max=action_range_max,\n",
    "    num_actions=num_actions,\n",
    "    w_min=w_min,\n",
    "    w_max=w_max\n",
    ")\n",
    "\n",
    "# set up matplotlib\n",
    "# is_ipython = 'inline' in matplotlib.get_backend()\n",
    "# if is_ipython:\n",
    "#     from IPython import display\n",
    "\n",
    "plt.ion()\n",
    "\n",
    "# if gpu is to be used\n",
    "device = torch.device(\"cuda\" if torch.cuda.is_available() else \"cpu\")"
   ],
   "metadata": {
    "collapsed": false
   }
  },
  {
   "cell_type": "markdown",
   "source": [
    "# Training"
   ],
   "metadata": {
    "collapsed": false
   }
  },
  {
   "cell_type": "markdown",
   "source": [
    "RL:\n",
    "- BATCH_SIZE is the number of transitions sampled from the replay buffer\n",
    "- GAMMA is the discount factor as mentioned in the previous section\n",
    "- EPS_START is the starting value of epsilon\n",
    "- EPS_END is the final value of epsilon\n",
    "- EPS_DECAY controls the rate of exponential decay of epsilon, higher means a slower decay\n",
    "- TAU is the update rate of the target network\n",
    "- LR is the learning rate of the AdamW optimizer\n",
    "\n",
    "Finance:\n",
    "- $\\mu$ is historical mean returns for each asset\n",
    "- $\\Sigma$ is the historical covariance of returns"
   ],
   "metadata": {
    "collapsed": false
   }
  },
  {
   "cell_type": "code",
   "execution_count": 11,
   "outputs": [],
   "source": [
    "# RL:\n",
    "BATCH_SIZE = 128\n",
    "GAMMA = 0.99\n",
    "EPS_START = 0.9\n",
    "EPS_END = 0.05\n",
    "EPS_DECAY = 1000\n",
    "TAU = 0.005\n",
    "LR = 1e-4\n",
    "\n",
    "# Finance:\n",
    "# mu = returns_df.mean(axis=0)\n",
    "# sigma = returns_df.cov()\n",
    "#\n",
    "# # Define Amount Invested in Period 0\n",
    "# initial_amount_invested = 1000000000\n",
    "# # Define Trading Costs of Asset A (in basis points)\n",
    "# CA = 60\n",
    "# # Define Trading Costs of Asset B (in basis points)\n",
    "# CB = 40"
   ],
   "metadata": {
    "collapsed": false
   }
  },
  {
   "cell_type": "code",
   "execution_count": 12,
   "outputs": [],
   "source": [
    "from PortfolioRebalancerEnv import PortfolioRebalancerEnv\n"
   ],
   "metadata": {
    "collapsed": false
   }
  },
  {
   "cell_type": "code",
   "execution_count": 13,
   "outputs": [],
   "source": [
    "# Get number of actions from gym action space\n",
    "n_actions = env.action_space.n\n",
    "# Get the number of state observations\n",
    "state, info = env.reset()\n",
    "n_observations = len(state)\n",
    "\n",
    "policy_net = DQN(n_observations, n_actions).to(device)\n",
    "target_net = DQN(n_observations, n_actions).to(device)\n",
    "target_net.load_state_dict(policy_net.state_dict())\n",
    "\n",
    "optimizer = optim.AdamW(policy_net.parameters(), lr=LR, amsgrad=True)\n",
    "memory = ReplayMemory(10000)\n",
    "\n",
    "\n",
    "steps_done = 0"
   ],
   "metadata": {
    "collapsed": false
   }
  },
  {
   "cell_type": "code",
   "execution_count": 14,
   "outputs": [],
   "source": [
    "def select_action(state):\n",
    "    global steps_done\n",
    "    sample = random.random()\n",
    "    eps_threshold = EPS_END + (EPS_START - EPS_END) * \\\n",
    "        math.exp(-1. * steps_done / EPS_DECAY)\n",
    "    steps_done += 1\n",
    "    if sample > eps_threshold:\n",
    "        with torch.no_grad():\n",
    "            # t.max(1) will return the largest column value of each row.\n",
    "            # second column on max result is index of where max element was\n",
    "            # found, so we pick action with the larger expected reward.\n",
    "            return policy_net(state).max(1)[1].view(1, 1)\n",
    "    else:\n",
    "        return torch.tensor([[env.action_space.sample()]], device=device, dtype=torch.long)"
   ],
   "metadata": {
    "collapsed": false
   }
  },
  {
   "cell_type": "code",
   "execution_count": 16,
   "outputs": [],
   "source": [
    "episode_durations = []\n",
    "\n",
    "def plot_durations(show_result=False):\n",
    "    plt.figure(1)\n",
    "    durations_t = torch.tensor(episode_durations, dtype=torch.float)\n",
    "    if show_result:\n",
    "        plt.title('Result')\n",
    "    else:\n",
    "        plt.clf()\n",
    "        plt.title('Training...')\n",
    "    plt.xlabel('Episode')\n",
    "    plt.ylabel('Duration')\n",
    "    plt.plot(durations_t.numpy())\n",
    "    # Take 100 episode averages and plot them too\n",
    "    if len(durations_t) >= 100:\n",
    "        means = durations_t.unfold(0, 100, 1).mean(1).view(-1)\n",
    "        means = torch.cat((torch.zeros(99), means))\n",
    "        plt.plot(means.numpy())\n",
    "\n",
    "    plt.pause(0.001)  # pause a bit so that plots are updated\n",
    "    # if is_ipython:\n",
    "    #     if not show_result:\n",
    "    #         display.display(plt.gcf())\n",
    "    #         display.clear_output(wait=True)\n",
    "    #     else:\n",
    "    #         display.display(plt.gcf())"
   ],
   "metadata": {
    "collapsed": false
   }
  },
  {
   "cell_type": "code",
   "execution_count": 17,
   "outputs": [],
   "source": [
    "def optimize_model():\n",
    "    if len(memory) < BATCH_SIZE:\n",
    "        return\n",
    "    transitions = memory.sample(BATCH_SIZE)\n",
    "    # Transpose the batch (see https://stackoverflow.com/a/19343/3343043 for\n",
    "    # detailed explanation). This converts batch-array of Transitions\n",
    "    # to Transition of batch-arrays.\n",
    "    batch = Transition(*zip(*transitions))\n",
    "\n",
    "    # Compute a mask of non-final states and concatenate the batch elements\n",
    "    # (a final state would've been the one after which simulation ended)\n",
    "    non_final_mask = torch.tensor(tuple(map(lambda s: s is not None,\n",
    "                                            batch.next_state)), device=device, dtype=torch.bool)\n",
    "    non_final_next_states = torch.cat([s for s in batch.next_state\n",
    "                                       if s is not None])\n",
    "    state_batch = torch.cat(batch.state)\n",
    "    action_batch = torch.cat(batch.action)\n",
    "    reward_batch = torch.cat(batch.reward)\n",
    "\n",
    "    # Compute Q(s_t, a) - the model computes Q(s_t), then we select the\n",
    "    # columns of actions taken. These are the actions which would've been taken\n",
    "    # for each batch state according to policy_net\n",
    "    state_action_values = policy_net(state_batch).gather(1, action_batch)\n",
    "\n",
    "    # Compute V(s_{t+1}) for all next states.\n",
    "    # Expected values of actions for non_final_next_states are computed based\n",
    "    # on the \"older\" target_net; selecting their best reward with max(1)[0].\n",
    "    # This is merged based on the mask, such that we'll have either the expected\n",
    "    # state value or 0 in case the state was final.\n",
    "    next_state_values = torch.zeros(BATCH_SIZE, device=device)\n",
    "    with torch.no_grad():\n",
    "        next_state_values[non_final_mask] = target_net(non_final_next_states).max(1)[0]\n",
    "    # Compute the expected Q values\n",
    "    expected_state_action_values = (next_state_values * GAMMA) + reward_batch\n",
    "\n",
    "    # Compute Huber loss\n",
    "    criterion = nn.SmoothL1Loss()\n",
    "    loss = criterion(state_action_values, expected_state_action_values.unsqueeze(1))\n",
    "\n",
    "    # Optimize the model\n",
    "    optimizer.zero_grad()\n",
    "    loss.backward()\n",
    "    # In-place gradient clipping\n",
    "    torch.nn.utils.clip_grad_value_(policy_net.parameters(), 100)\n",
    "    optimizer.step()"
   ],
   "metadata": {
    "collapsed": false
   }
  },
  {
   "cell_type": "markdown",
   "source": [
    "# Run Training"
   ],
   "metadata": {
    "collapsed": false
   }
  },
  {
   "cell_type": "code",
   "execution_count": 18,
   "outputs": [],
   "source": [
    "if torch.cuda.is_available():\n",
    "    num_episodes = 600\n",
    "else:\n",
    "    num_episodes = 50"
   ],
   "metadata": {
    "collapsed": false
   }
  },
  {
   "cell_type": "code",
   "execution_count": 19,
   "outputs": [
    {
     "ename": "TypeError",
     "evalue": "'int' object is not iterable",
     "output_type": "error",
     "traceback": [
      "\u001B[0;31m---------------------------------------------------------------------------\u001B[0m",
      "\u001B[0;31mTypeError\u001B[0m                                 Traceback (most recent call last)",
      "Input \u001B[0;32mIn [19]\u001B[0m, in \u001B[0;36m<cell line: 1>\u001B[0;34m()\u001B[0m\n\u001B[1;32m      5\u001B[0m \u001B[38;5;28;01mfor\u001B[39;00m t \u001B[38;5;129;01min\u001B[39;00m count():\n\u001B[1;32m      6\u001B[0m     action \u001B[38;5;241m=\u001B[39m select_action(state)\n\u001B[0;32m----> 7\u001B[0m     observation, reward, terminated, truncated, _ \u001B[38;5;241m=\u001B[39m \u001B[43menv\u001B[49m\u001B[38;5;241;43m.\u001B[39;49m\u001B[43mstep\u001B[49m\u001B[43m(\u001B[49m\u001B[43maction\u001B[49m\u001B[38;5;241;43m.\u001B[39;49m\u001B[43mitem\u001B[49m\u001B[43m(\u001B[49m\u001B[43m)\u001B[49m\u001B[43m)\u001B[49m\n\u001B[1;32m      8\u001B[0m     reward \u001B[38;5;241m=\u001B[39m torch\u001B[38;5;241m.\u001B[39mtensor([reward], device\u001B[38;5;241m=\u001B[39mdevice)\n\u001B[1;32m      9\u001B[0m     done \u001B[38;5;241m=\u001B[39m terminated \u001B[38;5;129;01mor\u001B[39;00m truncated\n",
      "File \u001B[0;32m~/Desktop/College/GeorgiaTech/Research/Yang-Shihao-Portfolio-Rebalancing/PortfolioRebalancerEnv.py:128\u001B[0m, in \u001B[0;36mPortfolioRebalancerEnv.step\u001B[0;34m(self, action)\u001B[0m\n\u001B[1;32m    121\u001B[0m \u001B[38;5;66;03m# TODO: Calculate the Transaction Costs to be incurred if rebalancing is to take place\u001B[39;00m\n\u001B[1;32m    122\u001B[0m \u001B[38;5;66;03m# Cost_Min['TC'][line2] = (self.CA * math.fabs(Optimal_WeightA - (Cost_Min['WeightA'][line2])) + CB * math.fabs(\u001B[39;00m\n\u001B[1;32m    123\u001B[0m \u001B[38;5;66;03m#             (1 - Optimal_WeightA) - (1 - (Cost_Min['WeightA'][line2]))))\u001B[39;00m\n\u001B[1;32m    124\u001B[0m \n\u001B[1;32m    125\u001B[0m \u001B[38;5;66;03m# current_transaction_cost = self.transaction_costs.T.dot(math.fabs(self.w_optimal - self.state))\u001B[39;00m\n\u001B[1;32m    126\u001B[0m \u001B[38;5;66;03m# TODO: ideally change this to linear algebra of TC.T.dot(abs(diff))\u001B[39;00m\n\u001B[1;32m    127\u001B[0m current_transaction_cost \u001B[38;5;241m=\u001B[39m \u001B[38;5;241m0\u001B[39m\n\u001B[0;32m--> 128\u001B[0m \u001B[38;5;28;01mfor\u001B[39;00m i, asset \u001B[38;5;129;01min\u001B[39;00m \u001B[38;5;28;43menumerate\u001B[39;49m\u001B[43m(\u001B[49m\u001B[38;5;28;43mself\u001B[39;49m\u001B[38;5;241;43m.\u001B[39;49m\u001B[43mn_assets\u001B[49m\u001B[43m)\u001B[49m:\n\u001B[1;32m    129\u001B[0m     \u001B[38;5;66;03m# if first asset\u001B[39;00m\n\u001B[1;32m    130\u001B[0m     \u001B[38;5;28;01mif\u001B[39;00m i \u001B[38;5;241m==\u001B[39m \u001B[38;5;241m0\u001B[39m:\n\u001B[1;32m    131\u001B[0m         \u001B[38;5;66;03m# since self.state corresponds to asset A weight (for now)\u001B[39;00m\n\u001B[1;32m    132\u001B[0m         current_transaction_cost \u001B[38;5;241m+\u001B[39m\u001B[38;5;241m=\u001B[39m \u001B[38;5;28mself\u001B[39m\u001B[38;5;241m.\u001B[39mtransaction_costs[i] \u001B[38;5;241m*\u001B[39m (math\u001B[38;5;241m.\u001B[39mfabs(\u001B[38;5;28mself\u001B[39m\u001B[38;5;241m.\u001B[39mw_optimal \u001B[38;5;241m-\u001B[39m \u001B[38;5;28mself\u001B[39m\u001B[38;5;241m.\u001B[39mstate))\n",
      "\u001B[0;31mTypeError\u001B[0m: 'int' object is not iterable"
     ]
    }
   ],
   "source": [
    "for i_episode in range(num_episodes):\n",
    "    # Initialize the environment and get it's state\n",
    "    state, info = env.reset()\n",
    "    state = torch.tensor(state, dtype=torch.float32, device=device).unsqueeze(0)\n",
    "    for t in count():\n",
    "        action = select_action(state)\n",
    "        observation, reward, terminated, truncated, _ = env.step(action.item())\n",
    "        reward = torch.tensor([reward], device=device)\n",
    "        done = terminated or truncated\n",
    "\n",
    "        if terminated:\n",
    "            next_state = None\n",
    "        else:\n",
    "            next_state = torch.tensor(observation, dtype=torch.float32, device=device).unsqueeze(0)\n",
    "\n",
    "        # Store the transition in memory\n",
    "        memory.push(state, action, next_state, reward)\n",
    "\n",
    "        # Move to the next state\n",
    "        state = next_state\n",
    "\n",
    "        # Perform one step of the optimization (on the policy network)\n",
    "        optimize_model()\n",
    "\n",
    "        # Soft update of the target network's weights\n",
    "        # θ′ ← τ θ + (1 −τ )θ′\n",
    "        target_net_state_dict = target_net.state_dict()\n",
    "        policy_net_state_dict = policy_net.state_dict()\n",
    "        for key in policy_net_state_dict:\n",
    "            target_net_state_dict[key] = policy_net_state_dict[key]*TAU + target_net_state_dict[key]*(1-TAU)\n",
    "        target_net.load_state_dict(target_net_state_dict)\n",
    "\n",
    "        if done:\n",
    "            episode_durations.append(t + 1)\n",
    "            plot_durations()\n",
    "            break\n",
    "\n",
    "print('Complete')\n",
    "plot_durations(show_result=True)\n",
    "plt.ioff()\n",
    "plt.show()"
   ],
   "metadata": {
    "collapsed": false
   }
  },
  {
   "cell_type": "markdown",
   "source": [
    "# Analysis"
   ],
   "metadata": {
    "collapsed": false
   }
  },
  {
   "cell_type": "code",
   "execution_count": 18,
   "outputs": [],
   "source": [
    "from gym import logger, spaces"
   ],
   "metadata": {
    "collapsed": false
   }
  },
  {
   "cell_type": "code",
   "execution_count": 20,
   "outputs": [
    {
     "data": {
      "text/plain": "Discrete(4)"
     },
     "execution_count": 20,
     "metadata": {},
     "output_type": "execute_result"
    }
   ],
   "source": [
    "spaces.Discrete(4)"
   ],
   "metadata": {
    "collapsed": false
   }
  },
  {
   "cell_type": "code",
   "execution_count": 33,
   "outputs": [],
   "source": [
    "high = np.array([0.8], dtype=np.float32)\n",
    "low = np.array([0.2], dtype=np.float32)"
   ],
   "metadata": {
    "collapsed": false
   }
  },
  {
   "cell_type": "code",
   "execution_count": 35,
   "outputs": [
    {
     "data": {
      "text/plain": "Box([0.2], [0.8], (1,), float32)"
     },
     "execution_count": 35,
     "metadata": {},
     "output_type": "execute_result"
    }
   ],
   "source": [
    "spaces.Box(low, high, dtype=np.float32)"
   ],
   "metadata": {
    "collapsed": false
   }
  },
  {
   "cell_type": "markdown",
   "source": [
    "# Do without Open AI"
   ],
   "metadata": {
    "collapsed": false
   }
  },
  {
   "cell_type": "code",
   "execution_count": null,
   "outputs": [],
   "source": [],
   "metadata": {
    "collapsed": false
   }
  }
 ],
 "metadata": {
  "kernelspec": {
   "display_name": "Python 3",
   "language": "python",
   "name": "python3"
  },
  "language_info": {
   "codemirror_mode": {
    "name": "ipython",
    "version": 2
   },
   "file_extension": ".py",
   "mimetype": "text/x-python",
   "name": "python",
   "nbconvert_exporter": "python",
   "pygments_lexer": "ipython2",
   "version": "2.7.6"
  }
 },
 "nbformat": 4,
 "nbformat_minor": 0
}
