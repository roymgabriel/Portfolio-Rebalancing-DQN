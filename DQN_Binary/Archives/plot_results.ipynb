{
 "cells": [
  {
   "cell_type": "code",
   "execution_count": 23,
   "outputs": [],
   "source": [
    "from DQN_Binary import *\n",
    "import pandas as pd\n",
    "import torch\n",
    "import matplotlib.pyplot as plt\n",
    "import seaborn as sns\n",
    "sns.set_theme()"
   ],
   "metadata": {
    "collapsed": false,
    "ExecuteTime": {
     "end_time": "2023-09-30T15:51:51.677360Z",
     "start_time": "2023-09-30T15:51:51.663388Z"
    }
   }
  },
  {
   "cell_type": "code",
   "execution_count": 24,
   "outputs": [],
   "source": [
    "n_asset = 2\n",
    "x = np.arange(1, 101)\n",
    "state_possible = np.array(np.meshgrid(*([x] * n_asset))).T.reshape(-1, n_asset).astype(np.float32)\n",
    "state_possible = state_possible[state_possible.sum(axis=1) == 100, :] / 100"
   ],
   "metadata": {
    "collapsed": false,
    "ExecuteTime": {
     "end_time": "2023-09-30T15:51:51.677732Z",
     "start_time": "2023-09-30T15:51:51.668801Z"
    }
   }
  },
  {
   "cell_type": "code",
   "execution_count": 25,
   "outputs": [],
   "source": [
    "x = state_possible[:, 0]\n",
    "dqn_action_df = pd.DataFrame(index=x)\n",
    "dqn_bool_action_df = pd.DataFrame(index=x)"
   ],
   "metadata": {
    "collapsed": false,
    "ExecuteTime": {
     "end_time": "2023-09-30T15:51:51.678582Z",
     "start_time": "2023-09-30T15:51:51.673681Z"
    }
   }
  },
  {
   "cell_type": "code",
   "execution_count": 26,
   "outputs": [],
   "source": [
    "# RL:\n",
    "BATCH_SIZE = 1000\n",
    "GAMMA = 0.9\n",
    "EPS_START = 0.99999\n",
    "EPS_END = 0.05\n",
    "EPS_DECAY = 1000\n",
    "TAU = 0.005\n",
    "LR = 1e-4\n",
    "\n",
    "num_episodes = 20000\n",
    "\n",
    "mu = np.linspace(50, 200, n_asset) / 1e4\n",
    "sigma = np.linspace(300, 800, n_asset) / 1e4\n",
    "cov = np.diag(sigma ** 2)"
   ],
   "metadata": {
    "collapsed": false,
    "ExecuteTime": {
     "end_time": "2023-09-30T15:51:51.691990Z",
     "start_time": "2023-09-30T15:51:51.677577Z"
    }
   }
  },
  {
   "cell_type": "code",
   "execution_count": 27,
   "outputs": [
    {
     "name": "stdout",
     "output_type": "stream",
     "text": [
      "... loading checkpoint ...\n",
      "... loading checkpoint ...\n",
      "... loading checkpoint ...\n",
      "... loading checkpoint ...\n",
      "... loading checkpoint ...\n",
      "... loading checkpoint ...\n",
      "... loading checkpoint ...\n",
      "... loading checkpoint ...\n"
     ]
    }
   ],
   "source": [
    "for tc in [0, 0.0005, 0.001, 0.002]:\n",
    "    agent = Agent(mu=mu, cov=cov, batch_size=BATCH_SIZE, gamma=GAMMA,\n",
    "                  eps_start=EPS_START, eps_end=EPS_END, eps_decay=EPS_DECAY, tau=TAU, lr=LR,\n",
    "                  tc=tc)\n",
    "    agent.load_models()\n",
    "    action = []\n",
    "    bool_action = []\n",
    "    for current_state in state_possible:\n",
    "        current_state = torch.Tensor(current_state)\n",
    "        # tmp_action = agent.policy_net(current_state)\n",
    "        tmp_action = agent.policy_net(current_state).argmax()\n",
    "        # tmp_action = agent.env.action_space[optimal_action_index]\n",
    "        tmp_bool_action = agent.select_action(current_state)\n",
    "        action.append(tmp_action)  # just store action of first asset\n",
    "        bool_action.append(tmp_bool_action[0])\n",
    "\n",
    "    action = np.array([i.item() for i in action])\n",
    "    bool_action = np.array([i.item() for i in bool_action])\n",
    "    dqn_action_df[f\"TC: {tc * 1e4:.0f} bps\"] = action\n",
    "    dqn_bool_action_df[f\"TC: {tc * 1e4:.0f} bps\"] = bool_action"
   ],
   "metadata": {
    "collapsed": false,
    "ExecuteTime": {
     "end_time": "2023-09-30T15:51:51.721221Z",
     "start_time": "2023-09-30T15:51:51.680399Z"
    }
   }
  },
  {
   "cell_type": "code",
   "execution_count": 28,
   "outputs": [
    {
     "data": {
      "text/plain": "      TC: 0 bps  TC: 5 bps  TC: 10 bps  TC: 20 bps\n0.01          1          1           1           1\n0.02          1          1           1           1\n0.03          1          1           1           1\n0.04          1          1           1           1\n0.05          1          1           1           1\n...         ...        ...         ...         ...\n0.95          1          1           1           1\n0.96          1          1           1           1\n0.97          1          1           1           1\n0.98          1          1           1           1\n0.99          1          1           1           1\n\n[99 rows x 4 columns]",
      "text/html": "<div>\n<style scoped>\n    .dataframe tbody tr th:only-of-type {\n        vertical-align: middle;\n    }\n\n    .dataframe tbody tr th {\n        vertical-align: top;\n    }\n\n    .dataframe thead th {\n        text-align: right;\n    }\n</style>\n<table border=\"1\" class=\"dataframe\">\n  <thead>\n    <tr style=\"text-align: right;\">\n      <th></th>\n      <th>TC: 0 bps</th>\n      <th>TC: 5 bps</th>\n      <th>TC: 10 bps</th>\n      <th>TC: 20 bps</th>\n    </tr>\n  </thead>\n  <tbody>\n    <tr>\n      <th>0.01</th>\n      <td>1</td>\n      <td>1</td>\n      <td>1</td>\n      <td>1</td>\n    </tr>\n    <tr>\n      <th>0.02</th>\n      <td>1</td>\n      <td>1</td>\n      <td>1</td>\n      <td>1</td>\n    </tr>\n    <tr>\n      <th>0.03</th>\n      <td>1</td>\n      <td>1</td>\n      <td>1</td>\n      <td>1</td>\n    </tr>\n    <tr>\n      <th>0.04</th>\n      <td>1</td>\n      <td>1</td>\n      <td>1</td>\n      <td>1</td>\n    </tr>\n    <tr>\n      <th>0.05</th>\n      <td>1</td>\n      <td>1</td>\n      <td>1</td>\n      <td>1</td>\n    </tr>\n    <tr>\n      <th>...</th>\n      <td>...</td>\n      <td>...</td>\n      <td>...</td>\n      <td>...</td>\n    </tr>\n    <tr>\n      <th>0.95</th>\n      <td>1</td>\n      <td>1</td>\n      <td>1</td>\n      <td>1</td>\n    </tr>\n    <tr>\n      <th>0.96</th>\n      <td>1</td>\n      <td>1</td>\n      <td>1</td>\n      <td>1</td>\n    </tr>\n    <tr>\n      <th>0.97</th>\n      <td>1</td>\n      <td>1</td>\n      <td>1</td>\n      <td>1</td>\n    </tr>\n    <tr>\n      <th>0.98</th>\n      <td>1</td>\n      <td>1</td>\n      <td>1</td>\n      <td>1</td>\n    </tr>\n    <tr>\n      <th>0.99</th>\n      <td>1</td>\n      <td>1</td>\n      <td>1</td>\n      <td>1</td>\n    </tr>\n  </tbody>\n</table>\n<p>99 rows × 4 columns</p>\n</div>"
     },
     "execution_count": 28,
     "metadata": {},
     "output_type": "execute_result"
    }
   ],
   "source": [
    "dqn_action_df"
   ],
   "metadata": {
    "collapsed": false,
    "ExecuteTime": {
     "end_time": "2023-09-30T15:51:51.726256Z",
     "start_time": "2023-09-30T15:51:51.723812Z"
    }
   }
  },
  {
   "cell_type": "code",
   "execution_count": 29,
   "outputs": [
    {
     "data": {
      "text/plain": "      TC: 0 bps  TC: 5 bps  TC: 10 bps  TC: 20 bps\n0.01          1          1           1           0\n0.02          0          1           1           1\n0.03          1          0           1           1\n0.04          0          0           0           1\n0.05          1          0           0           0\n...         ...        ...         ...         ...\n0.95          1          0           0           0\n0.96          0          1           0           0\n0.97          0          1           0           1\n0.98          1          1           1           0\n0.99          0          1           0           1\n\n[99 rows x 4 columns]",
      "text/html": "<div>\n<style scoped>\n    .dataframe tbody tr th:only-of-type {\n        vertical-align: middle;\n    }\n\n    .dataframe tbody tr th {\n        vertical-align: top;\n    }\n\n    .dataframe thead th {\n        text-align: right;\n    }\n</style>\n<table border=\"1\" class=\"dataframe\">\n  <thead>\n    <tr style=\"text-align: right;\">\n      <th></th>\n      <th>TC: 0 bps</th>\n      <th>TC: 5 bps</th>\n      <th>TC: 10 bps</th>\n      <th>TC: 20 bps</th>\n    </tr>\n  </thead>\n  <tbody>\n    <tr>\n      <th>0.01</th>\n      <td>1</td>\n      <td>1</td>\n      <td>1</td>\n      <td>0</td>\n    </tr>\n    <tr>\n      <th>0.02</th>\n      <td>0</td>\n      <td>1</td>\n      <td>1</td>\n      <td>1</td>\n    </tr>\n    <tr>\n      <th>0.03</th>\n      <td>1</td>\n      <td>0</td>\n      <td>1</td>\n      <td>1</td>\n    </tr>\n    <tr>\n      <th>0.04</th>\n      <td>0</td>\n      <td>0</td>\n      <td>0</td>\n      <td>1</td>\n    </tr>\n    <tr>\n      <th>0.05</th>\n      <td>1</td>\n      <td>0</td>\n      <td>0</td>\n      <td>0</td>\n    </tr>\n    <tr>\n      <th>...</th>\n      <td>...</td>\n      <td>...</td>\n      <td>...</td>\n      <td>...</td>\n    </tr>\n    <tr>\n      <th>0.95</th>\n      <td>1</td>\n      <td>0</td>\n      <td>0</td>\n      <td>0</td>\n    </tr>\n    <tr>\n      <th>0.96</th>\n      <td>0</td>\n      <td>1</td>\n      <td>0</td>\n      <td>0</td>\n    </tr>\n    <tr>\n      <th>0.97</th>\n      <td>0</td>\n      <td>1</td>\n      <td>0</td>\n      <td>1</td>\n    </tr>\n    <tr>\n      <th>0.98</th>\n      <td>1</td>\n      <td>1</td>\n      <td>1</td>\n      <td>0</td>\n    </tr>\n    <tr>\n      <th>0.99</th>\n      <td>0</td>\n      <td>1</td>\n      <td>0</td>\n      <td>1</td>\n    </tr>\n  </tbody>\n</table>\n<p>99 rows × 4 columns</p>\n</div>"
     },
     "execution_count": 29,
     "metadata": {},
     "output_type": "execute_result"
    }
   ],
   "source": [
    "dqn_bool_action_df"
   ],
   "metadata": {
    "collapsed": false,
    "ExecuteTime": {
     "end_time": "2023-09-30T15:51:51.730393Z",
     "start_time": "2023-09-30T15:51:51.728558Z"
    }
   }
  },
  {
   "cell_type": "code",
   "execution_count": 30,
   "outputs": [
    {
     "data": {
      "text/plain": "array([0.63941273, 0.36058727])"
     },
     "execution_count": 30,
     "metadata": {},
     "output_type": "execute_result"
    }
   ],
   "source": [
    "optimal_weight = find_optimal_wgt(mu, cov)\n",
    "optimal_weight"
   ],
   "metadata": {
    "collapsed": false,
    "ExecuteTime": {
     "end_time": "2023-09-30T15:51:51.734521Z",
     "start_time": "2023-09-30T15:51:51.731117Z"
    }
   }
  },
  {
   "cell_type": "code",
   "execution_count": 31,
   "outputs": [],
   "source": [
    "# plt.rcParams.update({\"font.size\": 18})\n",
    "# fig, ax = plt.subplots(1, 1, figsize=(20, 10))\n",
    "# # bell_action_df.plot(ax=ax, color=['#1f77b4', '#ff7f0e', '#2ca02c', '#d62728'], linestyle=\"dashed\")\n",
    "# dqn_action_df.plot(ax=ax, color=['#1f77b4', '#ff7f0e', '#2ca02c', '#d62728'], linestyle=\"dotted\")\n",
    "# ax.set_xlabel(\"Weight on First Asset\")\n",
    "# ax.set_ylabel(\"Suggested Delta Weight on Asset 1\")\n",
    "# ax.axvline(optimal_weight[0], color=\"red\", linestyle=\"dotted\")\n",
    "# ax.axhline(0, color=\"red\", linestyle=\"dotted\")\n",
    "# ax.legend()\n",
    "# plt.tight_layout()\n",
    "# plt.show()"
   ],
   "metadata": {
    "collapsed": false,
    "ExecuteTime": {
     "end_time": "2023-09-30T15:51:51.736769Z",
     "start_time": "2023-09-30T15:51:51.734709Z"
    }
   }
  },
  {
   "cell_type": "code",
   "execution_count": 32,
   "outputs": [],
   "source": [
    "# sns.heatmap(dqn_bool_action_df, cmap='cividis')\n",
    "# ax = plt.gca()\n",
    "# # ax.add_patch(plt.Rectangle((0, optimal_weight[0]), 10, 0, fill=True, edgecolor='red', lw=1))\n",
    "# ax.hlines(optimal_weight[0]*100, xmin=0, xmax=len(dqn_bool_action_df.columns), edgecolor='red', lw=3)\n",
    "# plt.show()"
   ],
   "metadata": {
    "collapsed": false,
    "ExecuteTime": {
     "end_time": "2023-09-30T15:51:51.738907Z",
     "start_time": "2023-09-30T15:51:51.737029Z"
    }
   }
  },
  {
   "cell_type": "code",
   "execution_count": 33,
   "outputs": [
    {
     "data": {
      "text/plain": "<Figure size 640x480 with 2 Axes>",
      "image/png": "[encoded data removed]"
     },
     "metadata": {},
     "output_type": "display_data"
    }
   ],
   "source": [
    "sns.heatmap(dqn_action_df, cmap='cividis')\n",
    "y = optimal_weight[0]\n",
    "ax = plt.gca()\n",
    "plt.hlines(y=y*100, xmin=0, xmax=len(dqn_action_df.columns), colors='red')\n",
    "plt.title(\"DQN Binary Heatmap of Rebalancing\")\n",
    "plt.show()"
   ],
   "metadata": {
    "collapsed": false,
    "ExecuteTime": {
     "end_time": "2023-09-30T15:51:51.846640Z",
     "start_time": "2023-09-30T15:51:51.741602Z"
    }
   }
  },
  {
   "cell_type": "code",
   "execution_count": 33,
   "outputs": [],
   "source": [],
   "metadata": {
    "collapsed": false,
    "ExecuteTime": {
     "end_time": "2023-09-30T15:51:51.848284Z",
     "start_time": "2023-09-30T15:51:51.846789Z"
    }
   }
  }
 ],
 "metadata": {
  "kernelspec": {
   "display_name": "Python 3",
   "language": "python",
   "name": "python3"
  },
  "language_info": {
   "codemirror_mode": {
    "name": "ipython",
    "version": 2
   },
   "file_extension": ".py",
   "mimetype": "text/x-python",
   "name": "python",
   "nbconvert_exporter": "python",
   "pygments_lexer": "ipython2",
   "version": "2.7.6"
  }
 },
 "nbformat": 4,
 "nbformat_minor": 0
}
