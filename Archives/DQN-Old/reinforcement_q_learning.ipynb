{
 "cells": [
  {
   "cell_type": "code",
   "execution_count": 1,
   "outputs": [],
   "source": [
    "a = '912827ZE 8/15/1990 912827ZN 11/15/1990 912810CT 1/12/1981 9128IOCU 4/2/1981 912810CW 7/2/1981 912810CX 10/7/1981 912810CZ 1/6/1982 91282774 S/15/1992 912827G5R/15/1992 912810DA 9/29/1982 912810DC 1/4/1983 912810DD 4/4/1983 912810DE 7/5/1983 912810DG 10/5/1983 912827N8 2/15/1994 912810DH 4/5/1984 912810DK 7/10/1984 912810DM 10/30/1984 91282758 2/15/1995 912810DQ4/2/1985 912810DR 7/2/1985 912827V8 11/15/1995 912810DU 1/15/1986 912827X8 5/15/1996 912827Y5 7/15/1996 91282726 10/15/1996 912827212/15/1997 9128272U 5/15/1997 9128273E 8/15/1997 9128273X 2/15/1998 9128274F S/15/1998 9128274V 11/16/1998 9128275G 5/17/1999 Maturity Date 8/15/2000 11/15/2000 2/15/2001 5/15/2001 8/15/2001 11/15/2001 2/15/2002 5/15/2002 8/15/2002 11/15/2002 2/15/2003 5/15/2003 8/15/2003 11/15/2003 2/15/2004 5/15/2004 8/15/2004 11/15/2004 2/15/2005 5/15/2005 8/15/2005 11/15/2005 2/15/2006 5/15/2006 8/15/2006 11/15/2006 2/15/2007 5/15/2007 8/15/2007 11/15/2007 5/15/2008 11/15/2008 5/15/2009 Name NOTE NOTE BOND BOND BOND BOND BOND NOTE NOTE BOND BOND BOND BOND BOND NOTE BOND BOND BOND NOTE BOND BOND NOTE BOND NOTE NOTE NOTE NOTE NOTE NOTE NOTE NOTE NOTE NOTE Coupon 8.750% 8.500% 11.750% 13.125% 13.375% 15.750% 14.250% 7.500% 6.375% 11.625% 10.750% 10.750% 11.125% 11.875% 5.875% 12.375% 13.750% 11.625% 7.500% 12.000% 10.750% 5.875% 9.375% 6.875% 7.000% 6.500 6.250% 6,625% 6.125% 5.500% 5.625% 4.750% 5.500% Bid Ask 100.5742 100.6055 100.8906 100.9219 103.8047 103.8359 105.9805 106.0117 107.6406 107.6719 112.3945 112.4258 111.9297 111.9609 101.2031 101.2444 99,0469 99.0781 110.6680 110.6992 109.5117 109.5430 110.3281 110.3594 112.1523 112.1836 115.3086 115.3398 97.1172 97.1484 118.8984 118.9297 124.9375 124.9688 118.2969 118.3281 102.8633 102.8945 121.6133 121.6445 117,0664 117.0977 95.9844 96.0156 112.0352 112.0664 100.6055 100.6367 101.2031 101.2344 98.750098.7813 97.4883 97.5195 99.5625 99.5938 96.7578 96.7891 93.1328 93.1641 93.7852 93.8164 87.9766 88.0078 92.824292.8555 '.split()"
   ],
   "metadata": {
    "collapsed": false
   }
  },
  {
   "cell_type": "code",
   "execution_count": 1,
   "outputs": [],
   "source": [
    "import pandas as pd\n",
    "import numpy as np"
   ],
   "metadata": {
    "collapsed": false
   }
  },
  {
   "cell_type": "code",
   "execution_count": 2,
   "metadata": {
    "collapsed": false
   },
   "outputs": [],
   "source": [
    "%matplotlib inline"
   ]
  },
  {
   "cell_type": "markdown",
   "metadata": {},
   "source": [
    "\n",
    "# Reinforcement Learning (DQN) Tutorial\n",
    "**Author**: [Adam Paszke](https://github.com/apaszke)\n",
    "            [Mark Towers](https://github.com/pseudo-rnd-thoughts)\n",
    "\n",
    "\n",
    "This tutorial shows how to use PyTorch to train a Deep Q Learning (DQN) agent\n",
    "on the CartPole-v1 task from [Gymnasium](https://www.gymnasium.farama.org)_.\n",
    "\n",
    "**Task**\n",
    "\n",
    "The agent has to decide between two actions - moving the cart left or\n",
    "right - so that the pole attached to it stays upright. You can find more\n",
    "information about the environment and other more challenging environments at\n",
    "[Gymnasium's website](https://gymnasium.farama.org/environments/classic_control/cart_pole/)_.\n",
    "\n",
    ".. figure:: /_static/img/cartpole.gif\n",
    "   :alt: cartpole\n",
    "\n",
    "   cartpole\n",
    "\n",
    "As the agent observes the current state of the environment and chooses\n",
    "an action, the environment *transitions* to a new state, and also\n",
    "returns a reward that indicates the consequences of the action. In this\n",
    "task, rewards are +1 for every incremental timestep and the environment\n",
    "terminates if the pole falls over too far or the cart moves more than 2.4\n",
    "units away from center. This means better performing scenarios will run\n",
    "for longer duration, accumulating larger return.\n",
    "\n",
    "The CartPole task is designed so that the inputs to the agent are 4 real\n",
    "values representing the environment state (position, velocity, etc.).\n",
    "We take these 4 inputs without any scaling and pass them through a \n",
    "small fully-connected network with 2 outputs, one for each action. \n",
    "The network is trained to predict the expected value for each action, \n",
    "given the input state. The action with the highest expected value is \n",
    "then chosen.\n",
    "\n",
    "\n",
    "**Packages**\n",
    "\n",
    "\n",
    "First, let's import needed packages. Firstly, we need\n",
    "[gymnasium](https://gymnasium.farama.org/)_ for the environment,\n",
    "installed by using `pip`. This is a fork of the original OpenAI\n",
    "Gym project and maintained by the same team since Gym v0.19.\n",
    "If you are running this in Google colab, run:\n"
   ]
  },
  {
   "cell_type": "code",
   "execution_count": 3,
   "metadata": {
    "collapsed": false
   },
   "outputs": [
    {
     "name": "stdout",
     "output_type": "stream",
     "text": [
      "Requirement already satisfied: gymnasium[classic_control] in /Users/Roy/miniforge3/envs/tf_m1/lib/python3.9/site-packages (0.27.1)\n",
      "Requirement already satisfied: numpy>=1.21.0 in /Users/Roy/miniforge3/envs/tf_m1/lib/python3.9/site-packages (from gymnasium[classic_control]) (1.23.4)\n",
      "Requirement already satisfied: gymnasium-notices>=0.0.1 in /Users/Roy/miniforge3/envs/tf_m1/lib/python3.9/site-packages (from gymnasium[classic_control]) (0.0.1)\n",
      "Requirement already satisfied: typing-extensions>=4.3.0 in /Users/Roy/miniforge3/envs/tf_m1/lib/python3.9/site-packages (from gymnasium[classic_control]) (4.4.0)\n",
      "Requirement already satisfied: cloudpickle>=1.2.0 in /Users/Roy/miniforge3/envs/tf_m1/lib/python3.9/site-packages (from gymnasium[classic_control]) (2.0.0)\n",
      "Requirement already satisfied: importlib-metadata>=4.8.0 in /Users/Roy/miniforge3/envs/tf_m1/lib/python3.9/site-packages (from gymnasium[classic_control]) (4.10.0)\n",
      "Requirement already satisfied: jax-jumpy>=0.2.0 in /Users/Roy/miniforge3/envs/tf_m1/lib/python3.9/site-packages (from gymnasium[classic_control]) (0.2.0)\n",
      "Requirement already satisfied: pygame==2.1.3.dev8 in /Users/Roy/miniforge3/envs/tf_m1/lib/python3.9/site-packages (from gymnasium[classic_control]) (2.1.3.dev8)\n",
      "Requirement already satisfied: zipp>=0.5 in /Users/Roy/miniforge3/envs/tf_m1/lib/python3.9/site-packages (from importlib-metadata>=4.8.0->gymnasium[classic_control]) (3.6.0)\n"
     ]
    }
   ],
   "source": [
    "%%bash\n",
    "pip3 install gymnasium[classic_control]"
   ]
  },
  {
   "cell_type": "markdown",
   "metadata": {},
   "source": [
    "We'll also use the following from PyTorch:\n",
    "\n",
    "-  neural networks (``torch.nn``)\n",
    "-  optimization (``torch.optim``)\n",
    "-  automatic differentiation (``torch.autograd``)\n"
   ]
  },
  {
   "cell_type": "code",
   "execution_count": 4,
   "metadata": {
    "collapsed": false
   },
   "outputs": [],
   "source": [
    "import gymnasium as gym\n",
    "import math\n",
    "import random\n",
    "import matplotlib\n",
    "import matplotlib.pyplot as plt\n",
    "from collections import namedtuple, deque\n",
    "from itertools import count\n",
    "\n",
    "import torch\n",
    "import torch.nn as nn\n",
    "import torch.optim as optim\n",
    "import torch.nn.functional as F\n",
    "\n",
    "env = gym.make(\"CartPole-v1\")\n",
    "\n",
    "# set up matplotlib\n",
    "is_ipython = 'inline' in matplotlib.get_backend()\n",
    "if is_ipython:\n",
    "    from IPython import display\n",
    "\n",
    "plt.ion()\n",
    "\n",
    "# if gpu is to be used\n",
    "device = torch.device(\"cuda\" if torch.cuda.is_available() else \"cpu\")"
   ]
  },
  {
   "cell_type": "markdown",
   "metadata": {},
   "source": [
    "## Replay Memory\n",
    "\n",
    "We'll be using experience replay memory for training our DQN. It stores\n",
    "the transitions that the agent observes, allowing us to reuse this data\n",
    "later. By sampling from it randomly, the transitions that build up a\n",
    "batch are decorrelated. It has been shown that this greatly stabilizes\n",
    "and improves the DQN training procedure.\n",
    "\n",
    "For this, we're going to need two classses:\n",
    "\n",
    "-  ``Transition`` - a named tuple representing a single transition in\n",
    "   our environment. It essentially maps (state, action) pairs\n",
    "   to their (next_state, reward) result, with the state being the\n",
    "   screen difference image as described later on.\n",
    "-  ``ReplayMemory`` - a cyclic buffer of bounded size that holds the\n",
    "   transitions observed recently. It also implements a ``.sample()``\n",
    "   method for selecting a random batch of transitions for training.\n",
    "\n",
    "\n"
   ]
  },
  {
   "cell_type": "code",
   "execution_count": 5,
   "metadata": {
    "collapsed": false
   },
   "outputs": [],
   "source": [
    "Transition = namedtuple('Transition',\n",
    "                        ('state', 'action', 'next_state', 'reward'))\n",
    "\n",
    "\n",
    "class ReplayMemory(object):\n",
    "\n",
    "    def __init__(self, capacity):\n",
    "        self.memory = deque([], maxlen=capacity)\n",
    "\n",
    "    def push(self, *args):\n",
    "        \"\"\"Save a transition\"\"\"\n",
    "        self.memory.append(Transition(*args))\n",
    "\n",
    "    def sample(self, batch_size):\n",
    "        return random.sample(self.memory, batch_size)\n",
    "\n",
    "    def __len__(self):\n",
    "        return len(self.memory)"
   ]
  },
  {
   "cell_type": "markdown",
   "metadata": {},
   "source": [
    "Now, let's define our model. But first, let's quickly recap what a DQN is.\n",
    "\n",
    "## DQN algorithm\n",
    "\n",
    "Our environment is deterministic, so all equations presented here are\n",
    "also formulated deterministically for the sake of simplicity. In the\n",
    "reinforcement learning literature, they would also contain expectations\n",
    "over stochastic transitions in the environment.\n",
    "\n",
    "Our aim will be to train a policy that tries to maximize the discounted,\n",
    "cumulative reward\n",
    "$R_{t_0} = \\sum_{t=t_0}^{\\infty} \\gamma^{t - t_0} r_t$, where\n",
    "$R_{t_0}$ is also known as the *return*. The discount,\n",
    "$\\gamma$, should be a constant between $0$ and $1$\n",
    "that ensures the sum converges. A lower $\\gamma$ makes \n",
    "rewards from the uncertain far future less important for our agent \n",
    "than the ones in the near future that it can be fairly confident \n",
    "about. It also encourages agents to collect reward closer in time \n",
    "than equivalent rewards that are temporally far away in the future.\n",
    "\n",
    "The main idea behind Q-learning is that if we had a function\n",
    "$Q^*: State \\times Action \\rightarrow \\mathbb{R}$, that could tell\n",
    "us what our return would be, if we were to take an action in a given\n",
    "state, then we could easily construct a policy that maximizes our\n",
    "rewards:\n",
    "\n",
    "\\begin{align}\\pi^*(s) = \\arg\\!\\max_a \\ Q^*(s, a)\\end{align}\n",
    "\n",
    "However, we don't know everything about the world, so we don't have\n",
    "access to $Q^*$. But, since neural networks are universal function\n",
    "approximators, we can simply create one and train it to resemble\n",
    "$Q^*$.\n",
    "\n",
    "For our training update rule, we'll use a fact that every $Q$\n",
    "function for some policy obeys the Bellman equation:\n",
    "\n",
    "\\begin{align}Q^{\\pi}(s, a) = r + \\gamma Q^{\\pi}(s', \\pi(s'))\\end{align}\n",
    "\n",
    "The difference between the two sides of the equality is known as the\n",
    "temporal difference error, $\\delta$:\n",
    "\n",
    "\\begin{align}\\delta = Q(s, a) - (r + \\gamma \\max_a' Q(s', a))\\end{align}\n",
    "\n",
    "To minimise this error, we will use the [Huber\n",
    "loss](https://en.wikipedia.org/wiki/Huber_loss)_. The Huber loss acts\n",
    "like the mean squared error when the error is small, but like the mean\n",
    "absolute error when the error is large - this makes it more robust to\n",
    "outliers when the estimates of $Q$ are very noisy. We calculate\n",
    "this over a batch of transitions, $B$, sampled from the replay\n",
    "memory:\n",
    "\n",
    "\\begin{align}\\mathcal{L} = \\frac{1}{|B|}\\sum_{(s, a, s', r) \\ \\in \\ B} \\mathcal{L}(\\delta)\\end{align}\n",
    "\n",
    "\\begin{align}\\text{where} \\quad \\mathcal{L}(\\delta) = \\begin{cases}\n",
    "     \\frac{1}{2}{\\delta^2}  & \\text{for } |\\delta| \\le 1, \\\\\n",
    "     |\\delta| - \\frac{1}{2} & \\text{otherwise.}\n",
    "   \\end{cases}\\end{align}\n",
    "\n",
    "### Q-network\n",
    "\n",
    "Our model will be a convolutional neural network that takes in the\n",
    "difference between the current and previous screen patches. It has two\n",
    "outputs, representing $Q(s, \\mathrm{left})$ and\n",
    "$Q(s, \\mathrm{right})$ (where $s$ is the input to the\n",
    "network). In effect, the network is trying to predict the *expected return* of\n",
    "taking each action given the current input.\n",
    "\n",
    "\n"
   ]
  },
  {
   "cell_type": "code",
   "execution_count": 6,
   "metadata": {
    "collapsed": false
   },
   "outputs": [],
   "source": [
    "class DQN(nn.Module):\n",
    "\n",
    "    def __init__(self, n_observations, n_actions):\n",
    "        super(DQN, self).__init__()\n",
    "        self.layer1 = nn.Linear(n_observations, 128)\n",
    "        self.layer2 = nn.Linear(128, 128)\n",
    "        self.layer3 = nn.Linear(128, n_actions)\n",
    "\n",
    "    # Called with either one element to determine next action, or a batch\n",
    "    # during optimization. Returns tensor([[left0exp,right0exp]...]).\n",
    "    def forward(self, x):\n",
    "        x = F.relu(self.layer1(x))\n",
    "        x = F.relu(self.layer2(x))\n",
    "        return self.layer3(x)"
   ]
  },
  {
   "cell_type": "markdown",
   "metadata": {},
   "source": [
    "## Training\n",
    "\n",
    "### Hyperparameters and utilities\n",
    "This cell instantiates our model and its optimizer, and defines some\n",
    "utilities:\n",
    "\n",
    "-  ``select_action`` - will select an action accordingly to an epsilon\n",
    "   greedy policy. Simply put, we'll sometimes use our model for choosing\n",
    "   the action, and sometimes we'll just sample one uniformly. The\n",
    "   probability of choosing a random action will start at ``EPS_START``\n",
    "   and will decay exponentially towards ``EPS_END``. ``EPS_DECAY``\n",
    "   controls the rate of the decay.\n",
    "-  ``plot_durations`` - a helper for plotting the durations of episodes,\n",
    "   along with an average over the last 100 episodes (the measure used in\n",
    "   the official evaluations). The plot will be underneath the cell\n",
    "   containing the main training loop, and will update after every\n",
    "   episode.\n",
    "\n",
    "\n"
   ]
  },
  {
   "cell_type": "code",
   "execution_count": 7,
   "outputs": [],
   "source": [
    "state, info = env.reset()\n",
    "state = torch.tensor(state, dtype=torch.float32, device=device).unsqueeze(0)"
   ],
   "metadata": {
    "collapsed": false
   }
  },
  {
   "cell_type": "code",
   "execution_count": 8,
   "outputs": [
    {
     "data": {
      "text/plain": "tensor([[-0.0397, -0.0341, -0.0236, -0.0081]])"
     },
     "execution_count": 8,
     "metadata": {},
     "output_type": "execute_result"
    }
   ],
   "source": [
    "state"
   ],
   "metadata": {
    "collapsed": false
   }
  },
  {
   "cell_type": "code",
   "execution_count": 9,
   "metadata": {
    "collapsed": false
   },
   "outputs": [],
   "source": [
    "# BATCH_SIZE is the number of transitions sampled from the replay buffer\n",
    "# GAMMA is the discount factor as mentioned in the previous section\n",
    "# EPS_START is the starting value of epsilon\n",
    "# EPS_END is the final value of epsilon\n",
    "# EPS_DECAY controls the rate of exponential decay of epsilon, higher means a slower decay\n",
    "# TAU is the update rate of the target network\n",
    "# LR is the learning rate of the AdamW optimizer\n",
    "BATCH_SIZE = 128\n",
    "GAMMA = 0.99\n",
    "EPS_START = 0.9\n",
    "EPS_END = 0.05\n",
    "EPS_DECAY = 1000\n",
    "TAU = 0.005\n",
    "LR = 1e-4\n",
    "\n",
    "# Get number of actions from gym action space\n",
    "n_actions = env.action_space.n\n",
    "# Get the number of state observations\n",
    "state, info = env.reset()\n",
    "n_observations = len(state)\n",
    "\n",
    "policy_net = DQN(n_observations, n_actions).to(device)\n",
    "target_net = DQN(n_observations, n_actions).to(device)\n",
    "target_net.load_state_dict(policy_net.state_dict())\n",
    "\n",
    "optimizer = optim.AdamW(policy_net.parameters(), lr=LR, amsgrad=True)\n",
    "memory = ReplayMemory(10000)\n",
    "\n",
    "\n",
    "steps_done = 0\n",
    "\n",
    "\n",
    "def select_action(state):\n",
    "    \"\"\"\n",
    "    Either sample randomly and pick largest Q value or randomly sample from Memory\n",
    "    :param state:\n",
    "    :return:\n",
    "    \"\"\"\n",
    "    global steps_done\n",
    "    sample = random.random()\n",
    "    eps_threshold = EPS_END + (EPS_START - EPS_END) * \\\n",
    "        math.exp(-1. * steps_done / EPS_DECAY)\n",
    "    steps_done += 1\n",
    "    if sample > eps_threshold:\n",
    "        with torch.no_grad():\n",
    "            # t.max(1) will return the largest column value of each row.\n",
    "            # second column on max result is index of where max element was\n",
    "            # found, so we pick action with the larger expected reward.\n",
    "            return policy_net(state).max(1)[1].view(1, 1)\n",
    "    else:\n",
    "        return torch.tensor([[env.action_space.sample()]], device=device, dtype=torch.long)\n",
    "\n",
    "\n",
    "episode_durations = []\n",
    "\n",
    "\n",
    "def plot_durations(show_result=False):\n",
    "    plt.figure(1)\n",
    "    durations_t = torch.tensor(episode_durations, dtype=torch.float)\n",
    "    if show_result:\n",
    "        plt.title('Result')\n",
    "    else:\n",
    "        plt.clf()\n",
    "        plt.title('Training...')\n",
    "    plt.xlabel('Episode')\n",
    "    plt.ylabel('Duration')\n",
    "    plt.plot(durations_t.numpy())\n",
    "    # Take 100 episode averages and plot them too\n",
    "    if len(durations_t) >= 100:\n",
    "        means = durations_t.unfold(0, 100, 1).mean(1).view(-1)\n",
    "        means = torch.cat((torch.zeros(99), means))\n",
    "        plt.plot(means.numpy())\n",
    "\n",
    "    plt.pause(0.001)  # pause a bit so that plots are updated\n",
    "    if is_ipython:\n",
    "        if not show_result:\n",
    "            display.display(plt.gcf())\n",
    "            display.clear_output(wait=True)\n",
    "        else:\n",
    "            display.display(plt.gcf())"
   ]
  },
  {
   "cell_type": "markdown",
   "metadata": {},
   "source": [
    "### Training loop\n",
    "\n",
    "Finally, the code for training our model.\n",
    "\n",
    "Here, you can find an ``optimize_model`` function that performs a\n",
    "single step of the optimization. It first samples a batch, concatenates\n",
    "all the tensors into a single one, computes $Q(s_t, a_t)$ and\n",
    "$V(s_{t+1}) = \\max_a Q(s_{t+1}, a)$, and combines them into our\n",
    "loss. By definition we set $V(s) = 0$ if $s$ is a terminal\n",
    "state. We also use a target network to compute $V(s_{t+1})$ for\n",
    "added stability. The target network is updated at every step with a \n",
    "[soft update](https://arxiv.org/pdf/1509.02971.pdf)_ controlled by \n",
    "the hyperparameter ``TAU``, which was previously defined.\n",
    "\n",
    "\n"
   ]
  },
  {
   "cell_type": "code",
   "execution_count": 19,
   "outputs": [],
   "source": [
    "transitions = memory.sample(BATCH_SIZE)\n",
    "batch = Transition(*zip(*transitions))"
   ],
   "metadata": {
    "collapsed": false
   }
  },
  {
   "cell_type": "code",
   "execution_count": 20,
   "outputs": [],
   "source": [
    "non_final_mask = torch.tensor(tuple(map(lambda s: s is not None,\n",
    "                                        batch.next_state)), device=device, dtype=torch.bool)\n",
    "non_final_next_states = torch.cat([s for s in batch.next_state\n",
    "                                   if s is not None])"
   ],
   "metadata": {
    "collapsed": false
   }
  },
  {
   "cell_type": "code",
   "execution_count": 21,
   "outputs": [],
   "source": [
    "state_batch = torch.cat(batch.state)\n",
    "action_batch = torch.cat(batch.action)\n",
    "reward_batch = torch.cat(batch.reward)"
   ],
   "metadata": {
    "collapsed": false
   }
  },
  {
   "cell_type": "code",
   "execution_count": 23,
   "outputs": [
    {
     "data": {
      "text/plain": "tensor([[1],\n        [0],\n        [0],\n        [1],\n        [0],\n        [1],\n        [1],\n        [1],\n        [1],\n        [0],\n        [1],\n        [1],\n        [0],\n        [1],\n        [0],\n        [1],\n        [0],\n        [0],\n        [0],\n        [1],\n        [0],\n        [1],\n        [0],\n        [1],\n        [1],\n        [0],\n        [0],\n        [0],\n        [0],\n        [0],\n        [0],\n        [0],\n        [0],\n        [0],\n        [1],\n        [0],\n        [0],\n        [1],\n        [0],\n        [1],\n        [1],\n        [0],\n        [1],\n        [0],\n        [0],\n        [0],\n        [1],\n        [1],\n        [0],\n        [1],\n        [1],\n        [0],\n        [0],\n        [0],\n        [1],\n        [0],\n        [0],\n        [0],\n        [0],\n        [1],\n        [0],\n        [0],\n        [1],\n        [0],\n        [0],\n        [0],\n        [0],\n        [1],\n        [0],\n        [0],\n        [1],\n        [0],\n        [0],\n        [0],\n        [1],\n        [1],\n        [0],\n        [0],\n        [0],\n        [1],\n        [1],\n        [0],\n        [1],\n        [0],\n        [0],\n        [0],\n        [0],\n        [0],\n        [1],\n        [1],\n        [1],\n        [1],\n        [1],\n        [0],\n        [1],\n        [1],\n        [1],\n        [1],\n        [1],\n        [0],\n        [0],\n        [0],\n        [0],\n        [0],\n        [0],\n        [1],\n        [0],\n        [1],\n        [0],\n        [1],\n        [0],\n        [0],\n        [0],\n        [0],\n        [0],\n        [0],\n        [0],\n        [1],\n        [1],\n        [0],\n        [1],\n        [0],\n        [0],\n        [0],\n        [0],\n        [0],\n        [1],\n        [0]])"
     },
     "execution_count": 23,
     "metadata": {},
     "output_type": "execute_result"
    }
   ],
   "source": [
    "action_batch"
   ],
   "metadata": {
    "collapsed": false
   }
  },
  {
   "cell_type": "code",
   "execution_count": 28,
   "outputs": [
    {
     "data": {
      "text/plain": "tensor([[-1.1663e-01, -5.8925e-01,  2.0605e-01,  1.0678e+00],\n        [-3.3790e-02, -1.3291e+00,  1.3999e-01,  2.1048e+00],\n        [-8.6981e-02, -6.2209e-01,  1.0097e-01,  9.5138e-01],\n        [ 2.4324e-03,  7.5283e-01,  4.2515e-02, -1.0084e+00],\n        [ 4.2639e-02,  4.0544e-02,  1.9422e-02, -4.2729e-02],\n        [-1.6194e-02, -2.0944e-02,  2.2742e-02,  4.7960e-02],\n        [ 4.6114e-02,  6.0721e-01, -6.1325e-02, -9.7257e-01],\n        [-2.8509e-02, -3.9962e-02, -1.0419e-02,  3.4693e-02],\n        [-1.4769e-01, -9.9652e-01,  1.4762e-01,  1.5636e+00],\n        [-8.7804e-02, -9.4581e-01,  8.2084e-02,  1.4380e+00],\n        [-2.3219e-01, -8.0955e-01,  1.6461e-01,  1.0666e+00],\n        [ 6.0462e-03,  5.4024e-01, -4.9145e-02, -9.8783e-01],\n        [-6.0878e-02, -1.0153e+00,  3.6913e-02,  1.3796e+00],\n        [-9.5787e-02, -2.3309e-01,  9.0282e-02,  4.2152e-01],\n        [ 4.7805e-02, -5.0094e-01, -1.3988e-01,  1.3482e-01],\n        [-3.2973e-02, -6.1045e-01,  2.2010e-02,  8.5854e-01],\n        [-1.0467e-01, -1.7223e-01, -1.9073e-01, -4.2429e-01],\n        [-4.0182e-02,  1.6724e-03,  1.6295e-03,  2.1670e-02],\n        [-2.2649e-02, -2.1926e-01,  4.0408e-02,  2.7846e-01],\n        [ 6.8059e-02,  7.4123e-01, -1.6407e-01, -1.4253e+00],\n        [-2.3396e-01, -1.6556e+00,  5.0933e-02,  1.5355e+00],\n        [-1.0045e-01, -3.9354e-02,  9.8712e-02,  1.5861e-01],\n        [-5.1980e-03, -2.7886e-02,  2.3342e-02,  1.5368e-02],\n        [-6.5488e-02, -8.0221e-01,  4.9884e-02,  1.0932e+00],\n        [-5.6638e-02, -1.0741e+00, -8.5954e-02,  7.4492e-01],\n        [-1.2585e-01, -9.7163e-01,  1.6447e-01,  1.6103e+00],\n        [-6.4027e-02, -4.2277e-01,  5.5179e-02,  6.4529e-01],\n        [ 8.0163e-02,  6.4191e-01, -8.7962e-02, -1.0107e+00],\n        [ 4.2407e-02,  7.3805e-01, -1.1532e-01, -1.3461e+00],\n        [-2.7188e-02, -5.7979e-01,  6.7340e-02,  8.4035e-01],\n        [-4.4018e-02, -3.8862e-01,  8.3602e-03,  6.0820e-01],\n        [-5.1315e-02, -2.2713e-01,  2.5122e-02,  2.8852e-01],\n        [-1.9775e-02, -2.4771e-02,  5.9272e-03, -2.6445e-02],\n        [ 5.0681e-03, -5.6874e-01,  1.4937e-02,  8.4561e-01],\n        [ 9.3004e-03, -7.7556e-01, -1.9571e-01,  1.4347e-01],\n        [-5.2674e-02, -1.8505e-01,  4.8154e-02,  2.8762e-01],\n        [-4.5182e-02, -4.1563e-01,  3.9181e-02,  5.7285e-01],\n        [-6.8868e-02, -4.2363e-01,  4.8797e-02,  6.1205e-01],\n        [-9.4002e-02, -3.4504e-01,  7.5471e-02,  6.2400e-01],\n        [-1.0104e-02, -2.2168e-02,  1.5724e-02,  7.4945e-02],\n        [ 4.3802e-02,  9.8043e-01, -9.2853e-02, -1.4719e+00],\n        [-1.1189e-02, -1.0201e+00,  6.7415e-02,  1.4728e+00],\n        [-4.2598e-02,  3.7746e-03,  2.9635e-02,  1.9080e-02],\n        [-1.3900e-01, -1.6188e-01,  1.7047e-01,  6.0173e-01],\n        [ 5.6963e-02,  5.4221e-01, -9.3731e-02, -8.5089e-01],\n        [-1.2168e-01, -1.4177e+00,  1.7266e-01,  2.1939e+00],\n        [-2.9754e-02, -4.0514e-01, -1.5004e-02,  5.3922e-01],\n        [ 7.5261e-03, -7.7334e-01,  1.8596e-02,  1.0968e+00],\n        [ 3.9223e-02, -3.7460e-01, -3.6500e-02,  5.7507e-01],\n        [-8.4668e-04,  3.4464e-01, -3.5461e-02, -6.8420e-01],\n        [-2.0669e-02, -4.5389e-02,  1.9678e-02,  7.9526e-02],\n        [ 2.9788e-02,  2.3617e-01,  5.0280e-02, -1.6133e-01],\n        [-9.2040e-02, -5.5251e-01,  2.0065e-01,  1.1961e+00],\n        [-2.0475e-01, -1.4601e+00,  2.6240e-02,  1.2347e+00],\n        [ 7.1683e-02,  9.9843e-01, -1.3416e-01, -1.5270e+00],\n        [ 1.0625e-01, -2.9390e-02, -1.8743e-01, -2.7801e-01],\n        [-2.7834e-02, -5.5442e-01, -7.4283e-03,  8.2408e-01],\n        [-2.4373e-03, -4.1134e-01, -5.8192e-02,  2.9339e-01],\n        [-1.0672e-01, -1.1418e+00,  1.1084e-01,  1.7551e+00],\n        [ 8.8812e-02, -7.1046e-01, -1.2236e-01,  7.5013e-01],\n        [ 1.8648e-02, -5.9121e-01,  5.4184e-02,  9.4584e-01],\n        [ 1.2119e-01,  7.6766e-01, -1.1572e-01, -1.2346e+00],\n        [-2.2776e-02, -7.9994e-01, -4.0980e-02,  8.4292e-01],\n        [-7.6176e-02, -1.9656e-01, -1.2831e-02,  1.1976e-01],\n        [-2.1224e-01, -1.1331e+00, -1.8294e-01,  4.5406e-03],\n        [-3.6651e-01, -1.2707e+00,  1.7654e-01,  1.0816e+00],\n        [-5.1640e-02, -5.7346e-01,  1.0263e-01,  9.5368e-01],\n        [-4.9776e-02, -8.1444e-01,  4.6695e-02,  1.1797e+00],\n        [ 4.5110e-02,  1.5406e-01,  4.2430e-02, -2.6346e-01],\n        [-4.5329e-03, -4.1102e-02, -2.8540e-02, -5.3984e-02],\n        [ 2.0309e-03, -2.3038e-01, -2.0993e-02,  3.2976e-01],\n        [-6.0167e-02, -8.2914e-01,  8.0178e-02,  1.2224e+00],\n        [-1.1131e-02, -1.1330e+00,  1.0436e-01,  1.7816e+00],\n        [-9.3269e-02, -9.5494e-01,  8.1079e-02,  1.4996e+00],\n        [-1.0361e-01, -1.1940e-03,  1.0301e-02, -1.7844e-01],\n        [ 6.7753e-02,  3.7451e-01, -3.2768e-02, -5.7880e-01],\n        [-2.1994e-01, -6.1271e-01,  1.5000e-01,  7.3068e-01],\n        [-7.8086e-02, -7.5912e-01,  5.7289e-02,  1.1895e+00],\n        [-5.6011e-02, -8.0959e-01,  5.5205e-02,  1.2013e+00],\n        [ 1.7438e-03, -2.1848e-01, -2.6841e-02,  2.5040e-01],\n        [ 5.7958e-03, -2.3770e-01, -3.8289e-02,  2.7145e-01],\n        [-1.2969e-01,  4.0290e-01, -9.9145e-02, -1.0735e+00],\n        [-1.6552e-02, -6.1869e-01,  8.7381e-05,  8.7252e-01],\n        [-2.5770e-02, -9.4034e-01,  6.3617e-02,  1.4809e+00],\n        [ 1.1085e-04, -5.4930e-01,  2.2576e-02,  8.7619e-01],\n        [ 4.6988e-02, -1.5524e-01, -1.3743e-02,  2.7624e-01],\n        [ 2.2795e-02, -1.5882e-01,  8.8376e-02,  5.3081e-01],\n        [-7.4058e-02, -6.1289e-01,  8.0216e-02,  9.1463e-01],\n        [-5.8116e-02, -4.0654e-01,  5.1636e-02,  5.9941e-01],\n        [ 1.1555e-01,  1.3914e+00, -2.0187e-01, -2.1974e+00],\n        [ 5.7063e-02, -1.1822e-01, -1.1242e-01, -2.8767e-01],\n        [-7.6258e-03, -8.8335e-01, -1.1111e-01,  5.4987e-01],\n        [-1.8339e-01, -8.0245e-01,  1.1110e-01,  9.0199e-01],\n        [-3.2752e-03,  5.8775e-01, -2.5254e-02, -8.2849e-01],\n        [-5.9251e-03,  3.5218e-01, -4.8613e-02, -5.9314e-01],\n        [-1.1867e-01, -5.4373e-01,  1.2025e-01,  9.9995e-01],\n        [ 2.0664e-02,  1.9682e-02, -2.0155e-02, -4.5416e-02],\n        [ 7.4603e-02, -5.1388e-01, -1.0735e-01,  4.2158e-01],\n        [ 3.8235e-03,  2.4026e-02,  1.7128e-01,  5.1424e-01],\n        [-3.0855e-03,  1.7244e-01, -2.2846e-02, -3.5012e-01],\n        [-3.2094e-02,  1.7920e-01, -6.1101e-03, -3.1632e-01],\n        [-2.7034e-02, -4.1493e-01,  4.5977e-02,  5.8361e-01],\n        [-2.7716e-02, -6.5604e-03, -3.3826e-02, -5.5428e-02],\n        [-2.8577e-02, -1.1791e+00,  1.2960e-01,  1.8913e+00],\n        [-9.3688e-02, -8.0381e-01,  8.8079e-02,  1.1309e+00],\n        [-4.9105e-02,  2.1938e-02,  4.2491e-02, -3.3256e-02],\n        [-8.5648e-03,  1.6067e-01, -6.9820e-03, -2.7338e-01],\n        [ 9.5624e-02,  4.2717e-01, -1.0751e-01, -6.5409e-01],\n        [-1.1894e-01, -1.8762e-01, -7.4973e-02, -7.7766e-02],\n        [-9.2310e-02, -1.2014e+00,  1.0945e-01,  1.8271e+00],\n        [ 4.0648e-02, -2.0656e-02, -1.5753e-02,  9.2392e-03],\n        [-6.3992e-02, -5.7666e-01,  6.5808e-02,  9.0425e-01],\n        [ 4.6943e-02, -4.3478e-01,  3.9774e-02,  6.9203e-01],\n        [-1.6066e-03, -2.0884e-02,  4.2611e-02,  1.4277e-02],\n        [ 7.1734e-02,  7.4978e-01, -1.7909e-01, -1.3589e+00],\n        [-1.2335e-01,  1.9526e-01, -1.6794e-02, -5.0044e-01],\n        [-2.3802e-02, -5.8361e-01,  3.7252e-02,  9.4936e-01],\n        [-9.1140e-02, -6.0652e-01,  1.0378e-01,  1.0029e+00],\n        [ 1.0888e-01,  1.3385e+00, -1.0390e-01, -1.8994e+00],\n        [ 8.6315e-03,  1.9189e-02,  1.8717e-01,  6.2406e-01],\n        [ 9.6277e-03, -1.5907e-01, -4.3169e-02,  2.5405e-01],\n        [-1.1035e-01, -7.7504e-01,  1.3892e-01,  1.2776e+00],\n        [ 3.5519e-02, -2.1519e-01, -9.6427e-03,  2.8899e-01],\n        [ 2.6713e-02,  3.7514e-01,  3.0844e-02, -5.9289e-01],\n        [-3.8074e-02, -1.4884e-01, -1.9387e-02,  3.0616e-01],\n        [ 4.1145e-02,  8.0316e-01, -1.3662e-01, -1.3524e+00],\n        [-1.0222e-02, -4.1879e-01,  2.9956e-02,  6.1537e-01],\n        [-4.6521e-03,  2.8403e-03,  6.2758e-04,  4.7040e-02]])"
     },
     "execution_count": 28,
     "metadata": {},
     "output_type": "execute_result"
    }
   ],
   "source": [
    "state_batch"
   ],
   "metadata": {
    "collapsed": false
   }
  },
  {
   "cell_type": "code",
   "execution_count": 24,
   "outputs": [
    {
     "data": {
      "text/plain": "tensor([[3.2267, 3.1341],\n        [2.9409, 2.9176],\n        [3.3595, 3.2547],\n        [3.4033, 3.5927],\n        [3.1284, 3.1133],\n        [3.1482, 3.1058],\n        [3.3980, 3.5587],\n        [3.1707, 3.1233],\n        [3.0836, 3.0290],\n        [3.1613, 3.0956],\n        [3.3679, 3.2637],\n        [3.4200, 3.5616],\n        [3.2639, 3.1864],\n        [3.2524, 3.1417],\n        [3.4625, 3.3291],\n        [3.4177, 3.3081],\n        [3.4614, 3.3902],\n        [3.1547, 3.1167],\n        [3.2343, 3.1399],\n        [3.6138, 3.7701],\n        [3.6439, 3.5484],\n        [3.1530, 3.0896],\n        [3.1586, 3.1179],\n        [3.3681, 3.2718],\n        [3.7540, 3.5971],\n        [3.0269, 2.9806],\n        [3.3789, 3.2599],\n        [3.4094, 3.5778],\n        [3.5787, 3.7453],\n        [3.4095, 3.2980],\n        [3.3565, 3.2423],\n        [3.2493, 3.1499],\n        [3.1773, 3.1384],\n        [3.3918, 3.2848],\n        [3.7004, 3.5273],\n        [3.2178, 3.1265],\n        [3.3777, 3.2580],\n        [3.3842, 3.2628],\n        [3.3291, 3.2110],\n        [3.1392, 3.0953],\n        [3.6295, 3.8334],\n        [3.1807, 3.1125],\n        [3.1524, 3.1151],\n        [3.2099, 3.0953],\n        [3.3474, 3.4892],\n        [2.9052, 2.8935],\n        [3.3729, 3.2566],\n        [3.3446, 3.2517],\n        [3.3258, 3.2217],\n        [3.3069, 3.3966],\n        [3.1543, 3.1039],\n        [3.0881, 3.1158],\n        [3.0940, 3.0206],\n        [3.7399, 3.6139],\n        [3.6521, 3.8522],\n        [3.2753, 3.2704],\n        [3.3947, 3.2866],\n        [3.3860, 3.2635],\n        [3.0308, 2.9891],\n        [3.5005, 3.3748],\n        [3.3397, 3.2407],\n        [3.5066, 3.6904],\n        [3.5396, 3.4147],\n        [3.2694, 3.1793],\n        [4.0871, 3.8306],\n        [3.7113, 3.5781],\n        [3.3249, 3.2241],\n        [3.3016, 3.2154],\n        [3.1593, 3.1819],\n        [3.1951, 3.1564],\n        [3.2350, 3.1426],\n        [3.2688, 3.1856],\n        [3.0219, 2.9798],\n        [3.1166, 3.0585],\n        [3.2473, 3.2173],\n        [3.2267, 3.3307],\n        [3.4680, 3.3385],\n        [3.2576, 3.1773],\n        [3.2785, 3.1953],\n        [3.2351, 3.1453],\n        [3.2478, 3.1548],\n        [3.5220, 3.5895],\n        [3.4138, 3.3064],\n        [3.1229, 3.0634],\n        [3.3636, 3.2603],\n        [3.1701, 3.0984],\n        [3.1585, 3.0695],\n        [3.3789, 3.2721],\n        [3.3707, 3.2505],\n        [4.0218, 4.2253],\n        [3.3238, 3.2959],\n        [3.7002, 3.5418],\n        [3.4890, 3.3692],\n        [3.3307, 3.4839],\n        [3.2661, 3.3577],\n        [3.2728, 3.1783],\n        [3.1496, 3.1280],\n        [3.4424, 3.3170],\n        [3.0400, 2.9676],\n        [3.2067, 3.2392],\n        [3.1955, 3.2227],\n        [3.3718, 3.2533],\n        [3.1828, 3.1497],\n        [2.9741, 2.9402],\n        [3.3324, 3.2394],\n        [3.1611, 3.1308],\n        [3.1770, 3.1984],\n        [3.2600, 3.3764],\n        [3.3383, 3.2553],\n        [3.0186, 2.9797],\n        [3.1456, 3.1119],\n        [3.3674, 3.2624],\n        [3.3536, 3.2434],\n        [3.1528, 3.1141],\n        [3.5823, 3.7460],\n        [3.3115, 3.3472],\n        [3.3386, 3.2401],\n        [3.3137, 3.2158],\n        [3.8434, 4.0688],\n        [3.0403, 2.9612],\n        [3.1893, 3.1122],\n        [3.1774, 3.1036],\n        [3.2171, 3.1322],\n        [3.2362, 3.3375],\n        [3.1880, 3.1057],\n        [3.5815, 3.7621],\n        [3.3699, 3.2541],\n        [3.1332, 3.0972]], grad_fn=<AddmmBackward0>)"
     },
     "execution_count": 24,
     "metadata": {},
     "output_type": "execute_result"
    }
   ],
   "source": [
    "policy_net(state_batch)"
   ],
   "metadata": {
    "collapsed": false
   }
  },
  {
   "cell_type": "code",
   "execution_count": null,
   "outputs": [],
   "source": [],
   "metadata": {
    "collapsed": false
   }
  },
  {
   "cell_type": "code",
   "execution_count": 26,
   "outputs": [
    {
     "data": {
      "text/plain": "tensor([[3.1341],\n        [2.9409],\n        [3.3595],\n        [3.5927],\n        [3.1284],\n        [3.1058],\n        [3.5587],\n        [3.1233],\n        [3.0290],\n        [3.1613],\n        [3.2637],\n        [3.5616],\n        [3.2639],\n        [3.1417],\n        [3.4625],\n        [3.3081],\n        [3.4614],\n        [3.1547],\n        [3.2343],\n        [3.7701],\n        [3.6439],\n        [3.0896],\n        [3.1586],\n        [3.2718],\n        [3.5971],\n        [3.0269],\n        [3.3789],\n        [3.4094],\n        [3.5787],\n        [3.4095],\n        [3.3565],\n        [3.2493],\n        [3.1773],\n        [3.3918],\n        [3.5273],\n        [3.2178],\n        [3.3777],\n        [3.2628],\n        [3.3291],\n        [3.0953],\n        [3.8334],\n        [3.1807],\n        [3.1151],\n        [3.2099],\n        [3.3474],\n        [2.9052],\n        [3.2566],\n        [3.2517],\n        [3.3258],\n        [3.3966],\n        [3.1039],\n        [3.0881],\n        [3.0940],\n        [3.7399],\n        [3.8522],\n        [3.2753],\n        [3.3947],\n        [3.3860],\n        [3.0308],\n        [3.3748],\n        [3.3397],\n        [3.5066],\n        [3.4147],\n        [3.2694],\n        [4.0871],\n        [3.7113],\n        [3.3249],\n        [3.2154],\n        [3.1593],\n        [3.1951],\n        [3.1426],\n        [3.2688],\n        [3.0219],\n        [3.1166],\n        [3.2173],\n        [3.3307],\n        [3.4680],\n        [3.2576],\n        [3.2785],\n        [3.1453],\n        [3.1548],\n        [3.5220],\n        [3.3064],\n        [3.1229],\n        [3.3636],\n        [3.1701],\n        [3.1585],\n        [3.3789],\n        [3.2505],\n        [4.2253],\n        [3.2959],\n        [3.5418],\n        [3.3692],\n        [3.3307],\n        [3.3577],\n        [3.1783],\n        [3.1280],\n        [3.3170],\n        [2.9676],\n        [3.2067],\n        [3.1955],\n        [3.3718],\n        [3.1828],\n        [2.9741],\n        [3.3324],\n        [3.1308],\n        [3.1770],\n        [3.3764],\n        [3.3383],\n        [2.9797],\n        [3.1456],\n        [3.3674],\n        [3.3536],\n        [3.1528],\n        [3.5823],\n        [3.3115],\n        [3.3386],\n        [3.2158],\n        [4.0688],\n        [3.0403],\n        [3.1122],\n        [3.1774],\n        [3.2171],\n        [3.2362],\n        [3.1880],\n        [3.5815],\n        [3.2541],\n        [3.1332]], grad_fn=<GatherBackward0>)"
     },
     "execution_count": 26,
     "metadata": {},
     "output_type": "execute_result"
    }
   ],
   "source": [
    "policy_net(state_batch).gather(1, action_batch)"
   ],
   "metadata": {
    "collapsed": false
   }
  },
  {
   "cell_type": "code",
   "execution_count": 15,
   "outputs": [],
   "source": [
    "?optimizer.zero_grad"
   ],
   "metadata": {
    "collapsed": false
   }
  },
  {
   "cell_type": "code",
   "execution_count": 16,
   "metadata": {
    "collapsed": false
   },
   "outputs": [],
   "source": [
    "def optimize_model():\n",
    "    if len(memory) < BATCH_SIZE:\n",
    "        return\n",
    "    transitions = memory.sample(BATCH_SIZE)\n",
    "    # Transpose the batch (see https://stackoverflow.com/a/19343/3343043 for\n",
    "    # detailed explanation). This converts batch-array of Transitions\n",
    "    # to Transition of batch-arrays.\n",
    "    batch = Transition(*zip(*transitions))\n",
    "\n",
    "    # Compute a mask of non-final states and concatenate the batch elements\n",
    "    # (a final state would've been the one after which simulation ended)\n",
    "    non_final_mask = torch.tensor(tuple(map(lambda s: s is not None,\n",
    "                                          batch.next_state)), device=device, dtype=torch.bool)\n",
    "    non_final_next_states = torch.cat([s for s in batch.next_state\n",
    "                                                if s is not None])\n",
    "    state_batch = torch.cat(batch.state)\n",
    "    action_batch = torch.cat(batch.action)\n",
    "    reward_batch = torch.cat(batch.reward)\n",
    "\n",
    "    # Compute Q(s_t, a) - the model computes Q(s_t), then we select the\n",
    "    # columns of actions taken. These are the actions which would've been taken\n",
    "    # for each batch state according to policy_net\n",
    "    state_action_values = policy_net(state_batch).gather(1, action_batch)\n",
    "\n",
    "    # Compute V(s_{t+1}) for all next states.\n",
    "    # Expected values of actions for non_final_next_states are computed based\n",
    "    # on the \"older\" target_net; selecting their best reward with max(1)[0].\n",
    "    # This is merged based on the mask, such that we'll have either the expected\n",
    "    # state value or 0 in case the state was final.\n",
    "    next_state_values = torch.zeros(BATCH_SIZE, device=device)\n",
    "    with torch.no_grad():\n",
    "        next_state_values[non_final_mask] = target_net(non_final_next_states).max(1)[0]\n",
    "    # Compute the expected Q values\n",
    "    expected_state_action_values = (next_state_values * GAMMA) + reward_batch\n",
    "\n",
    "    # Compute Huber loss\n",
    "    criterion = nn.SmoothL1Loss()\n",
    "    loss = criterion(state_action_values, expected_state_action_values.unsqueeze(1))\n",
    "\n",
    "    # Optimize the model\n",
    "    optimizer.zero_grad()\n",
    "    loss.backward()\n",
    "    # In-place gradient clipping\n",
    "    torch.nn.utils.clip_grad_value_(policy_net.parameters(), 100)\n",
    "    optimizer.step()"
   ]
  },
  {
   "cell_type": "code",
   "execution_count": 17,
   "outputs": [],
   "source": [
    "optimizer.step?"
   ],
   "metadata": {
    "collapsed": false
   }
  },
  {
   "cell_type": "markdown",
   "metadata": {},
   "source": [
    "Below, you can find the main training loop. At the beginning we reset\n",
    "the environment and obtain the initial ``state`` Tensor. Then, we sample\n",
    "an action, execute it, observe the next state and the reward (always\n",
    "1), and optimize our model once. When the episode ends (our model\n",
    "fails), we restart the loop.\n",
    "\n",
    "Below, `num_episodes` is set to 600 if a GPU is available, otherwise 50 \n",
    "episodes are scheduled so training does not take too long. However, 50 \n",
    "episodes is insufficient for to observe good performance on cartpole.\n",
    "You should see the model constantly achieve 500 steps within 600 training \n",
    "episodes. Training RL agents can be a noisy process, so restarting training\n",
    "can produce better results if convergence is not observed.\n",
    "\n",
    "\n"
   ]
  },
  {
   "cell_type": "code",
   "execution_count": 18,
   "metadata": {
    "collapsed": false
   },
   "outputs": [
    {
     "name": "stdout",
     "output_type": "stream",
     "text": [
      "Complete\n"
     ]
    },
    {
     "data": {
      "text/plain": "<Figure size 432x288 with 1 Axes>",
      "image/png": "[encoded data removed]"
     },
     "metadata": {
      "needs_background": "light"
     },
     "output_type": "display_data"
    },
    {
     "data": {
      "text/plain": "<Figure size 432x288 with 0 Axes>"
     },
     "metadata": {},
     "output_type": "display_data"
    },
    {
     "data": {
      "text/plain": "<Figure size 432x288 with 0 Axes>"
     },
     "metadata": {},
     "output_type": "display_data"
    }
   ],
   "source": [
    "if torch.cuda.is_available():\n",
    "    num_episodes = 600\n",
    "else:\n",
    "    num_episodes = 50\n",
    "\n",
    "for i_episode in range(num_episodes):\n",
    "    # Initialize the environment and get it's state\n",
    "    state, info = env.reset()\n",
    "    state = torch.tensor(state, dtype=torch.float32, device=device).unsqueeze(0)\n",
    "    for t in count():\n",
    "        action = select_action(state)\n",
    "        observation, reward, terminated, truncated, _ = env.step(action.item())\n",
    "        reward = torch.tensor([reward], device=device)\n",
    "        done = terminated or truncated\n",
    "\n",
    "        if terminated:\n",
    "            next_state = None\n",
    "        else:\n",
    "            next_state = torch.tensor(observation, dtype=torch.float32, device=device).unsqueeze(0)\n",
    "\n",
    "        # Store the transition in memory\n",
    "        memory.push(state, action, next_state, reward)\n",
    "\n",
    "        # Move to the next state\n",
    "        state = next_state\n",
    "\n",
    "        # Perform one step of the optimization (on the policy network)\n",
    "        optimize_model()\n",
    "\n",
    "        # Soft update of the target network's weights\n",
    "        # θ′ ← τ θ + (1 −τ )θ′\n",
    "        target_net_state_dict = target_net.state_dict()\n",
    "        policy_net_state_dict = policy_net.state_dict()\n",
    "        for key in policy_net_state_dict:\n",
    "            target_net_state_dict[key] = policy_net_state_dict[key]*TAU + target_net_state_dict[key]*(1-TAU)\n",
    "        target_net.load_state_dict(target_net_state_dict)\n",
    "\n",
    "        if done:\n",
    "            episode_durations.append(t + 1)\n",
    "            plot_durations()\n",
    "            break\n",
    "\n",
    "print('Complete')\n",
    "plot_durations(show_result=True)\n",
    "plt.ioff()\n",
    "plt.show()"
   ]
  },
  {
   "cell_type": "markdown",
   "metadata": {},
   "source": [
    "Here is the diagram that illustrates the overall resulting data flow.\n",
    "\n",
    ".. figure:: /_static/img/reinforcement_learning_diagram.jpg\n",
    "\n",
    "Actions are chosen either randomly or based on a policy, getting the next\n",
    "step sample from the gym environment. We record the results in the\n",
    "replay memory and also run optimization step on every iteration.\n",
    "Optimization picks a random batch from the replay memory to do training of the\n",
    "new policy. The \"older\" target_net is also used in optimization to compute the\n",
    "expected Q values. A soft update of its weights are performed at every step.\n",
    "\n",
    "\n"
   ]
  },
  {
   "cell_type": "code",
   "execution_count": null,
   "outputs": [],
   "source": [],
   "metadata": {
    "collapsed": false
   }
  }
 ],
 "metadata": {
  "kernelspec": {
   "display_name": "Python 3",
   "language": "python",
   "name": "python3"
  },
  "language_info": {
   "codemirror_mode": {
    "name": "ipython",
    "version": 3
   },
   "file_extension": ".py",
   "mimetype": "text/x-python",
   "name": "python",
   "nbconvert_exporter": "python",
   "pygments_lexer": "ipython3",
   "version": "3.10.8"
  }
 },
 "nbformat": 4,
 "nbformat_minor": 0
}
